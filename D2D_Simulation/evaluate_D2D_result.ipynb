{
 "cells": [
  {
   "cell_type": "code",
   "execution_count": 44,
   "metadata": {},
   "outputs": [],
   "source": [
    "import numpy as np\n",
    "import pandas as pd\n",
    "import matplotlib.pyplot as plt"
   ]
  },
  {
   "cell_type": "code",
   "execution_count": 45,
   "metadata": {},
   "outputs": [],
   "source": [
    "nMTCD = 10000"
   ]
  },
  {
   "cell_type": "code",
   "execution_count": 46,
   "metadata": {},
   "outputs": [],
   "source": [
    "D2D_result = pd.read_csv(f'result/D2D_Device_Result_{nMTCD}.csv')\n",
    "ACB_result = pd.read_csv(f)"
   ]
  },
  {
   "cell_type": "code",
   "execution_count": 47,
   "metadata": {},
   "outputs": [
    {
     "output_type": "execute_result",
     "data": {
      "text/plain": "      Header  D2D_success  D2D_transmit  RA_init  RA_success  RA_transmit\n0          0           -1             1      321         340            1\n1          1           -1             1      157         204            1\n2          2           -1             1      265         268            1\n3          3           -1             1      367         380            1\n4          4           -1             1      408         412            1\n...      ...          ...           ...      ...         ...          ...\n9995     290          668             1      661         671            1\n9996      36          564             1      561         568            1\n9997     522          636             1      630         637            1\n9998     221          340             1      334         342            1\n9999      93          244             1      243         249            1\n\n[10000 rows x 6 columns]",
      "text/html": "<div>\n<style scoped>\n    .dataframe tbody tr th:only-of-type {\n        vertical-align: middle;\n    }\n\n    .dataframe tbody tr th {\n        vertical-align: top;\n    }\n\n    .dataframe thead th {\n        text-align: right;\n    }\n</style>\n<table border=\"1\" class=\"dataframe\">\n  <thead>\n    <tr style=\"text-align: right;\">\n      <th></th>\n      <th>Header</th>\n      <th>D2D_success</th>\n      <th>D2D_transmit</th>\n      <th>RA_init</th>\n      <th>RA_success</th>\n      <th>RA_transmit</th>\n    </tr>\n  </thead>\n  <tbody>\n    <tr>\n      <th>0</th>\n      <td>0</td>\n      <td>-1</td>\n      <td>1</td>\n      <td>321</td>\n      <td>340</td>\n      <td>1</td>\n    </tr>\n    <tr>\n      <th>1</th>\n      <td>1</td>\n      <td>-1</td>\n      <td>1</td>\n      <td>157</td>\n      <td>204</td>\n      <td>1</td>\n    </tr>\n    <tr>\n      <th>2</th>\n      <td>2</td>\n      <td>-1</td>\n      <td>1</td>\n      <td>265</td>\n      <td>268</td>\n      <td>1</td>\n    </tr>\n    <tr>\n      <th>3</th>\n      <td>3</td>\n      <td>-1</td>\n      <td>1</td>\n      <td>367</td>\n      <td>380</td>\n      <td>1</td>\n    </tr>\n    <tr>\n      <th>4</th>\n      <td>4</td>\n      <td>-1</td>\n      <td>1</td>\n      <td>408</td>\n      <td>412</td>\n      <td>1</td>\n    </tr>\n    <tr>\n      <th>...</th>\n      <td>...</td>\n      <td>...</td>\n      <td>...</td>\n      <td>...</td>\n      <td>...</td>\n      <td>...</td>\n    </tr>\n    <tr>\n      <th>9995</th>\n      <td>290</td>\n      <td>668</td>\n      <td>1</td>\n      <td>661</td>\n      <td>671</td>\n      <td>1</td>\n    </tr>\n    <tr>\n      <th>9996</th>\n      <td>36</td>\n      <td>564</td>\n      <td>1</td>\n      <td>561</td>\n      <td>568</td>\n      <td>1</td>\n    </tr>\n    <tr>\n      <th>9997</th>\n      <td>522</td>\n      <td>636</td>\n      <td>1</td>\n      <td>630</td>\n      <td>637</td>\n      <td>1</td>\n    </tr>\n    <tr>\n      <th>9998</th>\n      <td>221</td>\n      <td>340</td>\n      <td>1</td>\n      <td>334</td>\n      <td>342</td>\n      <td>1</td>\n    </tr>\n    <tr>\n      <th>9999</th>\n      <td>93</td>\n      <td>244</td>\n      <td>1</td>\n      <td>243</td>\n      <td>249</td>\n      <td>1</td>\n    </tr>\n  </tbody>\n</table>\n<p>10000 rows × 6 columns</p>\n</div>"
     },
     "metadata": {},
     "execution_count": 47
    }
   ],
   "source": [
    "D2D_result"
   ]
  },
  {
   "cell_type": "code",
   "execution_count": 48,
   "metadata": {},
   "outputs": [
    {
     "output_type": "execute_result",
     "data": {
      "text/plain": "      Header  D2D_success  D2D_transmit  RA_init  RA_success  RA_transmit\n21        12          452             1      450         452            1\n24       721          172             1      166         172            1\n30         2          260             2      250         260            1\n33        25          284             1      282         284            1\n34        18          100             1       97         100            1\n...      ...          ...           ...      ...         ...          ...\n9995     290          668             1      661         671            1\n9996      36          564             1      561         568            1\n9997     522          636             1      630         637            1\n9998     221          340             1      334         342            1\n9999      93          244             1      243         249            1\n\n[9786 rows x 6 columns]",
      "text/html": "<div>\n<style scoped>\n    .dataframe tbody tr th:only-of-type {\n        vertical-align: middle;\n    }\n\n    .dataframe tbody tr th {\n        vertical-align: top;\n    }\n\n    .dataframe thead th {\n        text-align: right;\n    }\n</style>\n<table border=\"1\" class=\"dataframe\">\n  <thead>\n    <tr style=\"text-align: right;\">\n      <th></th>\n      <th>Header</th>\n      <th>D2D_success</th>\n      <th>D2D_transmit</th>\n      <th>RA_init</th>\n      <th>RA_success</th>\n      <th>RA_transmit</th>\n    </tr>\n  </thead>\n  <tbody>\n    <tr>\n      <th>21</th>\n      <td>12</td>\n      <td>452</td>\n      <td>1</td>\n      <td>450</td>\n      <td>452</td>\n      <td>1</td>\n    </tr>\n    <tr>\n      <th>24</th>\n      <td>721</td>\n      <td>172</td>\n      <td>1</td>\n      <td>166</td>\n      <td>172</td>\n      <td>1</td>\n    </tr>\n    <tr>\n      <th>30</th>\n      <td>2</td>\n      <td>260</td>\n      <td>2</td>\n      <td>250</td>\n      <td>260</td>\n      <td>1</td>\n    </tr>\n    <tr>\n      <th>33</th>\n      <td>25</td>\n      <td>284</td>\n      <td>1</td>\n      <td>282</td>\n      <td>284</td>\n      <td>1</td>\n    </tr>\n    <tr>\n      <th>34</th>\n      <td>18</td>\n      <td>100</td>\n      <td>1</td>\n      <td>97</td>\n      <td>100</td>\n      <td>1</td>\n    </tr>\n    <tr>\n      <th>...</th>\n      <td>...</td>\n      <td>...</td>\n      <td>...</td>\n      <td>...</td>\n      <td>...</td>\n      <td>...</td>\n    </tr>\n    <tr>\n      <th>9995</th>\n      <td>290</td>\n      <td>668</td>\n      <td>1</td>\n      <td>661</td>\n      <td>671</td>\n      <td>1</td>\n    </tr>\n    <tr>\n      <th>9996</th>\n      <td>36</td>\n      <td>564</td>\n      <td>1</td>\n      <td>561</td>\n      <td>568</td>\n      <td>1</td>\n    </tr>\n    <tr>\n      <th>9997</th>\n      <td>522</td>\n      <td>636</td>\n      <td>1</td>\n      <td>630</td>\n      <td>637</td>\n      <td>1</td>\n    </tr>\n    <tr>\n      <th>9998</th>\n      <td>221</td>\n      <td>340</td>\n      <td>1</td>\n      <td>334</td>\n      <td>342</td>\n      <td>1</td>\n    </tr>\n    <tr>\n      <th>9999</th>\n      <td>93</td>\n      <td>244</td>\n      <td>1</td>\n      <td>243</td>\n      <td>249</td>\n      <td>1</td>\n    </tr>\n  </tbody>\n</table>\n<p>9786 rows × 6 columns</p>\n</div>"
     },
     "metadata": {},
     "execution_count": 48
    }
   ],
   "source": [
    "D2D_result.loc[D2D_result['D2D_success'] != -1]"
   ]
  },
  {
   "cell_type": "code",
   "execution_count": null,
   "metadata": {},
   "outputs": [],
   "source": []
  }
 ],
 "metadata": {
  "language_info": {
   "codemirror_mode": {
    "name": "ipython",
    "version": 3
   },
   "file_extension": ".py",
   "mimetype": "text/x-python",
   "name": "python",
   "nbconvert_exporter": "python",
   "pygments_lexer": "ipython3",
   "version": "3.8.0-final"
  },
  "orig_nbformat": 2,
  "kernelspec": {
   "name": "python38064bittdcrpipenvd4536cd5b7e04db888643b26fe3148af",
   "display_name": "Python 3.8.0 64-bit ('TDCR': pipenv)"
  }
 },
 "nbformat": 4,
 "nbformat_minor": 2
}