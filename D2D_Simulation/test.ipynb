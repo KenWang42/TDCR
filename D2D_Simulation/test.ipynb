{
 "cells": [
  {
   "cell_type": "code",
   "execution_count": 25,
   "metadata": {},
   "outputs": [],
   "source": [
    "import numpy as np\n",
    "import pandas as pd"
   ]
  },
  {
   "cell_type": "code",
   "execution_count": 26,
   "metadata": {},
   "outputs": [],
   "source": [
    "simRAO = 2000\n",
    "nMTCD = 30000\n",
    "MTCD_data = pd.read_csv(f'MTCD_data_{nMTCD}.csv', index_col=False)"
   ]
  },
  {
   "cell_type": "code",
   "execution_count": 27,
   "metadata": {},
   "outputs": [],
   "source": [
    "data = np.zeros((simRAO, 4), dtype=int)\n",
    "Preamble_status = pd.DataFrame(\n",
    "    data,\n",
    "    columns=['nRA', 'empty', 'collided', 'success'],\n",
    ")\n",
    "Preamble_status.index.name = 'system frame'"
   ]
  },
  {
   "cell_type": "code",
   "execution_count": 28,
   "metadata": {},
   "outputs": [
    {
     "output_type": "stream",
     "name": "stdout",
     "text": "(2000, 4)\n"
    },
    {
     "output_type": "execute_result",
     "data": {
      "text/plain": "              nRA  empty  collided  success\nsystem frame                               \n1791            0      0         0        0\n1188            0      0         0        0\n872             0      0         0        0\n1581            0      0         0        0\n336             0      0         0        0",
      "text/html": "<div>\n<style scoped>\n    .dataframe tbody tr th:only-of-type {\n        vertical-align: middle;\n    }\n\n    .dataframe tbody tr th {\n        vertical-align: top;\n    }\n\n    .dataframe thead th {\n        text-align: right;\n    }\n</style>\n<table border=\"1\" class=\"dataframe\">\n  <thead>\n    <tr style=\"text-align: right;\">\n      <th></th>\n      <th>nRA</th>\n      <th>empty</th>\n      <th>collided</th>\n      <th>success</th>\n    </tr>\n    <tr>\n      <th>system frame</th>\n      <th></th>\n      <th></th>\n      <th></th>\n      <th></th>\n    </tr>\n  </thead>\n  <tbody>\n    <tr>\n      <th>1791</th>\n      <td>0</td>\n      <td>0</td>\n      <td>0</td>\n      <td>0</td>\n    </tr>\n    <tr>\n      <th>1188</th>\n      <td>0</td>\n      <td>0</td>\n      <td>0</td>\n      <td>0</td>\n    </tr>\n    <tr>\n      <th>872</th>\n      <td>0</td>\n      <td>0</td>\n      <td>0</td>\n      <td>0</td>\n    </tr>\n    <tr>\n      <th>1581</th>\n      <td>0</td>\n      <td>0</td>\n      <td>0</td>\n      <td>0</td>\n    </tr>\n    <tr>\n      <th>336</th>\n      <td>0</td>\n      <td>0</td>\n      <td>0</td>\n      <td>0</td>\n    </tr>\n  </tbody>\n</table>\n</div>"
     },
     "metadata": {},
     "execution_count": 28
    }
   ],
   "source": [
    "print(Preamble_status.shape)\n",
    "Preamble_status.sample(5)"
   ]
  },
  {
   "cell_type": "code",
   "execution_count": 29,
   "metadata": {},
   "outputs": [],
   "source": [
    "RA_data = MTCD_data[['RA_init', 'RA_first', 'RA_success', 'RA_transmit']]\n",
    "RA_data.index.name = 'device_id'"
   ]
  },
  {
   "cell_type": "code",
   "execution_count": 30,
   "metadata": {},
   "outputs": [
    {
     "output_type": "stream",
     "name": "stdout",
     "text": "(30000, 4)\n"
    },
    {
     "output_type": "execute_result",
     "data": {
      "text/plain": "           RA_init  RA_first  RA_success  RA_transmit\ndevice_id                                            \n7505           416       416          -1            0\n14971          300       300          -1            0\n24892          506       506          -1            0\n19989          213       213          -1            0\n4439           385       385          -1            0",
      "text/html": "<div>\n<style scoped>\n    .dataframe tbody tr th:only-of-type {\n        vertical-align: middle;\n    }\n\n    .dataframe tbody tr th {\n        vertical-align: top;\n    }\n\n    .dataframe thead th {\n        text-align: right;\n    }\n</style>\n<table border=\"1\" class=\"dataframe\">\n  <thead>\n    <tr style=\"text-align: right;\">\n      <th></th>\n      <th>RA_init</th>\n      <th>RA_first</th>\n      <th>RA_success</th>\n      <th>RA_transmit</th>\n    </tr>\n    <tr>\n      <th>device_id</th>\n      <th></th>\n      <th></th>\n      <th></th>\n      <th></th>\n    </tr>\n  </thead>\n  <tbody>\n    <tr>\n      <th>7505</th>\n      <td>416</td>\n      <td>416</td>\n      <td>-1</td>\n      <td>0</td>\n    </tr>\n    <tr>\n      <th>14971</th>\n      <td>300</td>\n      <td>300</td>\n      <td>-1</td>\n      <td>0</td>\n    </tr>\n    <tr>\n      <th>24892</th>\n      <td>506</td>\n      <td>506</td>\n      <td>-1</td>\n      <td>0</td>\n    </tr>\n    <tr>\n      <th>19989</th>\n      <td>213</td>\n      <td>213</td>\n      <td>-1</td>\n      <td>0</td>\n    </tr>\n    <tr>\n      <th>4439</th>\n      <td>385</td>\n      <td>385</td>\n      <td>-1</td>\n      <td>0</td>\n    </tr>\n  </tbody>\n</table>\n</div>"
     },
     "metadata": {},
     "execution_count": 30
    }
   ],
   "source": [
    "print(RA_data.shape)\n",
    "RA_data.sample(5)"
   ]
  },
  {
   "cell_type": "code",
   "execution_count": 31,
   "metadata": {},
   "outputs": [],
   "source": [
    "D2D_member = pd.DataFrame(\n",
    "    columns=['group', 'Member', 'arrange', 'request', 'delay', 'transmit'],\n",
    ")\n",
    "\n",
    "# assign group\n",
    "D2D_member['group'] = MTCD_data['clusters']\n",
    "\n",
    "# assign type\n",
    "D2D_member['Member'] = (D2D_member.index != D2D_member['group'])\n",
    "\n",
    "# assign arrange\n",
    "arrangePRB = 20\n",
    "for group in D2D_member['group'].unique():\n",
    "    members = D2D_member.loc[(D2D_member['group'] == group) &\n",
    "                             (D2D_member['Member'])]\n",
    "    n = 0\n",
    "    for device_id, member in members.iterrows():\n",
    "        D2D_member.at[device_id, 'arrange'] = n // arrangePRB\n",
    "        n += 1\n",
    "\n",
    "# initiate request\n",
    "D2D_member['request'] = np.zeros(nMTCD, dtype=bool)\n",
    "\n",
    "# initiate delay\n",
    "D2D_member['delay'] = np.zeros(nMTCD, dtype=int)\n",
    "\n",
    "# initiate transmit\n",
    "D2D_member['transmit'] = np.zeros(nMTCD, dtype=int)"
   ]
  },
  {
   "cell_type": "code",
   "execution_count": 32,
   "metadata": {},
   "outputs": [
    {
     "output_type": "stream",
     "name": "stdout",
     "text": "(30000, 6)\n"
    },
    {
     "output_type": "execute_result",
     "data": {
      "text/plain": "           group  Member arrange  request  delay  transmit\ndevice_id                                                 \n316          316   False     NaN    False      0         0\n127          127   False     NaN    False      0         0\n145          145   False     NaN    False      0         0\n84            84   False     NaN    False      0         0\n93            93   False     NaN    False      0         0",
      "text/html": "<div>\n<style scoped>\n    .dataframe tbody tr th:only-of-type {\n        vertical-align: middle;\n    }\n\n    .dataframe tbody tr th {\n        vertical-align: top;\n    }\n\n    .dataframe thead th {\n        text-align: right;\n    }\n</style>\n<table border=\"1\" class=\"dataframe\">\n  <thead>\n    <tr style=\"text-align: right;\">\n      <th></th>\n      <th>group</th>\n      <th>Member</th>\n      <th>arrange</th>\n      <th>request</th>\n      <th>delay</th>\n      <th>transmit</th>\n    </tr>\n    <tr>\n      <th>device_id</th>\n      <th></th>\n      <th></th>\n      <th></th>\n      <th></th>\n      <th></th>\n      <th></th>\n    </tr>\n  </thead>\n  <tbody>\n    <tr>\n      <th>316</th>\n      <td>316</td>\n      <td>False</td>\n      <td>NaN</td>\n      <td>False</td>\n      <td>0</td>\n      <td>0</td>\n    </tr>\n    <tr>\n      <th>127</th>\n      <td>127</td>\n      <td>False</td>\n      <td>NaN</td>\n      <td>False</td>\n      <td>0</td>\n      <td>0</td>\n    </tr>\n    <tr>\n      <th>145</th>\n      <td>145</td>\n      <td>False</td>\n      <td>NaN</td>\n      <td>False</td>\n      <td>0</td>\n      <td>0</td>\n    </tr>\n    <tr>\n      <th>84</th>\n      <td>84</td>\n      <td>False</td>\n      <td>NaN</td>\n      <td>False</td>\n      <td>0</td>\n      <td>0</td>\n    </tr>\n    <tr>\n      <th>93</th>\n      <td>93</td>\n      <td>False</td>\n      <td>NaN</td>\n      <td>False</td>\n      <td>0</td>\n      <td>0</td>\n    </tr>\n  </tbody>\n</table>\n</div>"
     },
     "metadata": {},
     "execution_count": 32
    }
   ],
   "source": [
    "print(D2D_member.shape)\n",
    "D2D_member.loc[D2D_member['Member'] == False].sample(5)"
   ]
  },
  {
   "cell_type": "code",
   "execution_count": 33,
   "metadata": {},
   "outputs": [],
   "source": [
    "D2D_group = pd.DataFrame(\n",
    "    columns=['Header', 'class', 'seq_class', 'N_member', 'RA_request', 'arrange', 'HL']\n",
    ")\n",
    "D2D_group['Header'] = MTCD_data['clusters'].unique()"
   ]
  },
  {
   "cell_type": "code",
   "execution_count": 34,
   "metadata": {},
   "outputs": [
    {
     "output_type": "stream",
     "name": "stdout",
     "text": "219 5\n"
    }
   ],
   "source": [
    "N_preamble = 54\n",
    "N_group = len(D2D_group)\n",
    "N_class = (N_group // N_preamble) + 1\n",
    "seq = 0\n",
    "ind = 0\n",
    "print(N_group, N_class)"
   ]
  },
  {
   "cell_type": "code",
   "execution_count": 35,
   "metadata": {},
   "outputs": [
    {
     "output_type": "execute_result",
     "data": {
      "text/plain": "     Header class seq_class N_member RA_request arrange   HL\n0         0     0         0      NaN        NaN     NaN  NaN\n1         1     0         1      NaN        NaN     NaN  NaN\n2         2     0         2      NaN        NaN     NaN  NaN\n3         3     0         3      NaN        NaN     NaN  NaN\n4         4     0         4      NaN        NaN     NaN  NaN\n..      ...   ...       ...      ...        ...     ...  ...\n214    1004     3        52      NaN        NaN     NaN  NaN\n215    1056     3        53      NaN        NaN     NaN  NaN\n216    1756     4         0      NaN        NaN     NaN  NaN\n217    9805     4         1      NaN        NaN     NaN  NaN\n218   16553     4         2      NaN        NaN     NaN  NaN\n\n[219 rows x 7 columns]",
      "text/html": "<div>\n<style scoped>\n    .dataframe tbody tr th:only-of-type {\n        vertical-align: middle;\n    }\n\n    .dataframe tbody tr th {\n        vertical-align: top;\n    }\n\n    .dataframe thead th {\n        text-align: right;\n    }\n</style>\n<table border=\"1\" class=\"dataframe\">\n  <thead>\n    <tr style=\"text-align: right;\">\n      <th></th>\n      <th>Header</th>\n      <th>class</th>\n      <th>seq_class</th>\n      <th>N_member</th>\n      <th>RA_request</th>\n      <th>arrange</th>\n      <th>HL</th>\n    </tr>\n  </thead>\n  <tbody>\n    <tr>\n      <th>0</th>\n      <td>0</td>\n      <td>0</td>\n      <td>0</td>\n      <td>NaN</td>\n      <td>NaN</td>\n      <td>NaN</td>\n      <td>NaN</td>\n    </tr>\n    <tr>\n      <th>1</th>\n      <td>1</td>\n      <td>0</td>\n      <td>1</td>\n      <td>NaN</td>\n      <td>NaN</td>\n      <td>NaN</td>\n      <td>NaN</td>\n    </tr>\n    <tr>\n      <th>2</th>\n      <td>2</td>\n      <td>0</td>\n      <td>2</td>\n      <td>NaN</td>\n      <td>NaN</td>\n      <td>NaN</td>\n      <td>NaN</td>\n    </tr>\n    <tr>\n      <th>3</th>\n      <td>3</td>\n      <td>0</td>\n      <td>3</td>\n      <td>NaN</td>\n      <td>NaN</td>\n      <td>NaN</td>\n      <td>NaN</td>\n    </tr>\n    <tr>\n      <th>4</th>\n      <td>4</td>\n      <td>0</td>\n      <td>4</td>\n      <td>NaN</td>\n      <td>NaN</td>\n      <td>NaN</td>\n      <td>NaN</td>\n    </tr>\n    <tr>\n      <th>...</th>\n      <td>...</td>\n      <td>...</td>\n      <td>...</td>\n      <td>...</td>\n      <td>...</td>\n      <td>...</td>\n      <td>...</td>\n    </tr>\n    <tr>\n      <th>214</th>\n      <td>1004</td>\n      <td>3</td>\n      <td>52</td>\n      <td>NaN</td>\n      <td>NaN</td>\n      <td>NaN</td>\n      <td>NaN</td>\n    </tr>\n    <tr>\n      <th>215</th>\n      <td>1056</td>\n      <td>3</td>\n      <td>53</td>\n      <td>NaN</td>\n      <td>NaN</td>\n      <td>NaN</td>\n      <td>NaN</td>\n    </tr>\n    <tr>\n      <th>216</th>\n      <td>1756</td>\n      <td>4</td>\n      <td>0</td>\n      <td>NaN</td>\n      <td>NaN</td>\n      <td>NaN</td>\n      <td>NaN</td>\n    </tr>\n    <tr>\n      <th>217</th>\n      <td>9805</td>\n      <td>4</td>\n      <td>1</td>\n      <td>NaN</td>\n      <td>NaN</td>\n      <td>NaN</td>\n      <td>NaN</td>\n    </tr>\n    <tr>\n      <th>218</th>\n      <td>16553</td>\n      <td>4</td>\n      <td>2</td>\n      <td>NaN</td>\n      <td>NaN</td>\n      <td>NaN</td>\n      <td>NaN</td>\n    </tr>\n  </tbody>\n</table>\n<p>219 rows × 7 columns</p>\n</div>"
     },
     "metadata": {},
     "execution_count": 35
    }
   ],
   "source": [
    "for group in range(N_group):\n",
    "    D2D_group.at[group, 'class'] = group // N_preamble\n",
    "    # assign inter-class sequence\n",
    "    D2D_group.at[group, 'seq_class'] = seq\n",
    "    seq = (seq+1) % N_preamble\n",
    "D2D_group"
   ]
  },
  {
   "cell_type": "code",
   "execution_count": 36,
   "metadata": {},
   "outputs": [
    {
     "output_type": "execute_result",
     "data": {
      "text/plain": "     Header class seq_class  N_member RA_request arrange   HL\n0         0     0         0       159        NaN     NaN  NaN\n1         1     0         1       159        NaN     NaN  NaN\n2         2     0         2       162        NaN     NaN  NaN\n3         3     0         3       120        NaN     NaN  NaN\n4         4     0         4       138        NaN     NaN  NaN\n..      ...   ...       ...       ...        ...     ...  ...\n214    1004     3        52        96        NaN     NaN  NaN\n215    1056     3        53       106        NaN     NaN  NaN\n216    1756     4         0       119        NaN     NaN  NaN\n217    9805     4         1        55        NaN     NaN  NaN\n218   16553     4         2       108        NaN     NaN  NaN\n\n[219 rows x 7 columns]",
      "text/html": "<div>\n<style scoped>\n    .dataframe tbody tr th:only-of-type {\n        vertical-align: middle;\n    }\n\n    .dataframe tbody tr th {\n        vertical-align: top;\n    }\n\n    .dataframe thead th {\n        text-align: right;\n    }\n</style>\n<table border=\"1\" class=\"dataframe\">\n  <thead>\n    <tr style=\"text-align: right;\">\n      <th></th>\n      <th>Header</th>\n      <th>class</th>\n      <th>seq_class</th>\n      <th>N_member</th>\n      <th>RA_request</th>\n      <th>arrange</th>\n      <th>HL</th>\n    </tr>\n  </thead>\n  <tbody>\n    <tr>\n      <th>0</th>\n      <td>0</td>\n      <td>0</td>\n      <td>0</td>\n      <td>159</td>\n      <td>NaN</td>\n      <td>NaN</td>\n      <td>NaN</td>\n    </tr>\n    <tr>\n      <th>1</th>\n      <td>1</td>\n      <td>0</td>\n      <td>1</td>\n      <td>159</td>\n      <td>NaN</td>\n      <td>NaN</td>\n      <td>NaN</td>\n    </tr>\n    <tr>\n      <th>2</th>\n      <td>2</td>\n      <td>0</td>\n      <td>2</td>\n      <td>162</td>\n      <td>NaN</td>\n      <td>NaN</td>\n      <td>NaN</td>\n    </tr>\n    <tr>\n      <th>3</th>\n      <td>3</td>\n      <td>0</td>\n      <td>3</td>\n      <td>120</td>\n      <td>NaN</td>\n      <td>NaN</td>\n      <td>NaN</td>\n    </tr>\n    <tr>\n      <th>4</th>\n      <td>4</td>\n      <td>0</td>\n      <td>4</td>\n      <td>138</td>\n      <td>NaN</td>\n      <td>NaN</td>\n      <td>NaN</td>\n    </tr>\n    <tr>\n      <th>...</th>\n      <td>...</td>\n      <td>...</td>\n      <td>...</td>\n      <td>...</td>\n      <td>...</td>\n      <td>...</td>\n      <td>...</td>\n    </tr>\n    <tr>\n      <th>214</th>\n      <td>1004</td>\n      <td>3</td>\n      <td>52</td>\n      <td>96</td>\n      <td>NaN</td>\n      <td>NaN</td>\n      <td>NaN</td>\n    </tr>\n    <tr>\n      <th>215</th>\n      <td>1056</td>\n      <td>3</td>\n      <td>53</td>\n      <td>106</td>\n      <td>NaN</td>\n      <td>NaN</td>\n      <td>NaN</td>\n    </tr>\n    <tr>\n      <th>216</th>\n      <td>1756</td>\n      <td>4</td>\n      <td>0</td>\n      <td>119</td>\n      <td>NaN</td>\n      <td>NaN</td>\n      <td>NaN</td>\n    </tr>\n    <tr>\n      <th>217</th>\n      <td>9805</td>\n      <td>4</td>\n      <td>1</td>\n      <td>55</td>\n      <td>NaN</td>\n      <td>NaN</td>\n      <td>NaN</td>\n    </tr>\n    <tr>\n      <th>218</th>\n      <td>16553</td>\n      <td>4</td>\n      <td>2</td>\n      <td>108</td>\n      <td>NaN</td>\n      <td>NaN</td>\n      <td>NaN</td>\n    </tr>\n  </tbody>\n</table>\n<p>219 rows × 7 columns</p>\n</div>"
     },
     "metadata": {},
     "execution_count": 36
    }
   ],
   "source": [
    "D2D_group['N_member'] = D2D_member.groupby(['group']).size().values\n",
    "D2D_group"
   ]
  },
  {
   "cell_type": "code",
   "execution_count": 37,
   "metadata": {},
   "outputs": [],
   "source": [
    "for i, header in enumerate(D2D_group['Header']):\n",
    "    D2D_group.at[i, 'N_member'] = len(D2D_member)"
   ]
  },
  {
   "cell_type": "code",
   "execution_count": 38,
   "metadata": {},
   "outputs": [],
   "source": [
    "BS_schedule = pd.DataFrame(\n",
    "    columns=['class', 'TDCR'],\n",
    ")\n",
    "\n",
    "# assign class of every frame\n",
    "BS_schedule['class'] = [f % N_class for f in range(simRAO)]\n",
    "\n",
    "# initialize TDCR\n",
    "BS_schedule['TDCR'] = np.zeros(simRAO, dtype=int)"
   ]
  },
  {
   "cell_type": "code",
   "execution_count": 39,
   "metadata": {},
   "outputs": [
    {
     "output_type": "execute_result",
     "data": {
      "text/plain": "      class  TDCR\n0         0     0\n1         1     0\n2         2     0\n3         3     0\n4         4     0\n...     ...   ...\n1995      0     0\n1996      1     0\n1997      2     0\n1998      3     0\n1999      4     0\n\n[2000 rows x 2 columns]",
      "text/html": "<div>\n<style scoped>\n    .dataframe tbody tr th:only-of-type {\n        vertical-align: middle;\n    }\n\n    .dataframe tbody tr th {\n        vertical-align: top;\n    }\n\n    .dataframe thead th {\n        text-align: right;\n    }\n</style>\n<table border=\"1\" class=\"dataframe\">\n  <thead>\n    <tr style=\"text-align: right;\">\n      <th></th>\n      <th>class</th>\n      <th>TDCR</th>\n    </tr>\n  </thead>\n  <tbody>\n    <tr>\n      <th>0</th>\n      <td>0</td>\n      <td>0</td>\n    </tr>\n    <tr>\n      <th>1</th>\n      <td>1</td>\n      <td>0</td>\n    </tr>\n    <tr>\n      <th>2</th>\n      <td>2</td>\n      <td>0</td>\n    </tr>\n    <tr>\n      <th>3</th>\n      <td>3</td>\n      <td>0</td>\n    </tr>\n    <tr>\n      <th>4</th>\n      <td>4</td>\n      <td>0</td>\n    </tr>\n    <tr>\n      <th>...</th>\n      <td>...</td>\n      <td>...</td>\n    </tr>\n    <tr>\n      <th>1995</th>\n      <td>0</td>\n      <td>0</td>\n    </tr>\n    <tr>\n      <th>1996</th>\n      <td>1</td>\n      <td>0</td>\n    </tr>\n    <tr>\n      <th>1997</th>\n      <td>2</td>\n      <td>0</td>\n    </tr>\n    <tr>\n      <th>1998</th>\n      <td>3</td>\n      <td>0</td>\n    </tr>\n    <tr>\n      <th>1999</th>\n      <td>4</td>\n      <td>0</td>\n    </tr>\n  </tbody>\n</table>\n<p>2000 rows × 2 columns</p>\n</div>"
     },
     "metadata": {},
     "execution_count": 39
    }
   ],
   "source": [
    "BS_schedule"
   ]
  },
  {
   "cell_type": "code",
   "execution_count": 40,
   "metadata": {},
   "outputs": [
    {
     "output_type": "execute_result",
     "data": {
      "text/plain": "    class  TDCR\n0       0     0\n1       1     0\n2       2     0\n3       3     0\n4       4     0\n5       0     0\n6       1     0\n7       2     0\n8       3     0\n9       4     0\n10      0     0\n11      1     0\n12      2     0\n13      3     0\n14      4     0\n15      0     0",
      "text/html": "<div>\n<style scoped>\n    .dataframe tbody tr th:only-of-type {\n        vertical-align: middle;\n    }\n\n    .dataframe tbody tr th {\n        vertical-align: top;\n    }\n\n    .dataframe thead th {\n        text-align: right;\n    }\n</style>\n<table border=\"1\" class=\"dataframe\">\n  <thead>\n    <tr style=\"text-align: right;\">\n      <th></th>\n      <th>class</th>\n      <th>TDCR</th>\n    </tr>\n  </thead>\n  <tbody>\n    <tr>\n      <th>0</th>\n      <td>0</td>\n      <td>0</td>\n    </tr>\n    <tr>\n      <th>1</th>\n      <td>1</td>\n      <td>0</td>\n    </tr>\n    <tr>\n      <th>2</th>\n      <td>2</td>\n      <td>0</td>\n    </tr>\n    <tr>\n      <th>3</th>\n      <td>3</td>\n      <td>0</td>\n    </tr>\n    <tr>\n      <th>4</th>\n      <td>4</td>\n      <td>0</td>\n    </tr>\n    <tr>\n      <th>5</th>\n      <td>0</td>\n      <td>0</td>\n    </tr>\n    <tr>\n      <th>6</th>\n      <td>1</td>\n      <td>0</td>\n    </tr>\n    <tr>\n      <th>7</th>\n      <td>2</td>\n      <td>0</td>\n    </tr>\n    <tr>\n      <th>8</th>\n      <td>3</td>\n      <td>0</td>\n    </tr>\n    <tr>\n      <th>9</th>\n      <td>4</td>\n      <td>0</td>\n    </tr>\n    <tr>\n      <th>10</th>\n      <td>0</td>\n      <td>0</td>\n    </tr>\n    <tr>\n      <th>11</th>\n      <td>1</td>\n      <td>0</td>\n    </tr>\n    <tr>\n      <th>12</th>\n      <td>2</td>\n      <td>0</td>\n    </tr>\n    <tr>\n      <th>13</th>\n      <td>3</td>\n      <td>0</td>\n    </tr>\n    <tr>\n      <th>14</th>\n      <td>4</td>\n      <td>0</td>\n    </tr>\n    <tr>\n      <th>15</th>\n      <td>0</td>\n      <td>0</td>\n    </tr>\n  </tbody>\n</table>\n</div>"
     },
     "metadata": {},
     "execution_count": 40
    }
   ],
   "source": [
    "schedule = BS_schedule.loc[np.arange(0,16)]\n",
    "schedule"
   ]
  },
  {
   "cell_type": "code",
   "execution_count": 41,
   "metadata": {},
   "outputs": [
    {
     "output_type": "execute_result",
     "data": {
      "text/plain": "    class  TDCR\n1       1     0\n6       1     0\n11      1     0",
      "text/html": "<div>\n<style scoped>\n    .dataframe tbody tr th:only-of-type {\n        vertical-align: middle;\n    }\n\n    .dataframe tbody tr th {\n        vertical-align: top;\n    }\n\n    .dataframe thead th {\n        text-align: right;\n    }\n</style>\n<table border=\"1\" class=\"dataframe\">\n  <thead>\n    <tr style=\"text-align: right;\">\n      <th></th>\n      <th>class</th>\n      <th>TDCR</th>\n    </tr>\n  </thead>\n  <tbody>\n    <tr>\n      <th>1</th>\n      <td>1</td>\n      <td>0</td>\n    </tr>\n    <tr>\n      <th>6</th>\n      <td>1</td>\n      <td>0</td>\n    </tr>\n    <tr>\n      <th>11</th>\n      <td>1</td>\n      <td>0</td>\n    </tr>\n  </tbody>\n</table>\n</div>"
     },
     "metadata": {},
     "execution_count": 41
    }
   ],
   "source": [
    "s = schedule.loc[(schedule['class'] == 1)]\n",
    "s"
   ]
  },
  {
   "cell_type": "code",
   "execution_count": 42,
   "metadata": {},
   "outputs": [
    {
     "output_type": "execute_result",
     "data": {
      "text/plain": "    class  TDCR\n1       1     1\n6       1     0\n11      1     0",
      "text/html": "<div>\n<style scoped>\n    .dataframe tbody tr th:only-of-type {\n        vertical-align: middle;\n    }\n\n    .dataframe tbody tr th {\n        vertical-align: top;\n    }\n\n    .dataframe thead th {\n        text-align: right;\n    }\n</style>\n<table border=\"1\" class=\"dataframe\">\n  <thead>\n    <tr style=\"text-align: right;\">\n      <th></th>\n      <th>class</th>\n      <th>TDCR</th>\n    </tr>\n  </thead>\n  <tbody>\n    <tr>\n      <th>1</th>\n      <td>1</td>\n      <td>1</td>\n    </tr>\n    <tr>\n      <th>6</th>\n      <td>1</td>\n      <td>0</td>\n    </tr>\n    <tr>\n      <th>11</th>\n      <td>1</td>\n      <td>0</td>\n    </tr>\n  </tbody>\n</table>\n</div>"
     },
     "metadata": {},
     "execution_count": 42
    }
   ],
   "source": [
    "s.iat[0, 1] = 1\n",
    "s"
   ]
  },
  {
   "cell_type": "code",
   "execution_count": 43,
   "metadata": {},
   "outputs": [
    {
     "output_type": "execute_result",
     "data": {
      "text/plain": "1"
     },
     "metadata": {},
     "execution_count": 43
    }
   ],
   "source": [
    "s.index[0]"
   ]
  },
  {
   "cell_type": "code",
   "execution_count": 44,
   "metadata": {},
   "outputs": [
    {
     "output_type": "execute_result",
     "data": {
      "text/plain": "      class  TDCR\n0         0     0\n1         1  1235\n2         2     0\n3         3     0\n4         4     0\n...     ...   ...\n1995      0     0\n1996      1     0\n1997      2     0\n1998      3     0\n1999      4     0\n\n[2000 rows x 2 columns]",
      "text/html": "<div>\n<style scoped>\n    .dataframe tbody tr th:only-of-type {\n        vertical-align: middle;\n    }\n\n    .dataframe tbody tr th {\n        vertical-align: top;\n    }\n\n    .dataframe thead th {\n        text-align: right;\n    }\n</style>\n<table border=\"1\" class=\"dataframe\">\n  <thead>\n    <tr style=\"text-align: right;\">\n      <th></th>\n      <th>class</th>\n      <th>TDCR</th>\n    </tr>\n  </thead>\n  <tbody>\n    <tr>\n      <th>0</th>\n      <td>0</td>\n      <td>0</td>\n    </tr>\n    <tr>\n      <th>1</th>\n      <td>1</td>\n      <td>1235</td>\n    </tr>\n    <tr>\n      <th>2</th>\n      <td>2</td>\n      <td>0</td>\n    </tr>\n    <tr>\n      <th>3</th>\n      <td>3</td>\n      <td>0</td>\n    </tr>\n    <tr>\n      <th>4</th>\n      <td>4</td>\n      <td>0</td>\n    </tr>\n    <tr>\n      <th>...</th>\n      <td>...</td>\n      <td>...</td>\n    </tr>\n    <tr>\n      <th>1995</th>\n      <td>0</td>\n      <td>0</td>\n    </tr>\n    <tr>\n      <th>1996</th>\n      <td>1</td>\n      <td>0</td>\n    </tr>\n    <tr>\n      <th>1997</th>\n      <td>2</td>\n      <td>0</td>\n    </tr>\n    <tr>\n      <th>1998</th>\n      <td>3</td>\n      <td>0</td>\n    </tr>\n    <tr>\n      <th>1999</th>\n      <td>4</td>\n      <td>0</td>\n    </tr>\n  </tbody>\n</table>\n<p>2000 rows × 2 columns</p>\n</div>"
     },
     "metadata": {},
     "execution_count": 44
    }
   ],
   "source": [
    "BS_schedule.at[s.index[0], 'TDCR'] = 1235\n",
    "BS_schedule"
   ]
  },
  {
   "cell_type": "code",
   "execution_count": 48,
   "metadata": {},
   "outputs": [],
   "source": [
    "devices = RA_data.loc[(RA_data['RA_init'] == 125) & (RA_data['RA_transmit'] <= 10)]\n",
    "devices['RA_transmit'] += 1"
   ]
  },
  {
   "cell_type": "code",
   "execution_count": 49,
   "metadata": {},
   "outputs": [
    {
     "output_type": "execute_result",
     "data": {
      "text/plain": "           RA_init  RA_first  RA_success  RA_transmit\ndevice_id                                            \n139            125       125          -1            1\n2183           125       125          -1            1\n3230           125       125          -1            1\n4765           125       125          -1            1\n15464          125       125          -1            1\n16923          125       125          -1            1\n18483          125       125          -1            1\n21849          125       125          -1            1\n21861          125       125          -1            1\n25284          125       125          -1            1\n25653          125       125          -1            1\n26595          125       125          -1            1\n26966          125       125          -1            1\n27433          125       125          -1            1\n27876          125       125          -1            1",
      "text/html": "<div>\n<style scoped>\n    .dataframe tbody tr th:only-of-type {\n        vertical-align: middle;\n    }\n\n    .dataframe tbody tr th {\n        vertical-align: top;\n    }\n\n    .dataframe thead th {\n        text-align: right;\n    }\n</style>\n<table border=\"1\" class=\"dataframe\">\n  <thead>\n    <tr style=\"text-align: right;\">\n      <th></th>\n      <th>RA_init</th>\n      <th>RA_first</th>\n      <th>RA_success</th>\n      <th>RA_transmit</th>\n    </tr>\n    <tr>\n      <th>device_id</th>\n      <th></th>\n      <th></th>\n      <th></th>\n      <th></th>\n    </tr>\n  </thead>\n  <tbody>\n    <tr>\n      <th>139</th>\n      <td>125</td>\n      <td>125</td>\n      <td>-1</td>\n      <td>1</td>\n    </tr>\n    <tr>\n      <th>2183</th>\n      <td>125</td>\n      <td>125</td>\n      <td>-1</td>\n      <td>1</td>\n    </tr>\n    <tr>\n      <th>3230</th>\n      <td>125</td>\n      <td>125</td>\n      <td>-1</td>\n      <td>1</td>\n    </tr>\n    <tr>\n      <th>4765</th>\n      <td>125</td>\n      <td>125</td>\n      <td>-1</td>\n      <td>1</td>\n    </tr>\n    <tr>\n      <th>15464</th>\n      <td>125</td>\n      <td>125</td>\n      <td>-1</td>\n      <td>1</td>\n    </tr>\n    <tr>\n      <th>16923</th>\n      <td>125</td>\n      <td>125</td>\n      <td>-1</td>\n      <td>1</td>\n    </tr>\n    <tr>\n      <th>18483</th>\n      <td>125</td>\n      <td>125</td>\n      <td>-1</td>\n      <td>1</td>\n    </tr>\n    <tr>\n      <th>21849</th>\n      <td>125</td>\n      <td>125</td>\n      <td>-1</td>\n      <td>1</td>\n    </tr>\n    <tr>\n      <th>21861</th>\n      <td>125</td>\n      <td>125</td>\n      <td>-1</td>\n      <td>1</td>\n    </tr>\n    <tr>\n      <th>25284</th>\n      <td>125</td>\n      <td>125</td>\n      <td>-1</td>\n      <td>1</td>\n    </tr>\n    <tr>\n      <th>25653</th>\n      <td>125</td>\n      <td>125</td>\n      <td>-1</td>\n      <td>1</td>\n    </tr>\n    <tr>\n      <th>26595</th>\n      <td>125</td>\n      <td>125</td>\n      <td>-1</td>\n      <td>1</td>\n    </tr>\n    <tr>\n      <th>26966</th>\n      <td>125</td>\n      <td>125</td>\n      <td>-1</td>\n      <td>1</td>\n    </tr>\n    <tr>\n      <th>27433</th>\n      <td>125</td>\n      <td>125</td>\n      <td>-1</td>\n      <td>1</td>\n    </tr>\n    <tr>\n      <th>27876</th>\n      <td>125</td>\n      <td>125</td>\n      <td>-1</td>\n      <td>1</td>\n    </tr>\n  </tbody>\n</table>\n</div>"
     },
     "metadata": {},
     "execution_count": 49
    }
   ],
   "source": [
    "devices"
   ]
  },
  {
   "cell_type": "code",
   "execution_count": 53,
   "metadata": {},
   "outputs": [
    {
     "output_type": "execute_result",
     "data": {
      "text/plain": "RA_init        125\nRA_first       125\nRA_success      -1\nRA_transmit      0\nName: 139, dtype: int64"
     },
     "metadata": {},
     "execution_count": 53
    }
   ],
   "source": [
    "RA_data.iloc[139]"
   ]
  },
  {
   "cell_type": "code",
   "execution_count": 55,
   "metadata": {},
   "outputs": [],
   "source": [
    "D2D_member['response'] = np.full(nMTCD, -1)"
   ]
  },
  {
   "cell_type": "code",
   "execution_count": 56,
   "metadata": {},
   "outputs": [
    {
     "output_type": "execute_result",
     "data": {
      "text/plain": "           group  Member arrange  request  delay  transmit  response\ndevice_id                                                           \n0              0   False     NaN    False      0         0        -1\n1              1   False     NaN    False      0         0        -1\n2              2   False     NaN    False      0         0        -1\n3              3   False     NaN    False      0         0        -1\n4              4   False     NaN    False      0         0        -1\n...          ...     ...     ...      ...    ...       ...       ...\n29995        112    True       8    False      0         0        -1\n29996       1305    True       6    False      0         0        -1\n29997        138    True       8    False      0         0        -1\n29998        227    True       3    False      0         0        -1\n29999          2    True       8    False      0         0        -1\n\n[30000 rows x 7 columns]",
      "text/html": "<div>\n<style scoped>\n    .dataframe tbody tr th:only-of-type {\n        vertical-align: middle;\n    }\n\n    .dataframe tbody tr th {\n        vertical-align: top;\n    }\n\n    .dataframe thead th {\n        text-align: right;\n    }\n</style>\n<table border=\"1\" class=\"dataframe\">\n  <thead>\n    <tr style=\"text-align: right;\">\n      <th></th>\n      <th>group</th>\n      <th>Member</th>\n      <th>arrange</th>\n      <th>request</th>\n      <th>delay</th>\n      <th>transmit</th>\n      <th>response</th>\n    </tr>\n    <tr>\n      <th>device_id</th>\n      <th></th>\n      <th></th>\n      <th></th>\n      <th></th>\n      <th></th>\n      <th></th>\n      <th></th>\n    </tr>\n  </thead>\n  <tbody>\n    <tr>\n      <th>0</th>\n      <td>0</td>\n      <td>False</td>\n      <td>NaN</td>\n      <td>False</td>\n      <td>0</td>\n      <td>0</td>\n      <td>-1</td>\n    </tr>\n    <tr>\n      <th>1</th>\n      <td>1</td>\n      <td>False</td>\n      <td>NaN</td>\n      <td>False</td>\n      <td>0</td>\n      <td>0</td>\n      <td>-1</td>\n    </tr>\n    <tr>\n      <th>2</th>\n      <td>2</td>\n      <td>False</td>\n      <td>NaN</td>\n      <td>False</td>\n      <td>0</td>\n      <td>0</td>\n      <td>-1</td>\n    </tr>\n    <tr>\n      <th>3</th>\n      <td>3</td>\n      <td>False</td>\n      <td>NaN</td>\n      <td>False</td>\n      <td>0</td>\n      <td>0</td>\n      <td>-1</td>\n    </tr>\n    <tr>\n      <th>4</th>\n      <td>4</td>\n      <td>False</td>\n      <td>NaN</td>\n      <td>False</td>\n      <td>0</td>\n      <td>0</td>\n      <td>-1</td>\n    </tr>\n    <tr>\n      <th>...</th>\n      <td>...</td>\n      <td>...</td>\n      <td>...</td>\n      <td>...</td>\n      <td>...</td>\n      <td>...</td>\n      <td>...</td>\n    </tr>\n    <tr>\n      <th>29995</th>\n      <td>112</td>\n      <td>True</td>\n      <td>8</td>\n      <td>False</td>\n      <td>0</td>\n      <td>0</td>\n      <td>-1</td>\n    </tr>\n    <tr>\n      <th>29996</th>\n      <td>1305</td>\n      <td>True</td>\n      <td>6</td>\n      <td>False</td>\n      <td>0</td>\n      <td>0</td>\n      <td>-1</td>\n    </tr>\n    <tr>\n      <th>29997</th>\n      <td>138</td>\n      <td>True</td>\n      <td>8</td>\n      <td>False</td>\n      <td>0</td>\n      <td>0</td>\n      <td>-1</td>\n    </tr>\n    <tr>\n      <th>29998</th>\n      <td>227</td>\n      <td>True</td>\n      <td>3</td>\n      <td>False</td>\n      <td>0</td>\n      <td>0</td>\n      <td>-1</td>\n    </tr>\n    <tr>\n      <th>29999</th>\n      <td>2</td>\n      <td>True</td>\n      <td>8</td>\n      <td>False</td>\n      <td>0</td>\n      <td>0</td>\n      <td>-1</td>\n    </tr>\n  </tbody>\n</table>\n<p>30000 rows × 7 columns</p>\n</div>"
     },
     "metadata": {},
     "execution_count": 56
    }
   ],
   "source": [
    "D2D_member"
   ]
  },
  {
   "cell_type": "code",
   "execution_count": 71,
   "metadata": {},
   "outputs": [
    {
     "output_type": "execute_result",
     "data": {
      "text/plain": "     Header class seq_class  N_member RA_request arrange     HL\n0         0     0         0     30000        NaN     NaN  False\n1         1     0         1     30000        NaN     NaN  False\n2         2     0         2     30000        NaN     NaN   True\n3         3     0         3     30000        NaN     NaN  False\n4         4     0         4     30000        NaN     NaN  False\n..      ...   ...       ...       ...        ...     ...    ...\n214    1004     3        52     30000        NaN     NaN  False\n215    1056     3        53     30000        NaN     NaN  False\n216    1756     4         0     30000        NaN     NaN   True\n217    9805     4         1     30000        NaN     NaN   True\n218   16553     4         2     30000        NaN     NaN   True\n\n[219 rows x 7 columns]",
      "text/html": "<div>\n<style scoped>\n    .dataframe tbody tr th:only-of-type {\n        vertical-align: middle;\n    }\n\n    .dataframe tbody tr th {\n        vertical-align: top;\n    }\n\n    .dataframe thead th {\n        text-align: right;\n    }\n</style>\n<table border=\"1\" class=\"dataframe\">\n  <thead>\n    <tr style=\"text-align: right;\">\n      <th></th>\n      <th>Header</th>\n      <th>class</th>\n      <th>seq_class</th>\n      <th>N_member</th>\n      <th>RA_request</th>\n      <th>arrange</th>\n      <th>HL</th>\n    </tr>\n  </thead>\n  <tbody>\n    <tr>\n      <th>0</th>\n      <td>0</td>\n      <td>0</td>\n      <td>0</td>\n      <td>30000</td>\n      <td>NaN</td>\n      <td>NaN</td>\n      <td>False</td>\n    </tr>\n    <tr>\n      <th>1</th>\n      <td>1</td>\n      <td>0</td>\n      <td>1</td>\n      <td>30000</td>\n      <td>NaN</td>\n      <td>NaN</td>\n      <td>False</td>\n    </tr>\n    <tr>\n      <th>2</th>\n      <td>2</td>\n      <td>0</td>\n      <td>2</td>\n      <td>30000</td>\n      <td>NaN</td>\n      <td>NaN</td>\n      <td>True</td>\n    </tr>\n    <tr>\n      <th>3</th>\n      <td>3</td>\n      <td>0</td>\n      <td>3</td>\n      <td>30000</td>\n      <td>NaN</td>\n      <td>NaN</td>\n      <td>False</td>\n    </tr>\n    <tr>\n      <th>4</th>\n      <td>4</td>\n      <td>0</td>\n      <td>4</td>\n      <td>30000</td>\n      <td>NaN</td>\n      <td>NaN</td>\n      <td>False</td>\n    </tr>\n    <tr>\n      <th>...</th>\n      <td>...</td>\n      <td>...</td>\n      <td>...</td>\n      <td>...</td>\n      <td>...</td>\n      <td>...</td>\n      <td>...</td>\n    </tr>\n    <tr>\n      <th>214</th>\n      <td>1004</td>\n      <td>3</td>\n      <td>52</td>\n      <td>30000</td>\n      <td>NaN</td>\n      <td>NaN</td>\n      <td>False</td>\n    </tr>\n    <tr>\n      <th>215</th>\n      <td>1056</td>\n      <td>3</td>\n      <td>53</td>\n      <td>30000</td>\n      <td>NaN</td>\n      <td>NaN</td>\n      <td>False</td>\n    </tr>\n    <tr>\n      <th>216</th>\n      <td>1756</td>\n      <td>4</td>\n      <td>0</td>\n      <td>30000</td>\n      <td>NaN</td>\n      <td>NaN</td>\n      <td>True</td>\n    </tr>\n    <tr>\n      <th>217</th>\n      <td>9805</td>\n      <td>4</td>\n      <td>1</td>\n      <td>30000</td>\n      <td>NaN</td>\n      <td>NaN</td>\n      <td>True</td>\n    </tr>\n    <tr>\n      <th>218</th>\n      <td>16553</td>\n      <td>4</td>\n      <td>2</td>\n      <td>30000</td>\n      <td>NaN</td>\n      <td>NaN</td>\n      <td>True</td>\n    </tr>\n  </tbody>\n</table>\n<p>219 rows × 7 columns</p>\n</div>"
     },
     "metadata": {},
     "execution_count": 71
    }
   ],
   "source": [
    "D2D_group['HL'] = np.random.choice(a=[False, True], size=len(D2D_group))\n",
    "D2D_group"
   ]
  },
  {
   "cell_type": "code",
   "execution_count": 92,
   "metadata": {},
   "outputs": [
    {
     "output_type": "stream",
     "name": "stdout",
     "text": "54 25\n"
    }
   ],
   "source": [
    "class_groups = D2D_group.loc[D2D_group['class'] == 3]\n",
    "HL_groups = class_groups.loc[class_groups['HL'] == False]\n",
    "print(len(class_groups), len(HL_groups))"
   ]
  },
  {
   "cell_type": "code",
   "execution_count": 95,
   "metadata": {},
   "outputs": [
    {
     "output_type": "execute_result",
     "data": {
      "text/plain": "     Header class seq_class  N_member RA_request arrange     HL\n162     295     3         0     30000        NaN     NaN  False\n163     312     3         1     30000        NaN     NaN  False\n164     313     3         2     30000        NaN     NaN   True\n165     317     3         3     30000        NaN     NaN   True\n166   14070     3         4     30000        NaN     NaN  False\n167     323     3         5     30000        NaN     NaN  False\n168     431     3         6     30000        NaN     NaN   True\n169     553     3         7     30000        NaN     NaN  False\n170     327     3         8     30000        NaN     NaN  False\n171     832     3         9     30000        NaN     NaN   True\n172    2455     3        10     30000        NaN     NaN  False\n173     383     3        11     30000        NaN     NaN   True\n174     349     3        12     30000        NaN     NaN   True\n175     600     3        13     30000        NaN     NaN   True\n176     353     3        14     30000        NaN     NaN   True\n177     356     3        15     30000        NaN     NaN  False\n178     996     3        16     30000        NaN     NaN  False\n179    4350     3        17     30000        NaN     NaN  False\n180     375     3        18     30000        NaN     NaN   True\n181     376     3        19     30000        NaN     NaN   True\n182     870     3        20     30000        NaN     NaN  False\n183     736     3        21     30000        NaN     NaN  False\n184     422     3        22     30000        NaN     NaN   True\n185    1602     3        23     30000        NaN     NaN  False\n186    1088     3        24     30000        NaN     NaN   True\n187    2476     3        25     30000        NaN     NaN  False\n188    5902     3        26     30000        NaN     NaN  False\n189     454     3        27     30000        NaN     NaN  False\n190    4819     3        28     30000        NaN     NaN   True\n191     462     3        29     30000        NaN     NaN   True\n192    5862     3        30     30000        NaN     NaN   True\n193     472     3        31     30000        NaN     NaN   True\n194    2863     3        32     30000        NaN     NaN   True\n195     487     3        33     30000        NaN     NaN   True\n196    2662     3        34     30000        NaN     NaN   True\n197    4585     3        35     30000        NaN     NaN   True\n198    1524     3        36     30000        NaN     NaN   True\n199   11624     3        37     30000        NaN     NaN  False\n200     540     3        38     30000        NaN     NaN   True\n201    4577     3        39     30000        NaN     NaN  False\n202    1476     3        40     30000        NaN     NaN   True\n203    7742     3        41     30000        NaN     NaN   True\n204    7811     3        42     30000        NaN     NaN   True\n205     579     3        43     30000        NaN     NaN  False\n206    1305     3        44     30000        NaN     NaN   True\n207    2798     3        45     30000        NaN     NaN   True\n208     637     3        46     30000        NaN     NaN  False\n209     741     3        47     30000        NaN     NaN   True\n210     783     3        48     30000        NaN     NaN  False\n211    8188     3        49     30000        NaN     NaN  False\n212   10106     3        50     30000        NaN     NaN  False\n213     963     3        51     30000        NaN     NaN   True\n214    1004     3        52     30000        NaN     NaN  False\n215    1056     3        53     30000        NaN     NaN  False",
      "text/html": "<div>\n<style scoped>\n    .dataframe tbody tr th:only-of-type {\n        vertical-align: middle;\n    }\n\n    .dataframe tbody tr th {\n        vertical-align: top;\n    }\n\n    .dataframe thead th {\n        text-align: right;\n    }\n</style>\n<table border=\"1\" class=\"dataframe\">\n  <thead>\n    <tr style=\"text-align: right;\">\n      <th></th>\n      <th>Header</th>\n      <th>class</th>\n      <th>seq_class</th>\n      <th>N_member</th>\n      <th>RA_request</th>\n      <th>arrange</th>\n      <th>HL</th>\n    </tr>\n  </thead>\n  <tbody>\n    <tr>\n      <th>162</th>\n      <td>295</td>\n      <td>3</td>\n      <td>0</td>\n      <td>30000</td>\n      <td>NaN</td>\n      <td>NaN</td>\n      <td>False</td>\n    </tr>\n    <tr>\n      <th>163</th>\n      <td>312</td>\n      <td>3</td>\n      <td>1</td>\n      <td>30000</td>\n      <td>NaN</td>\n      <td>NaN</td>\n      <td>False</td>\n    </tr>\n    <tr>\n      <th>164</th>\n      <td>313</td>\n      <td>3</td>\n      <td>2</td>\n      <td>30000</td>\n      <td>NaN</td>\n      <td>NaN</td>\n      <td>True</td>\n    </tr>\n    <tr>\n      <th>165</th>\n      <td>317</td>\n      <td>3</td>\n      <td>3</td>\n      <td>30000</td>\n      <td>NaN</td>\n      <td>NaN</td>\n      <td>True</td>\n    </tr>\n    <tr>\n      <th>166</th>\n      <td>14070</td>\n      <td>3</td>\n      <td>4</td>\n      <td>30000</td>\n      <td>NaN</td>\n      <td>NaN</td>\n      <td>False</td>\n    </tr>\n    <tr>\n      <th>167</th>\n      <td>323</td>\n      <td>3</td>\n      <td>5</td>\n      <td>30000</td>\n      <td>NaN</td>\n      <td>NaN</td>\n      <td>False</td>\n    </tr>\n    <tr>\n      <th>168</th>\n      <td>431</td>\n      <td>3</td>\n      <td>6</td>\n      <td>30000</td>\n      <td>NaN</td>\n      <td>NaN</td>\n      <td>True</td>\n    </tr>\n    <tr>\n      <th>169</th>\n      <td>553</td>\n      <td>3</td>\n      <td>7</td>\n      <td>30000</td>\n      <td>NaN</td>\n      <td>NaN</td>\n      <td>False</td>\n    </tr>\n    <tr>\n      <th>170</th>\n      <td>327</td>\n      <td>3</td>\n      <td>8</td>\n      <td>30000</td>\n      <td>NaN</td>\n      <td>NaN</td>\n      <td>False</td>\n    </tr>\n    <tr>\n      <th>171</th>\n      <td>832</td>\n      <td>3</td>\n      <td>9</td>\n      <td>30000</td>\n      <td>NaN</td>\n      <td>NaN</td>\n      <td>True</td>\n    </tr>\n    <tr>\n      <th>172</th>\n      <td>2455</td>\n      <td>3</td>\n      <td>10</td>\n      <td>30000</td>\n      <td>NaN</td>\n      <td>NaN</td>\n      <td>False</td>\n    </tr>\n    <tr>\n      <th>173</th>\n      <td>383</td>\n      <td>3</td>\n      <td>11</td>\n      <td>30000</td>\n      <td>NaN</td>\n      <td>NaN</td>\n      <td>True</td>\n    </tr>\n    <tr>\n      <th>174</th>\n      <td>349</td>\n      <td>3</td>\n      <td>12</td>\n      <td>30000</td>\n      <td>NaN</td>\n      <td>NaN</td>\n      <td>True</td>\n    </tr>\n    <tr>\n      <th>175</th>\n      <td>600</td>\n      <td>3</td>\n      <td>13</td>\n      <td>30000</td>\n      <td>NaN</td>\n      <td>NaN</td>\n      <td>True</td>\n    </tr>\n    <tr>\n      <th>176</th>\n      <td>353</td>\n      <td>3</td>\n      <td>14</td>\n      <td>30000</td>\n      <td>NaN</td>\n      <td>NaN</td>\n      <td>True</td>\n    </tr>\n    <tr>\n      <th>177</th>\n      <td>356</td>\n      <td>3</td>\n      <td>15</td>\n      <td>30000</td>\n      <td>NaN</td>\n      <td>NaN</td>\n      <td>False</td>\n    </tr>\n    <tr>\n      <th>178</th>\n      <td>996</td>\n      <td>3</td>\n      <td>16</td>\n      <td>30000</td>\n      <td>NaN</td>\n      <td>NaN</td>\n      <td>False</td>\n    </tr>\n    <tr>\n      <th>179</th>\n      <td>4350</td>\n      <td>3</td>\n      <td>17</td>\n      <td>30000</td>\n      <td>NaN</td>\n      <td>NaN</td>\n      <td>False</td>\n    </tr>\n    <tr>\n      <th>180</th>\n      <td>375</td>\n      <td>3</td>\n      <td>18</td>\n      <td>30000</td>\n      <td>NaN</td>\n      <td>NaN</td>\n      <td>True</td>\n    </tr>\n    <tr>\n      <th>181</th>\n      <td>376</td>\n      <td>3</td>\n      <td>19</td>\n      <td>30000</td>\n      <td>NaN</td>\n      <td>NaN</td>\n      <td>True</td>\n    </tr>\n    <tr>\n      <th>182</th>\n      <td>870</td>\n      <td>3</td>\n      <td>20</td>\n      <td>30000</td>\n      <td>NaN</td>\n      <td>NaN</td>\n      <td>False</td>\n    </tr>\n    <tr>\n      <th>183</th>\n      <td>736</td>\n      <td>3</td>\n      <td>21</td>\n      <td>30000</td>\n      <td>NaN</td>\n      <td>NaN</td>\n      <td>False</td>\n    </tr>\n    <tr>\n      <th>184</th>\n      <td>422</td>\n      <td>3</td>\n      <td>22</td>\n      <td>30000</td>\n      <td>NaN</td>\n      <td>NaN</td>\n      <td>True</td>\n    </tr>\n    <tr>\n      <th>185</th>\n      <td>1602</td>\n      <td>3</td>\n      <td>23</td>\n      <td>30000</td>\n      <td>NaN</td>\n      <td>NaN</td>\n      <td>False</td>\n    </tr>\n    <tr>\n      <th>186</th>\n      <td>1088</td>\n      <td>3</td>\n      <td>24</td>\n      <td>30000</td>\n      <td>NaN</td>\n      <td>NaN</td>\n      <td>True</td>\n    </tr>\n    <tr>\n      <th>187</th>\n      <td>2476</td>\n      <td>3</td>\n      <td>25</td>\n      <td>30000</td>\n      <td>NaN</td>\n      <td>NaN</td>\n      <td>False</td>\n    </tr>\n    <tr>\n      <th>188</th>\n      <td>5902</td>\n      <td>3</td>\n      <td>26</td>\n      <td>30000</td>\n      <td>NaN</td>\n      <td>NaN</td>\n      <td>False</td>\n    </tr>\n    <tr>\n      <th>189</th>\n      <td>454</td>\n      <td>3</td>\n      <td>27</td>\n      <td>30000</td>\n      <td>NaN</td>\n      <td>NaN</td>\n      <td>False</td>\n    </tr>\n    <tr>\n      <th>190</th>\n      <td>4819</td>\n      <td>3</td>\n      <td>28</td>\n      <td>30000</td>\n      <td>NaN</td>\n      <td>NaN</td>\n      <td>True</td>\n    </tr>\n    <tr>\n      <th>191</th>\n      <td>462</td>\n      <td>3</td>\n      <td>29</td>\n      <td>30000</td>\n      <td>NaN</td>\n      <td>NaN</td>\n      <td>True</td>\n    </tr>\n    <tr>\n      <th>192</th>\n      <td>5862</td>\n      <td>3</td>\n      <td>30</td>\n      <td>30000</td>\n      <td>NaN</td>\n      <td>NaN</td>\n      <td>True</td>\n    </tr>\n    <tr>\n      <th>193</th>\n      <td>472</td>\n      <td>3</td>\n      <td>31</td>\n      <td>30000</td>\n      <td>NaN</td>\n      <td>NaN</td>\n      <td>True</td>\n    </tr>\n    <tr>\n      <th>194</th>\n      <td>2863</td>\n      <td>3</td>\n      <td>32</td>\n      <td>30000</td>\n      <td>NaN</td>\n      <td>NaN</td>\n      <td>True</td>\n    </tr>\n    <tr>\n      <th>195</th>\n      <td>487</td>\n      <td>3</td>\n      <td>33</td>\n      <td>30000</td>\n      <td>NaN</td>\n      <td>NaN</td>\n      <td>True</td>\n    </tr>\n    <tr>\n      <th>196</th>\n      <td>2662</td>\n      <td>3</td>\n      <td>34</td>\n      <td>30000</td>\n      <td>NaN</td>\n      <td>NaN</td>\n      <td>True</td>\n    </tr>\n    <tr>\n      <th>197</th>\n      <td>4585</td>\n      <td>3</td>\n      <td>35</td>\n      <td>30000</td>\n      <td>NaN</td>\n      <td>NaN</td>\n      <td>True</td>\n    </tr>\n    <tr>\n      <th>198</th>\n      <td>1524</td>\n      <td>3</td>\n      <td>36</td>\n      <td>30000</td>\n      <td>NaN</td>\n      <td>NaN</td>\n      <td>True</td>\n    </tr>\n    <tr>\n      <th>199</th>\n      <td>11624</td>\n      <td>3</td>\n      <td>37</td>\n      <td>30000</td>\n      <td>NaN</td>\n      <td>NaN</td>\n      <td>False</td>\n    </tr>\n    <tr>\n      <th>200</th>\n      <td>540</td>\n      <td>3</td>\n      <td>38</td>\n      <td>30000</td>\n      <td>NaN</td>\n      <td>NaN</td>\n      <td>True</td>\n    </tr>\n    <tr>\n      <th>201</th>\n      <td>4577</td>\n      <td>3</td>\n      <td>39</td>\n      <td>30000</td>\n      <td>NaN</td>\n      <td>NaN</td>\n      <td>False</td>\n    </tr>\n    <tr>\n      <th>202</th>\n      <td>1476</td>\n      <td>3</td>\n      <td>40</td>\n      <td>30000</td>\n      <td>NaN</td>\n      <td>NaN</td>\n      <td>True</td>\n    </tr>\n    <tr>\n      <th>203</th>\n      <td>7742</td>\n      <td>3</td>\n      <td>41</td>\n      <td>30000</td>\n      <td>NaN</td>\n      <td>NaN</td>\n      <td>True</td>\n    </tr>\n    <tr>\n      <th>204</th>\n      <td>7811</td>\n      <td>3</td>\n      <td>42</td>\n      <td>30000</td>\n      <td>NaN</td>\n      <td>NaN</td>\n      <td>True</td>\n    </tr>\n    <tr>\n      <th>205</th>\n      <td>579</td>\n      <td>3</td>\n      <td>43</td>\n      <td>30000</td>\n      <td>NaN</td>\n      <td>NaN</td>\n      <td>False</td>\n    </tr>\n    <tr>\n      <th>206</th>\n      <td>1305</td>\n      <td>3</td>\n      <td>44</td>\n      <td>30000</td>\n      <td>NaN</td>\n      <td>NaN</td>\n      <td>True</td>\n    </tr>\n    <tr>\n      <th>207</th>\n      <td>2798</td>\n      <td>3</td>\n      <td>45</td>\n      <td>30000</td>\n      <td>NaN</td>\n      <td>NaN</td>\n      <td>True</td>\n    </tr>\n    <tr>\n      <th>208</th>\n      <td>637</td>\n      <td>3</td>\n      <td>46</td>\n      <td>30000</td>\n      <td>NaN</td>\n      <td>NaN</td>\n      <td>False</td>\n    </tr>\n    <tr>\n      <th>209</th>\n      <td>741</td>\n      <td>3</td>\n      <td>47</td>\n      <td>30000</td>\n      <td>NaN</td>\n      <td>NaN</td>\n      <td>True</td>\n    </tr>\n    <tr>\n      <th>210</th>\n      <td>783</td>\n      <td>3</td>\n      <td>48</td>\n      <td>30000</td>\n      <td>NaN</td>\n      <td>NaN</td>\n      <td>False</td>\n    </tr>\n    <tr>\n      <th>211</th>\n      <td>8188</td>\n      <td>3</td>\n      <td>49</td>\n      <td>30000</td>\n      <td>NaN</td>\n      <td>NaN</td>\n      <td>False</td>\n    </tr>\n    <tr>\n      <th>212</th>\n      <td>10106</td>\n      <td>3</td>\n      <td>50</td>\n      <td>30000</td>\n      <td>NaN</td>\n      <td>NaN</td>\n      <td>False</td>\n    </tr>\n    <tr>\n      <th>213</th>\n      <td>963</td>\n      <td>3</td>\n      <td>51</td>\n      <td>30000</td>\n      <td>NaN</td>\n      <td>NaN</td>\n      <td>True</td>\n    </tr>\n    <tr>\n      <th>214</th>\n      <td>1004</td>\n      <td>3</td>\n      <td>52</td>\n      <td>30000</td>\n      <td>NaN</td>\n      <td>NaN</td>\n      <td>False</td>\n    </tr>\n    <tr>\n      <th>215</th>\n      <td>1056</td>\n      <td>3</td>\n      <td>53</td>\n      <td>30000</td>\n      <td>NaN</td>\n      <td>NaN</td>\n      <td>False</td>\n    </tr>\n  </tbody>\n</table>\n</div>"
     },
     "metadata": {},
     "execution_count": 95
    }
   ],
   "source": [
    "class_groups"
   ]
  },
  {
   "cell_type": "code",
   "execution_count": 97,
   "metadata": {},
   "outputs": [
    {
     "output_type": "execute_result",
     "data": {
      "text/plain": "162      295\n163      312\n164      313\n165      317\n166    14070\n167      323\n168      431\n169      553\n170      327\n171      832\n172     2455\n173      383\n174      349\n175      600\n176      353\n177      356\n178      996\n179     4350\n180      375\n181      376\n182      870\n183      736\n184      422\n185     1602\n186     1088\n187     2476\n188     5902\n189      454\n190     4819\n191      462\n192     5862\n193      472\n194     2863\n195      487\n196     2662\n197     4585\n198     1524\n199    11624\n200      540\n201     4577\n202     1476\n203     7742\n204     7811\n205      579\n206     1305\n207     2798\n208      637\n209      741\n210      783\n211     8188\n212    10106\n213      963\n214     1004\n215     1056\nName: Header, dtype: int64"
     },
     "metadata": {},
     "execution_count": 97
    }
   ],
   "source": [
    "class_groups['Header']"
   ]
  },
  {
   "cell_type": "code",
   "execution_count": 99,
   "metadata": {},
   "outputs": [],
   "source": [
    "N_PRB_arrange = 20"
   ]
  },
  {
   "cell_type": "code",
   "execution_count": 102,
   "metadata": {},
   "outputs": [],
   "source": [
    "D2D_member = pd.DataFrame(\n",
    "    columns=['Header', 'Member', 'arrange', 'request', 'response', 'success', 'transmit'],\n",
    ")\n",
    "\n",
    "# assign group\n",
    "D2D_member['Header'] = MTCD_data['clusters']\n",
    "\n",
    "# assign type\n",
    "D2D_member['Member'] = (D2D_member.index != D2D_member['Header'])\n",
    "\n",
    "# assign arrange\n",
    "for header in D2D_member['Header'].unique():\n",
    "    members = D2D_member.loc[(D2D_member['Header'] == header) &\n",
    "                             (D2D_member['Member'])]\n",
    "    n = 0\n",
    "    for device_id in members.index:\n",
    "        D2D_member.at[device_id, 'arrange'] = n // N_PRB_arrange\n",
    "        n += 1\n",
    "\n",
    "# initialize request\n",
    "D2D_member['request'] = np.zeros(nMTCD, dtype=bool)\n",
    "\n",
    "# initialize response\n",
    "D2D_member['response'] = np.zeros(nMTCD, dtype=bool)\n",
    "\n",
    "# initialize success = -1\n",
    "D2D_member['success'] = np.full(nMTCD, -1)\n",
    "\n",
    "# initialize transmit\n",
    "D2D_member['transmit'] = np.zeros(nMTCD, dtype=int)"
   ]
  },
  {
   "cell_type": "code",
   "execution_count": 109,
   "metadata": {},
   "outputs": [
    {
     "output_type": "execute_result",
     "data": {
      "text/plain": "           Header  Member arrange  request  response  success  transmit\ndevice_id                                                              \n13252        3260    True       2     True     False       -1         0\n17900        2455    True       3    False      True       -1         1\n29612         143    True       9     True      True       -1         1\n18450         162    True       4    False      True       -1         7\n14779         431    True       3     True      True       -1         9\n8584          162    True       2     True     False       -1         9\n13277          64    True       1    False      True       -1        10\n20715          46    True       5    False     False       -1         5\n25454         268    True       5    False      True       -1        17\n27826          24    True       7    False      True       -1         0",
      "text/html": "<div>\n<style scoped>\n    .dataframe tbody tr th:only-of-type {\n        vertical-align: middle;\n    }\n\n    .dataframe tbody tr th {\n        vertical-align: top;\n    }\n\n    .dataframe thead th {\n        text-align: right;\n    }\n</style>\n<table border=\"1\" class=\"dataframe\">\n  <thead>\n    <tr style=\"text-align: right;\">\n      <th></th>\n      <th>Header</th>\n      <th>Member</th>\n      <th>arrange</th>\n      <th>request</th>\n      <th>response</th>\n      <th>success</th>\n      <th>transmit</th>\n    </tr>\n    <tr>\n      <th>device_id</th>\n      <th></th>\n      <th></th>\n      <th></th>\n      <th></th>\n      <th></th>\n      <th></th>\n      <th></th>\n    </tr>\n  </thead>\n  <tbody>\n    <tr>\n      <th>13252</th>\n      <td>3260</td>\n      <td>True</td>\n      <td>2</td>\n      <td>True</td>\n      <td>False</td>\n      <td>-1</td>\n      <td>0</td>\n    </tr>\n    <tr>\n      <th>17900</th>\n      <td>2455</td>\n      <td>True</td>\n      <td>3</td>\n      <td>False</td>\n      <td>True</td>\n      <td>-1</td>\n      <td>1</td>\n    </tr>\n    <tr>\n      <th>29612</th>\n      <td>143</td>\n      <td>True</td>\n      <td>9</td>\n      <td>True</td>\n      <td>True</td>\n      <td>-1</td>\n      <td>1</td>\n    </tr>\n    <tr>\n      <th>18450</th>\n      <td>162</td>\n      <td>True</td>\n      <td>4</td>\n      <td>False</td>\n      <td>True</td>\n      <td>-1</td>\n      <td>7</td>\n    </tr>\n    <tr>\n      <th>14779</th>\n      <td>431</td>\n      <td>True</td>\n      <td>3</td>\n      <td>True</td>\n      <td>True</td>\n      <td>-1</td>\n      <td>9</td>\n    </tr>\n    <tr>\n      <th>8584</th>\n      <td>162</td>\n      <td>True</td>\n      <td>2</td>\n      <td>True</td>\n      <td>False</td>\n      <td>-1</td>\n      <td>9</td>\n    </tr>\n    <tr>\n      <th>13277</th>\n      <td>64</td>\n      <td>True</td>\n      <td>1</td>\n      <td>False</td>\n      <td>True</td>\n      <td>-1</td>\n      <td>10</td>\n    </tr>\n    <tr>\n      <th>20715</th>\n      <td>46</td>\n      <td>True</td>\n      <td>5</td>\n      <td>False</td>\n      <td>False</td>\n      <td>-1</td>\n      <td>5</td>\n    </tr>\n    <tr>\n      <th>25454</th>\n      <td>268</td>\n      <td>True</td>\n      <td>5</td>\n      <td>False</td>\n      <td>True</td>\n      <td>-1</td>\n      <td>17</td>\n    </tr>\n    <tr>\n      <th>27826</th>\n      <td>24</td>\n      <td>True</td>\n      <td>7</td>\n      <td>False</td>\n      <td>True</td>\n      <td>-1</td>\n      <td>0</td>\n    </tr>\n  </tbody>\n</table>\n</div>"
     },
     "metadata": {},
     "execution_count": 109
    }
   ],
   "source": [
    "# test dummy data\n",
    "D2D_member['request'] = np.random.choice(a=[False, True], size=len(D2D_member))\n",
    "D2D_member['response'] = np.random.choice(a=[False, True], size=len(D2D_member))\n",
    "D2D_member['transmit'] = np.random.uniform(low=0,high=20,size=nMTCD).astype(int)\n",
    "D2D_member.sample(10)"
   ]
  },
  {
   "cell_type": "code",
   "execution_count": 110,
   "metadata": {},
   "outputs": [
    {
     "output_type": "execute_result",
     "data": {
      "text/plain": "           Header  Member arrange  request  response  success  transmit\ndevice_id                                                              \n0               0   False     NaN    False      True       -1        11\n100             0    True       0     True      True       -1        10\n186             0    True       0     True      True       -1         0\n212             0    True       0     True      True       -1         9\n307             0    True       0    False      True       -1         3\n...           ...     ...     ...      ...       ...      ...       ...\n26797           0    True       6     True      True       -1         5\n27115           0    True       7    False      True       -1         1\n27863           0    True       7    False      True       -1         6\n28735           0    True       7     True      True       -1         5\n29185           0    True       7     True      True       -1         7\n\n[84 rows x 7 columns]",
      "text/html": "<div>\n<style scoped>\n    .dataframe tbody tr th:only-of-type {\n        vertical-align: middle;\n    }\n\n    .dataframe tbody tr th {\n        vertical-align: top;\n    }\n\n    .dataframe thead th {\n        text-align: right;\n    }\n</style>\n<table border=\"1\" class=\"dataframe\">\n  <thead>\n    <tr style=\"text-align: right;\">\n      <th></th>\n      <th>Header</th>\n      <th>Member</th>\n      <th>arrange</th>\n      <th>request</th>\n      <th>response</th>\n      <th>success</th>\n      <th>transmit</th>\n    </tr>\n    <tr>\n      <th>device_id</th>\n      <th></th>\n      <th></th>\n      <th></th>\n      <th></th>\n      <th></th>\n      <th></th>\n      <th></th>\n    </tr>\n  </thead>\n  <tbody>\n    <tr>\n      <th>0</th>\n      <td>0</td>\n      <td>False</td>\n      <td>NaN</td>\n      <td>False</td>\n      <td>True</td>\n      <td>-1</td>\n      <td>11</td>\n    </tr>\n    <tr>\n      <th>100</th>\n      <td>0</td>\n      <td>True</td>\n      <td>0</td>\n      <td>True</td>\n      <td>True</td>\n      <td>-1</td>\n      <td>10</td>\n    </tr>\n    <tr>\n      <th>186</th>\n      <td>0</td>\n      <td>True</td>\n      <td>0</td>\n      <td>True</td>\n      <td>True</td>\n      <td>-1</td>\n      <td>0</td>\n    </tr>\n    <tr>\n      <th>212</th>\n      <td>0</td>\n      <td>True</td>\n      <td>0</td>\n      <td>True</td>\n      <td>True</td>\n      <td>-1</td>\n      <td>9</td>\n    </tr>\n    <tr>\n      <th>307</th>\n      <td>0</td>\n      <td>True</td>\n      <td>0</td>\n      <td>False</td>\n      <td>True</td>\n      <td>-1</td>\n      <td>3</td>\n    </tr>\n    <tr>\n      <th>...</th>\n      <td>...</td>\n      <td>...</td>\n      <td>...</td>\n      <td>...</td>\n      <td>...</td>\n      <td>...</td>\n      <td>...</td>\n    </tr>\n    <tr>\n      <th>26797</th>\n      <td>0</td>\n      <td>True</td>\n      <td>6</td>\n      <td>True</td>\n      <td>True</td>\n      <td>-1</td>\n      <td>5</td>\n    </tr>\n    <tr>\n      <th>27115</th>\n      <td>0</td>\n      <td>True</td>\n      <td>7</td>\n      <td>False</td>\n      <td>True</td>\n      <td>-1</td>\n      <td>1</td>\n    </tr>\n    <tr>\n      <th>27863</th>\n      <td>0</td>\n      <td>True</td>\n      <td>7</td>\n      <td>False</td>\n      <td>True</td>\n      <td>-1</td>\n      <td>6</td>\n    </tr>\n    <tr>\n      <th>28735</th>\n      <td>0</td>\n      <td>True</td>\n      <td>7</td>\n      <td>True</td>\n      <td>True</td>\n      <td>-1</td>\n      <td>5</td>\n    </tr>\n    <tr>\n      <th>29185</th>\n      <td>0</td>\n      <td>True</td>\n      <td>7</td>\n      <td>True</td>\n      <td>True</td>\n      <td>-1</td>\n      <td>7</td>\n    </tr>\n  </tbody>\n</table>\n<p>84 rows × 7 columns</p>\n</div>"
     },
     "metadata": {},
     "execution_count": 110
    }
   ],
   "source": [
    "valid_group_members = D2D_member.loc[(D2D_member['Header'] == 0) & (D2D_member['response'])]\n",
    "valid_group_members"
   ]
  },
  {
   "cell_type": "code",
   "execution_count": 117,
   "metadata": {},
   "outputs": [
    {
     "output_type": "execute_result",
     "data": {
      "text/plain": "4109"
     },
     "metadata": {},
     "execution_count": 117
    }
   ],
   "source": []
  },
  {
   "cell_type": "code",
   "execution_count": 123,
   "metadata": {},
   "outputs": [],
   "source": [
    "device_id = valid_group_members['transmit'].idxmax()\n",
    "valid_group_members = valid_group_members.drop(device_id)"
   ]
  },
  {
   "cell_type": "code",
   "execution_count": 124,
   "metadata": {},
   "outputs": [
    {
     "output_type": "execute_result",
     "data": {
      "text/plain": "Header          0\nMember       True\narrange         1\nrequest     False\nresponse     True\nsuccess        -1\ntransmit       19\nName: 6419, dtype: object"
     },
     "metadata": {},
     "execution_count": 124
    }
   ],
   "source": [
    "device_id = valid_group_members['transmit'].idxmax()\n",
    "valid_group_members.loc[device_id]\n"
   ]
  },
  {
   "cell_type": "code",
   "execution_count": 130,
   "metadata": {},
   "outputs": [],
   "source": [
    "D2D_member.at[30001, 'transmit'] = 5"
   ]
  },
  {
   "cell_type": "code",
   "execution_count": 131,
   "metadata": {},
   "outputs": [
    {
     "output_type": "execute_result",
     "data": {
      "text/plain": "           Header Member arrange request response  success  transmit\ndevice_id                                                           \n0             0.0  False     NaN   False     True     -1.0      11.0\n1             1.0  False     NaN    True     True     -1.0      14.0\n2             2.0  False     NaN    True    False     -1.0      18.0\n3             3.0  False     NaN   False    False     -1.0      15.0\n4             4.0  False     NaN    True     True     -1.0      16.0\n...           ...    ...     ...     ...      ...      ...       ...\n29996      1305.0   True       6    True     True     -1.0       8.0\n29997       138.0   True       8   False    False     -1.0      15.0\n29998       227.0   True       3   False    False     -1.0       8.0\n29999         2.0   True       8    True    False     -1.0       5.0\n30001         NaN    NaN     NaN     NaN      NaN      NaN       5.0\n\n[30001 rows x 7 columns]",
      "text/html": "<div>\n<style scoped>\n    .dataframe tbody tr th:only-of-type {\n        vertical-align: middle;\n    }\n\n    .dataframe tbody tr th {\n        vertical-align: top;\n    }\n\n    .dataframe thead th {\n        text-align: right;\n    }\n</style>\n<table border=\"1\" class=\"dataframe\">\n  <thead>\n    <tr style=\"text-align: right;\">\n      <th></th>\n      <th>Header</th>\n      <th>Member</th>\n      <th>arrange</th>\n      <th>request</th>\n      <th>response</th>\n      <th>success</th>\n      <th>transmit</th>\n    </tr>\n    <tr>\n      <th>device_id</th>\n      <th></th>\n      <th></th>\n      <th></th>\n      <th></th>\n      <th></th>\n      <th></th>\n      <th></th>\n    </tr>\n  </thead>\n  <tbody>\n    <tr>\n      <th>0</th>\n      <td>0.0</td>\n      <td>False</td>\n      <td>NaN</td>\n      <td>False</td>\n      <td>True</td>\n      <td>-1.0</td>\n      <td>11.0</td>\n    </tr>\n    <tr>\n      <th>1</th>\n      <td>1.0</td>\n      <td>False</td>\n      <td>NaN</td>\n      <td>True</td>\n      <td>True</td>\n      <td>-1.0</td>\n      <td>14.0</td>\n    </tr>\n    <tr>\n      <th>2</th>\n      <td>2.0</td>\n      <td>False</td>\n      <td>NaN</td>\n      <td>True</td>\n      <td>False</td>\n      <td>-1.0</td>\n      <td>18.0</td>\n    </tr>\n    <tr>\n      <th>3</th>\n      <td>3.0</td>\n      <td>False</td>\n      <td>NaN</td>\n      <td>False</td>\n      <td>False</td>\n      <td>-1.0</td>\n      <td>15.0</td>\n    </tr>\n    <tr>\n      <th>4</th>\n      <td>4.0</td>\n      <td>False</td>\n      <td>NaN</td>\n      <td>True</td>\n      <td>True</td>\n      <td>-1.0</td>\n      <td>16.0</td>\n    </tr>\n    <tr>\n      <th>...</th>\n      <td>...</td>\n      <td>...</td>\n      <td>...</td>\n      <td>...</td>\n      <td>...</td>\n      <td>...</td>\n      <td>...</td>\n    </tr>\n    <tr>\n      <th>29996</th>\n      <td>1305.0</td>\n      <td>True</td>\n      <td>6</td>\n      <td>True</td>\n      <td>True</td>\n      <td>-1.0</td>\n      <td>8.0</td>\n    </tr>\n    <tr>\n      <th>29997</th>\n      <td>138.0</td>\n      <td>True</td>\n      <td>8</td>\n      <td>False</td>\n      <td>False</td>\n      <td>-1.0</td>\n      <td>15.0</td>\n    </tr>\n    <tr>\n      <th>29998</th>\n      <td>227.0</td>\n      <td>True</td>\n      <td>3</td>\n      <td>False</td>\n      <td>False</td>\n      <td>-1.0</td>\n      <td>8.0</td>\n    </tr>\n    <tr>\n      <th>29999</th>\n      <td>2.0</td>\n      <td>True</td>\n      <td>8</td>\n      <td>True</td>\n      <td>False</td>\n      <td>-1.0</td>\n      <td>5.0</td>\n    </tr>\n    <tr>\n      <th>30001</th>\n      <td>NaN</td>\n      <td>NaN</td>\n      <td>NaN</td>\n      <td>NaN</td>\n      <td>NaN</td>\n      <td>NaN</td>\n      <td>5.0</td>\n    </tr>\n  </tbody>\n</table>\n<p>30001 rows × 7 columns</p>\n</div>"
     },
     "metadata": {},
     "execution_count": 131
    }
   ],
   "source": [
    "D2D_member"
   ]
  },
  {
   "cell_type": "code",
   "execution_count": 133,
   "metadata": {},
   "outputs": [
    {
     "output_type": "execute_result",
     "data": {
      "text/plain": "True"
     },
     "metadata": {},
     "execution_count": 133
    }
   ],
   "source": [
    "2 in [0,1,1,2,1]"
   ]
  }
 ],
 "metadata": {
  "language_info": {
   "codemirror_mode": {
    "name": "ipython",
    "version": 3
   },
   "file_extension": ".py",
   "mimetype": "text/x-python",
   "name": "python",
   "nbconvert_exporter": "python",
   "pygments_lexer": "ipython3",
   "version": "3.8.0-final"
  },
  "orig_nbformat": 2,
  "kernelspec": {
   "name": "python38064bittdcrpipenvd4536cd5b7e04db888643b26fe3148af",
   "display_name": "Python 3.8.0 64-bit ('TDCR': pipenv)"
  }
 },
 "nbformat": 4,
 "nbformat_minor": 2
}