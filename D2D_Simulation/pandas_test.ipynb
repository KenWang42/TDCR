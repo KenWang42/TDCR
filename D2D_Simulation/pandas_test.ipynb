{
 "cells": [
  {
   "cell_type": "code",
   "execution_count": 1,
   "metadata": {},
   "outputs": [],
   "source": [
    "import pandas as pd\n",
    "import numpy as np\n",
    "import random\n",
    "import os\n",
    "import time\n",
    "\n",
    "start_time = time.time()\n",
    "\n",
    "path = os.path.abspath('.')\n",
    "\n",
    "simRAO = 1000\n",
    "\n",
    "nMTCD = 10000\n",
    "\n",
    "nMTCD_success = 0  # total number of device that transmit success\n",
    "\n",
    "nMTCD_fail = 0  # total number of device that transmit failed\n",
    "\n",
    "Backoff = 2  # Backoff Indicator = 20ms\n",
    "\n",
    "maxTrans = 10  # Maximum number of preamble transmission\n",
    "\n",
    "N_PRB = 25  # Number of Sidelink Physical Resource Block\n",
    "\n",
    "N_PRB_arrange = 20  # the number of arranged PRB\n",
    "\n",
    "N_preamble = 54  # Number of PRACH Preamble\n",
    "\n",
    "file_path = path + f'/MTCD_data_{nMTCD}.csv'\n",
    "MTCD_data = pd.read_csv(file_path, index_col=False)\n",
    "\n",
    "\"\"\"\n",
    "RA_data\n",
    "    records RA parameter and simulation result of every device\n",
    "    the parameters required in enB <-> device communication\n",
    "    Index:\n",
    "        device_id\n",
    "    Columns 4:\n",
    "        RA_init:     Integer,\n",
    "                     next frame the device send RA request\n",
    "        RA_success:  Integer,\n",
    "                     frame the device complete RA procedure\n",
    "        RA_transmit: Integer,\n",
    "                     number of the device trying to send RA request\n",
    "\"\"\"\n",
    "RA_data = MTCD_data[['RA_init', 'RA_success', 'RA_transmit']]\n",
    "\n",
    "\"\"\"\n",
    "D2D_member\n",
    "    records D2D parameter of every Member\n",
    "    also records numerical result for every Member\n",
    "    the parametes required in Member -> Header communication\n",
    "    Index:\n",
    "        device_id\n",
    "    Columns 7:\n",
    "        Header:   Integer,\n",
    "                  the Header of belonging D2D group\n",
    "                  also indicate the group Header's device_id\n",
    "        Member:   Boolen,\n",
    "                  whether the device is a Member\n",
    "        arrange:  Integer,\n",
    "                  indicate the beloneing arrange sequence\n",
    "        request:  Boolen,\n",
    "                  whether the Member will send D2D request\n",
    "        response: Boolean,\n",
    "                  whether the device received its Header Response\n",
    "        success:  Integer,\n",
    "                  the frame the device finish D2D transmission (-1: not success yet)\n",
    "        transmit: Integer,\n",
    "                  number of the Member trying to send D2D request\n",
    "\"\"\"\n",
    "D2D_member = pd.DataFrame(\n",
    "    columns=['Header', 'Member', 'arrange',\n",
    "             'request', 'response', 'success', 'transmit'],\n",
    ")\n",
    "\n",
    "# assign group\n",
    "D2D_member['Header'] = MTCD_data['clusters']\n",
    "\n",
    "# assign type\n",
    "D2D_member['Member'] = (D2D_member.index != D2D_member['Header'])\n",
    "\n",
    "# assign arrange\n",
    "for header in D2D_member['Header'].unique():\n",
    "    members = D2D_member.loc[(D2D_member['Header'] == header) &\n",
    "                             (D2D_member['Member'])]\n",
    "    n = 0\n",
    "    for device_id in members.index:\n",
    "        D2D_member.at[device_id, 'arrange'] = n // N_PRB_arrange\n",
    "        n += 1\n",
    "\n",
    "# initialize request\n",
    "D2D_member['request'] = np.zeros(nMTCD, dtype=bool)\n",
    "\n",
    "# initialize response\n",
    "D2D_member['response'] = np.zeros(nMTCD, dtype=bool)\n",
    "\n",
    "# initialize success = -1\n",
    "D2D_member['success'] = np.full(nMTCD, -1)\n",
    "\n",
    "# initialize transmit\n",
    "D2D_member['transmit'] = np.zeros(nMTCD, dtype=int)\n",
    "\n",
    "\"\"\"\n",
    "D2D_group\n",
    "    records D2D parameter of every Header\n",
    "    also records numerical result for every Header\n",
    "    records the parameter required by Header -> Member communication\n",
    "    Index:\n",
    "        default sequence\n",
    "    Columns 5:\n",
    "        Header:     Integer,\n",
    "                    device_id of the group Header\n",
    "        class:      Integer,\n",
    "                    the barring class of the beloneing D2D group\n",
    "        N_member:   Integer,\n",
    "                    the total number of device (member+header) in the group\n",
    "        N_RA:       Integer,\n",
    "                    number of RA_request within the group\n",
    "        arr_seq:    Integer,\n",
    "                    current arrange sequence\n",
    "        arr_max:    Integer,\n",
    "                    maximum arrange number\n",
    "\"\"\"\n",
    "D2D_group = pd.DataFrame(\n",
    "    columns=['Header', 'class',\n",
    "             'N_member', 'N_RA', 'arr_seq', 'arr_max']\n",
    ")\n",
    "\n",
    "# initialize Header\n",
    "D2D_group['Header'] = MTCD_data['clusters'].unique()\n",
    "\n",
    "# assign Class\n",
    "N_group = len(D2D_group)\n",
    "N_class = (N_group // N_preamble) + 1\n",
    "seq = 0\n",
    "for group in range(N_group):\n",
    "    D2D_group.at[group, 'class'] = group // N_preamble\n",
    "\n",
    "# initialize N_member\n",
    "D2D_group['N_member'] = D2D_member.groupby(['Header']).size().values\n",
    "\n",
    "# initialize RA_request\n",
    "D2D_group['N_RA'] = np.zeros(N_group, dtype=int)\n",
    "\n",
    "# initialize current arrange sequence\n",
    "D2D_group['arr_seq'] = np.zeros(N_group, dtype=int)\n",
    "\n",
    "\n",
    "\"\"\"\n",
    "BS_schedule\n",
    "    indicate the broadcast information for SIB2\n",
    "    update every 16 system frame\n",
    "    Do not require initialize\n",
    "    Index:\n",
    "        system_frame\n",
    "    Columns 2:\n",
    "        class: Integer,\n",
    "               the class can initiate RA procedure\n",
    "\"\"\"\n",
    "BS_schedule = pd.DataFrame(\n",
    "    columns=['class'],\n",
    ")\n",
    "\n",
    "# initialize class\n",
    "BS_schedule['class'] = [f % N_class for f in range(simRAO)]"
   ]
  },
  {
   "cell_type": "code",
   "execution_count": 2,
   "metadata": {},
   "outputs": [
    {
     "output_type": "stream",
     "name": "stdout",
     "text": "2.6679999999945636e-05\n"
    }
   ],
   "source": [
    "import time\n",
    "start = time.process_time()\n",
    "# your code here    \n",
    "print(time.process_time() - start)"
   ]
  },
  {
   "cell_type": "code",
   "execution_count": 3,
   "metadata": {},
   "outputs": [
    {
     "output_type": "execute_result",
     "data": {
      "text/plain": "      Header  Member arrange  request  response  success  transmit\n6209     140    True       1     True     False       -1         0\n4103     407    True       0     True     False       -1         0\n546        1    True       0    False     False       -1         0\n1191      80    True       0     True     False       -1         0\n5150       7    True       1    False     False       -1         0",
      "text/html": "<div>\n<style scoped>\n    .dataframe tbody tr th:only-of-type {\n        vertical-align: middle;\n    }\n\n    .dataframe tbody tr th {\n        vertical-align: top;\n    }\n\n    .dataframe thead th {\n        text-align: right;\n    }\n</style>\n<table border=\"1\" class=\"dataframe\">\n  <thead>\n    <tr style=\"text-align: right;\">\n      <th></th>\n      <th>Header</th>\n      <th>Member</th>\n      <th>arrange</th>\n      <th>request</th>\n      <th>response</th>\n      <th>success</th>\n      <th>transmit</th>\n    </tr>\n  </thead>\n  <tbody>\n    <tr>\n      <th>6209</th>\n      <td>140</td>\n      <td>True</td>\n      <td>1</td>\n      <td>True</td>\n      <td>False</td>\n      <td>-1</td>\n      <td>0</td>\n    </tr>\n    <tr>\n      <th>4103</th>\n      <td>407</td>\n      <td>True</td>\n      <td>0</td>\n      <td>True</td>\n      <td>False</td>\n      <td>-1</td>\n      <td>0</td>\n    </tr>\n    <tr>\n      <th>546</th>\n      <td>1</td>\n      <td>True</td>\n      <td>0</td>\n      <td>False</td>\n      <td>False</td>\n      <td>-1</td>\n      <td>0</td>\n    </tr>\n    <tr>\n      <th>1191</th>\n      <td>80</td>\n      <td>True</td>\n      <td>0</td>\n      <td>True</td>\n      <td>False</td>\n      <td>-1</td>\n      <td>0</td>\n    </tr>\n    <tr>\n      <th>5150</th>\n      <td>7</td>\n      <td>True</td>\n      <td>1</td>\n      <td>False</td>\n      <td>False</td>\n      <td>-1</td>\n      <td>0</td>\n    </tr>\n  </tbody>\n</table>\n</div>"
     },
     "metadata": {},
     "execution_count": 3
    }
   ],
   "source": [
    "# dummy data\n",
    "D2D_member['request'] = np.random.choice([True, False], size=nMTCD)\n",
    "D2D_member.sample(5)"
   ]
  },
  {
   "cell_type": "code",
   "execution_count": 4,
   "metadata": {},
   "outputs": [
    {
     "output_type": "stream",
     "name": "stdout",
     "text": "0.0022372360000000313\n"
    },
    {
     "output_type": "execute_result",
     "data": {
      "text/plain": "      Header  Member arrange  request  response  success  transmit\n0          0   False     NaN     True     False       -1         0\n2          2   False     NaN     True     False       -1         0\n3          3   False     NaN     True     False       -1         0\n5          5   False     NaN     True     False       -1         0\n9          9   False     NaN     True     False       -1         0\n...      ...     ...     ...      ...       ...      ...       ...\n9994    4658    True       1     True     False       -1         0\n9995     290    True       2     True     False       -1         0\n9996      36    True       1     True     False       -1         0\n9997     522    True       2     True     False       -1         0\n9999      93    True       2     True     False       -1         0\n\n[4888 rows x 7 columns]",
      "text/html": "<div>\n<style scoped>\n    .dataframe tbody tr th:only-of-type {\n        vertical-align: middle;\n    }\n\n    .dataframe tbody tr th {\n        vertical-align: top;\n    }\n\n    .dataframe thead th {\n        text-align: right;\n    }\n</style>\n<table border=\"1\" class=\"dataframe\">\n  <thead>\n    <tr style=\"text-align: right;\">\n      <th></th>\n      <th>Header</th>\n      <th>Member</th>\n      <th>arrange</th>\n      <th>request</th>\n      <th>response</th>\n      <th>success</th>\n      <th>transmit</th>\n    </tr>\n  </thead>\n  <tbody>\n    <tr>\n      <th>0</th>\n      <td>0</td>\n      <td>False</td>\n      <td>NaN</td>\n      <td>True</td>\n      <td>False</td>\n      <td>-1</td>\n      <td>0</td>\n    </tr>\n    <tr>\n      <th>2</th>\n      <td>2</td>\n      <td>False</td>\n      <td>NaN</td>\n      <td>True</td>\n      <td>False</td>\n      <td>-1</td>\n      <td>0</td>\n    </tr>\n    <tr>\n      <th>3</th>\n      <td>3</td>\n      <td>False</td>\n      <td>NaN</td>\n      <td>True</td>\n      <td>False</td>\n      <td>-1</td>\n      <td>0</td>\n    </tr>\n    <tr>\n      <th>5</th>\n      <td>5</td>\n      <td>False</td>\n      <td>NaN</td>\n      <td>True</td>\n      <td>False</td>\n      <td>-1</td>\n      <td>0</td>\n    </tr>\n    <tr>\n      <th>9</th>\n      <td>9</td>\n      <td>False</td>\n      <td>NaN</td>\n      <td>True</td>\n      <td>False</td>\n      <td>-1</td>\n      <td>0</td>\n    </tr>\n    <tr>\n      <th>...</th>\n      <td>...</td>\n      <td>...</td>\n      <td>...</td>\n      <td>...</td>\n      <td>...</td>\n      <td>...</td>\n      <td>...</td>\n    </tr>\n    <tr>\n      <th>9994</th>\n      <td>4658</td>\n      <td>True</td>\n      <td>1</td>\n      <td>True</td>\n      <td>False</td>\n      <td>-1</td>\n      <td>0</td>\n    </tr>\n    <tr>\n      <th>9995</th>\n      <td>290</td>\n      <td>True</td>\n      <td>2</td>\n      <td>True</td>\n      <td>False</td>\n      <td>-1</td>\n      <td>0</td>\n    </tr>\n    <tr>\n      <th>9996</th>\n      <td>36</td>\n      <td>True</td>\n      <td>1</td>\n      <td>True</td>\n      <td>False</td>\n      <td>-1</td>\n      <td>0</td>\n    </tr>\n    <tr>\n      <th>9997</th>\n      <td>522</td>\n      <td>True</td>\n      <td>2</td>\n      <td>True</td>\n      <td>False</td>\n      <td>-1</td>\n      <td>0</td>\n    </tr>\n    <tr>\n      <th>9999</th>\n      <td>93</td>\n      <td>True</td>\n      <td>2</td>\n      <td>True</td>\n      <td>False</td>\n      <td>-1</td>\n      <td>0</td>\n    </tr>\n  </tbody>\n</table>\n<p>4888 rows × 7 columns</p>\n</div>"
     },
     "metadata": {},
     "execution_count": 4
    }
   ],
   "source": [
    "start = time.process_time()\n",
    "devices_loc = D2D_member.loc[D2D_member['request']]\n",
    "print(time.process_time() - start)\n",
    "devices_loc"
   ]
  },
  {
   "cell_type": "code",
   "execution_count": 55,
   "metadata": {},
   "outputs": [
    {
     "output_type": "stream",
     "name": "stdout",
     "text": "0.0033102160000000325\n"
    },
    {
     "output_type": "execute_result",
     "data": {
      "text/plain": "      Header  Member arrange  request  response  success  transmit\n0          0   False     NaN     True     False       -1         0\n3          3   False     NaN     True     False       -1         0\n6          6   False     NaN     True     False       -1         0\n11        11   False     NaN     True     False       -1         0\n13        13   False     NaN     True     False       -1         0\n...      ...     ...     ...      ...       ...      ...       ...\n9985     446    True       2     True     False       -1         0\n9986    1893    True       2     True     False       -1         0\n9990      99    True       1     True     False       -1         0\n9995     290    True       2     True     False       -1         0\n9996      36    True       1     True     False       -1         0\n\n[5072 rows x 7 columns]",
      "text/html": "<div>\n<style scoped>\n    .dataframe tbody tr th:only-of-type {\n        vertical-align: middle;\n    }\n\n    .dataframe tbody tr th {\n        vertical-align: top;\n    }\n\n    .dataframe thead th {\n        text-align: right;\n    }\n</style>\n<table border=\"1\" class=\"dataframe\">\n  <thead>\n    <tr style=\"text-align: right;\">\n      <th></th>\n      <th>Header</th>\n      <th>Member</th>\n      <th>arrange</th>\n      <th>request</th>\n      <th>response</th>\n      <th>success</th>\n      <th>transmit</th>\n    </tr>\n  </thead>\n  <tbody>\n    <tr>\n      <th>0</th>\n      <td>0</td>\n      <td>False</td>\n      <td>NaN</td>\n      <td>True</td>\n      <td>False</td>\n      <td>-1</td>\n      <td>0</td>\n    </tr>\n    <tr>\n      <th>3</th>\n      <td>3</td>\n      <td>False</td>\n      <td>NaN</td>\n      <td>True</td>\n      <td>False</td>\n      <td>-1</td>\n      <td>0</td>\n    </tr>\n    <tr>\n      <th>6</th>\n      <td>6</td>\n      <td>False</td>\n      <td>NaN</td>\n      <td>True</td>\n      <td>False</td>\n      <td>-1</td>\n      <td>0</td>\n    </tr>\n    <tr>\n      <th>11</th>\n      <td>11</td>\n      <td>False</td>\n      <td>NaN</td>\n      <td>True</td>\n      <td>False</td>\n      <td>-1</td>\n      <td>0</td>\n    </tr>\n    <tr>\n      <th>13</th>\n      <td>13</td>\n      <td>False</td>\n      <td>NaN</td>\n      <td>True</td>\n      <td>False</td>\n      <td>-1</td>\n      <td>0</td>\n    </tr>\n    <tr>\n      <th>...</th>\n      <td>...</td>\n      <td>...</td>\n      <td>...</td>\n      <td>...</td>\n      <td>...</td>\n      <td>...</td>\n      <td>...</td>\n    </tr>\n    <tr>\n      <th>9985</th>\n      <td>446</td>\n      <td>True</td>\n      <td>2</td>\n      <td>True</td>\n      <td>False</td>\n      <td>-1</td>\n      <td>0</td>\n    </tr>\n    <tr>\n      <th>9986</th>\n      <td>1893</td>\n      <td>True</td>\n      <td>2</td>\n      <td>True</td>\n      <td>False</td>\n      <td>-1</td>\n      <td>0</td>\n    </tr>\n    <tr>\n      <th>9990</th>\n      <td>99</td>\n      <td>True</td>\n      <td>1</td>\n      <td>True</td>\n      <td>False</td>\n      <td>-1</td>\n      <td>0</td>\n    </tr>\n    <tr>\n      <th>9995</th>\n      <td>290</td>\n      <td>True</td>\n      <td>2</td>\n      <td>True</td>\n      <td>False</td>\n      <td>-1</td>\n      <td>0</td>\n    </tr>\n    <tr>\n      <th>9996</th>\n      <td>36</td>\n      <td>True</td>\n      <td>1</td>\n      <td>True</td>\n      <td>False</td>\n      <td>-1</td>\n      <td>0</td>\n    </tr>\n  </tbody>\n</table>\n<p>5072 rows × 7 columns</p>\n</div>"
     },
     "metadata": {},
     "execution_count": 55
    }
   ],
   "source": [
    "\n",
    "start = time.process_time()\n",
    "devices_group = D2D_member.groupby('request').get_group(True)\n",
    "print(time.process_time() - start)\n",
    "devices_group"
   ]
  },
  {
   "cell_type": "code",
   "execution_count": 44,
   "metadata": {},
   "outputs": [],
   "source": [
    "members_ = D2D_member.loc[D2D_member['request']].copy()"
   ]
  },
  {
   "cell_type": "code",
   "execution_count": 45,
   "metadata": {},
   "outputs": [
    {
     "output_type": "execute_result",
     "data": {
      "text/plain": "pandas.core.frame.DataFrame"
     },
     "metadata": {},
     "execution_count": 45
    }
   ],
   "source": [
    "type(members_)"
   ]
  },
  {
   "cell_type": "code",
   "execution_count": 47,
   "metadata": {
    "tags": [
     "outputPrepend",
     "outputPrepend",
     "outputPrepend",
     "outputPrepend",
     "outputPrepend",
     "outputPrepend",
     "outputPrepend"
    ]
   },
   "outputs": [
    {
     "output_type": "stream",
     "name": "stdout",
     "text": "Int64Index([789, 1213, 1264, 1292, 1496, 1684, 2683, 3042, 3508, 3594, 3782], dtype='int64')\nInt64Index([30, 194, 930, 973, 1393, 1497, 1522, 1737, 1780], dtype='int64')\nInt64Index([2366, 3057, 3892, 4629], dtype='int64')\nInt64Index([261, 874, 2115, 2760, 2765, 2778, 4186, 4531], dtype='int64')\nInt64Index([1362, 1712, 1746, 1873, 3190, 3271, 3291, 3506, 3853, 3898], dtype='int64')\nInt64Index([74, 802, 1088, 3993, 4724, 4973], dtype='int64')\nInt64Index([171, 353, 635, 1856, 1874, 2185, 2320, 4349, 4875, 5466], dtype='int64')\nInt64Index([1451, 1608, 2092, 2638, 4066, 5550, 6123, 6267, 6517], dtype='int64')\nInt64Index([150, 312, 313, 502, 1477, 1563, 1762, 1861, 3498], dtype='int64')\nInt64Index([637, 661, 831, 881, 927, 1190, 1322, 1618, 1643, 1674, 1812, 2228], dtype='int64')\nInt64Index([135, 864, 1343, 1899, 1954, 1966, 2085, 2947, 3485, 4855], dtype='int64')\nInt64Index([24, 969, 989, 1104, 1313, 1839, 2003, 2463, 2492, 3117, 3633,\n            3955],\n           dtype='int64')\nInt64Index([739, 1287, 1426, 1663, 1767, 2199, 2524, 2711, 2848, 3707], dtype='int64')\nInt64Index([505, 1105, 1323, 1397, 1751, 2230, 2758, 3041, 3213, 3390, 3471,\n            4088, 4693],\n           dtype='int64')\nInt64Index([219, 232, 319, 1043, 1410, 1707, 2007, 2088, 2336, 2465, 3468], dtype='int64')\nInt64Index([883, 1101, 1157, 1520, 1792, 1886, 2244, 2824, 3082, 3158], dtype='int64')\nInt64Index([37, 340, 504, 579, 847, 1169, 1228, 1610, 1701, 3323], dtype='int64')\nInt64Index([654, 2138, 2478, 3232, 3575, 4074, 4125, 4776, 5380], dtype='int64')\nInt64Index([277, 526, 3290, 3916, 4126], dtype='int64')\nInt64Index([123, 155, 788, 794, 893, 1260, 1311, 1761, 2210], dtype='int64')\nInt64Index([484, 790, 811, 1154, 1185, 1678, 2137, 2318, 2481, 2681, 3346], dtype='int64')\nInt64Index([69, 619, 1479, 1492, 1498, 1787, 2845, 3246, 3392, 3593, 4388], dtype='int64')\nInt64Index([48, 859, 1377, 1797, 1962, 2049, 2192, 2797], dtype='int64')\nInt64Index([173, 300, 695, 726, 965, 1114, 1123, 1204, 1598, 2114, 2620, 2781,\n            3280],\n           dtype='int64')\nInt64Index([506, 609, 885, 998, 1127, 1638, 1681, 1725, 2214], dtype='int64')\nInt64Index([53, 1896, 2950, 3595, 3843, 4651], dtype='int64')\nInt64Index([89, 688, 706, 1534, 3187, 3608, 3919], dtype='int64')\nInt64Index([278, 736, 807, 835, 1052, 3045, 3080], dtype='int64')\nInt64Index([225, 448, 535, 1295, 1785, 1883, 2462, 2582, 3684, 4115, 5183,\n            5324],\n           dtype='int64')\nInt64Index([362, 403, 498, 589, 809, 1473, 2533, 2971, 3193], dtype='int64')\nInt64Index([367, 632, 1273, 1485, 1605, 1738, 2469, 2487, 2510], dtype='int64')\nInt64Index([254, 394, 418, 1117, 1543, 1882, 2156, 2269, 2973, 3240], dtype='int64')\nInt64Index([117, 212, 997, 2051, 2501, 2710, 2746, 3383, 4474, 4517], dtype='int64')\nInt64Index([328, 1318, 1857, 2066, 2291, 2880, 2888, 3660, 3856, 4025, 4526], dtype='int64')\nInt64Index([159, 515, 1027, 1336, 2986, 3736, 3748, 3807, 4046, 4152, 5048], dtype='int64')\nInt64Index([260, 1741, 2511, 2800, 3211, 4706, 4925, 5230, 7660], dtype='int64')\nInt64Index([371, 1035, 1168, 1234, 1406, 1713, 2019, 2405, 2509, 2630, 2955], dtype='int64')\nInt64Index([244, 1299, 1388, 1960, 2286, 2887, 3355, 3461, 3491, 3686], dtype='int64')\nInt64Index([79, 1820, 2945, 3195, 4301, 4332, 4391, 4456, 4529], dtype='int64')\nInt64Index([82, 166, 895, 1699, 2483, 2522, 2577, 2613, 2780, 2786, 3234, 3772,\n            4504],\n           dtype='int64')\nInt64Index([83, 390, 616, 946, 961, 1110, 1243, 1272, 1312], dtype='int64')\nInt64Index([87, 938, 944, 1466, 1676, 1822, 2701, 2708, 2831, 3183, 3252, 3536,\n            3585, 4537],\n           dtype='int64')\nInt64Index([88, 513, 1021, 1276, 1449, 1474, 3667, 4005, 4813, 5907], dtype='int64')\nInt64Index([1132, 1481, 2521, 3051, 3115, 3118, 3430, 3737], dtype='int64')\nInt64Index([233, 398, 554, 1365, 1588, 2246], dtype='int64')\nInt64Index([624, 631, 1066, 1098, 1333, 1334, 2124, 3364], dtype='int64')\nInt64Index([96, 374, 1016, 1069, 1353, 2893, 3272, 3607, 4536, 4955], dtype='int64')\nInt64Index([217, 855, 1601, 1711, 2171, 2907, 4016, 5654], dtype='int64')\nInt64Index([943, 1095, 1231, 1770, 1948, 2201, 2295, 2684, 2706, 2993], dtype='int64')\nInt64Index([957, 1108, 1305, 1321, 1524, 3113, 3565, 3568, 4360, 4494, 4758,\n            4760, 6319],\n           dtype='int64')\nInt64Index([101, 878, 1275, 1448, 2130, 2830, 3714, 4129, 4775, 4950, 4983,\n            5471],\n           dtype='int64')\nInt64Index([102, 531, 841, 933, 1556, 1571, 1838, 2578, 2903, 2919, 3163, 3636,\n            4387],\n           dtype='int64')\nInt64Index([1151, 1307, 1309, 1416, 1697, 1796, 1892, 3005, 3372, 3825, 4172,\n            4195],\n           dtype='int64')\nInt64Index([105, 577, 756, 2069, 2376, 2749, 2842, 3133, 3366], dtype='int64')\nInt64Index([1074, 1852, 2055, 2186, 2215, 2261, 2941, 3075, 3123, 4281, 4355,\n            4830],\n           dtype='int64')\nInt64Index([170, 615, 638, 880, 886, 1280, 1907, 2177, 2220, 2443, 2899], dtype='int64')\nInt64Index([177, 317, 1258, 1413, 1871, 2653, 2670, 3374, 3953, 4856, 5121,\n            5239],\n           dtype='int64')\nInt64Index([381, 851, 1209, 1229, 2034, 3732, 4047], dtype='int64')\nInt64Index([126, 306, 951, 1283, 1411, 1963, 2476, 2526, 3027, 3701], dtype='int64')\nInt64Index([138, 618, 1116, 1351, 1912, 1999, 2022, 2294, 3320, 4040, 4145,\n            4354, 4847],\n           dtype='int64')\nInt64Index([375, 450, 464, 908, 1137, 1544, 2664, 3469, 3650, 3776, 3810], dtype='int64')\nInt64Index([285, 655, 1937, 2025, 2459, 3715, 3818, 3972, 4916], dtype='int64')\nInt64Index([144, 423, 608, 630, 1031, 1225, 1916, 2107, 2203, 2806, 3018,\n            3614],\n           dtype='int64')\nInt64Index([147, 470, 2096, 3438, 3538, 3583, 3631, 4608, 4878], dtype='int64')\nInt64Index([149, 245, 467, 537, 1409, 1509, 2424, 2703, 2813], dtype='int64')\nInt64Index([151, 1025, 1320, 1920, 2602, 2946, 3032, 3096], dtype='int64')\nInt64Index([153, 682, 1530, 1763, 2474, 2519, 2872, 3120, 3528], dtype='int64')\nInt64Index([501, 1337, 1659, 1831, 2062, 2139, 2545, 4183, 4809], dtype='int64')\nInt64Index([158, 351, 1590, 2430, 2490, 2901, 3002], dtype='int64')\nInt64Index([160, 354, 405, 523, 1400, 2426, 2840, 2889, 3161, 3433, 3489, 3617,\n            3744],\n           dtype='int64')\nInt64Index([162, 894, 1046, 1380, 1523, 1669, 1992, 3979, 4015], dtype='int64')\nInt64Index([257, 838, 1297, 1973, 2412, 2494, 3016, 3635, 3754, 4258, 4334], dtype='int64')\nInt64Index([386, 744, 753, 818, 863, 2538, 2752, 3465, 3984, 4188, 4718], dtype='int64')\nInt64Index([482, 580, 1048, 1596, 1895, 1906, 1994, 2444, 2475, 2662], dtype='int64')\nInt64Index([185, 246, 570, 1200, 1830, 2125, 2162, 2334, 2529, 3159, 3453], dtype='int64')\nInt64Index([474, 626, 646, 671, 963, 1269, 2719, 3519, 4298, 4417, 4667], dtype='int64')\nInt64Index([192, 563, 1121, 1592, 1986, 2129, 3368, 3410, 4147], dtype='int64')\nInt64Index([193, 297, 621, 1566, 1758, 1804, 3170, 3191, 4357], dtype='int64')\nInt64Index([196, 267, 601, 1082, 1842, 2204, 2485, 2727, 2855], dtype='int64')\nInt64Index([536, 949, 2755, 3307, 3734, 3793, 5683, 6103, 6281], dtype='int64')\nInt64Index([207, 3007, 4638, 8230, 8956, 9147], dtype='int64')\nInt64Index([208, 1194, 2392, 3495, 3741, 4739, 5181], dtype='int64')\nInt64Index([689, 1851, 2608, 2769, 2954, 2964, 3136, 3269], dtype='int64')\nInt64Index([772, 1279, 2208, 2335, 3289, 3408], dtype='int64')\nInt64Index([337, 1567, 2159, 3292, 3405], dtype='int64')\nInt64Index([222, 702, 795, 1644, 2235, 2267, 2869, 3131, 4098, 5052], dtype='int64')\nInt64Index([224, 514, 698, 879, 1081, 1106, 1461, 1672, 1757, 2429, 2535,\n            2962],\n           dtype='int64')\nInt64Index([808, 950, 1182, 3122, 3223, 3361, 3729, 3997, 4481, 4485, 5435,\n            5539, 7394],\n           dtype='int64')\nInt64Index([229, 728, 777, 1122, 1153, 1700, 1936, 2195, 2774, 3641, 5213,\n            5251, 5710],\n           dtype='int64')\nInt64Index([230, 413, 1100, 2089, 2839, 3106, 4289, 5026, 5257, 5704], dtype='int64')\nInt64Index([240, 1583, 2270, 4190], dtype='int64')\nInt64Index([237, 1218, 1354, 4221, 4944, 6323, 6350], dtype='int64')\nInt64Index([242, 434, 1024, 1147, 1872, 2280, 2338, 2449, 2643, 2859, 3454], dtype='int64')\nInt64Index([247, 358, 410, 731, 1964, 2284, 2576, 3277, 3373], dtype='int64')\nInt64Index([248, 338, 782, 1148, 1569, 2389, 4801, 4814], dtype='int64')\nInt64Index([628, 1042, 1271, 1611, 1720, 2427, 3003, 3488, 3694, 4464], dtype='int64')\nInt64Index([ 264,  301,  329,  457,  571,  978, 1036, 1084, 1126, 1408, 2241,\n            2446, 2675, 2747, 2875, 4158, 4682],\n           dtype='int64')\nInt64Index([265, 2757, 3078, 3287, 3697, 3895, 4383, 5584], dtype='int64')\nInt64Index([271, 309, 391, 466, 1503, 1854, 2189, 2370, 2640, 2661], dtype='int64')\nInt64Index([1006, 1173, 2024, 2631, 2733, 3309, 3472, 3628, 3649], dtype='int64')\nInt64Index([286, 427, 1499, 2100, 2767, 3620, 3752, 3816, 4611, 5109], dtype='int64')\nInt64Index([288, 356, 617, 657, 1195, 1437, 1439, 2043, 2258, 2322, 2714,\n            2729],\n           dtype='int64')\nInt64Index([875, 1232, 1749, 2636, 2910, 2917, 3019, 3574, 3868, 4151, 4225,\n            4399, 4439],\n           dtype='int64')\nInt64Index([302, 581, 663, 1369, 1577, 1599, 2122, 2196, 3245, 3502, 3553,\n            3567],\n           dtype='int64')\nInt64Index([303, 873, 1120, 1166, 1817, 2253, 2648, 2932, 3254, 3657, 4093], dtype='int64')\nInt64Index([308, 525, 595, 659, 1533, 1984, 2248, 2288, 2646, 2931, 3450, 3865,\n            4157],\n           dtype='int64')\nInt64Index([310, 532, 3244, 7624, 8865, 9179, 9662], dtype='int64')\nInt64Index([314, 428, 672, 1086, 1389, 1924, 2298, 2891, 2968, 3275], dtype='int64')\nInt64Index([318, 806, 966, 1037, 1367, 1635, 1658, 1858, 2046, 2367], dtype='int64')\nInt64Index([327, 1034, 1328, 2810, 3573, 3591, 3930, 3987, 4538, 4683, 4842,\n            5272],\n           dtype='int64')\nInt64Index([334, 493, 830, 1943, 2001, 2451, 2541, 2972, 3980, 4489, 4599,\n            4657],\n           dtype='int64')\nInt64Index([343, 1765, 3586, 3777, 3832, 4565, 5403, 5861, 6219], dtype='int64')\nInt64Index([345, 369, 1888, 2172, 2520, 2536, 2997, 3682, 3948], dtype='int64')\nInt64Index([348, 1128, 2473, 3673, 3761, 4045, 4744, 5025, 5208, 6019, 6194,\n            6801],\n           dtype='int64')\nInt64Index([2586, 2588, 2905, 3658, 4939, 5252, 5428, 8698, 9312], dtype='int64')\nInt64Index([364, 559, 703, 823, 1099, 1648, 1773, 1947, 2380, 2506, 2605, 2663,\n            3332],\n           dtype='int64')\nInt64Index([370, 1540, 1978, 2314, 2866, 5017, 5099, 5215, 6202], dtype='int64')\nInt64Index([373, 1060, 1274, 1558, 1958, 2418, 2793, 3578, 3858, 4912], dtype='int64')\nInt64Index([376, 509, 623, 639, 771, 1135, 1300, 1454, 1949, 3087, 3350, 3463,\n            3481, 3533],\n           dtype='int64')\nInt64Index([379, 483, 508, 597, 1980, 2010, 2525, 2548, 2584, 3167, 3542], dtype='int64')\nInt64Index([382, 1694, 3757, 4544, 4851, 5756, 6023, 7210, 7648, 7843], dtype='int64')\nInt64Index([384, 544, 775, 1373, 1472, 1729, 2408, 2702, 2925, 3153, 3544], dtype='int64')\nInt64Index([388, 762, 1778, 2128, 2178, 2300, 2935, 3009, 3014, 3200, 3315], dtype='int64')\nInt64Index([397, 591, 1429, 1619, 2383, 2724, 3278, 3334, 3872, 4076, 4210], dtype='int64')\nInt64Index([1452, 1458, 1982, 2262, 2265, 4103], dtype='int64')\nInt64Index([408, 435, 840, 1341, 2352, 2527, 2591, 2853, 3745, 4146, 4255,\n            4743],\n           dtype='int64')\nInt64Index([412, 1230, 1846, 2217, 2251, 2319, 2422, 2892, 3055, 3083, 3328,\n            3550],\n           dtype='int64')\nInt64Index([416, 430, 1600, 3257, 3434, 3908, 4008, 4580, 4866, 5305, 5781,\n            5965],\n           dtype='int64')\nInt64Index([476, 738, 1002, 1561, 1578, 1718, 2599, 2750, 2878, 3044], dtype='int64')\nInt64Index([422, 1345, 1378, 1653, 2458, 4031, 4243, 4245, 4402, 4765, 5046], dtype='int64')\nInt64Index([424, 1161, 1203, 1355, 1532, 1621], dtype='int64')\nInt64Index([425, 1255, 1422, 1646, 2266, 3326, 3411, 3610, 3645], dtype='int64')\nInt64Index([426, 712, 1887, 2390, 2432, 3048, 3063, 3630, 5387, 7901], dtype='int64')\nInt64Index([438, 711, 718, 822, 967, 1184, 2013], dtype='int64')\nInt64Index([440, 1091, 2310, 2652, 3174, 4211, 4622, 4716, 5141], dtype='int64')\nInt64Index([442, 3338, 3759, 4728, 5688, 5803, 5852, 5887, 6034, 6165, 6426], dtype='int64')\nInt64Index([453, 729, 833, 1855, 3077, 3238, 3796], dtype='int64')\nInt64Index([461, 1526, 2158, 2442, 2560, 2642, 2928, 3056, 3412, 3800], dtype='int64')\nInt64Index([473, 748, 1093, 2293, 2601, 3134, 3149, 3196, 3308, 3324, 3482,\n            3727],\n           dtype='int64')\nInt64Index([479, 578, 1191, 1282, 1331, 1425, 2031, 2223, 2450, 2735, 3423,\n            3590, 3592],\n           dtype='int64')\nInt64Index([494, 582, 643, 650, 1263, 1270, 2004, 2141, 2807, 3897], dtype='int64')\nInt64Index([512, 1759, 2460, 2820, 4002, 4254, 5705, 6297, 6456], dtype='int64')\nInt64Index([542, 1614, 1650, 1714, 1961, 2302, 2358, 2428, 2438, 2515, 2623,\n            2865],\n           dtype='int64')\nInt64Index([543, 3013, 4375, 4463, 5981, 6671, 6817], dtype='int64')\nInt64Index([545, 707, 892, 947, 1628, 2167, 2180, 2569, 3627], dtype='int64')\nInt64Index([548, 583, 889, 1096, 2212, 2645, 2753], dtype='int64')\nInt64Index([1029, 2371, 2647, 2737, 4282, 4446, 5522, 6317, 6337, 6698, 7895,\n            8458, 8547, 8597],\n           dtype='int64')\nInt64Index([558, 1717, 2030, 2685, 2777, 2795, 2814, 3128, 6808, 7887, 8393], dtype='int64')\nInt64Index([562, 934, 2327, 2354, 2612, 2692, 2960, 3401, 3945], dtype='int64')\nInt64Index([565, 832, 1156, 2233, 2766, 2916, 3783], dtype='int64')\nInt64Index([567, 1044, 1167, 1315, 1730, 2419, 2456, 2531], dtype='int64')\nInt64Index([569, 593, 2316, 2673, 2699, 3059], dtype='int64')\nInt64Index([584, 676, 928, 2441, 2768, 3225, 3270, 3444, 3789, 4434], dtype='int64')\nInt64Index([588, 1212, 1630, 1688, 2243, 3176, 3414, 3436, 4007, 4588], dtype='int64')\nInt64Index([592, 1637, 1914, 2084, 2644, 3360, 4084], dtype='int64')\nInt64Index([603, 1404, 1579, 1743, 2067, 2461, 3809, 4116, 4552, 4756, 5136,\n            5291],\n           dtype='int64')\nInt64Index([610, 674, 911, 1983, 2102, 2923, 2963, 3148, 3206, 3242, 3312,\n            3762, 4673, 4692],\n           dtype='int64')\nInt64Index([690, 918, 1051, 1357, 1559, 1764, 1845, 2090, 2453, 2562, 3555], dtype='int64')\nInt64Index([1518, 2610, 2611, 3171, 3339, 3605, 3618, 4475, 4575], dtype='int64')\nInt64Index([613, 824, 971, 1465, 1798, 1815, 1889, 2169, 2259, 2455, 2952,\n            3774, 4043, 4613],\n           dtype='int64')\nInt64Index([622, 774, 867, 1267, 1866, 1870, 2151, 3703, 3706, 3877, 3915,\n            4686, 4938],\n           dtype='int64')\nInt64Index([ 625,  805, 1064, 1560, 1682, 1724, 1837, 2166, 2333, 2348, 2402,\n            2819, 3109, 3651, 3708],\n           dtype='int64')\nInt64Index([627, 1139, 1249, 1673, 2113, 2257, 2331, 2556], dtype='int64')\nInt64Index([ 644, 1384, 1508, 1575, 2028, 2061, 2202, 3273, 3445, 3464, 3524,\n            4208, 4286, 4306],\n           dtype='int64')\nInt64Index([656, 1427, 2836, 3351, 3446, 3460], dtype='int64')\nInt64Index([670, 882, 1248, 1440, 1752, 1824, 2163], dtype='int64')\nInt64Index([677, 817, 960, 1170, 1482, 1774, 2834, 4328, 4711, 5180], dtype='int64')\nInt64Index([681, 733, 799, 1150, 2029, 2283, 2312, 2514, 2619, 2641, 2689,\n            2722, 2802],\n           dtype='int64')\nInt64Index([693, 770, 2452, 3994, 4247, 5081], dtype='int64')\nInt64Index([700, 800, 1447, 2404, 2987, 3943, 4048, 6085], dtype='int64')\nInt64Index([705, 1254, 1435, 2184, 2197, 3052, 3070, 3132, 3615, 3646], dtype='int64')\nInt64Index([710, 1125, 1686, 2190, 2306, 2826, 3233, 3276], dtype='int64')\nInt64Index([714, 1293, 2229, 2268, 2850, 3189, 3674, 3771, 4232, 4236], dtype='int64')\nInt64Index([716, 1670, 3499, 3710, 3950, 4806, 5658, 5763], dtype='int64')\nInt64Index([719, 1134, 1463, 1754, 2325, 2351, 2353, 2927, 3012, 4039], dtype='int64')\nInt64Index([722, 1075, 2136, 3069, 3750, 3882, 4410], dtype='int64')\nInt64Index([751, 872, 884, 913, 1222, 1786, 1940, 3268, 3274, 3570, 4406,\n            4477],\n           dtype='int64')\nInt64Index([761, 2688, 2858, 3000, 3728, 4316], dtype='int64')\nInt64Index([1494, 1850, 2386, 2669, 2913, 3396, 3581, 3654, 3720, 4026, 4217,\n            4465],\n           dtype='int64')\nInt64Index([797, 915, 1487, 1877, 1910, 2079, 2080, 2132, 2146, 2678, 2730,\n            2977],\n           dtype='int64')\nInt64Index([798, 1862, 2849, 4022, 4178, 4405, 6018, 6046, 6483, 7022, 8278], dtype='int64')\nInt64Index([1067, 1392, 1430, 1834, 2110, 2604, 2980], dtype='int64')\nInt64Index([834, 1612, 1624, 1709, 1739, 1756, 2433, 3731, 4624, 4871, 5142], dtype='int64')\nInt64Index([837, 1087, 1172, 1633, 1654, 2012, 2142, 2237, 2245, 2725, 3064,\n            3293],\n           dtype='int64')\nInt64Index([1039, 2388, 2479, 3479, 3515, 4606, 4677, 4802, 5058], dtype='int64')\nInt64Index([940, 1032, 1732, 1760, 1832, 1967, 1991, 2161, 3541, 3558, 3717,\n            3869, 4128],\n           dtype='int64')\nInt64Index([935, 1370, 1750, 2082, 2860, 3112, 3147, 3880, 4233], dtype='int64')\nInt64Index([955, 958, 1011, 1076, 1199, 2134, 3035, 3221, 3838], dtype='int64')\nInt64Index([977, 988, 1772, 2743, 3604, 3643, 3990, 4203, 4492, 4559], dtype='int64')\nInt64Index([979, 1177, 1183, 1201, 1455, 1677, 2365, 3253, 4160], dtype='int64')\nInt64Index([983, 1517, 1944, 2218, 2225, 2379, 2543, 2863, 3114, 3298, 3817], dtype='int64')\nInt64Index([1731, 1865, 2347, 2697, 3006, 4514, 4558], dtype='int64')\nInt64Index([1026, 2296, 3263, 4055, 4700, 6497, 8690, 9230, 9938], dtype='int64')\nInt64Index([1033, 1736, 1897, 3085, 4121, 5617, 7972, 8029, 8915], dtype='int64')\nInt64Index([1130, 1420, 1515, 1696, 2108, 2330, 2721, 3294, 3404, 3616, 3625], dtype='int64')\nInt64Index([1071, 3370, 3647, 3790, 4192, 5137, 5723], dtype='int64')\nInt64Index([1089, 1129, 2323, 2929, 5431, 7539, 8153], dtype='int64')\nInt64Index([1103, 1671, 2502, 2825, 3523, 5315, 5465], dtype='int64')\nInt64Index([1115, 2362, 2448, 2580, 2867, 3455, 3655, 3683, 3766, 4270, 6983,\n            7517],\n           dtype='int64')\nInt64Index([1187, 1664, 1884, 2098, 2206, 2466, 2505, 2553, 3216, 3839], dtype='int64')\nInt64Index([1217, 1459, 2087, 2176, 2181, 2344, 2440, 2967, 3156, 3255, 3666,\n            3679],\n           dtype='int64')\nInt64Index([1237, 1486, 1716, 1950, 3022, 3522, 4325], dtype='int64')\nInt64Index([1238, 1690, 4242, 4495, 4551, 4612], dtype='int64')\nInt64Index([1253, 1256, 1431, 1876, 1974, 2467, 2596, 3429, 3700, 3740], dtype='int64')\nInt64Index([1349, 1591, 1935, 2550, 2938, 3279, 3733, 3975, 4120, 4382, 4790], dtype='int64')\nInt64Index([1374, 1421, 2373, 2407, 2413, 3001, 3335, 3490, 4300, 4748, 4937,\n            5793],\n           dtype='int64')\nInt64Index([1453, 1606, 1692, 1904, 2097, 2292, 2983, 3883, 4114], dtype='int64')\nInt64Index([2384, 2870, 3107, 3228, 3297, 3333, 3340, 3398, 3457, 3884, 4092], dtype='int64')\nInt64Index([1547, 1662, 2008, 2165, 2713, 3329, 4003, 4034, 4179, 4738], dtype='int64')\nInt64Index([1627, 1930, 2301, 2782, 3151, 3932, 4378, 4859, 5963, 7079, 7908], dtype='int64')\nInt64Index([1828, 2410, 3671, 4430, 4478, 4704, 6861, 8427], dtype='int64')\nInt64Index([1881, 2425, 2871, 2896, 3029, 3598, 3928, 5063], dtype='int64')\nInt64Index([2081, 2854, 2884, 3282, 4561, 5111], dtype='int64')\nInt64Index([3138, 5472, 6070, 7287, 7808], dtype='int64')\n0.6452482809999971\n"
    }
   ],
   "source": [
    "start = time.process_time()\n",
    "for header in headers:\n",
    "    group_id = D2D_group.loc[D2D_group['Header'] == header].index[0]\n",
    "    cur_arrange = D2D_group.at[group_id, 'arr_seq']\n",
    "    arr_members = members_.loc[members_.index].loc[(members_.Header == header) & (members_.arrange == cur_arrange)].index\n",
    "    print(arr_members)\n",
    "    non_arr_members = members.loc[members_.index.difference(arr_members)].index\n",
    "\n",
    "print(time.process_time() - start)\n",
    "    "
   ]
  },
  {
   "cell_type": "code",
   "execution_count": 40,
   "metadata": {},
   "outputs": [
    {
     "output_type": "execute_result",
     "data": {
      "text/plain": "   Header  Member arrange  request  response  success  transmit\n0       0   False     NaN     True     False       -1         0\n2       2   False     NaN     True     False       -1         0\n3       3   False     NaN     True     False       -1         0",
      "text/html": "<div>\n<style scoped>\n    .dataframe tbody tr th:only-of-type {\n        vertical-align: middle;\n    }\n\n    .dataframe tbody tr th {\n        vertical-align: top;\n    }\n\n    .dataframe thead th {\n        text-align: right;\n    }\n</style>\n<table border=\"1\" class=\"dataframe\">\n  <thead>\n    <tr style=\"text-align: right;\">\n      <th></th>\n      <th>Header</th>\n      <th>Member</th>\n      <th>arrange</th>\n      <th>request</th>\n      <th>response</th>\n      <th>success</th>\n      <th>transmit</th>\n    </tr>\n  </thead>\n  <tbody>\n    <tr>\n      <th>0</th>\n      <td>0</td>\n      <td>False</td>\n      <td>NaN</td>\n      <td>True</td>\n      <td>False</td>\n      <td>-1</td>\n      <td>0</td>\n    </tr>\n    <tr>\n      <th>2</th>\n      <td>2</td>\n      <td>False</td>\n      <td>NaN</td>\n      <td>True</td>\n      <td>False</td>\n      <td>-1</td>\n      <td>0</td>\n    </tr>\n    <tr>\n      <th>3</th>\n      <td>3</td>\n      <td>False</td>\n      <td>NaN</td>\n      <td>True</td>\n      <td>False</td>\n      <td>-1</td>\n      <td>0</td>\n    </tr>\n  </tbody>\n</table>\n</div>"
     },
     "metadata": {},
     "execution_count": 40
    }
   ],
   "source": [
    "D2D_member.loc[[0,1,2,3]].loc[D2D_member['request']]"
   ]
  }
 ],
 "metadata": {
  "language_info": {
   "codemirror_mode": {
    "name": "ipython",
    "version": 3
   },
   "file_extension": ".py",
   "mimetype": "text/x-python",
   "name": "python",
   "nbconvert_exporter": "python",
   "pygments_lexer": "ipython3",
   "version": "3.8.0-final"
  },
  "orig_nbformat": 2,
  "kernelspec": {
   "name": "python38064bittdcrpipenvd4536cd5b7e04db888643b26fe3148af",
   "display_name": "Python 3.8.0 64-bit ('TDCR': pipenv)"
  }
 },
 "nbformat": 4,
 "nbformat_minor": 2
}