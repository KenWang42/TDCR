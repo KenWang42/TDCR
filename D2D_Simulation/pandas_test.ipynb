{
 "cells": [
  {
   "cell_type": "code",
   "execution_count": 1,
   "metadata": {},
   "outputs": [],
   "source": [
    "import pandas as pd\n",
    "import numpy as np\n",
    "import random\n",
    "import os\n",
    "import time\n",
    "\n",
    "start_time = time.time()\n",
    "\n",
    "path = os.path.abspath('.')\n",
    "\n",
    "simRAO = 1000\n",
    "\n",
    "nMTCD = 10000\n",
    "\n",
    "nMTCD_success = 0  # total number of device that transmit success\n",
    "\n",
    "nMTCD_fail = 0  # total number of device that transmit failed\n",
    "\n",
    "Backoff = 2  # Backoff Indicator = 20ms\n",
    "\n",
    "maxTrans = 10  # Maximum number of preamble transmission\n",
    "\n",
    "N_PRB = 25  # Number of Sidelink Physical Resource Block\n",
    "\n",
    "N_PRB_arrange = 20  # the number of arranged PRB\n",
    "\n",
    "N_preamble = 54  # Number of PRACH Preamble\n",
    "\n",
    "file_path = path + f'/MTCD_data_{nMTCD}.csv'\n",
    "MTCD_data = pd.read_csv(file_path, index_col=False)\n",
    "\n",
    "\"\"\"\n",
    "RA_data\n",
    "    records RA parameter and simulation result of every device\n",
    "    the parameters required in enB <-> device communication\n",
    "    Index:\n",
    "        device_id\n",
    "    Columns 4:\n",
    "        RA_init:     Integer,\n",
    "                     next frame the device send RA request\n",
    "        RA_success:  Integer,\n",
    "                     frame the device complete RA procedure\n",
    "        RA_transmit: Integer,\n",
    "                     number of the device trying to send RA request\n",
    "\"\"\"\n",
    "RA_data = MTCD_data[['RA_init', 'RA_success', 'RA_transmit']]\n",
    "\n",
    "\"\"\"\n",
    "D2D_member\n",
    "    records D2D parameter of every Member\n",
    "    also records numerical result for every Member\n",
    "    the parametes required in Member -> Header communication\n",
    "    Index:\n",
    "        device_id\n",
    "    Columns 7:\n",
    "        Header:   Integer,\n",
    "                  the Header of belonging D2D group\n",
    "                  also indicate the group Header's device_id\n",
    "        Member:   Boolen,\n",
    "                  whether the device is a Member\n",
    "        arrange:  Integer,\n",
    "                  indicate the beloneing arrange sequence\n",
    "        request:  Boolen,\n",
    "                  whether the Member will send D2D request\n",
    "        response: Boolean,\n",
    "                  whether the device received its Header Response\n",
    "        success:  Integer,\n",
    "                  the frame the device finish D2D transmission (-1: not success yet)\n",
    "        transmit: Integer,\n",
    "                  number of the Member trying to send D2D request\n",
    "\"\"\"\n",
    "D2D_member = pd.DataFrame(\n",
    "    columns=['Header', 'Member', 'arrange',\n",
    "             'request', 'response', 'success', 'transmit'],\n",
    ")\n",
    "\n",
    "# assign group\n",
    "D2D_member['Header'] = MTCD_data['clusters']\n",
    "\n",
    "# assign type\n",
    "D2D_member['Member'] = (D2D_member.index != D2D_member['Header'])\n",
    "\n",
    "# assign arrange\n",
    "for header in D2D_member['Header'].unique():\n",
    "    members = D2D_member.loc[(D2D_member['Header'] == header) &\n",
    "                             (D2D_member['Member'])]\n",
    "    n = 0\n",
    "    for device_id in members.index:\n",
    "        D2D_member.at[device_id, 'arrange'] = n // N_PRB_arrange\n",
    "        n += 1\n",
    "\n",
    "# initialize request\n",
    "D2D_member['request'] = np.zeros(nMTCD, dtype=bool)\n",
    "\n",
    "# initialize response\n",
    "D2D_member['response'] = np.zeros(nMTCD, dtype=bool)\n",
    "\n",
    "# initialize success = -1\n",
    "D2D_member['success'] = np.full(nMTCD, -1)\n",
    "\n",
    "# initialize transmit\n",
    "D2D_member['transmit'] = np.zeros(nMTCD, dtype=int)\n",
    "\n",
    "\"\"\"\n",
    "D2D_group\n",
    "    records D2D parameter of every Header\n",
    "    also records numerical result for every Header\n",
    "    records the parameter required by Header -> Member communication\n",
    "    Index:\n",
    "        default sequence\n",
    "    Columns 5:\n",
    "        Header:     Integer,\n",
    "                    device_id of the group Header\n",
    "        class:      Integer,\n",
    "                    the barring class of the beloneing D2D group\n",
    "        N_member:   Integer,\n",
    "                    the total number of device (member+header) in the group\n",
    "        N_RA:       Integer,\n",
    "                    number of RA_request within the group\n",
    "        arr_seq:    Integer,\n",
    "                    current arrange sequence\n",
    "        arr_max:    Integer,\n",
    "                    maximum arrange number\n",
    "\"\"\"\n",
    "D2D_group = pd.DataFrame(\n",
    "    columns=['Header', 'class',\n",
    "             'N_member', 'N_RA', 'arr_seq', 'arr_max']\n",
    ")\n",
    "\n",
    "# initialize Header\n",
    "D2D_group['Header'] = MTCD_data['clusters'].unique()\n",
    "\n",
    "# assign Class\n",
    "N_group = len(D2D_group)\n",
    "N_class = (N_group // N_preamble) + 1\n",
    "seq = 0\n",
    "for group in range(N_group):\n",
    "    D2D_group.at[group, 'class'] = group // N_preamble\n",
    "\n",
    "# initialize N_member\n",
    "D2D_group['N_member'] = D2D_member.groupby(['Header']).size().values\n",
    "\n",
    "# initialize RA_request\n",
    "D2D_group['N_RA'] = np.zeros(N_group, dtype=int)\n",
    "\n",
    "# initialize current arrange sequence\n",
    "D2D_group['arr_seq'] = np.zeros(N_group, dtype=int)\n",
    "\n",
    "\n",
    "\"\"\"\n",
    "BS_schedule\n",
    "    indicate the broadcast information for SIB2\n",
    "    update every 16 system frame\n",
    "    Do not require initialize\n",
    "    Index:\n",
    "        system_frame\n",
    "    Columns 2:\n",
    "        class: Integer,\n",
    "               the class can initiate RA procedure\n",
    "\"\"\"\n",
    "BS_schedule = pd.DataFrame(\n",
    "    columns=['class'],\n",
    ")\n",
    "\n",
    "# initialize class\n",
    "BS_schedule['class'] = [f % N_class for f in range(simRAO)]"
   ]
  },
  {
   "cell_type": "code",
   "execution_count": 2,
   "metadata": {},
   "outputs": [
    {
     "output_type": "stream",
     "name": "stdout",
     "text": "2.6679999999945636e-05\n"
    }
   ],
   "source": [
    "import time\n",
    "start = time.process_time()\n",
    "# your code here    \n",
    "print(time.process_time() - start)"
   ]
  },
  {
   "cell_type": "code",
   "execution_count": 3,
   "metadata": {},
   "outputs": [
    {
     "output_type": "execute_result",
     "data": {
      "text/plain": "      Header  Member arrange  request  response  success  transmit\n6209     140    True       1     True     False       -1         0\n4103     407    True       0     True     False       -1         0\n546        1    True       0    False     False       -1         0\n1191      80    True       0     True     False       -1         0\n5150       7    True       1    False     False       -1         0",
      "text/html": "<div>\n<style scoped>\n    .dataframe tbody tr th:only-of-type {\n        vertical-align: middle;\n    }\n\n    .dataframe tbody tr th {\n        vertical-align: top;\n    }\n\n    .dataframe thead th {\n        text-align: right;\n    }\n</style>\n<table border=\"1\" class=\"dataframe\">\n  <thead>\n    <tr style=\"text-align: right;\">\n      <th></th>\n      <th>Header</th>\n      <th>Member</th>\n      <th>arrange</th>\n      <th>request</th>\n      <th>response</th>\n      <th>success</th>\n      <th>transmit</th>\n    </tr>\n  </thead>\n  <tbody>\n    <tr>\n      <th>6209</th>\n      <td>140</td>\n      <td>True</td>\n      <td>1</td>\n      <td>True</td>\n      <td>False</td>\n      <td>-1</td>\n      <td>0</td>\n    </tr>\n    <tr>\n      <th>4103</th>\n      <td>407</td>\n      <td>True</td>\n      <td>0</td>\n      <td>True</td>\n      <td>False</td>\n      <td>-1</td>\n      <td>0</td>\n    </tr>\n    <tr>\n      <th>546</th>\n      <td>1</td>\n      <td>True</td>\n      <td>0</td>\n      <td>False</td>\n      <td>False</td>\n      <td>-1</td>\n      <td>0</td>\n    </tr>\n    <tr>\n      <th>1191</th>\n      <td>80</td>\n      <td>True</td>\n      <td>0</td>\n      <td>True</td>\n      <td>False</td>\n      <td>-1</td>\n      <td>0</td>\n    </tr>\n    <tr>\n      <th>5150</th>\n      <td>7</td>\n      <td>True</td>\n      <td>1</td>\n      <td>False</td>\n      <td>False</td>\n      <td>-1</td>\n      <td>0</td>\n    </tr>\n  </tbody>\n</table>\n</div>"
     },
     "metadata": {},
     "execution_count": 3
    }
   ],
   "source": [
    "# dummy data\n",
    "D2D_member['request'] = np.random.choice([True, False], size=nMTCD)\n",
    "D2D_member.sample(5)"
   ]
  },
  {
   "cell_type": "code",
   "execution_count": 4,
   "metadata": {},
   "outputs": [
    {
     "output_type": "stream",
     "name": "stdout",
     "text": "0.0022372360000000313\n"
    },
    {
     "output_type": "execute_result",
     "data": {
      "text/plain": "      Header  Member arrange  request  response  success  transmit\n0          0   False     NaN     True     False       -1         0\n2          2   False     NaN     True     False       -1         0\n3          3   False     NaN     True     False       -1         0\n5          5   False     NaN     True     False       -1         0\n9          9   False     NaN     True     False       -1         0\n...      ...     ...     ...      ...       ...      ...       ...\n9994    4658    True       1     True     False       -1         0\n9995     290    True       2     True     False       -1         0\n9996      36    True       1     True     False       -1         0\n9997     522    True       2     True     False       -1         0\n9999      93    True       2     True     False       -1         0\n\n[4888 rows x 7 columns]",
      "text/html": "<div>\n<style scoped>\n    .dataframe tbody tr th:only-of-type {\n        vertical-align: middle;\n    }\n\n    .dataframe tbody tr th {\n        vertical-align: top;\n    }\n\n    .dataframe thead th {\n        text-align: right;\n    }\n</style>\n<table border=\"1\" class=\"dataframe\">\n  <thead>\n    <tr style=\"text-align: right;\">\n      <th></th>\n      <th>Header</th>\n      <th>Member</th>\n      <th>arrange</th>\n      <th>request</th>\n      <th>response</th>\n      <th>success</th>\n      <th>transmit</th>\n    </tr>\n  </thead>\n  <tbody>\n    <tr>\n      <th>0</th>\n      <td>0</td>\n      <td>False</td>\n      <td>NaN</td>\n      <td>True</td>\n      <td>False</td>\n      <td>-1</td>\n      <td>0</td>\n    </tr>\n    <tr>\n      <th>2</th>\n      <td>2</td>\n      <td>False</td>\n      <td>NaN</td>\n      <td>True</td>\n      <td>False</td>\n      <td>-1</td>\n      <td>0</td>\n    </tr>\n    <tr>\n      <th>3</th>\n      <td>3</td>\n      <td>False</td>\n      <td>NaN</td>\n      <td>True</td>\n      <td>False</td>\n      <td>-1</td>\n      <td>0</td>\n    </tr>\n    <tr>\n      <th>5</th>\n      <td>5</td>\n      <td>False</td>\n      <td>NaN</td>\n      <td>True</td>\n      <td>False</td>\n      <td>-1</td>\n      <td>0</td>\n    </tr>\n    <tr>\n      <th>9</th>\n      <td>9</td>\n      <td>False</td>\n      <td>NaN</td>\n      <td>True</td>\n      <td>False</td>\n      <td>-1</td>\n      <td>0</td>\n    </tr>\n    <tr>\n      <th>...</th>\n      <td>...</td>\n      <td>...</td>\n      <td>...</td>\n      <td>...</td>\n      <td>...</td>\n      <td>...</td>\n      <td>...</td>\n    </tr>\n    <tr>\n      <th>9994</th>\n      <td>4658</td>\n      <td>True</td>\n      <td>1</td>\n      <td>True</td>\n      <td>False</td>\n      <td>-1</td>\n      <td>0</td>\n    </tr>\n    <tr>\n      <th>9995</th>\n      <td>290</td>\n      <td>True</td>\n      <td>2</td>\n      <td>True</td>\n      <td>False</td>\n      <td>-1</td>\n      <td>0</td>\n    </tr>\n    <tr>\n      <th>9996</th>\n      <td>36</td>\n      <td>True</td>\n      <td>1</td>\n      <td>True</td>\n      <td>False</td>\n      <td>-1</td>\n      <td>0</td>\n    </tr>\n    <tr>\n      <th>9997</th>\n      <td>522</td>\n      <td>True</td>\n      <td>2</td>\n      <td>True</td>\n      <td>False</td>\n      <td>-1</td>\n      <td>0</td>\n    </tr>\n    <tr>\n      <th>9999</th>\n      <td>93</td>\n      <td>True</td>\n      <td>2</td>\n      <td>True</td>\n      <td>False</td>\n      <td>-1</td>\n      <td>0</td>\n    </tr>\n  </tbody>\n</table>\n<p>4888 rows × 7 columns</p>\n</div>"
     },
     "metadata": {},
     "execution_count": 4
    }
   ],
   "source": [
    "start = time.process_time()\n",
    "devices_loc = D2D_member.loc[D2D_member['request']]\n",
    "print(time.process_time() - start)\n",
    "devices_loc"
   ]
  },
  {
   "cell_type": "code",
   "execution_count": 55,
   "metadata": {},
   "outputs": [
    {
     "output_type": "stream",
     "name": "stdout",
     "text": "0.0033102160000000325\n"
    },
    {
     "output_type": "execute_result",
     "data": {
      "text/plain": "      Header  Member arrange  request  response  success  transmit\n0          0   False     NaN     True     False       -1         0\n3          3   False     NaN     True     False       -1         0\n6          6   False     NaN     True     False       -1         0\n11        11   False     NaN     True     False       -1         0\n13        13   False     NaN     True     False       -1         0\n...      ...     ...     ...      ...       ...      ...       ...\n9985     446    True       2     True     False       -1         0\n9986    1893    True       2     True     False       -1         0\n9990      99    True       1     True     False       -1         0\n9995     290    True       2     True     False       -1         0\n9996      36    True       1     True     False       -1         0\n\n[5072 rows x 7 columns]",
      "text/html": "<div>\n<style scoped>\n    .dataframe tbody tr th:only-of-type {\n        vertical-align: middle;\n    }\n\n    .dataframe tbody tr th {\n        vertical-align: top;\n    }\n\n    .dataframe thead th {\n        text-align: right;\n    }\n</style>\n<table border=\"1\" class=\"dataframe\">\n  <thead>\n    <tr style=\"text-align: right;\">\n      <th></th>\n      <th>Header</th>\n      <th>Member</th>\n      <th>arrange</th>\n      <th>request</th>\n      <th>response</th>\n      <th>success</th>\n      <th>transmit</th>\n    </tr>\n  </thead>\n  <tbody>\n    <tr>\n      <th>0</th>\n      <td>0</td>\n      <td>False</td>\n      <td>NaN</td>\n      <td>True</td>\n      <td>False</td>\n      <td>-1</td>\n      <td>0</td>\n    </tr>\n    <tr>\n      <th>3</th>\n      <td>3</td>\n      <td>False</td>\n      <td>NaN</td>\n      <td>True</td>\n      <td>False</td>\n      <td>-1</td>\n      <td>0</td>\n    </tr>\n    <tr>\n      <th>6</th>\n      <td>6</td>\n      <td>False</td>\n      <td>NaN</td>\n      <td>True</td>\n      <td>False</td>\n      <td>-1</td>\n      <td>0</td>\n    </tr>\n    <tr>\n      <th>11</th>\n      <td>11</td>\n      <td>False</td>\n      <td>NaN</td>\n      <td>True</td>\n      <td>False</td>\n      <td>-1</td>\n      <td>0</td>\n    </tr>\n    <tr>\n      <th>13</th>\n      <td>13</td>\n      <td>False</td>\n      <td>NaN</td>\n      <td>True</td>\n      <td>False</td>\n      <td>-1</td>\n      <td>0</td>\n    </tr>\n    <tr>\n      <th>...</th>\n      <td>...</td>\n      <td>...</td>\n      <td>...</td>\n      <td>...</td>\n      <td>...</td>\n      <td>...</td>\n      <td>...</td>\n    </tr>\n    <tr>\n      <th>9985</th>\n      <td>446</td>\n      <td>True</td>\n      <td>2</td>\n      <td>True</td>\n      <td>False</td>\n      <td>-1</td>\n      <td>0</td>\n    </tr>\n    <tr>\n      <th>9986</th>\n      <td>1893</td>\n      <td>True</td>\n      <td>2</td>\n      <td>True</td>\n      <td>False</td>\n      <td>-1</td>\n      <td>0</td>\n    </tr>\n    <tr>\n      <th>9990</th>\n      <td>99</td>\n      <td>True</td>\n      <td>1</td>\n      <td>True</td>\n      <td>False</td>\n      <td>-1</td>\n      <td>0</td>\n    </tr>\n    <tr>\n      <th>9995</th>\n      <td>290</td>\n      <td>True</td>\n      <td>2</td>\n      <td>True</td>\n      <td>False</td>\n      <td>-1</td>\n      <td>0</td>\n    </tr>\n    <tr>\n      <th>9996</th>\n      <td>36</td>\n      <td>True</td>\n      <td>1</td>\n      <td>True</td>\n      <td>False</td>\n      <td>-1</td>\n      <td>0</td>\n    </tr>\n  </tbody>\n</table>\n<p>5072 rows × 7 columns</p>\n</div>"
     },
     "metadata": {},
     "execution_count": 55
    }
   ],
   "source": [
    "\n",
    "start = time.process_time()\n",
    "devices_group = D2D_member.groupby('request').get_group(True)\n",
    "print(time.process_time() - start)\n",
    "devices_group"
   ]
  },
  {
   "cell_type": "code",
   "execution_count": 20,
   "metadata": {},
   "outputs": [],
   "source": [
    "members = D2D_member.loc[D2D_member['request']].copy()"
   ]
  },
  {
   "cell_type": "code",
   "execution_count": 19,
   "metadata": {},
   "outputs": [
    {
     "output_type": "execute_result",
     "data": {
      "text/plain": "pandas.core.frame.DataFrame"
     },
     "metadata": {},
     "execution_count": 19
    }
   ],
   "source": [
    "type(members)"
   ]
  },
  {
   "cell_type": "code",
   "execution_count": 15,
   "metadata": {},
   "outputs": [
    {
     "output_type": "execute_result",
     "data": {
      "text/plain": "array([   0,    2,    3,    5,    9,   11,   12,   14,   16,   19,   22,\n        721,   26,   27,   28,   32,   35,   36,   40,   41,   42,   46,\n        200,   51,   52,  976,   54,   55,   58,   59,   61,   62,   63,\n         64,   73,   75,   76,   78,    7,    8,   91, 2744,  324,   92,\n         93,   94,  243,   97,   98,   99, 7323, 6096,  103,  195,  115,\n        118,  122,  125,  106, 2965,  140,  142,  128,   23,  145,  522,\n        414,  157,   13,  269, 1072,  163,  164,  167,  402,  187, 1259,\n        206, 4911,  204, 1233,   25,  213,  215,  218,  331,   10,  228,\n       2726, 2083,  234,  786,  284,   18,  299,  262,  256, 1799, 3400,\n        272,  291,  179,  290,  307,  108,  352, 1141,   39,  132, 1164,\n         31, 1779, 1368,  511,  363,   29,   50,  349,  161,    6, 1403,\n        236,    1, 1240,  407,  127,  534,  104,  420,  253,   84,  175,\n       1159,  100,  594, 4658,   45,  380,  360,   80, 1180,  699,   67,\n        781,    4,  178,  557, 7724,  740,   17,   15,   56, 1970,  332,\n         43,  169,  124,  611,  612,  109,  141,  692, 1535,  857,  176,\n        333,   47,   57,  113, 1905,  283,  401,  216, 1938,  292, 1893,\n       3695,  446,  769, 2555,  238,  815,   90,  274,  843,  929, 6912,\n       7044,  355,  252, 3357, 1013, 8151, 6167, 1059, 5817,  377,  732,\n        221, 1444,   68,   20, 1390, 1236,  282, 5698,  172, 1460, 1683,\n       6272, 1551,  322, 3243, 2118])"
     },
     "metadata": {},
     "execution_count": 15
    }
   ],
   "source": [
    "headers = D2D_member.loc[D2D_member['request'], 'Header'].unique()\n",
    "headers"
   ]
  },
  {
   "cell_type": "code",
   "execution_count": 22,
   "metadata": {
    "tags": [
     "outputPrepend",
     "outputPrepend",
     "outputPrepend"
    ]
   },
   "outputs": [
    {
     "output_type": "stream",
     "name": "stdout",
     "text": "t64', length=2093)\n44\nInt64Index([  24,   30,   37,   48,   53,   69,   74,   79,   82,   83,\n            ...\n            8698, 8865, 8915, 8956, 9147, 9179, 9230, 9312, 9662, 9938],\n           dtype='int64', length=2093)\n93\nInt64Index([  24,   30,   37,   48,   53,   69,   74,   79,   82,   83,\n            ...\n            8698, 8865, 8915, 8956, 9147, 9179, 9230, 9312, 9662, 9938],\n           dtype='int64', length=2093)\n113\nInt64Index([  24,   30,   37,   48,   53,   69,   74,   79,   82,   83,\n            ...\n            8698, 8865, 8915, 8956, 9147, 9179, 9230, 9312, 9662, 9938],\n           dtype='int64', length=2093)\n6\nInt64Index([  24,   30,   37,   48,   53,   69,   74,   79,   82,   83,\n            ...\n            8698, 8865, 8915, 8956, 9147, 9179, 9230, 9312, 9662, 9938],\n           dtype='int64', length=2093)\n176\nInt64Index([  24,   30,   37,   48,   53,   69,   74,   79,   82,   83,\n            ...\n            8698, 8865, 8915, 8956, 9147, 9179, 9230, 9312, 9662, 9938],\n           dtype='int64', length=2093)\n144\nInt64Index([  24,   30,   37,   48,   53,   69,   74,   79,   82,   83,\n            ...\n            8698, 8865, 8915, 8956, 9147, 9179, 9230, 9312, 9662, 9938],\n           dtype='int64', length=2093)\n1\nInt64Index([  24,   30,   37,   48,   53,   69,   74,   79,   82,   83,\n            ...\n            8698, 8865, 8915, 8956, 9147, 9179, 9230, 9312, 9662, 9938],\n           dtype='int64', length=2093)\n178\nInt64Index([  24,   30,   37,   48,   53,   69,   74,   79,   82,   83,\n            ...\n            8698, 8865, 8915, 8956, 9147, 9179, 9230, 9312, 9662, 9938],\n           dtype='int64', length=2093)\n62\nInt64Index([  24,   30,   37,   48,   53,   69,   74,   79,   82,   83,\n            ...\n            8698, 8865, 8915, 8956, 9147, 9179, 9230, 9312, 9662, 9938],\n           dtype='int64', length=2093)\n97\nInt64Index([  24,   30,   37,   48,   53,   69,   74,   79,   82,   83,\n            ...\n            8698, 8865, 8915, 8956, 9147, 9179, 9230, 9312, 9662, 9938],\n           dtype='int64', length=2093)\n181\nInt64Index([  24,   30,   37,   48,   53,   69,   74,   79,   82,   83,\n            ...\n            8698, 8865, 8915, 8956, 9147, 9179, 9230, 9312, 9662, 9938],\n           dtype='int64', length=2093)\n84\nInt64Index([  24,   30,   37,   48,   53,   69,   74,   79,   82,   83,\n            ...\n            8698, 8865, 8915, 8956, 9147, 9179, 9230, 9312, 9662, 9938],\n           dtype='int64', length=2093)\n182\nInt64Index([  24,   30,   37,   48,   53,   69,   74,   79,   82,   83,\n            ...\n            8698, 8865, 8915, 8956, 9147, 9179, 9230, 9312, 9662, 9938],\n           dtype='int64', length=2093)\n150\nInt64Index([  24,   30,   37,   48,   53,   69,   74,   79,   82,   83,\n            ...\n            8698, 8865, 8915, 8956, 9147, 9179, 9230, 9312, 9662, 9938],\n           dtype='int64', length=2093)\n69\nInt64Index([  24,   30,   37,   48,   53,   69,   74,   79,   82,   83,\n            ...\n            8698, 8865, 8915, 8956, 9147, 9179, 9230, 9312, 9662, 9938],\n           dtype='int64', length=2093)\n122\nInt64Index([  24,   30,   37,   48,   53,   69,   74,   79,   82,   83,\n            ...\n            8698, 8865, 8915, 8956, 9147, 9179, 9230, 9312, 9662, 9938],\n           dtype='int64', length=2093)\n183\nInt64Index([  24,   30,   37,   48,   53,   69,   74,   79,   82,   83,\n            ...\n            8698, 8865, 8915, 8956, 9147, 9179, 9230, 9312, 9662, 9938],\n           dtype='int64', length=2093)\n80\nInt64Index([  24,   30,   37,   48,   53,   69,   74,   79,   82,   83,\n            ...\n            8698, 8865, 8915, 8956, 9147, 9179, 9230, 9312, 9662, 9938],\n           dtype='int64', length=2093)\n177\nInt64Index([  24,   30,   37,   48,   53,   69,   74,   79,   82,   83,\n            ...\n            8698, 8865, 8915, 8956, 9147, 9179, 9230, 9312, 9662, 9938],\n           dtype='int64', length=2093)\n184\nInt64Index([  24,   30,   37,   48,   53,   69,   74,   79,   82,   83,\n            ...\n            8698, 8865, 8915, 8956, 9147, 9179, 9230, 9312, 9662, 9938],\n           dtype='int64', length=2093)\n40\nInt64Index([  24,   30,   37,   48,   53,   69,   74,   79,   82,   83,\n            ...\n            8698, 8865, 8915, 8956, 9147, 9179, 9230, 9312, 9662, 9938],\n           dtype='int64', length=2093)\n175\nInt64Index([  24,   30,   37,   48,   53,   69,   74,   79,   82,   83,\n            ...\n            8698, 8865, 8915, 8956, 9147, 9179, 9230, 9312, 9662, 9938],\n           dtype='int64', length=2093)\n172\nInt64Index([  24,   30,   37,   48,   53,   69,   74,   79,   82,   83,\n            ...\n            8698, 8865, 8915, 8956, 9147, 9179, 9230, 9312, 9662, 9938],\n           dtype='int64', length=2093)\n67\nInt64Index([  24,   30,   37,   48,   53,   69,   74,   79,   82,   83,\n            ...\n            8698, 8865, 8915, 8956, 9147, 9179, 9230, 9312, 9662, 9938],\n           dtype='int64', length=2093)\n164\nInt64Index([  24,   30,   37,   48,   53,   69,   74,   79,   82,   83,\n            ...\n            8698, 8865, 8915, 8956, 9147, 9179, 9230, 9312, 9662, 9938],\n           dtype='int64', length=2093)\n193\nInt64Index([  24,   30,   37,   48,   53,   69,   74,   79,   82,   83,\n            ...\n            8698, 8865, 8915, 8956, 9147, 9179, 9230, 9312, 9662, 9938],\n           dtype='int64', length=2093)\n60\nInt64Index([  24,   30,   37,   48,   53,   69,   74,   79,   82,   83,\n            ...\n            8698, 8865, 8915, 8956, 9147, 9179, 9230, 9312, 9662, 9938],\n           dtype='int64', length=2093)\n194\nInt64Index([  24,   30,   37,   48,   53,   69,   74,   79,   82,   83,\n            ...\n            8698, 8865, 8915, 8956, 9147, 9179, 9230, 9312, 9662, 9938],\n           dtype='int64', length=2093)\n4\nInt64Index([  24,   30,   37,   48,   53,   69,   74,   79,   82,   83,\n            ...\n            8698, 8865, 8915, 8956, 9147, 9179, 9230, 9312, 9662, 9938],\n           dtype='int64', length=2093)\n124\nInt64Index([  24,   30,   37,   48,   53,   69,   74,   79,   82,   83,\n            ...\n            8698, 8865, 8915, 8956, 9147, 9179, 9230, 9312, 9662, 9938],\n           dtype='int64', length=2093)\n195\nInt64Index([  24,   30,   37,   48,   53,   69,   74,   79,   82,   83,\n            ...\n            8698, 8865, 8915, 8956, 9147, 9179, 9230, 9312, 9662, 9938],\n           dtype='int64', length=2093)\n196\nInt64Index([  24,   30,   37,   48,   53,   69,   74,   79,   82,   83,\n            ...\n            8698, 8865, 8915, 8956, 9147, 9179, 9230, 9312, 9662, 9938],\n           dtype='int64', length=2093)\n197\nInt64Index([  24,   30,   37,   48,   53,   69,   74,   79,   82,   83,\n            ...\n            8698, 8865, 8915, 8956, 9147, 9179, 9230, 9312, 9662, 9938],\n           dtype='int64', length=2093)\n17\nInt64Index([  24,   30,   37,   48,   53,   69,   74,   79,   82,   83,\n            ...\n            8698, 8865, 8915, 8956, 9147, 9179, 9230, 9312, 9662, 9938],\n           dtype='int64', length=2093)\n15\nInt64Index([  24,   30,   37,   48,   53,   69,   74,   79,   82,   83,\n            ...\n            8698, 8865, 8915, 8956, 9147, 9179, 9230, 9312, 9662, 9938],\n           dtype='int64', length=2093)\n50\nInt64Index([  24,   30,   37,   48,   53,   69,   74,   79,   82,   83,\n            ...\n            8698, 8865, 8915, 8956, 9147, 9179, 9230, 9312, 9662, 9938],\n           dtype='int64', length=2093)\n185\nInt64Index([  24,   30,   37,   48,   53,   69,   74,   79,   82,   83,\n            ...\n            8698, 8865, 8915, 8956, 9147, 9179, 9230, 9312, 9662, 9938],\n           dtype='int64', length=2093)\n168\nInt64Index([  24,   30,   37,   48,   53,   69,   74,   79,   82,   83,\n            ...\n            8698, 8865, 8915, 8956, 9147, 9179, 9230, 9312, 9662, 9938],\n           dtype='int64', length=2093)\n38\nInt64Index([  24,   30,   37,   48,   53,   69,   74,   79,   82,   83,\n            ...\n            8698, 8865, 8915, 8956, 9147, 9179, 9230, 9312, 9662, 9938],\n           dtype='int64', length=2093)\n119\nInt64Index([  24,   30,   37,   48,   53,   69,   74,   79,   82,   83,\n            ...\n            8698, 8865, 8915, 8956, 9147, 9179, 9230, 9312, 9662, 9938],\n           dtype='int64', length=2093)\n95\nInt64Index([  24,   30,   37,   48,   53,   69,   74,   79,   82,   83,\n            ...\n            8698, 8865, 8915, 8956, 9147, 9179, 9230, 9312, 9662, 9938],\n           dtype='int64', length=2093)\n108\nInt64Index([  24,   30,   37,   48,   53,   69,   74,   79,   82,   83,\n            ...\n            8698, 8865, 8915, 8956, 9147, 9179, 9230, 9312, 9662, 9938],\n           dtype='int64', length=2093)\n198\nInt64Index([  24,   30,   37,   48,   53,   69,   74,   79,   82,   83,\n            ...\n            8698, 8865, 8915, 8956, 9147, 9179, 9230, 9312, 9662, 9938],\n           dtype='int64', length=2093)\n88\nInt64Index([  24,   30,   37,   48,   53,   69,   74,   79,   82,   83,\n            ...\n            8698, 8865, 8915, 8956, 9147, 9179, 9230, 9312, 9662, 9938],\n           dtype='int64', length=2093)\n104\nInt64Index([  24,   30,   37,   48,   53,   69,   74,   79,   82,   83,\n            ...\n            8698, 8865, 8915, 8956, 9147, 9179, 9230, 9312, 9662, 9938],\n           dtype='int64', length=2093)\n200\nInt64Index([  24,   30,   37,   48,   53,   69,   74,   79,   82,   83,\n            ...\n            8698, 8865, 8915, 8956, 9147, 9179, 9230, 9312, 9662, 9938],\n           dtype='int64', length=2093)\n199\nInt64Index([  24,   30,   37,   48,   53,   69,   74,   79,   82,   83,\n            ...\n            8698, 8865, 8915, 8956, 9147, 9179, 9230, 9312, 9662, 9938],\n           dtype='int64', length=2093)\n201\nInt64Index([  24,   30,   37,   48,   53,   69,   74,   79,   82,   83,\n            ...\n            8698, 8865, 8915, 8956, 9147, 9179, 9230, 9312, 9662, 9938],\n           dtype='int64', length=2093)\n123\nInt64Index([  24,   30,   37,   48,   53,   69,   74,   79,   82,   83,\n            ...\n            8698, 8865, 8915, 8956, 9147, 9179, 9230, 9312, 9662, 9938],\n           dtype='int64', length=2093)\n121\nInt64Index([  24,   30,   37,   48,   53,   69,   74,   79,   82,   83,\n            ...\n            8698, 8865, 8915, 8956, 9147, 9179, 9230, 9312, 9662, 9938],\n           dtype='int64', length=2093)\n42\nInt64Index([  24,   30,   37,   48,   53,   69,   74,   79,   82,   83,\n            ...\n            8698, 8865, 8915, 8956, 9147, 9179, 9230, 9312, 9662, 9938],\n           dtype='int64', length=2093)\n51\nInt64Index([  24,   30,   37,   48,   53,   69,   74,   79,   82,   83,\n            ...\n            8698, 8865, 8915, 8956, 9147, 9179, 9230, 9312, 9662, 9938],\n           dtype='int64', length=2093)\n90\nInt64Index([  24,   30,   37,   48,   53,   69,   74,   79,   82,   83,\n            ...\n            8698, 8865, 8915, 8956, 9147, 9179, 9230, 9312, 9662, 9938],\n           dtype='int64', length=2093)\n190\nInt64Index([  24,   30,   37,   48,   53,   69,   74,   79,   82,   83,\n            ...\n            8698, 8865, 8915, 8956, 9147, 9179, 9230, 9312, 9662, 9938],\n           dtype='int64', length=2093)\n159\nInt64Index([  24,   30,   37,   48,   53,   69,   74,   79,   82,   83,\n            ...\n            8698, 8865, 8915, 8956, 9147, 9179, 9230, 9312, 9662, 9938],\n           dtype='int64', length=2093)\n179\nInt64Index([  24,   30,   37,   48,   53,   69,   74,   79,   82,   83,\n            ...\n            8698, 8865, 8915, 8956, 9147, 9179, 9230, 9312, 9662, 9938],\n           dtype='int64', length=2093)\n137\nInt64Index([  24,   30,   37,   48,   53,   69,   74,   79,   82,   83,\n            ...\n            8698, 8865, 8915, 8956, 9147, 9179, 9230, 9312, 9662, 9938],\n           dtype='int64', length=2093)\n202\nInt64Index([  24,   30,   37,   48,   53,   69,   74,   79,   82,   83,\n            ...\n            8698, 8865, 8915, 8956, 9147, 9179, 9230, 9312, 9662, 9938],\n           dtype='int64', length=2093)\n163\nInt64Index([  24,   30,   37,   48,   53,   69,   74,   79,   82,   83,\n            ...\n            8698, 8865, 8915, 8956, 9147, 9179, 9230, 9312, 9662, 9938],\n           dtype='int64', length=2093)\n117\nInt64Index([  24,   30,   37,   48,   53,   69,   74,   79,   82,   83,\n            ...\n            8698, 8865, 8915, 8956, 9147, 9179, 9230, 9312, 9662, 9938],\n           dtype='int64', length=2093)\n203\nInt64Index([  24,   30,   37,   48,   53,   69,   74,   79,   82,   83,\n            ...\n            8698, 8865, 8915, 8956, 9147, 9179, 9230, 9312, 9662, 9938],\n           dtype='int64', length=2093)\n186\nInt64Index([  24,   30,   37,   48,   53,   69,   74,   79,   82,   83,\n            ...\n            8698, 8865, 8915, 8956, 9147, 9179, 9230, 9312, 9662, 9938],\n           dtype='int64', length=2093)\n204\nInt64Index([  24,   30,   37,   48,   53,   69,   74,   79,   82,   83,\n            ...\n            8698, 8865, 8915, 8956, 9147, 9179, 9230, 9312, 9662, 9938],\n           dtype='int64', length=2093)\n205\nInt64Index([  24,   30,   37,   48,   53,   69,   74,   79,   82,   83,\n            ...\n            8698, 8865, 8915, 8956, 9147, 9179, 9230, 9312, 9662, 9938],\n           dtype='int64', length=2093)\n146\nInt64Index([  24,   30,   37,   48,   53,   69,   74,   79,   82,   83,\n            ...\n            8698, 8865, 8915, 8956, 9147, 9179, 9230, 9312, 9662, 9938],\n           dtype='int64', length=2093)\n192\nInt64Index([  24,   30,   37,   48,   53,   69,   74,   79,   82,   83,\n            ...\n            8698, 8865, 8915, 8956, 9147, 9179, 9230, 9312, 9662, 9938],\n           dtype='int64', length=2093)\n72\nInt64Index([  24,   30,   37,   48,   53,   69,   74,   79,   82,   83,\n            ...\n            8698, 8865, 8915, 8956, 9147, 9179, 9230, 9312, 9662, 9938],\n           dtype='int64', length=2093)\n151\nInt64Index([  24,   30,   37,   48,   53,   69,   74,   79,   82,   83,\n            ...\n            8698, 8865, 8915, 8956, 9147, 9179, 9230, 9312, 9662, 9938],\n           dtype='int64', length=2093)\n191\nInt64Index([  24,   30,   37,   48,   53,   69,   74,   79,   82,   83,\n            ...\n            8698, 8865, 8915, 8956, 9147, 9179, 9230, 9312, 9662, 9938],\n           dtype='int64', length=2093)\n189\nInt64Index([  24,   30,   37,   48,   53,   69,   74,   79,   82,   83,\n            ...\n            8698, 8865, 8915, 8956, 9147, 9179, 9230, 9312, 9662, 9938],\n           dtype='int64', length=2093)\n174\nInt64Index([  24,   30,   37,   48,   53,   69,   74,   79,   82,   83,\n            ...\n            8698, 8865, 8915, 8956, 9147, 9179, 9230, 9312, 9662, 9938],\n           dtype='int64', length=2093)\n59\nInt64Index([  24,   30,   37,   48,   53,   69,   74,   79,   82,   83,\n            ...\n            8698, 8865, 8915, 8956, 9147, 9179, 9230, 9312, 9662, 9938],\n           dtype='int64', length=2093)\n153\nInt64Index([  24,   30,   37,   48,   53,   69,   74,   79,   82,   83,\n            ...\n            8698, 8865, 8915, 8956, 9147, 9179, 9230, 9312, 9662, 9938],\n           dtype='int64', length=2093)\n101\nInt64Index([  24,   30,   37,   48,   53,   69,   74,   79,   82,   83,\n            ...\n            8698, 8865, 8915, 8956, 9147, 9179, 9230, 9312, 9662, 9938],\n           dtype='int64', length=2093)\n210\nInt64Index([  24,   30,   37,   48,   53,   69,   74,   79,   82,   83,\n            ...\n            8698, 8865, 8915, 8956, 9147, 9179, 9230, 9312, 9662, 9938],\n           dtype='int64', length=2093)\n180\nInt64Index([  24,   30,   37,   48,   53,   69,   74,   79,   82,   83,\n            ...\n            8698, 8865, 8915, 8956, 9147, 9179, 9230, 9312, 9662, 9938],\n           dtype='int64', length=2093)\n211\nInt64Index([  24,   30,   37,   48,   53,   69,   74,   79,   82,   83,\n            ...\n            8698, 8865, 8915, 8956, 9147, 9179, 9230, 9312, 9662, 9938],\n           dtype='int64', length=2093)\n133\nInt64Index([  24,   30,   37,   48,   53,   69,   74,   79,   82,   83,\n            ...\n            8698, 8865, 8915, 8956, 9147, 9179, 9230, 9312, 9662, 9938],\n           dtype='int64', length=2093)\n209\nInt64Index([  24,   30,   37,   48,   53,   69,   74,   79,   82,   83,\n            ...\n            8698, 8865, 8915, 8956, 9147, 9179, 9230, 9312, 9662, 9938],\n           dtype='int64', length=2093)\n208\nInt64Index([  24,   30,   37,   48,   53,   69,   74,   79,   82,   83,\n            ...\n            8698, 8865, 8915, 8956, 9147, 9179, 9230, 9312, 9662, 9938],\n           dtype='int64', length=2093)\n126\nInt64Index([  24,   30,   37,   48,   53,   69,   74,   79,   82,   83,\n            ...\n            8698, 8865, 8915, 8956, 9147, 9179, 9230, 9312, 9662, 9938],\n           dtype='int64', length=2093)\n188\nInt64Index([  24,   30,   37,   48,   53,   69,   74,   79,   82,   83,\n            ...\n            8698, 8865, 8915, 8956, 9147, 9179, 9230, 9312, 9662, 9938],\n           dtype='int64', length=2093)\n139\nInt64Index([  24,   30,   37,   48,   53,   69,   74,   79,   82,   83,\n            ...\n            8698, 8865, 8915, 8956, 9147, 9179, 9230, 9312, 9662, 9938],\n           dtype='int64', length=2093)\n187\nInt64Index([  24,   30,   37,   48,   53,   69,   74,   79,   82,   83,\n            ...\n            8698, 8865, 8915, 8956, 9147, 9179, 9230, 9312, 9662, 9938],\n           dtype='int64', length=2093)\n61\nInt64Index([  24,   30,   37,   48,   53,   69,   74,   79,   82,   83,\n            ...\n            8698, 8865, 8915, 8956, 9147, 9179, 9230, 9312, 9662, 9938],\n           dtype='int64', length=2093)\n20\nInt64Index([  24,   30,   37,   48,   53,   69,   74,   79,   82,   83,\n            ...\n            8698, 8865, 8915, 8956, 9147, 9179, 9230, 9312, 9662, 9938],\n           dtype='int64', length=2093)\n173\nInt64Index([  24,   30,   37,   48,   53,   69,   74,   79,   82,   83,\n            ...\n            8698, 8865, 8915, 8956, 9147, 9179, 9230, 9312, 9662, 9938],\n           dtype='int64', length=2093)\n207\nInt64Index([  24,   30,   37,   48,   53,   69,   74,   79,   82,   83,\n            ...\n            8698, 8865, 8915, 8956, 9147, 9179, 9230, 9312, 9662, 9938],\n           dtype='int64', length=2093)\n158\nInt64Index([  24,   30,   37,   48,   53,   69,   74,   79,   82,   83,\n            ...\n            8698, 8865, 8915, 8956, 9147, 9179, 9230, 9312, 9662, 9938],\n           dtype='int64', length=2093)\n213\nInt64Index([  24,   30,   37,   48,   53,   69,   74,   79,   82,   83,\n            ...\n            8698, 8865, 8915, 8956, 9147, 9179, 9230, 9312, 9662, 9938],\n           dtype='int64', length=2093)\n120\nInt64Index([  24,   30,   37,   48,   53,   69,   74,   79,   82,   83,\n            ...\n            8698, 8865, 8915, 8956, 9147, 9179, 9230, 9312, 9662, 9938],\n           dtype='int64', length=2093)\n212\nInt64Index([  24,   30,   37,   48,   53,   69,   74,   79,   82,   83,\n            ...\n            8698, 8865, 8915, 8956, 9147, 9179, 9230, 9312, 9662, 9938],\n           dtype='int64', length=2093)\n206\nInt64Index([  24,   30,   37,   48,   53,   69,   74,   79,   82,   83,\n            ...\n            8698, 8865, 8915, 8956, 9147, 9179, 9230, 9312, 9662, 9938],\n           dtype='int64', length=2093)\n39\nInt64Index([  24,   30,   37,   48,   53,   69,   74,   79,   82,   83,\n            ...\n            8698, 8865, 8915, 8956, 9147, 9179, 9230, 9312, 9662, 9938],\n           dtype='int64', length=2093)\n147\nInt64Index([  24,   30,   37,   48,   53,   69,   74,   79,   82,   83,\n            ...\n            8698, 8865, 8915, 8956, 9147, 9179, 9230, 9312, 9662, 9938],\n           dtype='int64', length=2093)\n167\nInt64Index([  24,   30,   37,   48,   53,   69,   74,   79,   82,   83,\n            ...\n            8698, 8865, 8915, 8956, 9147, 9179, 9230, 9312, 9662, 9938],\n           dtype='int64', length=2093)\n110\nInt64Index([  24,   30,   37,   48,   53,   69,   74,   79,   82,   83,\n            ...\n            8698, 8865, 8915, 8956, 9147, 9179, 9230, 9312, 9662, 9938],\n           dtype='int64', length=2093)\n127\nInt64Index([  24,   30,   37,   48,   53,   69,   74,   79,   82,   83,\n            ...\n            8698, 8865, 8915, 8956, 9147, 9179, 9230, 9312, 9662, 9938],\n           dtype='int64', length=2093)\n0.8001002110000002\n"
    }
   ],
   "source": [
    "start = time.process_time()\n",
    "for header in headers:\n",
    "    group_id = D2D_group.loc[D2D_group['Header'] == header].index[0]\n",
    "    print (group_id)\n",
    "    arr_members = members.loc[members['arrange'] == cur_arrange].index\n",
    "    non_arr_members = members.loc[members['arrange'] != cur_arrange].index\n",
    "    print(arr_members)\n",
    "\n",
    "print(time.process_time() - start)\n",
    "    "
   ]
  },
  {
   "cell_type": "code",
   "execution_count": null,
   "metadata": {},
   "outputs": [],
   "source": []
  }
 ],
 "metadata": {
  "language_info": {
   "codemirror_mode": {
    "name": "ipython",
    "version": 3
   },
   "file_extension": ".py",
   "mimetype": "text/x-python",
   "name": "python",
   "nbconvert_exporter": "python",
   "pygments_lexer": "ipython3",
   "version": "3.8.0-final"
  },
  "orig_nbformat": 2,
  "kernelspec": {
   "name": "python38064bittdcrpipenvd4536cd5b7e04db888643b26fe3148af",
   "display_name": "Python 3.8.0 64-bit ('TDCR': pipenv)"
  }
 },
 "nbformat": 4,
 "nbformat_minor": 2
}