{
 "cells": [
  {
   "cell_type": "code",
   "execution_count": 1,
   "metadata": {},
   "outputs": [],
   "source": [
    "import pandas as pd\n",
    "import numpy as np\n",
    "import matplotlib.pyplot as plt\n",
    "%matplotlib inline"
   ]
  },
  {
   "cell_type": "code",
   "execution_count": 5,
   "metadata": {},
   "outputs": [
    {
     "output_type": "execute_result",
     "data": {
      "text/plain": "   MTCD_id        x        y  clusters\n0        0 -515.140  350.317         0\n1        1  -62.455  -71.412         1\n2        2   51.550  474.596         2\n3        3  602.994   48.948         3\n4        4 -928.978 -170.421         4",
      "text/html": "<div>\n<style scoped>\n    .dataframe tbody tr th:only-of-type {\n        vertical-align: middle;\n    }\n\n    .dataframe tbody tr th {\n        vertical-align: top;\n    }\n\n    .dataframe thead th {\n        text-align: right;\n    }\n</style>\n<table border=\"1\" class=\"dataframe\">\n  <thead>\n    <tr style=\"text-align: right;\">\n      <th></th>\n      <th>MTCD_id</th>\n      <th>x</th>\n      <th>y</th>\n      <th>clusters</th>\n    </tr>\n  </thead>\n  <tbody>\n    <tr>\n      <th>0</th>\n      <td>0</td>\n      <td>-515.140</td>\n      <td>350.317</td>\n      <td>0</td>\n    </tr>\n    <tr>\n      <th>1</th>\n      <td>1</td>\n      <td>-62.455</td>\n      <td>-71.412</td>\n      <td>1</td>\n    </tr>\n    <tr>\n      <th>2</th>\n      <td>2</td>\n      <td>51.550</td>\n      <td>474.596</td>\n      <td>2</td>\n    </tr>\n    <tr>\n      <th>3</th>\n      <td>3</td>\n      <td>602.994</td>\n      <td>48.948</td>\n      <td>3</td>\n    </tr>\n    <tr>\n      <th>4</th>\n      <td>4</td>\n      <td>-928.978</td>\n      <td>-170.421</td>\n      <td>4</td>\n    </tr>\n  </tbody>\n</table>\n</div>"
     },
     "metadata": {},
     "execution_count": 5
    }
   ],
   "source": [
    "MTCD_grouping = pd.read_csv('MTCD_grouping_30000.csv', index_col=False)\n",
    "MTCD_grouping.head()"
   ]
  },
  {
   "cell_type": "code",
   "execution_count": 6,
   "metadata": {},
   "outputs": [
    {
     "output_type": "execute_result",
     "data": {
      "text/plain": "array([    0,     1,     2,     3,     4,     5,     6,     7,     8,\n           9,    10,    11,    12,    13,    14,    15,    16,    17,\n          18,    19,    20,    21,    24,    25,    26,    27,    29,\n          30,    31,    32,    33,    34,    37,    38,    39,    41,\n          42,    46,    48,    51,    52,    53,    55,    57,    58,\n          61,    62,    63,    64,    67,    68,    69,    70,    71,\n          73,    74,    75,    78,    79,    80,    84,    85,    89,\n          92,    93,    95,    97,    98,    99,   101,   102,   104,\n         106,   108,   110,   112,   113,   115,   117,   121,   122,\n         125,   127,   130,   131,   138,   139,   143,   145,   155,\n         159,   160,   161,   162,   164,   166,   176,   178,   181,\n         182,   188,   190,   197,   198,   202,   221,   225,   226,\n         227,   231,   234,   235,   237,   240,   242,   247,   254,\n         263,   268,   270,   274,   287,   294,   295,   312,   313,\n         316,   317,   318,   320,   323,   327,   348,   349,   353,\n         356,   361,   375,   376,   383,   399,   412,   420,   422,\n         431,   433,   452,   454,   462,   472,   483,   487,   540,\n         553,   579,   597,   600,   624,   637,   645,   655,   736,\n         741,   783,   832,   854,   870,   924,   947,   958,   963,\n         996,  1004,  1056,  1057,  1080,  1088,  1110,  1182,  1305,\n        1316,  1380,  1385,  1403,  1476,  1524,  1531,  1602,  1693,\n        1699,  1756,  1857,  2261,  2455,  2476,  2662,  2798,  2863,\n        3260,  4007,  4160,  4350,  4577,  4585,  4606,  4819,  5862,\n        5902,  7008,  7742,  7811,  8188,  8225,  9805, 10106, 11624,\n       14070, 16553, 17330])"
     },
     "metadata": {},
     "execution_count": 6
    }
   ],
   "source": [
    "np.unique(MTCD_grouping.clusters)"
   ]
  },
  {
   "cell_type": "code",
   "execution_count": 7,
   "metadata": {},
   "outputs": [
    {
     "output_type": "execute_result",
     "data": {
      "text/plain": "(219,)"
     },
     "metadata": {},
     "execution_count": 7
    }
   ],
   "source": [
    "np.unique(MTCD_grouping.clusters).shape"
   ]
  }
 ],
 "metadata": {
  "language_info": {
   "codemirror_mode": {
    "name": "ipython",
    "version": 3
   },
   "file_extension": ".py",
   "mimetype": "text/x-python",
   "name": "python",
   "nbconvert_exporter": "python",
   "pygments_lexer": "ipython3",
   "version": "3.8.0-final"
  },
  "orig_nbformat": 2,
  "kernelspec": {
   "name": "python38064bittdcrpipenvd4536cd5b7e04db888643b26fe3148af",
   "display_name": "Python 3.8.0 64-bit ('TDCR': pipenv)"
  }
 },
 "nbformat": 4,
 "nbformat_minor": 2
}