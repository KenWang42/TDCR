{
 "cells": [
  {
   "cell_type": "code",
   "execution_count": 1,
   "metadata": {},
   "outputs": [],
   "source": [
    "import pandas as pd\n",
    "import numpy as np\n",
    "import matplotlib.pyplot as plt\n",
    "%matplotlib inline"
   ]
  },
  {
   "cell_type": "code",
   "execution_count": 5,
   "metadata": {},
   "outputs": [
    {
     "output_type": "execute_result",
     "data": {
      "text/plain": "   MTCD_id        x        y  clusters\n0        0  719.500 -693.657        19\n1        1   52.387  958.314       192\n2        2 -580.075  541.164       110\n3        3  669.008   29.018       237\n4        4  619.936 -435.117       216",
      "text/html": "<div>\n<style scoped>\n    .dataframe tbody tr th:only-of-type {\n        vertical-align: middle;\n    }\n\n    .dataframe tbody tr th {\n        vertical-align: top;\n    }\n\n    .dataframe thead th {\n        text-align: right;\n    }\n</style>\n<table border=\"1\" class=\"dataframe\">\n  <thead>\n    <tr style=\"text-align: right;\">\n      <th></th>\n      <th>MTCD_id</th>\n      <th>x</th>\n      <th>y</th>\n      <th>clusters</th>\n    </tr>\n  </thead>\n  <tbody>\n    <tr>\n      <th>0</th>\n      <td>0</td>\n      <td>719.500</td>\n      <td>-693.657</td>\n      <td>19</td>\n    </tr>\n    <tr>\n      <th>1</th>\n      <td>1</td>\n      <td>52.387</td>\n      <td>958.314</td>\n      <td>192</td>\n    </tr>\n    <tr>\n      <th>2</th>\n      <td>2</td>\n      <td>-580.075</td>\n      <td>541.164</td>\n      <td>110</td>\n    </tr>\n    <tr>\n      <th>3</th>\n      <td>3</td>\n      <td>669.008</td>\n      <td>29.018</td>\n      <td>237</td>\n    </tr>\n    <tr>\n      <th>4</th>\n      <td>4</td>\n      <td>619.936</td>\n      <td>-435.117</td>\n      <td>216</td>\n    </tr>\n  </tbody>\n</table>\n</div>"
     },
     "metadata": {},
     "execution_count": 5
    }
   ],
   "source": [
    "MTCD_grouping = pd.read_csv('MTCD_grouping_1000.csv', index_col=False)\n",
    "MTCD_grouping.head()"
   ]
  },
  {
   "cell_type": "code",
   "execution_count": 7,
   "metadata": {},
   "outputs": [],
   "source": [
    "MTCD_grouping.x = round(MTCD_grouping.x, 3)"
   ]
  },
  {
   "cell_type": "code",
   "execution_count": null,
   "metadata": {},
   "outputs": [],
   "source": [
    "for nMTCD in (1000, 3000, 5000, 10000, 30000):\n",
    "    MTCD_grouping = pd.read_csv('MTCD_grouping_{nMTCD}.csv', index_col=False)\n",
    "    MTCD_grouping.x = round(MTCD_grouping.x, 3)\n",
    "    MTCD_grouping.y = round(MTCD_grouping.y, 3)\n",
    "    MTCD_grouping.to_csv('MTCD_grouping_{nMTCD}.csv', index=False)"
   ]
  }
 ],
 "metadata": {
  "language_info": {
   "codemirror_mode": {
    "name": "ipython",
    "version": 3
   },
   "file_extension": ".py",
   "mimetype": "text/x-python",
   "name": "python",
   "nbconvert_exporter": "python",
   "pygments_lexer": "ipython3",
   "version": "3.8.0-final"
  },
  "orig_nbformat": 2,
  "kernelspec": {
   "name": "python38064bittdcrpipenvd4536cd5b7e04db888643b26fe3148af",
   "display_name": "Python 3.8.0 64-bit ('TDCR': pipenv)"
  }
 },
 "nbformat": 4,
 "nbformat_minor": 2
}