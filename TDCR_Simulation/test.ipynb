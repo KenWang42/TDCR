{
 "cells": [
  {
   "cell_type": "code",
   "execution_count": 65,
   "metadata": {},
   "outputs": [],
   "source": [
    "import pandas as pd\n",
    "import numpy as np\n",
    "import random\n",
    "import os\n",
    "import time\n",
    "\n",
    "start_time = time.time()\n",
    "\n",
    "path = os.path.abspath('.')\n",
    "\n",
    "simRAO = 1000\n",
    "\n",
    "nMTCD = 10000\n",
    "\n",
    "nMTCD_success = 0  # total number of device that transmit success\n",
    "\n",
    "nMTCD_fail = 0  # total number of device that transmit failed\n",
    "\n",
    "Backoff = 2  # Backoff Indicator = 20ms\n",
    "\n",
    "maxTrans = 10  # Maximum number of preamble transmission\n",
    "\n",
    "N_PRB = 25  # Number of Sidelink Physical Resource Block\n",
    "\n",
    "N_PRB_arrange = 20  # the number of arranged PRB\n",
    "\n",
    "N_preamble = 54  # Number of PRACH Preamble\n",
    "\n",
    "file_path = path + f'/MTCD_data_{nMTCD}.csv'\n",
    "MTCD_data = pd.read_csv(file_path, index_col=False)\n",
    "\n",
    "\"\"\"\n",
    "RA_data\n",
    "    records RA parameter and simulation result of every device\n",
    "    the parameters required in enB <-> device communication\n",
    "    Index:\n",
    "        device_id\n",
    "    Columns 3:\n",
    "        RA_init:     Integer,\n",
    "                     next frame the device send RA request\n",
    "        RA_first:    Integer,\n",
    "                     first frame the device send RA request\n",
    "        RA_success:  Integer,\n",
    "                     frame the device complete RA procedure\n",
    "        RA_transmit: Integer,\n",
    "                     number of the device trying to send RA request\n",
    "\"\"\"\n",
    "RA_data = MTCD_data[['RA_init', 'RA_success', 'RA_transmit', 'RA_first']]\n",
    "\n",
    "\"\"\"\n",
    "D2D_member\n",
    "    records D2D parameter of every Member\n",
    "    also records numerical result for every Member\n",
    "    the parametes required in Member -> Header communication\n",
    "    Index:\n",
    "        device_id\n",
    "    Columns 7:\n",
    "        Header:   Integer,\n",
    "                  the Header of belonging D2D group\n",
    "                  also indicate the group Header's device_id\n",
    "        Member:   Boolen,\n",
    "                  whether the device is a Member\n",
    "        arrange:  Integer,\n",
    "                  indicate the beloneing arrange sequence\n",
    "        request:  Boolen,\n",
    "                  whether the Member will send D2D request\n",
    "        response: Boolean,\n",
    "                  whether the device received its Header Response\n",
    "        success:  Integer,\n",
    "                  the frame the device finish D2D transmission (-1: not success yet)\n",
    "        transmit: Integer,\n",
    "                  number of the Member trying to send D2D request\n",
    "\"\"\"\n",
    "D2D_member = pd.DataFrame(\n",
    "    columns=['Header', 'Member', 'arrange',\n",
    "             'request', 'response', 'success', 'transmit'],\n",
    ")\n",
    "\n",
    "# assign group\n",
    "D2D_member['Header'] = MTCD_data['clusters']\n",
    "\n",
    "# assign type\n",
    "D2D_member['Member'] = (D2D_member.index != D2D_member['Header'])\n",
    "\n",
    "# assign arrange\n",
    "for header in D2D_member['Header'].unique():\n",
    "    members = D2D_member.loc[(D2D_member['Header'] == header) &\n",
    "                             (D2D_member['Member'])]\n",
    "    n = 0\n",
    "    for device_id in members.index:\n",
    "        D2D_member.at[device_id, 'arrange'] = n // N_PRB_arrange\n",
    "        n += 1\n",
    "\n",
    "# initialize request\n",
    "D2D_member['request'] = np.zeros(nMTCD, dtype=bool)\n",
    "\n",
    "# initialize response\n",
    "D2D_member['response'] = np.zeros(nMTCD, dtype=bool)\n",
    "\n",
    "# initialize success = -1\n",
    "D2D_member['success'] = np.full(nMTCD, -1)\n",
    "\n",
    "# initialize transmit\n",
    "D2D_member['transmit'] = np.zeros(nMTCD, dtype=int)\n",
    "\n",
    "\"\"\"\n",
    "D2D_group\n",
    "    records D2D parameter of every Header\n",
    "    also records numerical result for every Header\n",
    "    records the parameter required by Header -> Member communication\n",
    "    Index:\n",
    "        default sequence\n",
    "    Columns 6:\n",
    "        Header:     Integer,\n",
    "                    device_id of the group Header\n",
    "        class:      Integer,\n",
    "                    the barring class of the beloneing D2D group\n",
    "        N_member:   Integer,\n",
    "                    the total number of device (member+header) in the group\n",
    "        arr_seq:    Integer,\n",
    "                    current arrange sequence\n",
    "        N_RA:       Integer,\n",
    "                    number of RA_request within the group\n",
    "        HL:         Bollean,\n",
    "                    Whether the group is in HL or not\n",
    "\"\"\"\n",
    "D2D_group = pd.DataFrame(\n",
    "    columns=['Header', 'class', 'N_member', 'arr_seq', 'N_RA', 'HL']\n",
    ")\n",
    "\n",
    "# initialize Header\n",
    "D2D_group['Header'] = MTCD_data['clusters'].unique()\n",
    "\n",
    "# assign Class\n",
    "N_group = len(D2D_group)\n",
    "N_Class = (N_group // N_preamble) + 1\n",
    "seq = 0\n",
    "for group in range(N_group):\n",
    "    D2D_group.at[group, 'class'] = group // N_preamble\n",
    "\n",
    "# initialize N_member\n",
    "D2D_group['N_member'] = D2D_member.groupby(['Header']).size().values\n",
    "\n",
    "# initialize current arrange sequence\n",
    "D2D_group['arr_seq'] = np.zeros(N_group, dtype=int)\n",
    "\n",
    "# initialize N_RA\n",
    "D2D_group['N_RA'] = np.zeros(N_group, dtype=int)\n",
    "\n",
    "# initialize N_RA\n",
    "D2D_group['HL'] = np.zeros(N_group, dtype=bool)\n",
    "\n",
    "\"\"\"\n",
    "BS_schedule\n",
    "    indicate the broadcast information for SIB2\n",
    "    update every 16 system frame\n",
    "    Do not require initialize\n",
    "    Index:\n",
    "        system_frame\n",
    "    Columns 2:\n",
    "        class: List[Integer],\n",
    "               the class can initiate RA procedure\n",
    "        TDCR:  Char,\n",
    "               indicate the type of TDCR level\n",
    "               N:  normal loading, not a TDCR frame\n",
    "               M:  medium loading congestion resolving\n",
    "                   1 frame per period\n",
    "                   2 RA_request per group\n",
    "               H:  heavy loading congestion resolving\n",
    "                   2 frame per period\n",
    "                   1 RA_request per group\n",
    "\"\"\"\n",
    "BS_schedule = pd.DataFrame(\n",
    "    columns=['class', 'TDCR'],\n",
    ")\n",
    "\n",
    "\"\"\"\n",
    "D2D_result\n",
    "    records the numerical result of D2D sidelink\n",
    "    Index:\n",
    "        sequence of SC-Period\n",
    "    Columns 4:\n",
    "         frame:      Integer,\n",
    "                     the system frame when the SC-period-1 ends\n",
    "         N_request:  Integer,\n",
    "                     number of device send D2D_request to its header\n",
    "         N_response: Integer,\n",
    "                     number of D2D device that receive its Header response\n",
    "         N_HL:       Integer,\n",
    "                     number of Heavy Loading D2D_group\n",
    "\"\"\"\n",
    "D2D_result = pd.DataFrame(\n",
    "    columns=['frame', 'N_request', 'N_response', 'N_HL'],\n",
    ")\n",
    "\n",
    "#  records the current loading status of each classes\n",
    "Class_Status = ['N'] * N_Class\n",
    "\n",
    "D2D_period = 8  # 40 ms Member -> Header, 40ms Header -> Member\n",
    "\n",
    "SIB2_period = 16  # broadcast period of SIB2: 160ms\n",
    "\n",
    "N_Normal_frame_total = 0"
   ]
  },
  {
   "cell_type": "code",
   "execution_count": 32,
   "metadata": {},
   "outputs": [],
   "source": [
    "simRAO = 2000\n",
    "nMTCD = 30000\n",
    "MTCD_data = pd.read_csv(f'MTCD_data_{nMTCD}.csv', index_col=False)"
   ]
  },
  {
   "cell_type": "code",
   "execution_count": 33,
   "metadata": {},
   "outputs": [],
   "source": [
    "data = np.zeros((simRAO, 4), dtype=int)\n",
    "Preamble_status = pd.DataFrame(\n",
    "    data,\n",
    "    columns=['nRA', 'empty', 'collided', 'success'],\n",
    ")\n",
    "Preamble_status.index.name = 'system frame'"
   ]
  },
  {
   "cell_type": "code",
   "execution_count": 34,
   "metadata": {},
   "outputs": [
    {
     "output_type": "stream",
     "name": "stdout",
     "text": "(2000, 4)\n"
    },
    {
     "output_type": "execute_result",
     "data": {
      "text/plain": "              nRA  empty  collided  success\nsystem frame                               \n287             0      0         0        0\n648             0      0         0        0\n1529            0      0         0        0\n1457            0      0         0        0\n1969            0      0         0        0",
      "text/html": "<div>\n<style scoped>\n    .dataframe tbody tr th:only-of-type {\n        vertical-align: middle;\n    }\n\n    .dataframe tbody tr th {\n        vertical-align: top;\n    }\n\n    .dataframe thead th {\n        text-align: right;\n    }\n</style>\n<table border=\"1\" class=\"dataframe\">\n  <thead>\n    <tr style=\"text-align: right;\">\n      <th></th>\n      <th>nRA</th>\n      <th>empty</th>\n      <th>collided</th>\n      <th>success</th>\n    </tr>\n    <tr>\n      <th>system frame</th>\n      <th></th>\n      <th></th>\n      <th></th>\n      <th></th>\n    </tr>\n  </thead>\n  <tbody>\n    <tr>\n      <th>287</th>\n      <td>0</td>\n      <td>0</td>\n      <td>0</td>\n      <td>0</td>\n    </tr>\n    <tr>\n      <th>648</th>\n      <td>0</td>\n      <td>0</td>\n      <td>0</td>\n      <td>0</td>\n    </tr>\n    <tr>\n      <th>1529</th>\n      <td>0</td>\n      <td>0</td>\n      <td>0</td>\n      <td>0</td>\n    </tr>\n    <tr>\n      <th>1457</th>\n      <td>0</td>\n      <td>0</td>\n      <td>0</td>\n      <td>0</td>\n    </tr>\n    <tr>\n      <th>1969</th>\n      <td>0</td>\n      <td>0</td>\n      <td>0</td>\n      <td>0</td>\n    </tr>\n  </tbody>\n</table>\n</div>"
     },
     "metadata": {},
     "execution_count": 34
    }
   ],
   "source": [
    "print(Preamble_status.shape)\n",
    "Preamble_status.sample(5)"
   ]
  },
  {
   "cell_type": "code",
   "execution_count": 29,
   "metadata": {},
   "outputs": [],
   "source": [
    "RA_data = MTCD_data[['RA_init', 'RA_first', 'RA_success', 'RA_transmit']]\n",
    "RA_data.index.name = 'device_id'"
   ]
  },
  {
   "cell_type": "code",
   "execution_count": 30,
   "metadata": {},
   "outputs": [
    {
     "output_type": "stream",
     "name": "stdout",
     "text": "(30000, 4)\n"
    },
    {
     "output_type": "execute_result",
     "data": {
      "text/plain": "           RA_init  RA_first  RA_success  RA_transmit\ndevice_id                                            \n7505           416       416          -1            0\n14971          300       300          -1            0\n24892          506       506          -1            0\n19989          213       213          -1            0\n4439           385       385          -1            0",
      "text/html": "<div>\n<style scoped>\n    .dataframe tbody tr th:only-of-type {\n        vertical-align: middle;\n    }\n\n    .dataframe tbody tr th {\n        vertical-align: top;\n    }\n\n    .dataframe thead th {\n        text-align: right;\n    }\n</style>\n<table border=\"1\" class=\"dataframe\">\n  <thead>\n    <tr style=\"text-align: right;\">\n      <th></th>\n      <th>RA_init</th>\n      <th>RA_first</th>\n      <th>RA_success</th>\n      <th>RA_transmit</th>\n    </tr>\n    <tr>\n      <th>device_id</th>\n      <th></th>\n      <th></th>\n      <th></th>\n      <th></th>\n    </tr>\n  </thead>\n  <tbody>\n    <tr>\n      <th>7505</th>\n      <td>416</td>\n      <td>416</td>\n      <td>-1</td>\n      <td>0</td>\n    </tr>\n    <tr>\n      <th>14971</th>\n      <td>300</td>\n      <td>300</td>\n      <td>-1</td>\n      <td>0</td>\n    </tr>\n    <tr>\n      <th>24892</th>\n      <td>506</td>\n      <td>506</td>\n      <td>-1</td>\n      <td>0</td>\n    </tr>\n    <tr>\n      <th>19989</th>\n      <td>213</td>\n      <td>213</td>\n      <td>-1</td>\n      <td>0</td>\n    </tr>\n    <tr>\n      <th>4439</th>\n      <td>385</td>\n      <td>385</td>\n      <td>-1</td>\n      <td>0</td>\n    </tr>\n  </tbody>\n</table>\n</div>"
     },
     "metadata": {},
     "execution_count": 30
    }
   ],
   "source": [
    "print(RA_data.shape)\n",
    "RA_data.sample(5)"
   ]
  },
  {
   "cell_type": "code",
   "execution_count": 31,
   "metadata": {},
   "outputs": [],
   "source": [
    "D2D_member = pd.DataFrame(\n",
    "    columns=['group', 'Member', 'arrange', 'request', 'delay', 'transmit'],\n",
    ")\n",
    "\n",
    "# assign group\n",
    "D2D_member['group'] = MTCD_data['clusters']\n",
    "\n",
    "# assign type\n",
    "D2D_member['Member'] = (D2D_member.index != D2D_member['group'])\n",
    "\n",
    "# assign arrange\n",
    "arrangePRB = 20\n",
    "for group in D2D_member['group'].unique():\n",
    "    members = D2D_member.loc[(D2D_member['group'] == group) &\n",
    "                             (D2D_member['Member'])]\n",
    "    n = 0\n",
    "    for device_id, member in members.iterrows():\n",
    "        D2D_member.at[device_id, 'arrange'] = n // arrangePRB\n",
    "        n += 1\n",
    "\n",
    "# initiate request\n",
    "D2D_member['request'] = np.zeros(nMTCD, dtype=bool)\n",
    "\n",
    "# initiate delay\n",
    "D2D_member['delay'] = np.zeros(nMTCD, dtype=int)\n",
    "\n",
    "# initiate transmit\n",
    "D2D_member['transmit'] = np.zeros(nMTCD, dtype=int)"
   ]
  },
  {
   "cell_type": "code",
   "execution_count": 32,
   "metadata": {},
   "outputs": [
    {
     "output_type": "stream",
     "name": "stdout",
     "text": "(30000, 6)\n"
    },
    {
     "output_type": "execute_result",
     "data": {
      "text/plain": "           group  Member arrange  request  delay  transmit\ndevice_id                                                 \n316          316   False     NaN    False      0         0\n127          127   False     NaN    False      0         0\n145          145   False     NaN    False      0         0\n84            84   False     NaN    False      0         0\n93            93   False     NaN    False      0         0",
      "text/html": "<div>\n<style scoped>\n    .dataframe tbody tr th:only-of-type {\n        vertical-align: middle;\n    }\n\n    .dataframe tbody tr th {\n        vertical-align: top;\n    }\n\n    .dataframe thead th {\n        text-align: right;\n    }\n</style>\n<table border=\"1\" class=\"dataframe\">\n  <thead>\n    <tr style=\"text-align: right;\">\n      <th></th>\n      <th>group</th>\n      <th>Member</th>\n      <th>arrange</th>\n      <th>request</th>\n      <th>delay</th>\n      <th>transmit</th>\n    </tr>\n    <tr>\n      <th>device_id</th>\n      <th></th>\n      <th></th>\n      <th></th>\n      <th></th>\n      <th></th>\n      <th></th>\n    </tr>\n  </thead>\n  <tbody>\n    <tr>\n      <th>316</th>\n      <td>316</td>\n      <td>False</td>\n      <td>NaN</td>\n      <td>False</td>\n      <td>0</td>\n      <td>0</td>\n    </tr>\n    <tr>\n      <th>127</th>\n      <td>127</td>\n      <td>False</td>\n      <td>NaN</td>\n      <td>False</td>\n      <td>0</td>\n      <td>0</td>\n    </tr>\n    <tr>\n      <th>145</th>\n      <td>145</td>\n      <td>False</td>\n      <td>NaN</td>\n      <td>False</td>\n      <td>0</td>\n      <td>0</td>\n    </tr>\n    <tr>\n      <th>84</th>\n      <td>84</td>\n      <td>False</td>\n      <td>NaN</td>\n      <td>False</td>\n      <td>0</td>\n      <td>0</td>\n    </tr>\n    <tr>\n      <th>93</th>\n      <td>93</td>\n      <td>False</td>\n      <td>NaN</td>\n      <td>False</td>\n      <td>0</td>\n      <td>0</td>\n    </tr>\n  </tbody>\n</table>\n</div>"
     },
     "metadata": {},
     "execution_count": 32
    }
   ],
   "source": [
    "print(D2D_member.shape)\n",
    "D2D_member.loc[D2D_member['Member'] == False].sample(5)"
   ]
  },
  {
   "cell_type": "code",
   "execution_count": 33,
   "metadata": {},
   "outputs": [],
   "source": [
    "D2D_group = pd.DataFrame(\n",
    "    columns=['Header', 'class', 'seq_class', 'N_member', 'RA_request', 'arrange', 'HL']\n",
    ")\n",
    "D2D_group['Header'] = MTCD_data['clusters'].unique()"
   ]
  },
  {
   "cell_type": "code",
   "execution_count": 34,
   "metadata": {},
   "outputs": [
    {
     "output_type": "stream",
     "name": "stdout",
     "text": "219 5\n"
    }
   ],
   "source": [
    "N_preamble = 54\n",
    "N_group = len(D2D_group)\n",
    "N_class = (N_group // N_preamble) + 1\n",
    "seq = 0\n",
    "ind = 0\n",
    "print(N_group, N_class)"
   ]
  },
  {
   "cell_type": "code",
   "execution_count": 35,
   "metadata": {},
   "outputs": [
    {
     "output_type": "execute_result",
     "data": {
      "text/plain": "     Header class seq_class N_member RA_request arrange   HL\n0         0     0         0      NaN        NaN     NaN  NaN\n1         1     0         1      NaN        NaN     NaN  NaN\n2         2     0         2      NaN        NaN     NaN  NaN\n3         3     0         3      NaN        NaN     NaN  NaN\n4         4     0         4      NaN        NaN     NaN  NaN\n..      ...   ...       ...      ...        ...     ...  ...\n214    1004     3        52      NaN        NaN     NaN  NaN\n215    1056     3        53      NaN        NaN     NaN  NaN\n216    1756     4         0      NaN        NaN     NaN  NaN\n217    9805     4         1      NaN        NaN     NaN  NaN\n218   16553     4         2      NaN        NaN     NaN  NaN\n\n[219 rows x 7 columns]",
      "text/html": "<div>\n<style scoped>\n    .dataframe tbody tr th:only-of-type {\n        vertical-align: middle;\n    }\n\n    .dataframe tbody tr th {\n        vertical-align: top;\n    }\n\n    .dataframe thead th {\n        text-align: right;\n    }\n</style>\n<table border=\"1\" class=\"dataframe\">\n  <thead>\n    <tr style=\"text-align: right;\">\n      <th></th>\n      <th>Header</th>\n      <th>class</th>\n      <th>seq_class</th>\n      <th>N_member</th>\n      <th>RA_request</th>\n      <th>arrange</th>\n      <th>HL</th>\n    </tr>\n  </thead>\n  <tbody>\n    <tr>\n      <th>0</th>\n      <td>0</td>\n      <td>0</td>\n      <td>0</td>\n      <td>NaN</td>\n      <td>NaN</td>\n      <td>NaN</td>\n      <td>NaN</td>\n    </tr>\n    <tr>\n      <th>1</th>\n      <td>1</td>\n      <td>0</td>\n      <td>1</td>\n      <td>NaN</td>\n      <td>NaN</td>\n      <td>NaN</td>\n      <td>NaN</td>\n    </tr>\n    <tr>\n      <th>2</th>\n      <td>2</td>\n      <td>0</td>\n      <td>2</td>\n      <td>NaN</td>\n      <td>NaN</td>\n      <td>NaN</td>\n      <td>NaN</td>\n    </tr>\n    <tr>\n      <th>3</th>\n      <td>3</td>\n      <td>0</td>\n      <td>3</td>\n      <td>NaN</td>\n      <td>NaN</td>\n      <td>NaN</td>\n      <td>NaN</td>\n    </tr>\n    <tr>\n      <th>4</th>\n      <td>4</td>\n      <td>0</td>\n      <td>4</td>\n      <td>NaN</td>\n      <td>NaN</td>\n      <td>NaN</td>\n      <td>NaN</td>\n    </tr>\n    <tr>\n      <th>...</th>\n      <td>...</td>\n      <td>...</td>\n      <td>...</td>\n      <td>...</td>\n      <td>...</td>\n      <td>...</td>\n      <td>...</td>\n    </tr>\n    <tr>\n      <th>214</th>\n      <td>1004</td>\n      <td>3</td>\n      <td>52</td>\n      <td>NaN</td>\n      <td>NaN</td>\n      <td>NaN</td>\n      <td>NaN</td>\n    </tr>\n    <tr>\n      <th>215</th>\n      <td>1056</td>\n      <td>3</td>\n      <td>53</td>\n      <td>NaN</td>\n      <td>NaN</td>\n      <td>NaN</td>\n      <td>NaN</td>\n    </tr>\n    <tr>\n      <th>216</th>\n      <td>1756</td>\n      <td>4</td>\n      <td>0</td>\n      <td>NaN</td>\n      <td>NaN</td>\n      <td>NaN</td>\n      <td>NaN</td>\n    </tr>\n    <tr>\n      <th>217</th>\n      <td>9805</td>\n      <td>4</td>\n      <td>1</td>\n      <td>NaN</td>\n      <td>NaN</td>\n      <td>NaN</td>\n      <td>NaN</td>\n    </tr>\n    <tr>\n      <th>218</th>\n      <td>16553</td>\n      <td>4</td>\n      <td>2</td>\n      <td>NaN</td>\n      <td>NaN</td>\n      <td>NaN</td>\n      <td>NaN</td>\n    </tr>\n  </tbody>\n</table>\n<p>219 rows × 7 columns</p>\n</div>"
     },
     "metadata": {},
     "execution_count": 35
    }
   ],
   "source": [
    "for group in range(N_group):\n",
    "    D2D_group.at[group, 'class'] = group // N_preamble\n",
    "    # assign inter-class sequence\n",
    "    D2D_group.at[group, 'seq_class'] = seq\n",
    "    seq = (seq+1) % N_preamble\n",
    "D2D_group"
   ]
  },
  {
   "cell_type": "code",
   "execution_count": 36,
   "metadata": {},
   "outputs": [
    {
     "output_type": "execute_result",
     "data": {
      "text/plain": "     Header class seq_class  N_member RA_request arrange   HL\n0         0     0         0       159        NaN     NaN  NaN\n1         1     0         1       159        NaN     NaN  NaN\n2         2     0         2       162        NaN     NaN  NaN\n3         3     0         3       120        NaN     NaN  NaN\n4         4     0         4       138        NaN     NaN  NaN\n..      ...   ...       ...       ...        ...     ...  ...\n214    1004     3        52        96        NaN     NaN  NaN\n215    1056     3        53       106        NaN     NaN  NaN\n216    1756     4         0       119        NaN     NaN  NaN\n217    9805     4         1        55        NaN     NaN  NaN\n218   16553     4         2       108        NaN     NaN  NaN\n\n[219 rows x 7 columns]",
      "text/html": "<div>\n<style scoped>\n    .dataframe tbody tr th:only-of-type {\n        vertical-align: middle;\n    }\n\n    .dataframe tbody tr th {\n        vertical-align: top;\n    }\n\n    .dataframe thead th {\n        text-align: right;\n    }\n</style>\n<table border=\"1\" class=\"dataframe\">\n  <thead>\n    <tr style=\"text-align: right;\">\n      <th></th>\n      <th>Header</th>\n      <th>class</th>\n      <th>seq_class</th>\n      <th>N_member</th>\n      <th>RA_request</th>\n      <th>arrange</th>\n      <th>HL</th>\n    </tr>\n  </thead>\n  <tbody>\n    <tr>\n      <th>0</th>\n      <td>0</td>\n      <td>0</td>\n      <td>0</td>\n      <td>159</td>\n      <td>NaN</td>\n      <td>NaN</td>\n      <td>NaN</td>\n    </tr>\n    <tr>\n      <th>1</th>\n      <td>1</td>\n      <td>0</td>\n      <td>1</td>\n      <td>159</td>\n      <td>NaN</td>\n      <td>NaN</td>\n      <td>NaN</td>\n    </tr>\n    <tr>\n      <th>2</th>\n      <td>2</td>\n      <td>0</td>\n      <td>2</td>\n      <td>162</td>\n      <td>NaN</td>\n      <td>NaN</td>\n      <td>NaN</td>\n    </tr>\n    <tr>\n      <th>3</th>\n      <td>3</td>\n      <td>0</td>\n      <td>3</td>\n      <td>120</td>\n      <td>NaN</td>\n      <td>NaN</td>\n      <td>NaN</td>\n    </tr>\n    <tr>\n      <th>4</th>\n      <td>4</td>\n      <td>0</td>\n      <td>4</td>\n      <td>138</td>\n      <td>NaN</td>\n      <td>NaN</td>\n      <td>NaN</td>\n    </tr>\n    <tr>\n      <th>...</th>\n      <td>...</td>\n      <td>...</td>\n      <td>...</td>\n      <td>...</td>\n      <td>...</td>\n      <td>...</td>\n      <td>...</td>\n    </tr>\n    <tr>\n      <th>214</th>\n      <td>1004</td>\n      <td>3</td>\n      <td>52</td>\n      <td>96</td>\n      <td>NaN</td>\n      <td>NaN</td>\n      <td>NaN</td>\n    </tr>\n    <tr>\n      <th>215</th>\n      <td>1056</td>\n      <td>3</td>\n      <td>53</td>\n      <td>106</td>\n      <td>NaN</td>\n      <td>NaN</td>\n      <td>NaN</td>\n    </tr>\n    <tr>\n      <th>216</th>\n      <td>1756</td>\n      <td>4</td>\n      <td>0</td>\n      <td>119</td>\n      <td>NaN</td>\n      <td>NaN</td>\n      <td>NaN</td>\n    </tr>\n    <tr>\n      <th>217</th>\n      <td>9805</td>\n      <td>4</td>\n      <td>1</td>\n      <td>55</td>\n      <td>NaN</td>\n      <td>NaN</td>\n      <td>NaN</td>\n    </tr>\n    <tr>\n      <th>218</th>\n      <td>16553</td>\n      <td>4</td>\n      <td>2</td>\n      <td>108</td>\n      <td>NaN</td>\n      <td>NaN</td>\n      <td>NaN</td>\n    </tr>\n  </tbody>\n</table>\n<p>219 rows × 7 columns</p>\n</div>"
     },
     "metadata": {},
     "execution_count": 36
    }
   ],
   "source": [
    "D2D_group['N_member'] = D2D_member.groupby(['group']).size().values\n",
    "D2D_group"
   ]
  },
  {
   "cell_type": "code",
   "execution_count": 37,
   "metadata": {},
   "outputs": [],
   "source": [
    "for i, header in enumerate(D2D_group['Header']):\n",
    "    D2D_group.at[i, 'N_member'] = len(D2D_member)"
   ]
  },
  {
   "cell_type": "code",
   "execution_count": 38,
   "metadata": {},
   "outputs": [],
   "source": [
    "BS_schedule = pd.DataFrame(\n",
    "    columns=['class', 'TDCR'],\n",
    ")\n",
    "\n",
    "# assign class of every frame\n",
    "BS_schedule['class'] = [f % N_class for f in range(simRAO)]\n",
    "\n",
    "# initialize TDCR\n",
    "BS_schedule['TDCR'] = np.zeros(simRAO, dtype=int)"
   ]
  },
  {
   "cell_type": "code",
   "execution_count": 39,
   "metadata": {},
   "outputs": [
    {
     "output_type": "execute_result",
     "data": {
      "text/plain": "      class  TDCR\n0         0     0\n1         1     0\n2         2     0\n3         3     0\n4         4     0\n...     ...   ...\n1995      0     0\n1996      1     0\n1997      2     0\n1998      3     0\n1999      4     0\n\n[2000 rows x 2 columns]",
      "text/html": "<div>\n<style scoped>\n    .dataframe tbody tr th:only-of-type {\n        vertical-align: middle;\n    }\n\n    .dataframe tbody tr th {\n        vertical-align: top;\n    }\n\n    .dataframe thead th {\n        text-align: right;\n    }\n</style>\n<table border=\"1\" class=\"dataframe\">\n  <thead>\n    <tr style=\"text-align: right;\">\n      <th></th>\n      <th>class</th>\n      <th>TDCR</th>\n    </tr>\n  </thead>\n  <tbody>\n    <tr>\n      <th>0</th>\n      <td>0</td>\n      <td>0</td>\n    </tr>\n    <tr>\n      <th>1</th>\n      <td>1</td>\n      <td>0</td>\n    </tr>\n    <tr>\n      <th>2</th>\n      <td>2</td>\n      <td>0</td>\n    </tr>\n    <tr>\n      <th>3</th>\n      <td>3</td>\n      <td>0</td>\n    </tr>\n    <tr>\n      <th>4</th>\n      <td>4</td>\n      <td>0</td>\n    </tr>\n    <tr>\n      <th>...</th>\n      <td>...</td>\n      <td>...</td>\n    </tr>\n    <tr>\n      <th>1995</th>\n      <td>0</td>\n      <td>0</td>\n    </tr>\n    <tr>\n      <th>1996</th>\n      <td>1</td>\n      <td>0</td>\n    </tr>\n    <tr>\n      <th>1997</th>\n      <td>2</td>\n      <td>0</td>\n    </tr>\n    <tr>\n      <th>1998</th>\n      <td>3</td>\n      <td>0</td>\n    </tr>\n    <tr>\n      <th>1999</th>\n      <td>4</td>\n      <td>0</td>\n    </tr>\n  </tbody>\n</table>\n<p>2000 rows × 2 columns</p>\n</div>"
     },
     "metadata": {},
     "execution_count": 39
    }
   ],
   "source": [
    "BS_schedule"
   ]
  },
  {
   "cell_type": "code",
   "execution_count": 40,
   "metadata": {},
   "outputs": [
    {
     "output_type": "execute_result",
     "data": {
      "text/plain": "    class  TDCR\n0       0     0\n1       1     0\n2       2     0\n3       3     0\n4       4     0\n5       0     0\n6       1     0\n7       2     0\n8       3     0\n9       4     0\n10      0     0\n11      1     0\n12      2     0\n13      3     0\n14      4     0\n15      0     0",
      "text/html": "<div>\n<style scoped>\n    .dataframe tbody tr th:only-of-type {\n        vertical-align: middle;\n    }\n\n    .dataframe tbody tr th {\n        vertical-align: top;\n    }\n\n    .dataframe thead th {\n        text-align: right;\n    }\n</style>\n<table border=\"1\" class=\"dataframe\">\n  <thead>\n    <tr style=\"text-align: right;\">\n      <th></th>\n      <th>class</th>\n      <th>TDCR</th>\n    </tr>\n  </thead>\n  <tbody>\n    <tr>\n      <th>0</th>\n      <td>0</td>\n      <td>0</td>\n    </tr>\n    <tr>\n      <th>1</th>\n      <td>1</td>\n      <td>0</td>\n    </tr>\n    <tr>\n      <th>2</th>\n      <td>2</td>\n      <td>0</td>\n    </tr>\n    <tr>\n      <th>3</th>\n      <td>3</td>\n      <td>0</td>\n    </tr>\n    <tr>\n      <th>4</th>\n      <td>4</td>\n      <td>0</td>\n    </tr>\n    <tr>\n      <th>5</th>\n      <td>0</td>\n      <td>0</td>\n    </tr>\n    <tr>\n      <th>6</th>\n      <td>1</td>\n      <td>0</td>\n    </tr>\n    <tr>\n      <th>7</th>\n      <td>2</td>\n      <td>0</td>\n    </tr>\n    <tr>\n      <th>8</th>\n      <td>3</td>\n      <td>0</td>\n    </tr>\n    <tr>\n      <th>9</th>\n      <td>4</td>\n      <td>0</td>\n    </tr>\n    <tr>\n      <th>10</th>\n      <td>0</td>\n      <td>0</td>\n    </tr>\n    <tr>\n      <th>11</th>\n      <td>1</td>\n      <td>0</td>\n    </tr>\n    <tr>\n      <th>12</th>\n      <td>2</td>\n      <td>0</td>\n    </tr>\n    <tr>\n      <th>13</th>\n      <td>3</td>\n      <td>0</td>\n    </tr>\n    <tr>\n      <th>14</th>\n      <td>4</td>\n      <td>0</td>\n    </tr>\n    <tr>\n      <th>15</th>\n      <td>0</td>\n      <td>0</td>\n    </tr>\n  </tbody>\n</table>\n</div>"
     },
     "metadata": {},
     "execution_count": 40
    }
   ],
   "source": [
    "schedule = BS_schedule.loc[np.arange(0,16)]\n",
    "schedule"
   ]
  },
  {
   "cell_type": "code",
   "execution_count": 41,
   "metadata": {},
   "outputs": [
    {
     "output_type": "execute_result",
     "data": {
      "text/plain": "    class  TDCR\n1       1     0\n6       1     0\n11      1     0",
      "text/html": "<div>\n<style scoped>\n    .dataframe tbody tr th:only-of-type {\n        vertical-align: middle;\n    }\n\n    .dataframe tbody tr th {\n        vertical-align: top;\n    }\n\n    .dataframe thead th {\n        text-align: right;\n    }\n</style>\n<table border=\"1\" class=\"dataframe\">\n  <thead>\n    <tr style=\"text-align: right;\">\n      <th></th>\n      <th>class</th>\n      <th>TDCR</th>\n    </tr>\n  </thead>\n  <tbody>\n    <tr>\n      <th>1</th>\n      <td>1</td>\n      <td>0</td>\n    </tr>\n    <tr>\n      <th>6</th>\n      <td>1</td>\n      <td>0</td>\n    </tr>\n    <tr>\n      <th>11</th>\n      <td>1</td>\n      <td>0</td>\n    </tr>\n  </tbody>\n</table>\n</div>"
     },
     "metadata": {},
     "execution_count": 41
    }
   ],
   "source": [
    "s = schedule.loc[(schedule['class'] == 1)]\n",
    "s"
   ]
  },
  {
   "cell_type": "code",
   "execution_count": 42,
   "metadata": {},
   "outputs": [
    {
     "output_type": "execute_result",
     "data": {
      "text/plain": "    class  TDCR\n1       1     1\n6       1     0\n11      1     0",
      "text/html": "<div>\n<style scoped>\n    .dataframe tbody tr th:only-of-type {\n        vertical-align: middle;\n    }\n\n    .dataframe tbody tr th {\n        vertical-align: top;\n    }\n\n    .dataframe thead th {\n        text-align: right;\n    }\n</style>\n<table border=\"1\" class=\"dataframe\">\n  <thead>\n    <tr style=\"text-align: right;\">\n      <th></th>\n      <th>class</th>\n      <th>TDCR</th>\n    </tr>\n  </thead>\n  <tbody>\n    <tr>\n      <th>1</th>\n      <td>1</td>\n      <td>1</td>\n    </tr>\n    <tr>\n      <th>6</th>\n      <td>1</td>\n      <td>0</td>\n    </tr>\n    <tr>\n      <th>11</th>\n      <td>1</td>\n      <td>0</td>\n    </tr>\n  </tbody>\n</table>\n</div>"
     },
     "metadata": {},
     "execution_count": 42
    }
   ],
   "source": [
    "s.iat[0, 1] = 1\n",
    "s"
   ]
  },
  {
   "cell_type": "code",
   "execution_count": 43,
   "metadata": {},
   "outputs": [
    {
     "output_type": "execute_result",
     "data": {
      "text/plain": "1"
     },
     "metadata": {},
     "execution_count": 43
    }
   ],
   "source": [
    "s.index[0]"
   ]
  },
  {
   "cell_type": "code",
   "execution_count": 44,
   "metadata": {},
   "outputs": [
    {
     "output_type": "execute_result",
     "data": {
      "text/plain": "      class  TDCR\n0         0     0\n1         1  1235\n2         2     0\n3         3     0\n4         4     0\n...     ...   ...\n1995      0     0\n1996      1     0\n1997      2     0\n1998      3     0\n1999      4     0\n\n[2000 rows x 2 columns]",
      "text/html": "<div>\n<style scoped>\n    .dataframe tbody tr th:only-of-type {\n        vertical-align: middle;\n    }\n\n    .dataframe tbody tr th {\n        vertical-align: top;\n    }\n\n    .dataframe thead th {\n        text-align: right;\n    }\n</style>\n<table border=\"1\" class=\"dataframe\">\n  <thead>\n    <tr style=\"text-align: right;\">\n      <th></th>\n      <th>class</th>\n      <th>TDCR</th>\n    </tr>\n  </thead>\n  <tbody>\n    <tr>\n      <th>0</th>\n      <td>0</td>\n      <td>0</td>\n    </tr>\n    <tr>\n      <th>1</th>\n      <td>1</td>\n      <td>1235</td>\n    </tr>\n    <tr>\n      <th>2</th>\n      <td>2</td>\n      <td>0</td>\n    </tr>\n    <tr>\n      <th>3</th>\n      <td>3</td>\n      <td>0</td>\n    </tr>\n    <tr>\n      <th>4</th>\n      <td>4</td>\n      <td>0</td>\n    </tr>\n    <tr>\n      <th>...</th>\n      <td>...</td>\n      <td>...</td>\n    </tr>\n    <tr>\n      <th>1995</th>\n      <td>0</td>\n      <td>0</td>\n    </tr>\n    <tr>\n      <th>1996</th>\n      <td>1</td>\n      <td>0</td>\n    </tr>\n    <tr>\n      <th>1997</th>\n      <td>2</td>\n      <td>0</td>\n    </tr>\n    <tr>\n      <th>1998</th>\n      <td>3</td>\n      <td>0</td>\n    </tr>\n    <tr>\n      <th>1999</th>\n      <td>4</td>\n      <td>0</td>\n    </tr>\n  </tbody>\n</table>\n<p>2000 rows × 2 columns</p>\n</div>"
     },
     "metadata": {},
     "execution_count": 44
    }
   ],
   "source": [
    "BS_schedule.at[s.index[0], 'TDCR'] = 1235\n",
    "BS_schedule"
   ]
  },
  {
   "cell_type": "code",
   "execution_count": 48,
   "metadata": {},
   "outputs": [],
   "source": [
    "devices = RA_data.loc[(RA_data['RA_init'] == 125) & (RA_data['RA_transmit'] <= 10)]\n",
    "devices['RA_transmit'] += 1"
   ]
  },
  {
   "cell_type": "code",
   "execution_count": 49,
   "metadata": {},
   "outputs": [
    {
     "output_type": "execute_result",
     "data": {
      "text/plain": "           RA_init  RA_first  RA_success  RA_transmit\ndevice_id                                            \n139            125       125          -1            1\n2183           125       125          -1            1\n3230           125       125          -1            1\n4765           125       125          -1            1\n15464          125       125          -1            1\n16923          125       125          -1            1\n18483          125       125          -1            1\n21849          125       125          -1            1\n21861          125       125          -1            1\n25284          125       125          -1            1\n25653          125       125          -1            1\n26595          125       125          -1            1\n26966          125       125          -1            1\n27433          125       125          -1            1\n27876          125       125          -1            1",
      "text/html": "<div>\n<style scoped>\n    .dataframe tbody tr th:only-of-type {\n        vertical-align: middle;\n    }\n\n    .dataframe tbody tr th {\n        vertical-align: top;\n    }\n\n    .dataframe thead th {\n        text-align: right;\n    }\n</style>\n<table border=\"1\" class=\"dataframe\">\n  <thead>\n    <tr style=\"text-align: right;\">\n      <th></th>\n      <th>RA_init</th>\n      <th>RA_first</th>\n      <th>RA_success</th>\n      <th>RA_transmit</th>\n    </tr>\n    <tr>\n      <th>device_id</th>\n      <th></th>\n      <th></th>\n      <th></th>\n      <th></th>\n    </tr>\n  </thead>\n  <tbody>\n    <tr>\n      <th>139</th>\n      <td>125</td>\n      <td>125</td>\n      <td>-1</td>\n      <td>1</td>\n    </tr>\n    <tr>\n      <th>2183</th>\n      <td>125</td>\n      <td>125</td>\n      <td>-1</td>\n      <td>1</td>\n    </tr>\n    <tr>\n      <th>3230</th>\n      <td>125</td>\n      <td>125</td>\n      <td>-1</td>\n      <td>1</td>\n    </tr>\n    <tr>\n      <th>4765</th>\n      <td>125</td>\n      <td>125</td>\n      <td>-1</td>\n      <td>1</td>\n    </tr>\n    <tr>\n      <th>15464</th>\n      <td>125</td>\n      <td>125</td>\n      <td>-1</td>\n      <td>1</td>\n    </tr>\n    <tr>\n      <th>16923</th>\n      <td>125</td>\n      <td>125</td>\n      <td>-1</td>\n      <td>1</td>\n    </tr>\n    <tr>\n      <th>18483</th>\n      <td>125</td>\n      <td>125</td>\n      <td>-1</td>\n      <td>1</td>\n    </tr>\n    <tr>\n      <th>21849</th>\n      <td>125</td>\n      <td>125</td>\n      <td>-1</td>\n      <td>1</td>\n    </tr>\n    <tr>\n      <th>21861</th>\n      <td>125</td>\n      <td>125</td>\n      <td>-1</td>\n      <td>1</td>\n    </tr>\n    <tr>\n      <th>25284</th>\n      <td>125</td>\n      <td>125</td>\n      <td>-1</td>\n      <td>1</td>\n    </tr>\n    <tr>\n      <th>25653</th>\n      <td>125</td>\n      <td>125</td>\n      <td>-1</td>\n      <td>1</td>\n    </tr>\n    <tr>\n      <th>26595</th>\n      <td>125</td>\n      <td>125</td>\n      <td>-1</td>\n      <td>1</td>\n    </tr>\n    <tr>\n      <th>26966</th>\n      <td>125</td>\n      <td>125</td>\n      <td>-1</td>\n      <td>1</td>\n    </tr>\n    <tr>\n      <th>27433</th>\n      <td>125</td>\n      <td>125</td>\n      <td>-1</td>\n      <td>1</td>\n    </tr>\n    <tr>\n      <th>27876</th>\n      <td>125</td>\n      <td>125</td>\n      <td>-1</td>\n      <td>1</td>\n    </tr>\n  </tbody>\n</table>\n</div>"
     },
     "metadata": {},
     "execution_count": 49
    }
   ],
   "source": [
    "devices"
   ]
  },
  {
   "cell_type": "code",
   "execution_count": 53,
   "metadata": {},
   "outputs": [
    {
     "output_type": "execute_result",
     "data": {
      "text/plain": "RA_init        125\nRA_first       125\nRA_success      -1\nRA_transmit      0\nName: 139, dtype: int64"
     },
     "metadata": {},
     "execution_count": 53
    }
   ],
   "source": [
    "RA_data.iloc[139]"
   ]
  },
  {
   "cell_type": "code",
   "execution_count": 55,
   "metadata": {},
   "outputs": [],
   "source": [
    "D2D_member['response'] = np.full(nMTCD, -1)"
   ]
  },
  {
   "cell_type": "code",
   "execution_count": 56,
   "metadata": {},
   "outputs": [
    {
     "output_type": "execute_result",
     "data": {
      "text/plain": "           group  Member arrange  request  delay  transmit  response\ndevice_id                                                           \n0              0   False     NaN    False      0         0        -1\n1              1   False     NaN    False      0         0        -1\n2              2   False     NaN    False      0         0        -1\n3              3   False     NaN    False      0         0        -1\n4              4   False     NaN    False      0         0        -1\n...          ...     ...     ...      ...    ...       ...       ...\n29995        112    True       8    False      0         0        -1\n29996       1305    True       6    False      0         0        -1\n29997        138    True       8    False      0         0        -1\n29998        227    True       3    False      0         0        -1\n29999          2    True       8    False      0         0        -1\n\n[30000 rows x 7 columns]",
      "text/html": "<div>\n<style scoped>\n    .dataframe tbody tr th:only-of-type {\n        vertical-align: middle;\n    }\n\n    .dataframe tbody tr th {\n        vertical-align: top;\n    }\n\n    .dataframe thead th {\n        text-align: right;\n    }\n</style>\n<table border=\"1\" class=\"dataframe\">\n  <thead>\n    <tr style=\"text-align: right;\">\n      <th></th>\n      <th>group</th>\n      <th>Member</th>\n      <th>arrange</th>\n      <th>request</th>\n      <th>delay</th>\n      <th>transmit</th>\n      <th>response</th>\n    </tr>\n    <tr>\n      <th>device_id</th>\n      <th></th>\n      <th></th>\n      <th></th>\n      <th></th>\n      <th></th>\n      <th></th>\n      <th></th>\n    </tr>\n  </thead>\n  <tbody>\n    <tr>\n      <th>0</th>\n      <td>0</td>\n      <td>False</td>\n      <td>NaN</td>\n      <td>False</td>\n      <td>0</td>\n      <td>0</td>\n      <td>-1</td>\n    </tr>\n    <tr>\n      <th>1</th>\n      <td>1</td>\n      <td>False</td>\n      <td>NaN</td>\n      <td>False</td>\n      <td>0</td>\n      <td>0</td>\n      <td>-1</td>\n    </tr>\n    <tr>\n      <th>2</th>\n      <td>2</td>\n      <td>False</td>\n      <td>NaN</td>\n      <td>False</td>\n      <td>0</td>\n      <td>0</td>\n      <td>-1</td>\n    </tr>\n    <tr>\n      <th>3</th>\n      <td>3</td>\n      <td>False</td>\n      <td>NaN</td>\n      <td>False</td>\n      <td>0</td>\n      <td>0</td>\n      <td>-1</td>\n    </tr>\n    <tr>\n      <th>4</th>\n      <td>4</td>\n      <td>False</td>\n      <td>NaN</td>\n      <td>False</td>\n      <td>0</td>\n      <td>0</td>\n      <td>-1</td>\n    </tr>\n    <tr>\n      <th>...</th>\n      <td>...</td>\n      <td>...</td>\n      <td>...</td>\n      <td>...</td>\n      <td>...</td>\n      <td>...</td>\n      <td>...</td>\n    </tr>\n    <tr>\n      <th>29995</th>\n      <td>112</td>\n      <td>True</td>\n      <td>8</td>\n      <td>False</td>\n      <td>0</td>\n      <td>0</td>\n      <td>-1</td>\n    </tr>\n    <tr>\n      <th>29996</th>\n      <td>1305</td>\n      <td>True</td>\n      <td>6</td>\n      <td>False</td>\n      <td>0</td>\n      <td>0</td>\n      <td>-1</td>\n    </tr>\n    <tr>\n      <th>29997</th>\n      <td>138</td>\n      <td>True</td>\n      <td>8</td>\n      <td>False</td>\n      <td>0</td>\n      <td>0</td>\n      <td>-1</td>\n    </tr>\n    <tr>\n      <th>29998</th>\n      <td>227</td>\n      <td>True</td>\n      <td>3</td>\n      <td>False</td>\n      <td>0</td>\n      <td>0</td>\n      <td>-1</td>\n    </tr>\n    <tr>\n      <th>29999</th>\n      <td>2</td>\n      <td>True</td>\n      <td>8</td>\n      <td>False</td>\n      <td>0</td>\n      <td>0</td>\n      <td>-1</td>\n    </tr>\n  </tbody>\n</table>\n<p>30000 rows × 7 columns</p>\n</div>"
     },
     "metadata": {},
     "execution_count": 56
    }
   ],
   "source": [
    "D2D_member"
   ]
  },
  {
   "cell_type": "code",
   "execution_count": 71,
   "metadata": {},
   "outputs": [
    {
     "output_type": "execute_result",
     "data": {
      "text/plain": "     Header class seq_class  N_member RA_request arrange     HL\n0         0     0         0     30000        NaN     NaN  False\n1         1     0         1     30000        NaN     NaN  False\n2         2     0         2     30000        NaN     NaN   True\n3         3     0         3     30000        NaN     NaN  False\n4         4     0         4     30000        NaN     NaN  False\n..      ...   ...       ...       ...        ...     ...    ...\n214    1004     3        52     30000        NaN     NaN  False\n215    1056     3        53     30000        NaN     NaN  False\n216    1756     4         0     30000        NaN     NaN   True\n217    9805     4         1     30000        NaN     NaN   True\n218   16553     4         2     30000        NaN     NaN   True\n\n[219 rows x 7 columns]",
      "text/html": "<div>\n<style scoped>\n    .dataframe tbody tr th:only-of-type {\n        vertical-align: middle;\n    }\n\n    .dataframe tbody tr th {\n        vertical-align: top;\n    }\n\n    .dataframe thead th {\n        text-align: right;\n    }\n</style>\n<table border=\"1\" class=\"dataframe\">\n  <thead>\n    <tr style=\"text-align: right;\">\n      <th></th>\n      <th>Header</th>\n      <th>class</th>\n      <th>seq_class</th>\n      <th>N_member</th>\n      <th>RA_request</th>\n      <th>arrange</th>\n      <th>HL</th>\n    </tr>\n  </thead>\n  <tbody>\n    <tr>\n      <th>0</th>\n      <td>0</td>\n      <td>0</td>\n      <td>0</td>\n      <td>30000</td>\n      <td>NaN</td>\n      <td>NaN</td>\n      <td>False</td>\n    </tr>\n    <tr>\n      <th>1</th>\n      <td>1</td>\n      <td>0</td>\n      <td>1</td>\n      <td>30000</td>\n      <td>NaN</td>\n      <td>NaN</td>\n      <td>False</td>\n    </tr>\n    <tr>\n      <th>2</th>\n      <td>2</td>\n      <td>0</td>\n      <td>2</td>\n      <td>30000</td>\n      <td>NaN</td>\n      <td>NaN</td>\n      <td>True</td>\n    </tr>\n    <tr>\n      <th>3</th>\n      <td>3</td>\n      <td>0</td>\n      <td>3</td>\n      <td>30000</td>\n      <td>NaN</td>\n      <td>NaN</td>\n      <td>False</td>\n    </tr>\n    <tr>\n      <th>4</th>\n      <td>4</td>\n      <td>0</td>\n      <td>4</td>\n      <td>30000</td>\n      <td>NaN</td>\n      <td>NaN</td>\n      <td>False</td>\n    </tr>\n    <tr>\n      <th>...</th>\n      <td>...</td>\n      <td>...</td>\n      <td>...</td>\n      <td>...</td>\n      <td>...</td>\n      <td>...</td>\n      <td>...</td>\n    </tr>\n    <tr>\n      <th>214</th>\n      <td>1004</td>\n      <td>3</td>\n      <td>52</td>\n      <td>30000</td>\n      <td>NaN</td>\n      <td>NaN</td>\n      <td>False</td>\n    </tr>\n    <tr>\n      <th>215</th>\n      <td>1056</td>\n      <td>3</td>\n      <td>53</td>\n      <td>30000</td>\n      <td>NaN</td>\n      <td>NaN</td>\n      <td>False</td>\n    </tr>\n    <tr>\n      <th>216</th>\n      <td>1756</td>\n      <td>4</td>\n      <td>0</td>\n      <td>30000</td>\n      <td>NaN</td>\n      <td>NaN</td>\n      <td>True</td>\n    </tr>\n    <tr>\n      <th>217</th>\n      <td>9805</td>\n      <td>4</td>\n      <td>1</td>\n      <td>30000</td>\n      <td>NaN</td>\n      <td>NaN</td>\n      <td>True</td>\n    </tr>\n    <tr>\n      <th>218</th>\n      <td>16553</td>\n      <td>4</td>\n      <td>2</td>\n      <td>30000</td>\n      <td>NaN</td>\n      <td>NaN</td>\n      <td>True</td>\n    </tr>\n  </tbody>\n</table>\n<p>219 rows × 7 columns</p>\n</div>"
     },
     "metadata": {},
     "execution_count": 71
    }
   ],
   "source": [
    "D2D_group['HL'] = np.random.choice(a=[False, True], size=len(D2D_group))\n",
    "D2D_group"
   ]
  },
  {
   "cell_type": "code",
   "execution_count": 92,
   "metadata": {},
   "outputs": [
    {
     "output_type": "stream",
     "name": "stdout",
     "text": "54 25\n"
    }
   ],
   "source": [
    "class_groups = D2D_group.loc[D2D_group['class'] == 3]\n",
    "HL_groups = class_groups.loc[class_groups['HL'] == False]\n",
    "print(len(class_groups), len(HL_groups))"
   ]
  },
  {
   "cell_type": "code",
   "execution_count": 95,
   "metadata": {},
   "outputs": [
    {
     "output_type": "execute_result",
     "data": {
      "text/plain": "     Header class seq_class  N_member RA_request arrange     HL\n162     295     3         0     30000        NaN     NaN  False\n163     312     3         1     30000        NaN     NaN  False\n164     313     3         2     30000        NaN     NaN   True\n165     317     3         3     30000        NaN     NaN   True\n166   14070     3         4     30000        NaN     NaN  False\n167     323     3         5     30000        NaN     NaN  False\n168     431     3         6     30000        NaN     NaN   True\n169     553     3         7     30000        NaN     NaN  False\n170     327     3         8     30000        NaN     NaN  False\n171     832     3         9     30000        NaN     NaN   True\n172    2455     3        10     30000        NaN     NaN  False\n173     383     3        11     30000        NaN     NaN   True\n174     349     3        12     30000        NaN     NaN   True\n175     600     3        13     30000        NaN     NaN   True\n176     353     3        14     30000        NaN     NaN   True\n177     356     3        15     30000        NaN     NaN  False\n178     996     3        16     30000        NaN     NaN  False\n179    4350     3        17     30000        NaN     NaN  False\n180     375     3        18     30000        NaN     NaN   True\n181     376     3        19     30000        NaN     NaN   True\n182     870     3        20     30000        NaN     NaN  False\n183     736     3        21     30000        NaN     NaN  False\n184     422     3        22     30000        NaN     NaN   True\n185    1602     3        23     30000        NaN     NaN  False\n186    1088     3        24     30000        NaN     NaN   True\n187    2476     3        25     30000        NaN     NaN  False\n188    5902     3        26     30000        NaN     NaN  False\n189     454     3        27     30000        NaN     NaN  False\n190    4819     3        28     30000        NaN     NaN   True\n191     462     3        29     30000        NaN     NaN   True\n192    5862     3        30     30000        NaN     NaN   True\n193     472     3        31     30000        NaN     NaN   True\n194    2863     3        32     30000        NaN     NaN   True\n195     487     3        33     30000        NaN     NaN   True\n196    2662     3        34     30000        NaN     NaN   True\n197    4585     3        35     30000        NaN     NaN   True\n198    1524     3        36     30000        NaN     NaN   True\n199   11624     3        37     30000        NaN     NaN  False\n200     540     3        38     30000        NaN     NaN   True\n201    4577     3        39     30000        NaN     NaN  False\n202    1476     3        40     30000        NaN     NaN   True\n203    7742     3        41     30000        NaN     NaN   True\n204    7811     3        42     30000        NaN     NaN   True\n205     579     3        43     30000        NaN     NaN  False\n206    1305     3        44     30000        NaN     NaN   True\n207    2798     3        45     30000        NaN     NaN   True\n208     637     3        46     30000        NaN     NaN  False\n209     741     3        47     30000        NaN     NaN   True\n210     783     3        48     30000        NaN     NaN  False\n211    8188     3        49     30000        NaN     NaN  False\n212   10106     3        50     30000        NaN     NaN  False\n213     963     3        51     30000        NaN     NaN   True\n214    1004     3        52     30000        NaN     NaN  False\n215    1056     3        53     30000        NaN     NaN  False",
      "text/html": "<div>\n<style scoped>\n    .dataframe tbody tr th:only-of-type {\n        vertical-align: middle;\n    }\n\n    .dataframe tbody tr th {\n        vertical-align: top;\n    }\n\n    .dataframe thead th {\n        text-align: right;\n    }\n</style>\n<table border=\"1\" class=\"dataframe\">\n  <thead>\n    <tr style=\"text-align: right;\">\n      <th></th>\n      <th>Header</th>\n      <th>class</th>\n      <th>seq_class</th>\n      <th>N_member</th>\n      <th>RA_request</th>\n      <th>arrange</th>\n      <th>HL</th>\n    </tr>\n  </thead>\n  <tbody>\n    <tr>\n      <th>162</th>\n      <td>295</td>\n      <td>3</td>\n      <td>0</td>\n      <td>30000</td>\n      <td>NaN</td>\n      <td>NaN</td>\n      <td>False</td>\n    </tr>\n    <tr>\n      <th>163</th>\n      <td>312</td>\n      <td>3</td>\n      <td>1</td>\n      <td>30000</td>\n      <td>NaN</td>\n      <td>NaN</td>\n      <td>False</td>\n    </tr>\n    <tr>\n      <th>164</th>\n      <td>313</td>\n      <td>3</td>\n      <td>2</td>\n      <td>30000</td>\n      <td>NaN</td>\n      <td>NaN</td>\n      <td>True</td>\n    </tr>\n    <tr>\n      <th>165</th>\n      <td>317</td>\n      <td>3</td>\n      <td>3</td>\n      <td>30000</td>\n      <td>NaN</td>\n      <td>NaN</td>\n      <td>True</td>\n    </tr>\n    <tr>\n      <th>166</th>\n      <td>14070</td>\n      <td>3</td>\n      <td>4</td>\n      <td>30000</td>\n      <td>NaN</td>\n      <td>NaN</td>\n      <td>False</td>\n    </tr>\n    <tr>\n      <th>167</th>\n      <td>323</td>\n      <td>3</td>\n      <td>5</td>\n      <td>30000</td>\n      <td>NaN</td>\n      <td>NaN</td>\n      <td>False</td>\n    </tr>\n    <tr>\n      <th>168</th>\n      <td>431</td>\n      <td>3</td>\n      <td>6</td>\n      <td>30000</td>\n      <td>NaN</td>\n      <td>NaN</td>\n      <td>True</td>\n    </tr>\n    <tr>\n      <th>169</th>\n      <td>553</td>\n      <td>3</td>\n      <td>7</td>\n      <td>30000</td>\n      <td>NaN</td>\n      <td>NaN</td>\n      <td>False</td>\n    </tr>\n    <tr>\n      <th>170</th>\n      <td>327</td>\n      <td>3</td>\n      <td>8</td>\n      <td>30000</td>\n      <td>NaN</td>\n      <td>NaN</td>\n      <td>False</td>\n    </tr>\n    <tr>\n      <th>171</th>\n      <td>832</td>\n      <td>3</td>\n      <td>9</td>\n      <td>30000</td>\n      <td>NaN</td>\n      <td>NaN</td>\n      <td>True</td>\n    </tr>\n    <tr>\n      <th>172</th>\n      <td>2455</td>\n      <td>3</td>\n      <td>10</td>\n      <td>30000</td>\n      <td>NaN</td>\n      <td>NaN</td>\n      <td>False</td>\n    </tr>\n    <tr>\n      <th>173</th>\n      <td>383</td>\n      <td>3</td>\n      <td>11</td>\n      <td>30000</td>\n      <td>NaN</td>\n      <td>NaN</td>\n      <td>True</td>\n    </tr>\n    <tr>\n      <th>174</th>\n      <td>349</td>\n      <td>3</td>\n      <td>12</td>\n      <td>30000</td>\n      <td>NaN</td>\n      <td>NaN</td>\n      <td>True</td>\n    </tr>\n    <tr>\n      <th>175</th>\n      <td>600</td>\n      <td>3</td>\n      <td>13</td>\n      <td>30000</td>\n      <td>NaN</td>\n      <td>NaN</td>\n      <td>True</td>\n    </tr>\n    <tr>\n      <th>176</th>\n      <td>353</td>\n      <td>3</td>\n      <td>14</td>\n      <td>30000</td>\n      <td>NaN</td>\n      <td>NaN</td>\n      <td>True</td>\n    </tr>\n    <tr>\n      <th>177</th>\n      <td>356</td>\n      <td>3</td>\n      <td>15</td>\n      <td>30000</td>\n      <td>NaN</td>\n      <td>NaN</td>\n      <td>False</td>\n    </tr>\n    <tr>\n      <th>178</th>\n      <td>996</td>\n      <td>3</td>\n      <td>16</td>\n      <td>30000</td>\n      <td>NaN</td>\n      <td>NaN</td>\n      <td>False</td>\n    </tr>\n    <tr>\n      <th>179</th>\n      <td>4350</td>\n      <td>3</td>\n      <td>17</td>\n      <td>30000</td>\n      <td>NaN</td>\n      <td>NaN</td>\n      <td>False</td>\n    </tr>\n    <tr>\n      <th>180</th>\n      <td>375</td>\n      <td>3</td>\n      <td>18</td>\n      <td>30000</td>\n      <td>NaN</td>\n      <td>NaN</td>\n      <td>True</td>\n    </tr>\n    <tr>\n      <th>181</th>\n      <td>376</td>\n      <td>3</td>\n      <td>19</td>\n      <td>30000</td>\n      <td>NaN</td>\n      <td>NaN</td>\n      <td>True</td>\n    </tr>\n    <tr>\n      <th>182</th>\n      <td>870</td>\n      <td>3</td>\n      <td>20</td>\n      <td>30000</td>\n      <td>NaN</td>\n      <td>NaN</td>\n      <td>False</td>\n    </tr>\n    <tr>\n      <th>183</th>\n      <td>736</td>\n      <td>3</td>\n      <td>21</td>\n      <td>30000</td>\n      <td>NaN</td>\n      <td>NaN</td>\n      <td>False</td>\n    </tr>\n    <tr>\n      <th>184</th>\n      <td>422</td>\n      <td>3</td>\n      <td>22</td>\n      <td>30000</td>\n      <td>NaN</td>\n      <td>NaN</td>\n      <td>True</td>\n    </tr>\n    <tr>\n      <th>185</th>\n      <td>1602</td>\n      <td>3</td>\n      <td>23</td>\n      <td>30000</td>\n      <td>NaN</td>\n      <td>NaN</td>\n      <td>False</td>\n    </tr>\n    <tr>\n      <th>186</th>\n      <td>1088</td>\n      <td>3</td>\n      <td>24</td>\n      <td>30000</td>\n      <td>NaN</td>\n      <td>NaN</td>\n      <td>True</td>\n    </tr>\n    <tr>\n      <th>187</th>\n      <td>2476</td>\n      <td>3</td>\n      <td>25</td>\n      <td>30000</td>\n      <td>NaN</td>\n      <td>NaN</td>\n      <td>False</td>\n    </tr>\n    <tr>\n      <th>188</th>\n      <td>5902</td>\n      <td>3</td>\n      <td>26</td>\n      <td>30000</td>\n      <td>NaN</td>\n      <td>NaN</td>\n      <td>False</td>\n    </tr>\n    <tr>\n      <th>189</th>\n      <td>454</td>\n      <td>3</td>\n      <td>27</td>\n      <td>30000</td>\n      <td>NaN</td>\n      <td>NaN</td>\n      <td>False</td>\n    </tr>\n    <tr>\n      <th>190</th>\n      <td>4819</td>\n      <td>3</td>\n      <td>28</td>\n      <td>30000</td>\n      <td>NaN</td>\n      <td>NaN</td>\n      <td>True</td>\n    </tr>\n    <tr>\n      <th>191</th>\n      <td>462</td>\n      <td>3</td>\n      <td>29</td>\n      <td>30000</td>\n      <td>NaN</td>\n      <td>NaN</td>\n      <td>True</td>\n    </tr>\n    <tr>\n      <th>192</th>\n      <td>5862</td>\n      <td>3</td>\n      <td>30</td>\n      <td>30000</td>\n      <td>NaN</td>\n      <td>NaN</td>\n      <td>True</td>\n    </tr>\n    <tr>\n      <th>193</th>\n      <td>472</td>\n      <td>3</td>\n      <td>31</td>\n      <td>30000</td>\n      <td>NaN</td>\n      <td>NaN</td>\n      <td>True</td>\n    </tr>\n    <tr>\n      <th>194</th>\n      <td>2863</td>\n      <td>3</td>\n      <td>32</td>\n      <td>30000</td>\n      <td>NaN</td>\n      <td>NaN</td>\n      <td>True</td>\n    </tr>\n    <tr>\n      <th>195</th>\n      <td>487</td>\n      <td>3</td>\n      <td>33</td>\n      <td>30000</td>\n      <td>NaN</td>\n      <td>NaN</td>\n      <td>True</td>\n    </tr>\n    <tr>\n      <th>196</th>\n      <td>2662</td>\n      <td>3</td>\n      <td>34</td>\n      <td>30000</td>\n      <td>NaN</td>\n      <td>NaN</td>\n      <td>True</td>\n    </tr>\n    <tr>\n      <th>197</th>\n      <td>4585</td>\n      <td>3</td>\n      <td>35</td>\n      <td>30000</td>\n      <td>NaN</td>\n      <td>NaN</td>\n      <td>True</td>\n    </tr>\n    <tr>\n      <th>198</th>\n      <td>1524</td>\n      <td>3</td>\n      <td>36</td>\n      <td>30000</td>\n      <td>NaN</td>\n      <td>NaN</td>\n      <td>True</td>\n    </tr>\n    <tr>\n      <th>199</th>\n      <td>11624</td>\n      <td>3</td>\n      <td>37</td>\n      <td>30000</td>\n      <td>NaN</td>\n      <td>NaN</td>\n      <td>False</td>\n    </tr>\n    <tr>\n      <th>200</th>\n      <td>540</td>\n      <td>3</td>\n      <td>38</td>\n      <td>30000</td>\n      <td>NaN</td>\n      <td>NaN</td>\n      <td>True</td>\n    </tr>\n    <tr>\n      <th>201</th>\n      <td>4577</td>\n      <td>3</td>\n      <td>39</td>\n      <td>30000</td>\n      <td>NaN</td>\n      <td>NaN</td>\n      <td>False</td>\n    </tr>\n    <tr>\n      <th>202</th>\n      <td>1476</td>\n      <td>3</td>\n      <td>40</td>\n      <td>30000</td>\n      <td>NaN</td>\n      <td>NaN</td>\n      <td>True</td>\n    </tr>\n    <tr>\n      <th>203</th>\n      <td>7742</td>\n      <td>3</td>\n      <td>41</td>\n      <td>30000</td>\n      <td>NaN</td>\n      <td>NaN</td>\n      <td>True</td>\n    </tr>\n    <tr>\n      <th>204</th>\n      <td>7811</td>\n      <td>3</td>\n      <td>42</td>\n      <td>30000</td>\n      <td>NaN</td>\n      <td>NaN</td>\n      <td>True</td>\n    </tr>\n    <tr>\n      <th>205</th>\n      <td>579</td>\n      <td>3</td>\n      <td>43</td>\n      <td>30000</td>\n      <td>NaN</td>\n      <td>NaN</td>\n      <td>False</td>\n    </tr>\n    <tr>\n      <th>206</th>\n      <td>1305</td>\n      <td>3</td>\n      <td>44</td>\n      <td>30000</td>\n      <td>NaN</td>\n      <td>NaN</td>\n      <td>True</td>\n    </tr>\n    <tr>\n      <th>207</th>\n      <td>2798</td>\n      <td>3</td>\n      <td>45</td>\n      <td>30000</td>\n      <td>NaN</td>\n      <td>NaN</td>\n      <td>True</td>\n    </tr>\n    <tr>\n      <th>208</th>\n      <td>637</td>\n      <td>3</td>\n      <td>46</td>\n      <td>30000</td>\n      <td>NaN</td>\n      <td>NaN</td>\n      <td>False</td>\n    </tr>\n    <tr>\n      <th>209</th>\n      <td>741</td>\n      <td>3</td>\n      <td>47</td>\n      <td>30000</td>\n      <td>NaN</td>\n      <td>NaN</td>\n      <td>True</td>\n    </tr>\n    <tr>\n      <th>210</th>\n      <td>783</td>\n      <td>3</td>\n      <td>48</td>\n      <td>30000</td>\n      <td>NaN</td>\n      <td>NaN</td>\n      <td>False</td>\n    </tr>\n    <tr>\n      <th>211</th>\n      <td>8188</td>\n      <td>3</td>\n      <td>49</td>\n      <td>30000</td>\n      <td>NaN</td>\n      <td>NaN</td>\n      <td>False</td>\n    </tr>\n    <tr>\n      <th>212</th>\n      <td>10106</td>\n      <td>3</td>\n      <td>50</td>\n      <td>30000</td>\n      <td>NaN</td>\n      <td>NaN</td>\n      <td>False</td>\n    </tr>\n    <tr>\n      <th>213</th>\n      <td>963</td>\n      <td>3</td>\n      <td>51</td>\n      <td>30000</td>\n      <td>NaN</td>\n      <td>NaN</td>\n      <td>True</td>\n    </tr>\n    <tr>\n      <th>214</th>\n      <td>1004</td>\n      <td>3</td>\n      <td>52</td>\n      <td>30000</td>\n      <td>NaN</td>\n      <td>NaN</td>\n      <td>False</td>\n    </tr>\n    <tr>\n      <th>215</th>\n      <td>1056</td>\n      <td>3</td>\n      <td>53</td>\n      <td>30000</td>\n      <td>NaN</td>\n      <td>NaN</td>\n      <td>False</td>\n    </tr>\n  </tbody>\n</table>\n</div>"
     },
     "metadata": {},
     "execution_count": 95
    }
   ],
   "source": [
    "class_groups"
   ]
  },
  {
   "cell_type": "code",
   "execution_count": 97,
   "metadata": {},
   "outputs": [
    {
     "output_type": "execute_result",
     "data": {
      "text/plain": "162      295\n163      312\n164      313\n165      317\n166    14070\n167      323\n168      431\n169      553\n170      327\n171      832\n172     2455\n173      383\n174      349\n175      600\n176      353\n177      356\n178      996\n179     4350\n180      375\n181      376\n182      870\n183      736\n184      422\n185     1602\n186     1088\n187     2476\n188     5902\n189      454\n190     4819\n191      462\n192     5862\n193      472\n194     2863\n195      487\n196     2662\n197     4585\n198     1524\n199    11624\n200      540\n201     4577\n202     1476\n203     7742\n204     7811\n205      579\n206     1305\n207     2798\n208      637\n209      741\n210      783\n211     8188\n212    10106\n213      963\n214     1004\n215     1056\nName: Header, dtype: int64"
     },
     "metadata": {},
     "execution_count": 97
    }
   ],
   "source": [
    "class_groups['Header']"
   ]
  },
  {
   "cell_type": "code",
   "execution_count": 99,
   "metadata": {},
   "outputs": [],
   "source": [
    "N_PRB_arrange = 20"
   ]
  },
  {
   "cell_type": "code",
   "execution_count": 109,
   "metadata": {},
   "outputs": [
    {
     "output_type": "execute_result",
     "data": {
      "text/plain": "           Header  Member arrange  request  response  success  transmit\ndevice_id                                                              \n13252        3260    True       2     True     False       -1         0\n17900        2455    True       3    False      True       -1         1\n29612         143    True       9     True      True       -1         1\n18450         162    True       4    False      True       -1         7\n14779         431    True       3     True      True       -1         9\n8584          162    True       2     True     False       -1         9\n13277          64    True       1    False      True       -1        10\n20715          46    True       5    False     False       -1         5\n25454         268    True       5    False      True       -1        17\n27826          24    True       7    False      True       -1         0",
      "text/html": "<div>\n<style scoped>\n    .dataframe tbody tr th:only-of-type {\n        vertical-align: middle;\n    }\n\n    .dataframe tbody tr th {\n        vertical-align: top;\n    }\n\n    .dataframe thead th {\n        text-align: right;\n    }\n</style>\n<table border=\"1\" class=\"dataframe\">\n  <thead>\n    <tr style=\"text-align: right;\">\n      <th></th>\n      <th>Header</th>\n      <th>Member</th>\n      <th>arrange</th>\n      <th>request</th>\n      <th>response</th>\n      <th>success</th>\n      <th>transmit</th>\n    </tr>\n    <tr>\n      <th>device_id</th>\n      <th></th>\n      <th></th>\n      <th></th>\n      <th></th>\n      <th></th>\n      <th></th>\n      <th></th>\n    </tr>\n  </thead>\n  <tbody>\n    <tr>\n      <th>13252</th>\n      <td>3260</td>\n      <td>True</td>\n      <td>2</td>\n      <td>True</td>\n      <td>False</td>\n      <td>-1</td>\n      <td>0</td>\n    </tr>\n    <tr>\n      <th>17900</th>\n      <td>2455</td>\n      <td>True</td>\n      <td>3</td>\n      <td>False</td>\n      <td>True</td>\n      <td>-1</td>\n      <td>1</td>\n    </tr>\n    <tr>\n      <th>29612</th>\n      <td>143</td>\n      <td>True</td>\n      <td>9</td>\n      <td>True</td>\n      <td>True</td>\n      <td>-1</td>\n      <td>1</td>\n    </tr>\n    <tr>\n      <th>18450</th>\n      <td>162</td>\n      <td>True</td>\n      <td>4</td>\n      <td>False</td>\n      <td>True</td>\n      <td>-1</td>\n      <td>7</td>\n    </tr>\n    <tr>\n      <th>14779</th>\n      <td>431</td>\n      <td>True</td>\n      <td>3</td>\n      <td>True</td>\n      <td>True</td>\n      <td>-1</td>\n      <td>9</td>\n    </tr>\n    <tr>\n      <th>8584</th>\n      <td>162</td>\n      <td>True</td>\n      <td>2</td>\n      <td>True</td>\n      <td>False</td>\n      <td>-1</td>\n      <td>9</td>\n    </tr>\n    <tr>\n      <th>13277</th>\n      <td>64</td>\n      <td>True</td>\n      <td>1</td>\n      <td>False</td>\n      <td>True</td>\n      <td>-1</td>\n      <td>10</td>\n    </tr>\n    <tr>\n      <th>20715</th>\n      <td>46</td>\n      <td>True</td>\n      <td>5</td>\n      <td>False</td>\n      <td>False</td>\n      <td>-1</td>\n      <td>5</td>\n    </tr>\n    <tr>\n      <th>25454</th>\n      <td>268</td>\n      <td>True</td>\n      <td>5</td>\n      <td>False</td>\n      <td>True</td>\n      <td>-1</td>\n      <td>17</td>\n    </tr>\n    <tr>\n      <th>27826</th>\n      <td>24</td>\n      <td>True</td>\n      <td>7</td>\n      <td>False</td>\n      <td>True</td>\n      <td>-1</td>\n      <td>0</td>\n    </tr>\n  </tbody>\n</table>\n</div>"
     },
     "metadata": {},
     "execution_count": 109
    }
   ],
   "source": [
    "# test dummy data\n",
    "D2D_member['request'] = np.random.choice(a=[False, True], size=len(D2D_member))\n",
    "D2D_member['response'] = np.random.choice(a=[False, True], size=len(D2D_member))\n",
    "D2D_member['transmit'] = np.random.uniform(low=0,high=20,size=nMTCD).astype(int)\n",
    "D2D_member.sample(10)"
   ]
  },
  {
   "cell_type": "code",
   "execution_count": 110,
   "metadata": {},
   "outputs": [
    {
     "output_type": "execute_result",
     "data": {
      "text/plain": "           Header  Member arrange  request  response  success  transmit\ndevice_id                                                              \n0               0   False     NaN    False      True       -1        11\n100             0    True       0     True      True       -1        10\n186             0    True       0     True      True       -1         0\n212             0    True       0     True      True       -1         9\n307             0    True       0    False      True       -1         3\n...           ...     ...     ...      ...       ...      ...       ...\n26797           0    True       6     True      True       -1         5\n27115           0    True       7    False      True       -1         1\n27863           0    True       7    False      True       -1         6\n28735           0    True       7     True      True       -1         5\n29185           0    True       7     True      True       -1         7\n\n[84 rows x 7 columns]",
      "text/html": "<div>\n<style scoped>\n    .dataframe tbody tr th:only-of-type {\n        vertical-align: middle;\n    }\n\n    .dataframe tbody tr th {\n        vertical-align: top;\n    }\n\n    .dataframe thead th {\n        text-align: right;\n    }\n</style>\n<table border=\"1\" class=\"dataframe\">\n  <thead>\n    <tr style=\"text-align: right;\">\n      <th></th>\n      <th>Header</th>\n      <th>Member</th>\n      <th>arrange</th>\n      <th>request</th>\n      <th>response</th>\n      <th>success</th>\n      <th>transmit</th>\n    </tr>\n    <tr>\n      <th>device_id</th>\n      <th></th>\n      <th></th>\n      <th></th>\n      <th></th>\n      <th></th>\n      <th></th>\n      <th></th>\n    </tr>\n  </thead>\n  <tbody>\n    <tr>\n      <th>0</th>\n      <td>0</td>\n      <td>False</td>\n      <td>NaN</td>\n      <td>False</td>\n      <td>True</td>\n      <td>-1</td>\n      <td>11</td>\n    </tr>\n    <tr>\n      <th>100</th>\n      <td>0</td>\n      <td>True</td>\n      <td>0</td>\n      <td>True</td>\n      <td>True</td>\n      <td>-1</td>\n      <td>10</td>\n    </tr>\n    <tr>\n      <th>186</th>\n      <td>0</td>\n      <td>True</td>\n      <td>0</td>\n      <td>True</td>\n      <td>True</td>\n      <td>-1</td>\n      <td>0</td>\n    </tr>\n    <tr>\n      <th>212</th>\n      <td>0</td>\n      <td>True</td>\n      <td>0</td>\n      <td>True</td>\n      <td>True</td>\n      <td>-1</td>\n      <td>9</td>\n    </tr>\n    <tr>\n      <th>307</th>\n      <td>0</td>\n      <td>True</td>\n      <td>0</td>\n      <td>False</td>\n      <td>True</td>\n      <td>-1</td>\n      <td>3</td>\n    </tr>\n    <tr>\n      <th>...</th>\n      <td>...</td>\n      <td>...</td>\n      <td>...</td>\n      <td>...</td>\n      <td>...</td>\n      <td>...</td>\n      <td>...</td>\n    </tr>\n    <tr>\n      <th>26797</th>\n      <td>0</td>\n      <td>True</td>\n      <td>6</td>\n      <td>True</td>\n      <td>True</td>\n      <td>-1</td>\n      <td>5</td>\n    </tr>\n    <tr>\n      <th>27115</th>\n      <td>0</td>\n      <td>True</td>\n      <td>7</td>\n      <td>False</td>\n      <td>True</td>\n      <td>-1</td>\n      <td>1</td>\n    </tr>\n    <tr>\n      <th>27863</th>\n      <td>0</td>\n      <td>True</td>\n      <td>7</td>\n      <td>False</td>\n      <td>True</td>\n      <td>-1</td>\n      <td>6</td>\n    </tr>\n    <tr>\n      <th>28735</th>\n      <td>0</td>\n      <td>True</td>\n      <td>7</td>\n      <td>True</td>\n      <td>True</td>\n      <td>-1</td>\n      <td>5</td>\n    </tr>\n    <tr>\n      <th>29185</th>\n      <td>0</td>\n      <td>True</td>\n      <td>7</td>\n      <td>True</td>\n      <td>True</td>\n      <td>-1</td>\n      <td>7</td>\n    </tr>\n  </tbody>\n</table>\n<p>84 rows × 7 columns</p>\n</div>"
     },
     "metadata": {},
     "execution_count": 110
    }
   ],
   "source": [
    "valid_group_members = D2D_member.loc[(D2D_member['Header'] == 0) & (D2D_member['response'])]\n",
    "valid_group_members"
   ]
  },
  {
   "cell_type": "code",
   "execution_count": 117,
   "metadata": {},
   "outputs": [
    {
     "output_type": "execute_result",
     "data": {
      "text/plain": "4109"
     },
     "metadata": {},
     "execution_count": 117
    }
   ],
   "source": []
  },
  {
   "cell_type": "code",
   "execution_count": 123,
   "metadata": {},
   "outputs": [],
   "source": [
    "device_id = valid_group_members['transmit'].idxmax()\n",
    "valid_group_members = valid_group_members.drop(device_id)"
   ]
  },
  {
   "cell_type": "code",
   "execution_count": 124,
   "metadata": {},
   "outputs": [
    {
     "output_type": "execute_result",
     "data": {
      "text/plain": "Header          0\nMember       True\narrange         1\nrequest     False\nresponse     True\nsuccess        -1\ntransmit       19\nName: 6419, dtype: object"
     },
     "metadata": {},
     "execution_count": 124
    }
   ],
   "source": [
    "device_id = valid_group_members['transmit'].idxmax()\n",
    "valid_group_members.loc[device_id]\n"
   ]
  },
  {
   "cell_type": "code",
   "execution_count": 130,
   "metadata": {},
   "outputs": [],
   "source": [
    "D2D_member.at[30001, 'transmit'] = 5"
   ]
  },
  {
   "cell_type": "code",
   "execution_count": 131,
   "metadata": {},
   "outputs": [
    {
     "output_type": "execute_result",
     "data": {
      "text/plain": "           Header Member arrange request response  success  transmit\ndevice_id                                                           \n0             0.0  False     NaN   False     True     -1.0      11.0\n1             1.0  False     NaN    True     True     -1.0      14.0\n2             2.0  False     NaN    True    False     -1.0      18.0\n3             3.0  False     NaN   False    False     -1.0      15.0\n4             4.0  False     NaN    True     True     -1.0      16.0\n...           ...    ...     ...     ...      ...      ...       ...\n29996      1305.0   True       6    True     True     -1.0       8.0\n29997       138.0   True       8   False    False     -1.0      15.0\n29998       227.0   True       3   False    False     -1.0       8.0\n29999         2.0   True       8    True    False     -1.0       5.0\n30001         NaN    NaN     NaN     NaN      NaN      NaN       5.0\n\n[30001 rows x 7 columns]",
      "text/html": "<div>\n<style scoped>\n    .dataframe tbody tr th:only-of-type {\n        vertical-align: middle;\n    }\n\n    .dataframe tbody tr th {\n        vertical-align: top;\n    }\n\n    .dataframe thead th {\n        text-align: right;\n    }\n</style>\n<table border=\"1\" class=\"dataframe\">\n  <thead>\n    <tr style=\"text-align: right;\">\n      <th></th>\n      <th>Header</th>\n      <th>Member</th>\n      <th>arrange</th>\n      <th>request</th>\n      <th>response</th>\n      <th>success</th>\n      <th>transmit</th>\n    </tr>\n    <tr>\n      <th>device_id</th>\n      <th></th>\n      <th></th>\n      <th></th>\n      <th></th>\n      <th></th>\n      <th></th>\n      <th></th>\n    </tr>\n  </thead>\n  <tbody>\n    <tr>\n      <th>0</th>\n      <td>0.0</td>\n      <td>False</td>\n      <td>NaN</td>\n      <td>False</td>\n      <td>True</td>\n      <td>-1.0</td>\n      <td>11.0</td>\n    </tr>\n    <tr>\n      <th>1</th>\n      <td>1.0</td>\n      <td>False</td>\n      <td>NaN</td>\n      <td>True</td>\n      <td>True</td>\n      <td>-1.0</td>\n      <td>14.0</td>\n    </tr>\n    <tr>\n      <th>2</th>\n      <td>2.0</td>\n      <td>False</td>\n      <td>NaN</td>\n      <td>True</td>\n      <td>False</td>\n      <td>-1.0</td>\n      <td>18.0</td>\n    </tr>\n    <tr>\n      <th>3</th>\n      <td>3.0</td>\n      <td>False</td>\n      <td>NaN</td>\n      <td>False</td>\n      <td>False</td>\n      <td>-1.0</td>\n      <td>15.0</td>\n    </tr>\n    <tr>\n      <th>4</th>\n      <td>4.0</td>\n      <td>False</td>\n      <td>NaN</td>\n      <td>True</td>\n      <td>True</td>\n      <td>-1.0</td>\n      <td>16.0</td>\n    </tr>\n    <tr>\n      <th>...</th>\n      <td>...</td>\n      <td>...</td>\n      <td>...</td>\n      <td>...</td>\n      <td>...</td>\n      <td>...</td>\n      <td>...</td>\n    </tr>\n    <tr>\n      <th>29996</th>\n      <td>1305.0</td>\n      <td>True</td>\n      <td>6</td>\n      <td>True</td>\n      <td>True</td>\n      <td>-1.0</td>\n      <td>8.0</td>\n    </tr>\n    <tr>\n      <th>29997</th>\n      <td>138.0</td>\n      <td>True</td>\n      <td>8</td>\n      <td>False</td>\n      <td>False</td>\n      <td>-1.0</td>\n      <td>15.0</td>\n    </tr>\n    <tr>\n      <th>29998</th>\n      <td>227.0</td>\n      <td>True</td>\n      <td>3</td>\n      <td>False</td>\n      <td>False</td>\n      <td>-1.0</td>\n      <td>8.0</td>\n    </tr>\n    <tr>\n      <th>29999</th>\n      <td>2.0</td>\n      <td>True</td>\n      <td>8</td>\n      <td>True</td>\n      <td>False</td>\n      <td>-1.0</td>\n      <td>5.0</td>\n    </tr>\n    <tr>\n      <th>30001</th>\n      <td>NaN</td>\n      <td>NaN</td>\n      <td>NaN</td>\n      <td>NaN</td>\n      <td>NaN</td>\n      <td>NaN</td>\n      <td>5.0</td>\n    </tr>\n  </tbody>\n</table>\n<p>30001 rows × 7 columns</p>\n</div>"
     },
     "metadata": {},
     "execution_count": 131
    }
   ],
   "source": [
    "D2D_member"
   ]
  },
  {
   "cell_type": "code",
   "execution_count": 133,
   "metadata": {},
   "outputs": [
    {
     "output_type": "execute_result",
     "data": {
      "text/plain": "True"
     },
     "metadata": {},
     "execution_count": 133
    }
   ],
   "source": [
    "2 in [0,1,1,2,1]"
   ]
  },
  {
   "cell_type": "code",
   "execution_count": 140,
   "metadata": {},
   "outputs": [],
   "source": [
    "N_class = 5\n",
    "simRAO = 2000\n",
    "schedule = [frame % N_class for frame in range(simRAO)]"
   ]
  },
  {
   "cell_type": "code",
   "execution_count": 2,
   "metadata": {},
   "outputs": [],
   "source": [
    "from itertools import cycle\n",
    "import numpy as np"
   ]
  },
  {
   "cell_type": "code",
   "execution_count": 19,
   "metadata": {},
   "outputs": [],
   "source": [
    "BS_schedule = pd.DataFrame(\n",
    "    columns=['class', 'TDCR'],\n",
    ")\n",
    "SIB2_period = 16\n",
    "N_Class = 5\n",
    "Class_Status = ['N'] * N_Class\n",
    "N_Normal_frame_total = 0\n"
   ]
  },
  {
   "cell_type": "code",
   "execution_count": 28,
   "metadata": {},
   "outputs": [],
   "source": [
    "Class_Status = ['H', 'H', 'M', 'N', 'N']"
   ]
  },
  {
   "cell_type": "code",
   "execution_count": 29,
   "metadata": {},
   "outputs": [],
   "source": [
    "N_Normal_frame = SIB2_period\n",
    "M_Class = []  # indicates the Access Class that can initiate in M TDCR frame\n",
    "H_Class = []  # indicates the Access Class that can initiate in H TDCR frame\n",
    "for i in range(N_class):  # check status of each Classes\n",
    "    if Class_Status[i] == 'H':\n",
    "        H_Class.append(i)\n",
    "    elif Class_Status[i] == 'M':\n",
    "        M_Class.append(i)\n",
    "if H_Class:\n",
    "    for i in range(2):\n",
    "        BS_schedule = BS_schedule.append({'class': H_Class, 'TDCR': 'H'}, ignore_index=True)\n",
    "    N_Normal_frame -= 2\n",
    "\n",
    "if M_Class:\n",
    "    BS_schedule = BS_schedule.append({'class': M_Class, 'TDCR': 'M'}, ignore_index=True)\n",
    "    N_Normal_frame -= 1\n",
    "\n",
    "for i in range(N_Normal_frame):\n",
    "    BS_schedule = BS_schedule.append({'class': [N_Normal_frame_total % N_Class], 'TDCR': 'N'}, ignore_index=True)\n",
    "    N_Normal_frame_total += 1"
   ]
  },
  {
   "cell_type": "code",
   "execution_count": 40,
   "metadata": {},
   "outputs": [
    {
     "output_type": "execute_result",
     "data": {
      "text/plain": "array([0, 1, 2, 3], dtype=object)"
     },
     "metadata": {},
     "execution_count": 40
    }
   ],
   "source": [
    "D2D_group['class'].unique()"
   ]
  },
  {
   "cell_type": "code",
   "execution_count": 41,
   "metadata": {},
   "outputs": [],
   "source": [
    "class_list = [1, 2]"
   ]
  },
  {
   "cell_type": "code",
   "execution_count": 42,
   "metadata": {},
   "outputs": [],
   "source": [
    "groups_in_class = pd.DataFrame()\n",
    "for class_ in class_list:\n",
    "    groups_in_class = groups_in_class.append(D2D_group.loc[D2D_group['class'] == class_])"
   ]
  },
  {
   "cell_type": "code",
   "execution_count": 52,
   "metadata": {},
   "outputs": [
    {
     "output_type": "execute_result",
     "data": {
      "text/plain": "     Header class  N_member  arr_seq  N_RA     HL\n54      307     1        54        0     0  False\n55       61     1        49        0     0  False\n56       62     1        25        0     0  False\n57       63     1        44        0     0  False\n58       64     1        51        0     0  False\n..      ...   ...       ...      ...   ...    ...\n157     272     2        50        0     0  False\n158     282     2        50        0     0  False\n159     283     2        47        0     0  False\n160     291     2        35        0     0  False\n161     363     2        33        0     0  False\n\n[108 rows x 6 columns]",
      "text/html": "<div>\n<style scoped>\n    .dataframe tbody tr th:only-of-type {\n        vertical-align: middle;\n    }\n\n    .dataframe tbody tr th {\n        vertical-align: top;\n    }\n\n    .dataframe thead th {\n        text-align: right;\n    }\n</style>\n<table border=\"1\" class=\"dataframe\">\n  <thead>\n    <tr style=\"text-align: right;\">\n      <th></th>\n      <th>Header</th>\n      <th>class</th>\n      <th>N_member</th>\n      <th>arr_seq</th>\n      <th>N_RA</th>\n      <th>HL</th>\n    </tr>\n  </thead>\n  <tbody>\n    <tr>\n      <th>54</th>\n      <td>307</td>\n      <td>1</td>\n      <td>54</td>\n      <td>0</td>\n      <td>0</td>\n      <td>False</td>\n    </tr>\n    <tr>\n      <th>55</th>\n      <td>61</td>\n      <td>1</td>\n      <td>49</td>\n      <td>0</td>\n      <td>0</td>\n      <td>False</td>\n    </tr>\n    <tr>\n      <th>56</th>\n      <td>62</td>\n      <td>1</td>\n      <td>25</td>\n      <td>0</td>\n      <td>0</td>\n      <td>False</td>\n    </tr>\n    <tr>\n      <th>57</th>\n      <td>63</td>\n      <td>1</td>\n      <td>44</td>\n      <td>0</td>\n      <td>0</td>\n      <td>False</td>\n    </tr>\n    <tr>\n      <th>58</th>\n      <td>64</td>\n      <td>1</td>\n      <td>51</td>\n      <td>0</td>\n      <td>0</td>\n      <td>False</td>\n    </tr>\n    <tr>\n      <th>...</th>\n      <td>...</td>\n      <td>...</td>\n      <td>...</td>\n      <td>...</td>\n      <td>...</td>\n      <td>...</td>\n    </tr>\n    <tr>\n      <th>157</th>\n      <td>272</td>\n      <td>2</td>\n      <td>50</td>\n      <td>0</td>\n      <td>0</td>\n      <td>False</td>\n    </tr>\n    <tr>\n      <th>158</th>\n      <td>282</td>\n      <td>2</td>\n      <td>50</td>\n      <td>0</td>\n      <td>0</td>\n      <td>False</td>\n    </tr>\n    <tr>\n      <th>159</th>\n      <td>283</td>\n      <td>2</td>\n      <td>47</td>\n      <td>0</td>\n      <td>0</td>\n      <td>False</td>\n    </tr>\n    <tr>\n      <th>160</th>\n      <td>291</td>\n      <td>2</td>\n      <td>35</td>\n      <td>0</td>\n      <td>0</td>\n      <td>False</td>\n    </tr>\n    <tr>\n      <th>161</th>\n      <td>363</td>\n      <td>2</td>\n      <td>33</td>\n      <td>0</td>\n      <td>0</td>\n      <td>False</td>\n    </tr>\n  </tbody>\n</table>\n<p>108 rows × 6 columns</p>\n</div>"
     },
     "metadata": {},
     "execution_count": 52
    }
   ],
   "source": [
    "groups_in_class"
   ]
  },
  {
   "cell_type": "code",
   "execution_count": 107,
   "metadata": {},
   "outputs": [],
   "source": [
    "import matplotlib.pyplot as plt\n",
    "TDCR_D2D_Result_10k = pd.read_csv('/home/kangyu/TDCR/TDCR_Simulation/result/TDCR_D2D_Result_10000.csv')\n",
    "TDCR_Device_Result_10k = pd.read_csv('/home/kangyu/TDCR/TDCR_Simulation/result/TDCR_Device_Result_10000.csv')\n",
    "TDCR_RA_Result_10k = pd.read_csv('/home/kangyu/TDCR/TDCR_Simulation/result/TDCR_RA_Result_10000.csv')\n",
    "TDCR_D2D_Result_30k = pd.read_csv('/home/kangyu/TDCR/TDCR_Simulation/result/TDCR_D2D_Result_30000.csv')\n",
    "TDCR_Device_Result_30k = pd.read_csv('/home/kangyu/TDCR/TDCR_Simulation/result/TDCR_Device_Result_30000.csv')\n",
    "TDCR_RA_Result_30k = pd.read_csv('/home/kangyu/TDCR/TDCR_Simulation/result/TDCR_RA_Result_30000.csv')"
   ]
  },
  {
   "cell_type": "code",
   "execution_count": 101,
   "metadata": {},
   "outputs": [
    {
     "output_type": "execute_result",
     "data": {
      "text/plain": "0"
     },
     "metadata": {},
     "execution_count": 101
    }
   ],
   "source": [
    "TDCR_D2D_Result_10k['N_HL'].max()"
   ]
  },
  {
   "cell_type": "code",
   "execution_count": 102,
   "metadata": {},
   "outputs": [
    {
     "output_type": "execute_result",
     "data": {
      "text/plain": "[<matplotlib.lines.Line2D at 0x7f69c0f2b6d0>]"
     },
     "metadata": {},
     "execution_count": 102
    },
    {
     "output_type": "display_data",
     "data": {
      "text/plain": "<Figure size 432x288 with 1 Axes>",
      "image/svg+xml": "<?xml version=\"1.0\" encoding=\"utf-8\" standalone=\"no\"?>\n<!DOCTYPE svg PUBLIC \"-//W3C//DTD SVG 1.1//EN\"\n  \"http://www.w3.org/Graphics/SVG/1.1/DTD/svg11.dtd\">\n<!-- Created with matplotlib (https://matplotlib.org/) -->\n<svg height=\"248.518125pt\" version=\"1.1\" viewBox=\"0 0 375.2875 248.518125\" width=\"375.2875pt\" xmlns=\"http://www.w3.org/2000/svg\" xmlns:xlink=\"http://www.w3.org/1999/xlink\">\n <defs>\n  <style type=\"text/css\">\n*{stroke-linecap:butt;stroke-linejoin:round;}\n  </style>\n </defs>\n <g id=\"figure_1\">\n  <g id=\"patch_1\">\n   <path d=\"M 0 248.518125 \nL 375.2875 248.518125 \nL 375.2875 0 \nL 0 0 \nz\n\" style=\"fill:none;\"/>\n  </g>\n  <g id=\"axes_1\">\n   <g id=\"patch_2\">\n    <path d=\"M 33.2875 224.64 \nL 368.0875 224.64 \nL 368.0875 7.2 \nL 33.2875 7.2 \nz\n\" style=\"fill:#ffffff;\"/>\n   </g>\n   <g id=\"matplotlib.axis_1\">\n    <g id=\"xtick_1\">\n     <g id=\"line2d_1\">\n      <defs>\n       <path d=\"M 0 0 \nL 0 3.5 \n\" id=\"m071318d884\" style=\"stroke:#000000;stroke-width:0.8;\"/>\n      </defs>\n      <g>\n       <use style=\"stroke:#000000;stroke-width:0.8;\" x=\"47.216005\" xlink:href=\"#m071318d884\" y=\"224.64\"/>\n      </g>\n     </g>\n     <g id=\"text_1\">\n      <!-- 0 -->\n      <defs>\n       <path d=\"M 31.78125 66.40625 \nQ 24.171875 66.40625 20.328125 58.90625 \nQ 16.5 51.421875 16.5 36.375 \nQ 16.5 21.390625 20.328125 13.890625 \nQ 24.171875 6.390625 31.78125 6.390625 \nQ 39.453125 6.390625 43.28125 13.890625 \nQ 47.125 21.390625 47.125 36.375 \nQ 47.125 51.421875 43.28125 58.90625 \nQ 39.453125 66.40625 31.78125 66.40625 \nz\nM 31.78125 74.21875 \nQ 44.046875 74.21875 50.515625 64.515625 \nQ 56.984375 54.828125 56.984375 36.375 \nQ 56.984375 17.96875 50.515625 8.265625 \nQ 44.046875 -1.421875 31.78125 -1.421875 \nQ 19.53125 -1.421875 13.0625 8.265625 \nQ 6.59375 17.96875 6.59375 36.375 \nQ 6.59375 54.828125 13.0625 64.515625 \nQ 19.53125 74.21875 31.78125 74.21875 \nz\n\" id=\"DejaVuSans-48\"/>\n      </defs>\n      <g transform=\"translate(44.034755 239.238437)scale(0.1 -0.1)\">\n       <use xlink:href=\"#DejaVuSans-48\"/>\n      </g>\n     </g>\n    </g>\n    <g id=\"xtick_2\">\n     <g id=\"line2d_2\">\n      <g>\n       <use style=\"stroke:#000000;stroke-width:0.8;\" x=\"111.699827\" xlink:href=\"#m071318d884\" y=\"224.64\"/>\n      </g>\n     </g>\n     <g id=\"text_2\">\n      <!-- 200 -->\n      <defs>\n       <path d=\"M 19.1875 8.296875 \nL 53.609375 8.296875 \nL 53.609375 0 \nL 7.328125 0 \nL 7.328125 8.296875 \nQ 12.9375 14.109375 22.625 23.890625 \nQ 32.328125 33.6875 34.8125 36.53125 \nQ 39.546875 41.84375 41.421875 45.53125 \nQ 43.3125 49.21875 43.3125 52.78125 \nQ 43.3125 58.59375 39.234375 62.25 \nQ 35.15625 65.921875 28.609375 65.921875 \nQ 23.96875 65.921875 18.8125 64.3125 \nQ 13.671875 62.703125 7.8125 59.421875 \nL 7.8125 69.390625 \nQ 13.765625 71.78125 18.9375 73 \nQ 24.125 74.21875 28.421875 74.21875 \nQ 39.75 74.21875 46.484375 68.546875 \nQ 53.21875 62.890625 53.21875 53.421875 \nQ 53.21875 48.921875 51.53125 44.890625 \nQ 49.859375 40.875 45.40625 35.40625 \nQ 44.1875 33.984375 37.640625 27.21875 \nQ 31.109375 20.453125 19.1875 8.296875 \nz\n\" id=\"DejaVuSans-50\"/>\n      </defs>\n      <g transform=\"translate(102.156077 239.238437)scale(0.1 -0.1)\">\n       <use xlink:href=\"#DejaVuSans-50\"/>\n       <use x=\"63.623047\" xlink:href=\"#DejaVuSans-48\"/>\n       <use x=\"127.246094\" xlink:href=\"#DejaVuSans-48\"/>\n      </g>\n     </g>\n    </g>\n    <g id=\"xtick_3\">\n     <g id=\"line2d_3\">\n      <g>\n       <use style=\"stroke:#000000;stroke-width:0.8;\" x=\"176.183648\" xlink:href=\"#m071318d884\" y=\"224.64\"/>\n      </g>\n     </g>\n     <g id=\"text_3\">\n      <!-- 400 -->\n      <defs>\n       <path d=\"M 37.796875 64.3125 \nL 12.890625 25.390625 \nL 37.796875 25.390625 \nz\nM 35.203125 72.90625 \nL 47.609375 72.90625 \nL 47.609375 25.390625 \nL 58.015625 25.390625 \nL 58.015625 17.1875 \nL 47.609375 17.1875 \nL 47.609375 0 \nL 37.796875 0 \nL 37.796875 17.1875 \nL 4.890625 17.1875 \nL 4.890625 26.703125 \nz\n\" id=\"DejaVuSans-52\"/>\n      </defs>\n      <g transform=\"translate(166.639898 239.238437)scale(0.1 -0.1)\">\n       <use xlink:href=\"#DejaVuSans-52\"/>\n       <use x=\"63.623047\" xlink:href=\"#DejaVuSans-48\"/>\n       <use x=\"127.246094\" xlink:href=\"#DejaVuSans-48\"/>\n      </g>\n     </g>\n    </g>\n    <g id=\"xtick_4\">\n     <g id=\"line2d_4\">\n      <g>\n       <use style=\"stroke:#000000;stroke-width:0.8;\" x=\"240.667469\" xlink:href=\"#m071318d884\" y=\"224.64\"/>\n      </g>\n     </g>\n     <g id=\"text_4\">\n      <!-- 600 -->\n      <defs>\n       <path d=\"M 33.015625 40.375 \nQ 26.375 40.375 22.484375 35.828125 \nQ 18.609375 31.296875 18.609375 23.390625 \nQ 18.609375 15.53125 22.484375 10.953125 \nQ 26.375 6.390625 33.015625 6.390625 \nQ 39.65625 6.390625 43.53125 10.953125 \nQ 47.40625 15.53125 47.40625 23.390625 \nQ 47.40625 31.296875 43.53125 35.828125 \nQ 39.65625 40.375 33.015625 40.375 \nz\nM 52.59375 71.296875 \nL 52.59375 62.3125 \nQ 48.875 64.0625 45.09375 64.984375 \nQ 41.3125 65.921875 37.59375 65.921875 \nQ 27.828125 65.921875 22.671875 59.328125 \nQ 17.53125 52.734375 16.796875 39.40625 \nQ 19.671875 43.65625 24.015625 45.921875 \nQ 28.375 48.1875 33.59375 48.1875 \nQ 44.578125 48.1875 50.953125 41.515625 \nQ 57.328125 34.859375 57.328125 23.390625 \nQ 57.328125 12.15625 50.6875 5.359375 \nQ 44.046875 -1.421875 33.015625 -1.421875 \nQ 20.359375 -1.421875 13.671875 8.265625 \nQ 6.984375 17.96875 6.984375 36.375 \nQ 6.984375 53.65625 15.1875 63.9375 \nQ 23.390625 74.21875 37.203125 74.21875 \nQ 40.921875 74.21875 44.703125 73.484375 \nQ 48.484375 72.75 52.59375 71.296875 \nz\n\" id=\"DejaVuSans-54\"/>\n      </defs>\n      <g transform=\"translate(231.123719 239.238437)scale(0.1 -0.1)\">\n       <use xlink:href=\"#DejaVuSans-54\"/>\n       <use x=\"63.623047\" xlink:href=\"#DejaVuSans-48\"/>\n       <use x=\"127.246094\" xlink:href=\"#DejaVuSans-48\"/>\n      </g>\n     </g>\n    </g>\n    <g id=\"xtick_5\">\n     <g id=\"line2d_5\">\n      <g>\n       <use style=\"stroke:#000000;stroke-width:0.8;\" x=\"305.15129\" xlink:href=\"#m071318d884\" y=\"224.64\"/>\n      </g>\n     </g>\n     <g id=\"text_5\">\n      <!-- 800 -->\n      <defs>\n       <path d=\"M 31.78125 34.625 \nQ 24.75 34.625 20.71875 30.859375 \nQ 16.703125 27.09375 16.703125 20.515625 \nQ 16.703125 13.921875 20.71875 10.15625 \nQ 24.75 6.390625 31.78125 6.390625 \nQ 38.8125 6.390625 42.859375 10.171875 \nQ 46.921875 13.96875 46.921875 20.515625 \nQ 46.921875 27.09375 42.890625 30.859375 \nQ 38.875 34.625 31.78125 34.625 \nz\nM 21.921875 38.8125 \nQ 15.578125 40.375 12.03125 44.71875 \nQ 8.5 49.078125 8.5 55.328125 \nQ 8.5 64.0625 14.71875 69.140625 \nQ 20.953125 74.21875 31.78125 74.21875 \nQ 42.671875 74.21875 48.875 69.140625 \nQ 55.078125 64.0625 55.078125 55.328125 \nQ 55.078125 49.078125 51.53125 44.71875 \nQ 48 40.375 41.703125 38.8125 \nQ 48.828125 37.15625 52.796875 32.3125 \nQ 56.78125 27.484375 56.78125 20.515625 \nQ 56.78125 9.90625 50.3125 4.234375 \nQ 43.84375 -1.421875 31.78125 -1.421875 \nQ 19.734375 -1.421875 13.25 4.234375 \nQ 6.78125 9.90625 6.78125 20.515625 \nQ 6.78125 27.484375 10.78125 32.3125 \nQ 14.796875 37.15625 21.921875 38.8125 \nz\nM 18.3125 54.390625 \nQ 18.3125 48.734375 21.84375 45.5625 \nQ 25.390625 42.390625 31.78125 42.390625 \nQ 38.140625 42.390625 41.71875 45.5625 \nQ 45.3125 48.734375 45.3125 54.390625 \nQ 45.3125 60.0625 41.71875 63.234375 \nQ 38.140625 66.40625 31.78125 66.40625 \nQ 25.390625 66.40625 21.84375 63.234375 \nQ 18.3125 60.0625 18.3125 54.390625 \nz\n\" id=\"DejaVuSans-56\"/>\n      </defs>\n      <g transform=\"translate(295.60754 239.238437)scale(0.1 -0.1)\">\n       <use xlink:href=\"#DejaVuSans-56\"/>\n       <use x=\"63.623047\" xlink:href=\"#DejaVuSans-48\"/>\n       <use x=\"127.246094\" xlink:href=\"#DejaVuSans-48\"/>\n      </g>\n     </g>\n    </g>\n   </g>\n   <g id=\"matplotlib.axis_2\">\n    <g id=\"ytick_1\">\n     <g id=\"line2d_6\">\n      <defs>\n       <path d=\"M 0 0 \nL -3.5 0 \n\" id=\"m4cde297e4f\" style=\"stroke:#000000;stroke-width:0.8;\"/>\n      </defs>\n      <g>\n       <use style=\"stroke:#000000;stroke-width:0.8;\" x=\"33.2875\" xlink:href=\"#m4cde297e4f\" y=\"214.756364\"/>\n      </g>\n     </g>\n     <g id=\"text_6\">\n      <!-- 0 -->\n      <g transform=\"translate(19.925 218.555582)scale(0.1 -0.1)\">\n       <use xlink:href=\"#DejaVuSans-48\"/>\n      </g>\n     </g>\n    </g>\n    <g id=\"ytick_2\">\n     <g id=\"line2d_7\">\n      <g>\n       <use style=\"stroke:#000000;stroke-width:0.8;\" x=\"33.2875\" xlink:href=\"#m4cde297e4f\" y=\"167.009328\"/>\n      </g>\n     </g>\n     <g id=\"text_7\">\n      <!-- 50 -->\n      <defs>\n       <path d=\"M 10.796875 72.90625 \nL 49.515625 72.90625 \nL 49.515625 64.59375 \nL 19.828125 64.59375 \nL 19.828125 46.734375 \nQ 21.96875 47.46875 24.109375 47.828125 \nQ 26.265625 48.1875 28.421875 48.1875 \nQ 40.625 48.1875 47.75 41.5 \nQ 54.890625 34.8125 54.890625 23.390625 \nQ 54.890625 11.625 47.5625 5.09375 \nQ 40.234375 -1.421875 26.90625 -1.421875 \nQ 22.3125 -1.421875 17.546875 -0.640625 \nQ 12.796875 0.140625 7.71875 1.703125 \nL 7.71875 11.625 \nQ 12.109375 9.234375 16.796875 8.0625 \nQ 21.484375 6.890625 26.703125 6.890625 \nQ 35.15625 6.890625 40.078125 11.328125 \nQ 45.015625 15.765625 45.015625 23.390625 \nQ 45.015625 31 40.078125 35.4375 \nQ 35.15625 39.890625 26.703125 39.890625 \nQ 22.75 39.890625 18.8125 39.015625 \nQ 14.890625 38.140625 10.796875 36.28125 \nz\n\" id=\"DejaVuSans-53\"/>\n      </defs>\n      <g transform=\"translate(13.5625 170.808547)scale(0.1 -0.1)\">\n       <use xlink:href=\"#DejaVuSans-53\"/>\n       <use x=\"63.623047\" xlink:href=\"#DejaVuSans-48\"/>\n      </g>\n     </g>\n    </g>\n    <g id=\"ytick_3\">\n     <g id=\"line2d_8\">\n      <g>\n       <use style=\"stroke:#000000;stroke-width:0.8;\" x=\"33.2875\" xlink:href=\"#m4cde297e4f\" y=\"119.262292\"/>\n      </g>\n     </g>\n     <g id=\"text_8\">\n      <!-- 100 -->\n      <defs>\n       <path d=\"M 12.40625 8.296875 \nL 28.515625 8.296875 \nL 28.515625 63.921875 \nL 10.984375 60.40625 \nL 10.984375 69.390625 \nL 28.421875 72.90625 \nL 38.28125 72.90625 \nL 38.28125 8.296875 \nL 54.390625 8.296875 \nL 54.390625 0 \nL 12.40625 0 \nz\n\" id=\"DejaVuSans-49\"/>\n      </defs>\n      <g transform=\"translate(7.2 123.061511)scale(0.1 -0.1)\">\n       <use xlink:href=\"#DejaVuSans-49\"/>\n       <use x=\"63.623047\" xlink:href=\"#DejaVuSans-48\"/>\n       <use x=\"127.246094\" xlink:href=\"#DejaVuSans-48\"/>\n      </g>\n     </g>\n    </g>\n    <g id=\"ytick_4\">\n     <g id=\"line2d_9\">\n      <g>\n       <use style=\"stroke:#000000;stroke-width:0.8;\" x=\"33.2875\" xlink:href=\"#m4cde297e4f\" y=\"71.515257\"/>\n      </g>\n     </g>\n     <g id=\"text_9\">\n      <!-- 150 -->\n      <g transform=\"translate(7.2 75.314476)scale(0.1 -0.1)\">\n       <use xlink:href=\"#DejaVuSans-49\"/>\n       <use x=\"63.623047\" xlink:href=\"#DejaVuSans-53\"/>\n       <use x=\"127.246094\" xlink:href=\"#DejaVuSans-48\"/>\n      </g>\n     </g>\n    </g>\n    <g id=\"ytick_5\">\n     <g id=\"line2d_10\">\n      <g>\n       <use style=\"stroke:#000000;stroke-width:0.8;\" x=\"33.2875\" xlink:href=\"#m4cde297e4f\" y=\"23.768221\"/>\n      </g>\n     </g>\n     <g id=\"text_10\">\n      <!-- 200 -->\n      <g transform=\"translate(7.2 27.56744)scale(0.1 -0.1)\">\n       <use xlink:href=\"#DejaVuSans-50\"/>\n       <use x=\"63.623047\" xlink:href=\"#DejaVuSans-48\"/>\n       <use x=\"127.246094\" xlink:href=\"#DejaVuSans-48\"/>\n      </g>\n     </g>\n    </g>\n   </g>\n   <g id=\"line2d_11\">\n    <path clip-path=\"url(#p1731e23b9b)\" d=\"M 48.505682 213.801423 \nL 51.085035 214.756364 \nL 53.664388 212.846482 \nL 56.24374 212.846482 \nL 58.823093 210.936601 \nL 61.402446 206.161897 \nL 63.981799 208.071779 \nL 66.561152 203.297075 \nL 69.140505 198.522372 \nL 71.719857 193.747668 \nL 74.29921 187.063083 \nL 76.878563 194.702609 \nL 79.457916 185.153202 \nL 82.037269 172.738972 \nL 84.616622 179.423557 \nL 87.195975 161.279684 \nL 89.775327 157.459921 \nL 92.35468 157.459921 \nL 94.934033 154.595099 \nL 97.513386 143.13581 \nL 100.092739 146.955573 \nL 102.672092 136.451225 \nL 105.251445 143.13581 \nL 107.830797 135.496285 \nL 110.41015 120.217233 \nL 112.989503 119.262292 \nL 115.568856 85.839368 \nL 118.148209 89.65913 \nL 120.727562 112.577708 \nL 123.306914 105.893123 \nL 125.886267 99.208538 \nL 128.46562 87.749249 \nL 131.044973 76.28996 \nL 133.624326 72.470198 \nL 136.203679 50.506561 \nL 138.783032 48.59668 \nL 141.362384 56.236206 \nL 143.941737 59.101028 \nL 146.52109 57.191146 \nL 149.100443 72.470198 \nL 151.679796 76.28996 \nL 154.259149 52.416443 \nL 156.838502 41.912095 \nL 159.417854 40.002213 \nL 161.997207 63.875731 \nL 164.57656 69.605375 \nL 167.155913 26.633043 \nL 169.735266 73.425138 \nL 172.314619 23.768221 \nL 174.893971 17.083636 \nL 177.473324 32.362688 \nL 180.052677 40.002213 \nL 182.63203 45.731858 \nL 185.211383 29.497866 \nL 187.790736 62.920791 \nL 190.370089 36.182451 \nL 192.949441 50.506561 \nL 195.528794 50.506561 \nL 198.108147 60.055968 \nL 200.6875 56.236206 \nL 203.266853 51.461502 \nL 205.846206 45.731858 \nL 208.425559 66.740553 \nL 211.004911 50.506561 \nL 213.584264 70.560316 \nL 216.163617 61.96585 \nL 218.74297 61.96585 \nL 221.322323 78.199842 \nL 223.901676 87.749249 \nL 226.481029 81.064664 \nL 229.060381 104.938182 \nL 231.639734 83.929486 \nL 234.219087 87.749249 \nL 236.79844 84.884427 \nL 239.377793 116.39747 \nL 241.957146 99.208538 \nL 244.536498 101.118419 \nL 247.115851 102.07336 \nL 249.695204 117.352411 \nL 252.274557 118.307352 \nL 254.85391 117.352411 \nL 257.433263 134.541344 \nL 260.012616 127.856759 \nL 262.591968 133.586403 \nL 265.171321 139.316047 \nL 267.750674 160.324743 \nL 270.330027 145.045692 \nL 272.90938 148.865455 \nL 275.488733 156.50498 \nL 278.068086 152.685217 \nL 280.647438 150.775336 \nL 283.226791 160.324743 \nL 285.806144 173.693913 \nL 288.385497 177.513676 \nL 290.96485 192.792727 \nL 293.544203 180.378498 \nL 296.123555 189.927905 \nL 298.702908 178.468617 \nL 301.282261 182.288379 \nL 303.861614 188.972964 \nL 306.440967 190.882846 \nL 309.02032 201.387194 \nL 311.599673 194.702609 \nL 314.179025 197.567431 \nL 316.758378 199.477312 \nL 319.337731 195.657549 \nL 321.917084 202.342134 \nL 324.496437 204.252016 \nL 327.07579 208.071779 \nL 329.655143 209.026719 \nL 332.234495 206.161897 \nL 334.813848 208.071779 \nL 337.393201 209.026719 \nL 339.972554 209.026719 \nL 342.551907 214.756364 \nL 345.13126 211.891542 \nL 347.710612 211.891542 \nL 350.289965 214.756364 \nL 352.869318 212.846482 \n\" style=\"fill:none;stroke:#1f77b4;stroke-linecap:square;stroke-width:1.5;\"/>\n   </g>\n   <g id=\"line2d_12\">\n    <path clip-path=\"url(#p1731e23b9b)\" d=\"M 48.505682 213.801423 \nL 51.085035 214.756364 \nL 53.664388 212.846482 \nL 56.24374 212.846482 \nL 58.823093 210.936601 \nL 61.402446 206.161897 \nL 63.981799 208.071779 \nL 66.561152 203.297075 \nL 69.140505 198.522372 \nL 71.719857 195.657549 \nL 74.29921 187.063083 \nL 76.878563 194.702609 \nL 79.457916 185.153202 \nL 82.037269 173.693913 \nL 84.616622 182.288379 \nL 87.195975 164.144506 \nL 89.775327 158.414862 \nL 92.35468 159.369802 \nL 94.934033 161.279684 \nL 97.513386 146.955573 \nL 100.092739 154.595099 \nL 102.672092 140.270988 \nL 105.251445 145.045692 \nL 107.830797 138.361107 \nL 110.41015 126.901818 \nL 112.989503 129.76664 \nL 115.568856 96.343715 \nL 118.148209 95.388775 \nL 120.727562 112.577708 \nL 123.306914 115.44253 \nL 125.886267 114.487589 \nL 128.46562 101.118419 \nL 131.044973 88.70419 \nL 133.624326 86.794308 \nL 136.203679 76.28996 \nL 138.783032 64.830672 \nL 141.362384 77.244901 \nL 143.941737 74.380079 \nL 146.52109 78.199842 \nL 149.100443 87.749249 \nL 151.679796 89.65913 \nL 154.259149 64.830672 \nL 156.838502 59.101028 \nL 159.417854 65.785613 \nL 161.997207 79.154783 \nL 164.57656 82.019605 \nL 167.155913 47.641739 \nL 169.735266 85.839368 \nL 172.314619 55.281265 \nL 174.893971 37.137391 \nL 177.473324 52.416443 \nL 180.052677 56.236206 \nL 182.63203 61.96585 \nL 185.211383 38.092332 \nL 187.790736 79.154783 \nL 190.370089 53.371383 \nL 192.949441 66.740553 \nL 195.528794 63.875731 \nL 198.108147 78.199842 \nL 200.6875 67.695494 \nL 203.266853 75.33502 \nL 205.846206 57.191146 \nL 208.425559 83.929486 \nL 211.004911 62.920791 \nL 213.584264 90.614071 \nL 216.163617 79.154783 \nL 218.74297 74.380079 \nL 221.322323 87.749249 \nL 223.901676 96.343715 \nL 226.481029 88.70419 \nL 229.060381 114.487589 \nL 231.639734 97.298656 \nL 234.219087 99.208538 \nL 236.79844 93.478893 \nL 239.377793 120.217233 \nL 241.957146 105.893123 \nL 244.536498 109.712885 \nL 247.115851 109.712885 \nL 249.695204 125.946877 \nL 252.274557 126.901818 \nL 254.85391 124.036996 \nL 257.433263 136.451225 \nL 260.012616 132.631462 \nL 262.591968 135.496285 \nL 265.171321 145.045692 \nL 267.750674 160.324743 \nL 270.330027 147.910514 \nL 272.90938 149.820395 \nL 275.488733 157.459921 \nL 278.068086 154.595099 \nL 280.647438 150.775336 \nL 283.226791 165.099447 \nL 285.806144 175.603794 \nL 288.385497 179.423557 \nL 290.96485 192.792727 \nL 293.544203 182.288379 \nL 296.123555 189.927905 \nL 298.702908 179.423557 \nL 301.282261 182.288379 \nL 303.861614 188.972964 \nL 306.440967 190.882846 \nL 309.02032 201.387194 \nL 311.599673 194.702609 \nL 314.179025 197.567431 \nL 316.758378 199.477312 \nL 319.337731 195.657549 \nL 321.917084 202.342134 \nL 324.496437 204.252016 \nL 327.07579 208.071779 \nL 329.655143 209.026719 \nL 332.234495 206.161897 \nL 334.813848 208.071779 \nL 337.393201 209.026719 \nL 339.972554 209.026719 \nL 342.551907 214.756364 \nL 345.13126 212.846482 \nL 347.710612 211.891542 \nL 350.289965 214.756364 \nL 352.869318 212.846482 \n\" style=\"fill:none;stroke:#ff7f0e;stroke-linecap:square;stroke-width:1.5;\"/>\n   </g>\n   <g id=\"line2d_13\">\n    <path clip-path=\"url(#p1731e23b9b)\" d=\"M 48.505682 214.756364 \nL 51.085035 214.756364 \nL 53.664388 214.756364 \nL 56.24374 214.756364 \nL 58.823093 214.756364 \nL 61.402446 214.756364 \nL 63.981799 214.756364 \nL 66.561152 214.756364 \nL 69.140505 214.756364 \nL 71.719857 214.756364 \nL 74.29921 214.756364 \nL 76.878563 214.756364 \nL 79.457916 214.756364 \nL 82.037269 214.756364 \nL 84.616622 214.756364 \nL 87.195975 214.756364 \nL 89.775327 214.756364 \nL 92.35468 214.756364 \nL 94.934033 214.756364 \nL 97.513386 214.756364 \nL 100.092739 214.756364 \nL 102.672092 214.756364 \nL 105.251445 214.756364 \nL 107.830797 214.756364 \nL 110.41015 214.756364 \nL 112.989503 214.756364 \nL 115.568856 214.756364 \nL 118.148209 214.756364 \nL 120.727562 214.756364 \nL 123.306914 214.756364 \nL 125.886267 214.756364 \nL 128.46562 214.756364 \nL 131.044973 214.756364 \nL 133.624326 214.756364 \nL 136.203679 214.756364 \nL 138.783032 214.756364 \nL 141.362384 214.756364 \nL 143.941737 214.756364 \nL 146.52109 214.756364 \nL 149.100443 214.756364 \nL 151.679796 214.756364 \nL 154.259149 214.756364 \nL 156.838502 214.756364 \nL 159.417854 214.756364 \nL 161.997207 214.756364 \nL 164.57656 214.756364 \nL 167.155913 214.756364 \nL 169.735266 214.756364 \nL 172.314619 214.756364 \nL 174.893971 214.756364 \nL 177.473324 214.756364 \nL 180.052677 214.756364 \nL 182.63203 214.756364 \nL 185.211383 214.756364 \nL 187.790736 214.756364 \nL 190.370089 214.756364 \nL 192.949441 214.756364 \nL 195.528794 214.756364 \nL 198.108147 214.756364 \nL 200.6875 214.756364 \nL 203.266853 214.756364 \nL 205.846206 214.756364 \nL 208.425559 214.756364 \nL 211.004911 214.756364 \nL 213.584264 214.756364 \nL 216.163617 214.756364 \nL 218.74297 214.756364 \nL 221.322323 214.756364 \nL 223.901676 214.756364 \nL 226.481029 214.756364 \nL 229.060381 214.756364 \nL 231.639734 214.756364 \nL 234.219087 214.756364 \nL 236.79844 214.756364 \nL 239.377793 214.756364 \nL 241.957146 214.756364 \nL 244.536498 214.756364 \nL 247.115851 214.756364 \nL 249.695204 214.756364 \nL 252.274557 214.756364 \nL 254.85391 214.756364 \nL 257.433263 214.756364 \nL 260.012616 214.756364 \nL 262.591968 214.756364 \nL 265.171321 214.756364 \nL 267.750674 214.756364 \nL 270.330027 214.756364 \nL 272.90938 214.756364 \nL 275.488733 214.756364 \nL 278.068086 214.756364 \nL 280.647438 214.756364 \nL 283.226791 214.756364 \nL 285.806144 214.756364 \nL 288.385497 214.756364 \nL 290.96485 214.756364 \nL 293.544203 214.756364 \nL 296.123555 214.756364 \nL 298.702908 214.756364 \nL 301.282261 214.756364 \nL 303.861614 214.756364 \nL 306.440967 214.756364 \nL 309.02032 214.756364 \nL 311.599673 214.756364 \nL 314.179025 214.756364 \nL 316.758378 214.756364 \nL 319.337731 214.756364 \nL 321.917084 214.756364 \nL 324.496437 214.756364 \nL 327.07579 214.756364 \nL 329.655143 214.756364 \nL 332.234495 214.756364 \nL 334.813848 214.756364 \nL 337.393201 214.756364 \nL 339.972554 214.756364 \nL 342.551907 214.756364 \nL 345.13126 214.756364 \nL 347.710612 214.756364 \nL 350.289965 214.756364 \nL 352.869318 214.756364 \n\" style=\"fill:none;stroke:#2ca02c;stroke-linecap:square;stroke-width:1.5;\"/>\n   </g>\n   <g id=\"patch_3\">\n    <path d=\"M 33.2875 224.64 \nL 33.2875 7.2 \n\" style=\"fill:none;stroke:#000000;stroke-linecap:square;stroke-linejoin:miter;stroke-width:0.8;\"/>\n   </g>\n   <g id=\"patch_4\">\n    <path d=\"M 368.0875 224.64 \nL 368.0875 7.2 \n\" style=\"fill:none;stroke:#000000;stroke-linecap:square;stroke-linejoin:miter;stroke-width:0.8;\"/>\n   </g>\n   <g id=\"patch_5\">\n    <path d=\"M 33.2875 224.64 \nL 368.0875 224.64 \n\" style=\"fill:none;stroke:#000000;stroke-linecap:square;stroke-linejoin:miter;stroke-width:0.8;\"/>\n   </g>\n   <g id=\"patch_6\">\n    <path d=\"M 33.2875 7.2 \nL 368.0875 7.2 \n\" style=\"fill:none;stroke:#000000;stroke-linecap:square;stroke-linejoin:miter;stroke-width:0.8;\"/>\n   </g>\n  </g>\n </g>\n <defs>\n  <clipPath id=\"p1731e23b9b\">\n   <rect height=\"217.44\" width=\"334.8\" x=\"33.2875\" y=\"7.2\"/>\n  </clipPath>\n </defs>\n</svg>\n",
      "image/png": "[encoded data removed]"
     },
     "metadata": {
      "needs_background": "light"
     }
    }
   ],
   "source": [
    "plt.plot(TDCR_D2D_Result_10k['frame'], TDCR_D2D_Result_10k['N_request'])\n",
    "plt.plot(TDCR_D2D_Result_10k['frame'], TDCR_D2D_Result_10k['N_response'])\n",
    "plt.plot(TDCR_D2D_Result_10k['frame'], TDCR_D2D_Result_10k['N_HL'])"
   ]
  },
  {
   "cell_type": "code",
   "execution_count": 104,
   "metadata": {},
   "outputs": [
    {
     "output_type": "execute_result",
     "data": {
      "text/plain": "[<matplotlib.lines.Line2D at 0x7f69c120ba60>]"
     },
     "metadata": {},
     "execution_count": 104
    },
    {
     "output_type": "display_data",
     "data": {
      "text/plain": "<Figure size 432x288 with 1 Axes>",
      "image/svg+xml": "<?xml version=\"1.0\" encoding=\"utf-8\" standalone=\"no\"?>\n<!DOCTYPE svg PUBLIC \"-//W3C//DTD SVG 1.1//EN\"\n  \"http://www.w3.org/Graphics/SVG/1.1/DTD/svg11.dtd\">\n<!-- Created with matplotlib (https://matplotlib.org/) -->\n<svg height=\"248.518125pt\" version=\"1.1\" viewBox=\"0 0 388.0125 248.518125\" width=\"388.0125pt\" xmlns=\"http://www.w3.org/2000/svg\" xmlns:xlink=\"http://www.w3.org/1999/xlink\">\n <defs>\n  <style type=\"text/css\">\n*{stroke-linecap:butt;stroke-linejoin:round;}\n  </style>\n </defs>\n <g id=\"figure_1\">\n  <g id=\"patch_1\">\n   <path d=\"M 0 248.518125 \nL 388.0125 248.518125 \nL 388.0125 0 \nL 0 0 \nz\n\" style=\"fill:none;\"/>\n  </g>\n  <g id=\"axes_1\">\n   <g id=\"patch_2\">\n    <path d=\"M 46.0125 224.64 \nL 380.8125 224.64 \nL 380.8125 7.2 \nL 46.0125 7.2 \nz\n\" style=\"fill:#ffffff;\"/>\n   </g>\n   <g id=\"matplotlib.axis_1\">\n    <g id=\"xtick_1\">\n     <g id=\"line2d_1\">\n      <defs>\n       <path d=\"M 0 0 \nL 0 3.5 \n\" id=\"m2564bad5b2\" style=\"stroke:#000000;stroke-width:0.8;\"/>\n      </defs>\n      <g>\n       <use style=\"stroke:#000000;stroke-width:0.8;\" x=\"59.941005\" xlink:href=\"#m2564bad5b2\" y=\"224.64\"/>\n      </g>\n     </g>\n     <g id=\"text_1\">\n      <!-- 0 -->\n      <defs>\n       <path d=\"M 31.78125 66.40625 \nQ 24.171875 66.40625 20.328125 58.90625 \nQ 16.5 51.421875 16.5 36.375 \nQ 16.5 21.390625 20.328125 13.890625 \nQ 24.171875 6.390625 31.78125 6.390625 \nQ 39.453125 6.390625 43.28125 13.890625 \nQ 47.125 21.390625 47.125 36.375 \nQ 47.125 51.421875 43.28125 58.90625 \nQ 39.453125 66.40625 31.78125 66.40625 \nz\nM 31.78125 74.21875 \nQ 44.046875 74.21875 50.515625 64.515625 \nQ 56.984375 54.828125 56.984375 36.375 \nQ 56.984375 17.96875 50.515625 8.265625 \nQ 44.046875 -1.421875 31.78125 -1.421875 \nQ 19.53125 -1.421875 13.0625 8.265625 \nQ 6.59375 17.96875 6.59375 36.375 \nQ 6.59375 54.828125 13.0625 64.515625 \nQ 19.53125 74.21875 31.78125 74.21875 \nz\n\" id=\"DejaVuSans-48\"/>\n      </defs>\n      <g transform=\"translate(56.759755 239.238437)scale(0.1 -0.1)\">\n       <use xlink:href=\"#DejaVuSans-48\"/>\n      </g>\n     </g>\n    </g>\n    <g id=\"xtick_2\">\n     <g id=\"line2d_2\">\n      <g>\n       <use style=\"stroke:#000000;stroke-width:0.8;\" x=\"124.424827\" xlink:href=\"#m2564bad5b2\" y=\"224.64\"/>\n      </g>\n     </g>\n     <g id=\"text_2\">\n      <!-- 200 -->\n      <defs>\n       <path d=\"M 19.1875 8.296875 \nL 53.609375 8.296875 \nL 53.609375 0 \nL 7.328125 0 \nL 7.328125 8.296875 \nQ 12.9375 14.109375 22.625 23.890625 \nQ 32.328125 33.6875 34.8125 36.53125 \nQ 39.546875 41.84375 41.421875 45.53125 \nQ 43.3125 49.21875 43.3125 52.78125 \nQ 43.3125 58.59375 39.234375 62.25 \nQ 35.15625 65.921875 28.609375 65.921875 \nQ 23.96875 65.921875 18.8125 64.3125 \nQ 13.671875 62.703125 7.8125 59.421875 \nL 7.8125 69.390625 \nQ 13.765625 71.78125 18.9375 73 \nQ 24.125 74.21875 28.421875 74.21875 \nQ 39.75 74.21875 46.484375 68.546875 \nQ 53.21875 62.890625 53.21875 53.421875 \nQ 53.21875 48.921875 51.53125 44.890625 \nQ 49.859375 40.875 45.40625 35.40625 \nQ 44.1875 33.984375 37.640625 27.21875 \nQ 31.109375 20.453125 19.1875 8.296875 \nz\n\" id=\"DejaVuSans-50\"/>\n      </defs>\n      <g transform=\"translate(114.881077 239.238437)scale(0.1 -0.1)\">\n       <use xlink:href=\"#DejaVuSans-50\"/>\n       <use x=\"63.623047\" xlink:href=\"#DejaVuSans-48\"/>\n       <use x=\"127.246094\" xlink:href=\"#DejaVuSans-48\"/>\n      </g>\n     </g>\n    </g>\n    <g id=\"xtick_3\">\n     <g id=\"line2d_3\">\n      <g>\n       <use style=\"stroke:#000000;stroke-width:0.8;\" x=\"188.908648\" xlink:href=\"#m2564bad5b2\" y=\"224.64\"/>\n      </g>\n     </g>\n     <g id=\"text_3\">\n      <!-- 400 -->\n      <defs>\n       <path d=\"M 37.796875 64.3125 \nL 12.890625 25.390625 \nL 37.796875 25.390625 \nz\nM 35.203125 72.90625 \nL 47.609375 72.90625 \nL 47.609375 25.390625 \nL 58.015625 25.390625 \nL 58.015625 17.1875 \nL 47.609375 17.1875 \nL 47.609375 0 \nL 37.796875 0 \nL 37.796875 17.1875 \nL 4.890625 17.1875 \nL 4.890625 26.703125 \nz\n\" id=\"DejaVuSans-52\"/>\n      </defs>\n      <g transform=\"translate(179.364898 239.238437)scale(0.1 -0.1)\">\n       <use xlink:href=\"#DejaVuSans-52\"/>\n       <use x=\"63.623047\" xlink:href=\"#DejaVuSans-48\"/>\n       <use x=\"127.246094\" xlink:href=\"#DejaVuSans-48\"/>\n      </g>\n     </g>\n    </g>\n    <g id=\"xtick_4\">\n     <g id=\"line2d_4\">\n      <g>\n       <use style=\"stroke:#000000;stroke-width:0.8;\" x=\"253.392469\" xlink:href=\"#m2564bad5b2\" y=\"224.64\"/>\n      </g>\n     </g>\n     <g id=\"text_4\">\n      <!-- 600 -->\n      <defs>\n       <path d=\"M 33.015625 40.375 \nQ 26.375 40.375 22.484375 35.828125 \nQ 18.609375 31.296875 18.609375 23.390625 \nQ 18.609375 15.53125 22.484375 10.953125 \nQ 26.375 6.390625 33.015625 6.390625 \nQ 39.65625 6.390625 43.53125 10.953125 \nQ 47.40625 15.53125 47.40625 23.390625 \nQ 47.40625 31.296875 43.53125 35.828125 \nQ 39.65625 40.375 33.015625 40.375 \nz\nM 52.59375 71.296875 \nL 52.59375 62.3125 \nQ 48.875 64.0625 45.09375 64.984375 \nQ 41.3125 65.921875 37.59375 65.921875 \nQ 27.828125 65.921875 22.671875 59.328125 \nQ 17.53125 52.734375 16.796875 39.40625 \nQ 19.671875 43.65625 24.015625 45.921875 \nQ 28.375 48.1875 33.59375 48.1875 \nQ 44.578125 48.1875 50.953125 41.515625 \nQ 57.328125 34.859375 57.328125 23.390625 \nQ 57.328125 12.15625 50.6875 5.359375 \nQ 44.046875 -1.421875 33.015625 -1.421875 \nQ 20.359375 -1.421875 13.671875 8.265625 \nQ 6.984375 17.96875 6.984375 36.375 \nQ 6.984375 53.65625 15.1875 63.9375 \nQ 23.390625 74.21875 37.203125 74.21875 \nQ 40.921875 74.21875 44.703125 73.484375 \nQ 48.484375 72.75 52.59375 71.296875 \nz\n\" id=\"DejaVuSans-54\"/>\n      </defs>\n      <g transform=\"translate(243.848719 239.238437)scale(0.1 -0.1)\">\n       <use xlink:href=\"#DejaVuSans-54\"/>\n       <use x=\"63.623047\" xlink:href=\"#DejaVuSans-48\"/>\n       <use x=\"127.246094\" xlink:href=\"#DejaVuSans-48\"/>\n      </g>\n     </g>\n    </g>\n    <g id=\"xtick_5\">\n     <g id=\"line2d_5\">\n      <g>\n       <use style=\"stroke:#000000;stroke-width:0.8;\" x=\"317.87629\" xlink:href=\"#m2564bad5b2\" y=\"224.64\"/>\n      </g>\n     </g>\n     <g id=\"text_5\">\n      <!-- 800 -->\n      <defs>\n       <path d=\"M 31.78125 34.625 \nQ 24.75 34.625 20.71875 30.859375 \nQ 16.703125 27.09375 16.703125 20.515625 \nQ 16.703125 13.921875 20.71875 10.15625 \nQ 24.75 6.390625 31.78125 6.390625 \nQ 38.8125 6.390625 42.859375 10.171875 \nQ 46.921875 13.96875 46.921875 20.515625 \nQ 46.921875 27.09375 42.890625 30.859375 \nQ 38.875 34.625 31.78125 34.625 \nz\nM 21.921875 38.8125 \nQ 15.578125 40.375 12.03125 44.71875 \nQ 8.5 49.078125 8.5 55.328125 \nQ 8.5 64.0625 14.71875 69.140625 \nQ 20.953125 74.21875 31.78125 74.21875 \nQ 42.671875 74.21875 48.875 69.140625 \nQ 55.078125 64.0625 55.078125 55.328125 \nQ 55.078125 49.078125 51.53125 44.71875 \nQ 48 40.375 41.703125 38.8125 \nQ 48.828125 37.15625 52.796875 32.3125 \nQ 56.78125 27.484375 56.78125 20.515625 \nQ 56.78125 9.90625 50.3125 4.234375 \nQ 43.84375 -1.421875 31.78125 -1.421875 \nQ 19.734375 -1.421875 13.25 4.234375 \nQ 6.78125 9.90625 6.78125 20.515625 \nQ 6.78125 27.484375 10.78125 32.3125 \nQ 14.796875 37.15625 21.921875 38.8125 \nz\nM 18.3125 54.390625 \nQ 18.3125 48.734375 21.84375 45.5625 \nQ 25.390625 42.390625 31.78125 42.390625 \nQ 38.140625 42.390625 41.71875 45.5625 \nQ 45.3125 48.734375 45.3125 54.390625 \nQ 45.3125 60.0625 41.71875 63.234375 \nQ 38.140625 66.40625 31.78125 66.40625 \nQ 25.390625 66.40625 21.84375 63.234375 \nQ 18.3125 60.0625 18.3125 54.390625 \nz\n\" id=\"DejaVuSans-56\"/>\n      </defs>\n      <g transform=\"translate(308.33254 239.238437)scale(0.1 -0.1)\">\n       <use xlink:href=\"#DejaVuSans-56\"/>\n       <use x=\"63.623047\" xlink:href=\"#DejaVuSans-48\"/>\n       <use x=\"127.246094\" xlink:href=\"#DejaVuSans-48\"/>\n      </g>\n     </g>\n    </g>\n   </g>\n   <g id=\"matplotlib.axis_2\">\n    <g id=\"ytick_1\">\n     <g id=\"line2d_6\">\n      <defs>\n       <path d=\"M 0 0 \nL -3.5 0 \n\" id=\"mc9588c2f0e\" style=\"stroke:#000000;stroke-width:0.8;\"/>\n      </defs>\n      <g>\n       <use style=\"stroke:#000000;stroke-width:0.8;\" x=\"46.0125\" xlink:href=\"#mc9588c2f0e\" y=\"214.776133\"/>\n      </g>\n     </g>\n     <g id=\"text_6\">\n      <!-- 0 -->\n      <g transform=\"translate(32.65 218.575352)scale(0.1 -0.1)\">\n       <use xlink:href=\"#DejaVuSans-48\"/>\n      </g>\n     </g>\n    </g>\n    <g id=\"ytick_2\">\n     <g id=\"line2d_7\">\n      <g>\n       <use style=\"stroke:#000000;stroke-width:0.8;\" x=\"46.0125\" xlink:href=\"#mc9588c2f0e\" y=\"175.237634\"/>\n      </g>\n     </g>\n     <g id=\"text_7\">\n      <!-- 2000 -->\n      <g transform=\"translate(13.5625 179.036852)scale(0.1 -0.1)\">\n       <use xlink:href=\"#DejaVuSans-50\"/>\n       <use x=\"63.623047\" xlink:href=\"#DejaVuSans-48\"/>\n       <use x=\"127.246094\" xlink:href=\"#DejaVuSans-48\"/>\n       <use x=\"190.869141\" xlink:href=\"#DejaVuSans-48\"/>\n      </g>\n     </g>\n    </g>\n    <g id=\"ytick_3\">\n     <g id=\"line2d_8\">\n      <g>\n       <use style=\"stroke:#000000;stroke-width:0.8;\" x=\"46.0125\" xlink:href=\"#mc9588c2f0e\" y=\"135.699134\"/>\n      </g>\n     </g>\n     <g id=\"text_8\">\n      <!-- 4000 -->\n      <g transform=\"translate(13.5625 139.498353)scale(0.1 -0.1)\">\n       <use xlink:href=\"#DejaVuSans-52\"/>\n       <use x=\"63.623047\" xlink:href=\"#DejaVuSans-48\"/>\n       <use x=\"127.246094\" xlink:href=\"#DejaVuSans-48\"/>\n       <use x=\"190.869141\" xlink:href=\"#DejaVuSans-48\"/>\n      </g>\n     </g>\n    </g>\n    <g id=\"ytick_4\">\n     <g id=\"line2d_9\">\n      <g>\n       <use style=\"stroke:#000000;stroke-width:0.8;\" x=\"46.0125\" xlink:href=\"#mc9588c2f0e\" y=\"96.160635\"/>\n      </g>\n     </g>\n     <g id=\"text_9\">\n      <!-- 6000 -->\n      <g transform=\"translate(13.5625 99.959854)scale(0.1 -0.1)\">\n       <use xlink:href=\"#DejaVuSans-54\"/>\n       <use x=\"63.623047\" xlink:href=\"#DejaVuSans-48\"/>\n       <use x=\"127.246094\" xlink:href=\"#DejaVuSans-48\"/>\n       <use x=\"190.869141\" xlink:href=\"#DejaVuSans-48\"/>\n      </g>\n     </g>\n    </g>\n    <g id=\"ytick_5\">\n     <g id=\"line2d_10\">\n      <g>\n       <use style=\"stroke:#000000;stroke-width:0.8;\" x=\"46.0125\" xlink:href=\"#mc9588c2f0e\" y=\"56.622136\"/>\n      </g>\n     </g>\n     <g id=\"text_10\">\n      <!-- 8000 -->\n      <g transform=\"translate(13.5625 60.421354)scale(0.1 -0.1)\">\n       <use xlink:href=\"#DejaVuSans-56\"/>\n       <use x=\"63.623047\" xlink:href=\"#DejaVuSans-48\"/>\n       <use x=\"127.246094\" xlink:href=\"#DejaVuSans-48\"/>\n       <use x=\"190.869141\" xlink:href=\"#DejaVuSans-48\"/>\n      </g>\n     </g>\n    </g>\n    <g id=\"ytick_6\">\n     <g id=\"line2d_11\">\n      <g>\n       <use style=\"stroke:#000000;stroke-width:0.8;\" x=\"46.0125\" xlink:href=\"#mc9588c2f0e\" y=\"17.083636\"/>\n      </g>\n     </g>\n     <g id=\"text_11\">\n      <!-- 10000 -->\n      <defs>\n       <path d=\"M 12.40625 8.296875 \nL 28.515625 8.296875 \nL 28.515625 63.921875 \nL 10.984375 60.40625 \nL 10.984375 69.390625 \nL 28.421875 72.90625 \nL 38.28125 72.90625 \nL 38.28125 8.296875 \nL 54.390625 8.296875 \nL 54.390625 0 \nL 12.40625 0 \nz\n\" id=\"DejaVuSans-49\"/>\n      </defs>\n      <g transform=\"translate(7.2 20.882855)scale(0.1 -0.1)\">\n       <use xlink:href=\"#DejaVuSans-49\"/>\n       <use x=\"63.623047\" xlink:href=\"#DejaVuSans-48\"/>\n       <use x=\"127.246094\" xlink:href=\"#DejaVuSans-48\"/>\n       <use x=\"190.869141\" xlink:href=\"#DejaVuSans-48\"/>\n       <use x=\"254.492188\" xlink:href=\"#DejaVuSans-48\"/>\n      </g>\n     </g>\n    </g>\n   </g>\n   <g id=\"line2d_12\">\n    <path clip-path=\"url(#pcbacbc9975)\" d=\"M 61.230682 214.756364 \nL 71.548093 214.617979 \nL 81.865505 213.945824 \nL 82.510343 213.78767 \nL 83.4776 213.708593 \nL 85.089696 213.491132 \nL 85.412115 213.313208 \nL 87.346629 213.036439 \nL 88.313887 212.759669 \nL 89.281144 212.7399 \nL 90.248401 212.443361 \nL 90.57082 212.344515 \nL 91.860497 212.324746 \nL 92.505335 212.028207 \nL 93.472592 211.711899 \nL 94.762269 211.494437 \nL 95.084688 211.118822 \nL 95.729526 210.861821 \nL 97.019203 210.842052 \nL 98.308879 210.169898 \nL 98.953717 210.150128 \nL 99.920975 209.893128 \nL 100.565813 209.438435 \nL 100.888232 209.220974 \nL 101.53307 209.122127 \nL 102.177908 209.102358 \nL 102.822747 208.509281 \nL 103.790004 207.975511 \nL 104.757261 207.916203 \nL 105.402099 207.362664 \nL 106.046938 206.907972 \nL 106.369357 206.828895 \nL 107.336614 206.769587 \nL 108.62629 205.64274 \nL 109.915967 205.603201 \nL 110.883224 204.594969 \nL 111.528062 204.377508 \nL 112.49532 204.239123 \nL 113.462577 203.329737 \nL 113.784996 203.052968 \nL 114.752253 202.875045 \nL 115.074673 202.855275 \nL 116.364349 201.451659 \nL 117.654025 201.234197 \nL 118.298864 200.423658 \nL 118.943702 199.949196 \nL 120.233378 199.751503 \nL 121.523055 198.426963 \nL 122.167893 198.328117 \nL 122.812731 198.169963 \nL 123.779988 196.845423 \nL 124.102408 196.568654 \nL 124.747246 196.390731 \nL 125.392084 196.272115 \nL 126.359341 195.105729 \nL 127.00418 194.789421 \nL 127.971437 194.512652 \nL 129.261113 192.595035 \nL 130.55079 192.061265 \nL 131.840466 190.183186 \nL 132.807723 189.688955 \nL 133.130143 189.590109 \nL 134.419819 187.771338 \nL 135.709495 187.395722 \nL 136.676753 185.972336 \nL 136.999172 185.557182 \nL 138.288848 185.240874 \nL 139.578525 183.50118 \nL 140.545782 183.145333 \nL 140.868201 183.125564 \nL 141.835458 181.66264 \nL 142.157878 181.207947 \nL 142.802716 180.891639 \nL 143.447554 180.753254 \nL 144.414811 179.29033 \nL 144.73723 178.815868 \nL 146.026907 178.183252 \nL 147.639002 175.929557 \nL 148.60626 175.514403 \nL 150.218355 173.122324 \nL 151.185612 172.529246 \nL 152.475289 170.295321 \nL 153.442546 169.603397 \nL 153.764965 169.484782 \nL 155.054642 167.250857 \nL 156.344318 166.460087 \nL 157.633995 164.166854 \nL 158.923671 163.534238 \nL 160.213347 161.517774 \nL 161.180605 160.865389 \nL 161.503024 160.707235 \nL 162.470281 159.105926 \nL 162.7927 158.651233 \nL 164.082377 158.038386 \nL 165.049634 156.338231 \nL 165.372053 155.923077 \nL 166.016891 155.626538 \nL 166.66173 155.329999 \nL 167.951406 153.175151 \nL 168.918663 152.40415 \nL 169.241082 152.305304 \nL 170.530759 150.05161 \nL 171.820435 149.142224 \nL 172.787693 147.362992 \nL 173.432531 146.631529 \nL 173.75495 146.453606 \nL 174.722207 145.247682 \nL 175.689465 143.587065 \nL 176.979141 142.855603 \nL 178.591237 140.661216 \nL 179.558494 140.147215 \nL 180.525751 138.150521 \nL 180.84817 137.557444 \nL 182.137847 136.568981 \nL 183.105104 134.888595 \nL 183.749942 134.23621 \nL 184.072361 133.95944 \nL 184.7172 133.70244 \nL 186.006876 131.310361 \nL 186.651714 130.914976 \nL 187.296552 130.400975 \nL 188.586229 127.91005 \nL 189.875905 126.802972 \nL 190.843163 124.806278 \nL 191.165582 124.252739 \nL 192.132839 123.501507 \nL 192.455258 123.244507 \nL 193.744935 120.694274 \nL 194.712192 119.982581 \nL 195.034611 119.844196 \nL 195.679449 118.598733 \nL 196.646706 117.313732 \nL 197.291545 116.83927 \nL 197.613964 116.681116 \nL 198.581221 114.664653 \nL 198.90364 114.130883 \nL 199.548478 113.616882 \nL 200.193317 113.083113 \nL 201.160574 111.382957 \nL 201.482993 110.809649 \nL 202.45025 110.275879 \nL 202.772669 110.078187 \nL 204.384765 107.409338 \nL 205.029603 106.895338 \nL 205.352022 106.677876 \nL 206.641699 104.404412 \nL 207.931375 103.495027 \nL 209.221052 101.102947 \nL 210.510728 100.173793 \nL 212.122824 97.801483 \nL 213.090081 97.149097 \nL 214.379757 94.836095 \nL 215.024596 94.381403 \nL 215.669434 94.005787 \nL 216.95911 91.870708 \nL 217.603948 91.376477 \nL 218.248787 91.119476 \nL 218.893625 89.953091 \nL 219.860882 88.569243 \nL 220.828139 87.956396 \nL 222.117816 85.74224 \nL 223.407492 85.050317 \nL 224.697169 82.757084 \nL 225.664426 82.183775 \nL 225.986845 81.946544 \nL 227.276522 79.890543 \nL 228.566198 79.238157 \nL 229.211036 78.249695 \nL 229.855874 77.182155 \nL 231.145551 76.351847 \nL 232.435227 74.295845 \nL 233.724904 73.584152 \nL 235.01458 71.587458 \nL 236.304257 70.836226 \nL 237.593933 68.799993 \nL 238.56119 68.325531 \nL 238.883609 68.187147 \nL 240.173286 65.99276 \nL 240.818124 65.676452 \nL 241.462962 65.498529 \nL 242.1078 64.549605 \nL 243.075058 63.640219 \nL 244.042315 63.323911 \nL 245.331992 61.406294 \nL 246.299249 61.089986 \nL 246.621668 60.951601 \nL 247.911344 59.033984 \nL 248.556183 58.717676 \nL 249.201021 58.440907 \nL 250.490697 56.384905 \nL 251.780374 55.811596 \nL 252.425212 54.92198 \nL 252.747631 54.684749 \nL 253.07005 54.289364 \nL 253.714888 53.953287 \nL 254.359727 53.795133 \nL 255.649403 51.897285 \nL 256.294241 51.640285 \nL 256.939079 51.482131 \nL 257.583918 50.671592 \nL 258.228756 49.801745 \nL 259.518432 49.327283 \nL 260.16327 48.299282 \nL 261.130528 47.389896 \nL 262.097785 47.053819 \nL 263.709881 45.571125 \nL 264.677138 45.333894 \nL 265.321976 44.424509 \nL 265.644395 44.226816 \nL 265.966814 43.772123 \nL 267.256491 43.396508 \nL 268.546167 41.75566 \nL 269.513424 41.459121 \nL 269.835844 41.380044 \nL 270.803101 40.312505 \nL 271.12552 39.976427 \nL 272.415196 39.758966 \nL 273.704873 38.276272 \nL 274.67213 38.098349 \nL 274.994549 37.979733 \nL 276.606645 36.536578 \nL 277.573902 36.338886 \nL 278.541159 35.409731 \nL 278.863579 35.113192 \nL 280.153255 34.856192 \nL 281.442931 33.768883 \nL 282.732608 33.670037 \nL 283.699865 32.642036 \nL 284.022284 32.365266 \nL 285.311961 32.246651 \nL 285.956799 31.574496 \nL 286.601637 31.100034 \nL 287.568894 30.94188 \nL 287.891314 30.902342 \nL 288.858571 30.190649 \nL 289.18099 29.89411 \nL 289.825828 29.775495 \nL 290.470666 29.676648 \nL 291.115505 29.083571 \nL 292.082762 28.530032 \nL 293.372438 28.154416 \nL 294.339696 27.304338 \nL 295.629372 27.086877 \nL 296.919049 26.039106 \nL 298.208725 25.960029 \nL 299.498401 25.208798 \nL 300.788078 25.14949 \nL 301.432916 24.773874 \nL 302.077754 24.477336 \nL 303.68985 24.319182 \nL 305.301945 23.983104 \nL 305.624364 23.963335 \nL 306.591622 23.647027 \nL 307.23646 23.271412 \nL 308.848555 23.133027 \nL 309.815813 22.79695 \nL 311.105489 22.737642 \nL 312.395166 22.025949 \nL 313.362423 21.98641 \nL 314.007261 21.828256 \nL 314.974518 21.353794 \nL 316.264195 21.314256 \nL 316.909033 21.077025 \nL 317.87629 20.780486 \nL 319.488386 20.582794 \nL 320.133224 20.286255 \nL 321.74532 20.246716 \nL 322.390158 20.068793 \nL 322.712577 20.009485 \nL 324.969511 19.732716 \nL 325.29193 19.6141 \nL 325.936768 19.594331 \nL 327.871283 19.278023 \nL 329.483378 19.119869 \nL 330.450636 18.941946 \nL 332.062731 18.8431 \nL 333.352408 18.526792 \nL 334.964503 18.408176 \nL 335.609341 18.269791 \nL 337.543856 18.170945 \nL 338.188694 18.05233 \nL 343.024981 17.854637 \nL 343.3474 17.795329 \nL 347.861267 17.558098 \nL 348.828525 17.479021 \nL 353.019973 17.320867 \nL 353.664811 17.24179 \nL 365.594318 17.083636 \nL 365.594318 17.083636 \n\" style=\"fill:none;stroke:#1f77b4;stroke-linecap:square;stroke-width:1.5;\"/>\n   </g>\n   <g id=\"patch_3\">\n    <path d=\"M 46.0125 224.64 \nL 46.0125 7.2 \n\" style=\"fill:none;stroke:#000000;stroke-linecap:square;stroke-linejoin:miter;stroke-width:0.8;\"/>\n   </g>\n   <g id=\"patch_4\">\n    <path d=\"M 380.8125 224.64 \nL 380.8125 7.2 \n\" style=\"fill:none;stroke:#000000;stroke-linecap:square;stroke-linejoin:miter;stroke-width:0.8;\"/>\n   </g>\n   <g id=\"patch_5\">\n    <path d=\"M 46.0125 224.64 \nL 380.8125 224.64 \n\" style=\"fill:none;stroke:#000000;stroke-linecap:square;stroke-linejoin:miter;stroke-width:0.8;\"/>\n   </g>\n   <g id=\"patch_6\">\n    <path d=\"M 46.0125 7.2 \nL 380.8125 7.2 \n\" style=\"fill:none;stroke:#000000;stroke-linecap:square;stroke-linejoin:miter;stroke-width:0.8;\"/>\n   </g>\n  </g>\n </g>\n <defs>\n  <clipPath id=\"pcbacbc9975\">\n   <rect height=\"217.44\" width=\"334.8\" x=\"46.0125\" y=\"7.2\"/>\n  </clipPath>\n </defs>\n</svg>\n",
      "image/png": "[encoded data removed]"
     },
     "metadata": {
      "needs_background": "light"
     }
    }
   ],
   "source": [
    "plt.plot(np.cumsum(TDCR_Device_Result_10k.groupby('RA_success').size()))"
   ]
  },
  {
   "cell_type": "code",
   "execution_count": 108,
   "metadata": {},
   "outputs": [
    {
     "output_type": "execute_result",
     "data": {
      "text/plain": "134"
     },
     "metadata": {},
     "execution_count": 108
    }
   ],
   "source": [
    "TDCR_D2D_Result_30k['N_HL'].max()"
   ]
  },
  {
   "cell_type": "code",
   "execution_count": 109,
   "metadata": {},
   "outputs": [
    {
     "output_type": "execute_result",
     "data": {
      "text/plain": "[<matplotlib.lines.Line2D at 0x7f69c0c71850>]"
     },
     "metadata": {},
     "execution_count": 109
    },
    {
     "output_type": "display_data",
     "data": {
      "text/plain": "<Figure size 432x288 with 1 Axes>",
      "image/svg+xml": "<?xml version=\"1.0\" encoding=\"utf-8\" standalone=\"no\"?>\n<!DOCTYPE svg PUBLIC \"-//W3C//DTD SVG 1.1//EN\"\n  \"http://www.w3.org/Graphics/SVG/1.1/DTD/svg11.dtd\">\n<!-- Created with matplotlib (https://matplotlib.org/) -->\n<svg height=\"248.518125pt\" version=\"1.1\" viewBox=\"0 0 381.65 248.518125\" width=\"381.65pt\" xmlns=\"http://www.w3.org/2000/svg\" xmlns:xlink=\"http://www.w3.org/1999/xlink\">\n <defs>\n  <style type=\"text/css\">\n*{stroke-linecap:butt;stroke-linejoin:round;}\n  </style>\n </defs>\n <g id=\"figure_1\">\n  <g id=\"patch_1\">\n   <path d=\"M -0 248.518125 \nL 381.65 248.518125 \nL 381.65 0 \nL -0 0 \nz\n\" style=\"fill:none;\"/>\n  </g>\n  <g id=\"axes_1\">\n   <g id=\"patch_2\">\n    <path d=\"M 39.65 224.64 \nL 374.45 224.64 \nL 374.45 7.2 \nL 39.65 7.2 \nz\n\" style=\"fill:#ffffff;\"/>\n   </g>\n   <g id=\"matplotlib.axis_1\">\n    <g id=\"xtick_1\">\n     <g id=\"line2d_1\">\n      <defs>\n       <path d=\"M 0 0 \nL 0 3.5 \n\" id=\"m228ef7ce15\" style=\"stroke:#000000;stroke-width:0.8;\"/>\n      </defs>\n      <g>\n       <use style=\"stroke:#000000;stroke-width:0.8;\" x=\"54.25701\" xlink:href=\"#m228ef7ce15\" y=\"224.64\"/>\n      </g>\n     </g>\n     <g id=\"text_1\">\n      <!-- 0 -->\n      <defs>\n       <path d=\"M 31.78125 66.40625 \nQ 24.171875 66.40625 20.328125 58.90625 \nQ 16.5 51.421875 16.5 36.375 \nQ 16.5 21.390625 20.328125 13.890625 \nQ 24.171875 6.390625 31.78125 6.390625 \nQ 39.453125 6.390625 43.28125 13.890625 \nQ 47.125 21.390625 47.125 36.375 \nQ 47.125 51.421875 43.28125 58.90625 \nQ 39.453125 66.40625 31.78125 66.40625 \nz\nM 31.78125 74.21875 \nQ 44.046875 74.21875 50.515625 64.515625 \nQ 56.984375 54.828125 56.984375 36.375 \nQ 56.984375 17.96875 50.515625 8.265625 \nQ 44.046875 -1.421875 31.78125 -1.421875 \nQ 19.53125 -1.421875 13.0625 8.265625 \nQ 6.59375 17.96875 6.59375 36.375 \nQ 6.59375 54.828125 13.0625 64.515625 \nQ 19.53125 74.21875 31.78125 74.21875 \nz\n\" id=\"DejaVuSans-48\"/>\n      </defs>\n      <g transform=\"translate(51.07576 239.238437)scale(0.1 -0.1)\">\n       <use xlink:href=\"#DejaVuSans-48\"/>\n      </g>\n     </g>\n    </g>\n    <g id=\"xtick_2\">\n     <g id=\"line2d_2\">\n      <g>\n       <use style=\"stroke:#000000;stroke-width:0.8;\" x=\"92.455257\" xlink:href=\"#m228ef7ce15\" y=\"224.64\"/>\n      </g>\n     </g>\n     <g id=\"text_2\">\n      <!-- 250 -->\n      <defs>\n       <path d=\"M 19.1875 8.296875 \nL 53.609375 8.296875 \nL 53.609375 0 \nL 7.328125 0 \nL 7.328125 8.296875 \nQ 12.9375 14.109375 22.625 23.890625 \nQ 32.328125 33.6875 34.8125 36.53125 \nQ 39.546875 41.84375 41.421875 45.53125 \nQ 43.3125 49.21875 43.3125 52.78125 \nQ 43.3125 58.59375 39.234375 62.25 \nQ 35.15625 65.921875 28.609375 65.921875 \nQ 23.96875 65.921875 18.8125 64.3125 \nQ 13.671875 62.703125 7.8125 59.421875 \nL 7.8125 69.390625 \nQ 13.765625 71.78125 18.9375 73 \nQ 24.125 74.21875 28.421875 74.21875 \nQ 39.75 74.21875 46.484375 68.546875 \nQ 53.21875 62.890625 53.21875 53.421875 \nQ 53.21875 48.921875 51.53125 44.890625 \nQ 49.859375 40.875 45.40625 35.40625 \nQ 44.1875 33.984375 37.640625 27.21875 \nQ 31.109375 20.453125 19.1875 8.296875 \nz\n\" id=\"DejaVuSans-50\"/>\n       <path d=\"M 10.796875 72.90625 \nL 49.515625 72.90625 \nL 49.515625 64.59375 \nL 19.828125 64.59375 \nL 19.828125 46.734375 \nQ 21.96875 47.46875 24.109375 47.828125 \nQ 26.265625 48.1875 28.421875 48.1875 \nQ 40.625 48.1875 47.75 41.5 \nQ 54.890625 34.8125 54.890625 23.390625 \nQ 54.890625 11.625 47.5625 5.09375 \nQ 40.234375 -1.421875 26.90625 -1.421875 \nQ 22.3125 -1.421875 17.546875 -0.640625 \nQ 12.796875 0.140625 7.71875 1.703125 \nL 7.71875 11.625 \nQ 12.109375 9.234375 16.796875 8.0625 \nQ 21.484375 6.890625 26.703125 6.890625 \nQ 35.15625 6.890625 40.078125 11.328125 \nQ 45.015625 15.765625 45.015625 23.390625 \nQ 45.015625 31 40.078125 35.4375 \nQ 35.15625 39.890625 26.703125 39.890625 \nQ 22.75 39.890625 18.8125 39.015625 \nQ 14.890625 38.140625 10.796875 36.28125 \nz\n\" id=\"DejaVuSans-53\"/>\n      </defs>\n      <g transform=\"translate(82.911507 239.238437)scale(0.1 -0.1)\">\n       <use xlink:href=\"#DejaVuSans-50\"/>\n       <use x=\"63.623047\" xlink:href=\"#DejaVuSans-53\"/>\n       <use x=\"127.246094\" xlink:href=\"#DejaVuSans-48\"/>\n      </g>\n     </g>\n    </g>\n    <g id=\"xtick_3\">\n     <g id=\"line2d_3\">\n      <g>\n       <use style=\"stroke:#000000;stroke-width:0.8;\" x=\"130.653505\" xlink:href=\"#m228ef7ce15\" y=\"224.64\"/>\n      </g>\n     </g>\n     <g id=\"text_3\">\n      <!-- 500 -->\n      <g transform=\"translate(121.109755 239.238437)scale(0.1 -0.1)\">\n       <use xlink:href=\"#DejaVuSans-53\"/>\n       <use x=\"63.623047\" xlink:href=\"#DejaVuSans-48\"/>\n       <use x=\"127.246094\" xlink:href=\"#DejaVuSans-48\"/>\n      </g>\n     </g>\n    </g>\n    <g id=\"xtick_4\">\n     <g id=\"line2d_4\">\n      <g>\n       <use style=\"stroke:#000000;stroke-width:0.8;\" x=\"168.851752\" xlink:href=\"#m228ef7ce15\" y=\"224.64\"/>\n      </g>\n     </g>\n     <g id=\"text_4\">\n      <!-- 750 -->\n      <defs>\n       <path d=\"M 8.203125 72.90625 \nL 55.078125 72.90625 \nL 55.078125 68.703125 \nL 28.609375 0 \nL 18.3125 0 \nL 43.21875 64.59375 \nL 8.203125 64.59375 \nz\n\" id=\"DejaVuSans-55\"/>\n      </defs>\n      <g transform=\"translate(159.308002 239.238437)scale(0.1 -0.1)\">\n       <use xlink:href=\"#DejaVuSans-55\"/>\n       <use x=\"63.623047\" xlink:href=\"#DejaVuSans-53\"/>\n       <use x=\"127.246094\" xlink:href=\"#DejaVuSans-48\"/>\n      </g>\n     </g>\n    </g>\n    <g id=\"xtick_5\">\n     <g id=\"line2d_5\">\n      <g>\n       <use style=\"stroke:#000000;stroke-width:0.8;\" x=\"207.05\" xlink:href=\"#m228ef7ce15\" y=\"224.64\"/>\n      </g>\n     </g>\n     <g id=\"text_5\">\n      <!-- 1000 -->\n      <defs>\n       <path d=\"M 12.40625 8.296875 \nL 28.515625 8.296875 \nL 28.515625 63.921875 \nL 10.984375 60.40625 \nL 10.984375 69.390625 \nL 28.421875 72.90625 \nL 38.28125 72.90625 \nL 38.28125 8.296875 \nL 54.390625 8.296875 \nL 54.390625 0 \nL 12.40625 0 \nz\n\" id=\"DejaVuSans-49\"/>\n      </defs>\n      <g transform=\"translate(194.325 239.238437)scale(0.1 -0.1)\">\n       <use xlink:href=\"#DejaVuSans-49\"/>\n       <use x=\"63.623047\" xlink:href=\"#DejaVuSans-48\"/>\n       <use x=\"127.246094\" xlink:href=\"#DejaVuSans-48\"/>\n       <use x=\"190.869141\" xlink:href=\"#DejaVuSans-48\"/>\n      </g>\n     </g>\n    </g>\n    <g id=\"xtick_6\">\n     <g id=\"line2d_6\">\n      <g>\n       <use style=\"stroke:#000000;stroke-width:0.8;\" x=\"245.248248\" xlink:href=\"#m228ef7ce15\" y=\"224.64\"/>\n      </g>\n     </g>\n     <g id=\"text_6\">\n      <!-- 1250 -->\n      <g transform=\"translate(232.523248 239.238437)scale(0.1 -0.1)\">\n       <use xlink:href=\"#DejaVuSans-49\"/>\n       <use x=\"63.623047\" xlink:href=\"#DejaVuSans-50\"/>\n       <use x=\"127.246094\" xlink:href=\"#DejaVuSans-53\"/>\n       <use x=\"190.869141\" xlink:href=\"#DejaVuSans-48\"/>\n      </g>\n     </g>\n    </g>\n    <g id=\"xtick_7\">\n     <g id=\"line2d_7\">\n      <g>\n       <use style=\"stroke:#000000;stroke-width:0.8;\" x=\"283.446495\" xlink:href=\"#m228ef7ce15\" y=\"224.64\"/>\n      </g>\n     </g>\n     <g id=\"text_7\">\n      <!-- 1500 -->\n      <g transform=\"translate(270.721495 239.238437)scale(0.1 -0.1)\">\n       <use xlink:href=\"#DejaVuSans-49\"/>\n       <use x=\"63.623047\" xlink:href=\"#DejaVuSans-53\"/>\n       <use x=\"127.246094\" xlink:href=\"#DejaVuSans-48\"/>\n       <use x=\"190.869141\" xlink:href=\"#DejaVuSans-48\"/>\n      </g>\n     </g>\n    </g>\n    <g id=\"xtick_8\">\n     <g id=\"line2d_8\">\n      <g>\n       <use style=\"stroke:#000000;stroke-width:0.8;\" x=\"321.644743\" xlink:href=\"#m228ef7ce15\" y=\"224.64\"/>\n      </g>\n     </g>\n     <g id=\"text_8\">\n      <!-- 1750 -->\n      <g transform=\"translate(308.919743 239.238437)scale(0.1 -0.1)\">\n       <use xlink:href=\"#DejaVuSans-49\"/>\n       <use x=\"63.623047\" xlink:href=\"#DejaVuSans-55\"/>\n       <use x=\"127.246094\" xlink:href=\"#DejaVuSans-53\"/>\n       <use x=\"190.869141\" xlink:href=\"#DejaVuSans-48\"/>\n      </g>\n     </g>\n    </g>\n    <g id=\"xtick_9\">\n     <g id=\"line2d_9\">\n      <g>\n       <use style=\"stroke:#000000;stroke-width:0.8;\" x=\"359.84299\" xlink:href=\"#m228ef7ce15\" y=\"224.64\"/>\n      </g>\n     </g>\n     <g id=\"text_9\">\n      <!-- 2000 -->\n      <g transform=\"translate(347.11799 239.238437)scale(0.1 -0.1)\">\n       <use xlink:href=\"#DejaVuSans-50\"/>\n       <use x=\"63.623047\" xlink:href=\"#DejaVuSans-48\"/>\n       <use x=\"127.246094\" xlink:href=\"#DejaVuSans-48\"/>\n       <use x=\"190.869141\" xlink:href=\"#DejaVuSans-48\"/>\n      </g>\n     </g>\n    </g>\n   </g>\n   <g id=\"matplotlib.axis_2\">\n    <g id=\"ytick_1\">\n     <g id=\"line2d_10\">\n      <defs>\n       <path d=\"M 0 0 \nL -3.5 0 \n\" id=\"m03ed170bee\" style=\"stroke:#000000;stroke-width:0.8;\"/>\n      </defs>\n      <g>\n       <use style=\"stroke:#000000;stroke-width:0.8;\" x=\"39.65\" xlink:href=\"#m03ed170bee\" y=\"214.756364\"/>\n      </g>\n     </g>\n     <g id=\"text_10\">\n      <!-- 0 -->\n      <g transform=\"translate(26.2875 218.555582)scale(0.1 -0.1)\">\n       <use xlink:href=\"#DejaVuSans-48\"/>\n      </g>\n     </g>\n    </g>\n    <g id=\"ytick_2\">\n     <g id=\"line2d_11\">\n      <g>\n       <use style=\"stroke:#000000;stroke-width:0.8;\" x=\"39.65\" xlink:href=\"#m03ed170bee\" y=\"182.822159\"/>\n      </g>\n     </g>\n     <g id=\"text_11\">\n      <!-- 200 -->\n      <g transform=\"translate(13.5625 186.621378)scale(0.1 -0.1)\">\n       <use xlink:href=\"#DejaVuSans-50\"/>\n       <use x=\"63.623047\" xlink:href=\"#DejaVuSans-48\"/>\n       <use x=\"127.246094\" xlink:href=\"#DejaVuSans-48\"/>\n      </g>\n     </g>\n    </g>\n    <g id=\"ytick_3\">\n     <g id=\"line2d_12\">\n      <g>\n       <use style=\"stroke:#000000;stroke-width:0.8;\" x=\"39.65\" xlink:href=\"#m03ed170bee\" y=\"150.887954\"/>\n      </g>\n     </g>\n     <g id=\"text_12\">\n      <!-- 400 -->\n      <defs>\n       <path d=\"M 37.796875 64.3125 \nL 12.890625 25.390625 \nL 37.796875 25.390625 \nz\nM 35.203125 72.90625 \nL 47.609375 72.90625 \nL 47.609375 25.390625 \nL 58.015625 25.390625 \nL 58.015625 17.1875 \nL 47.609375 17.1875 \nL 47.609375 0 \nL 37.796875 0 \nL 37.796875 17.1875 \nL 4.890625 17.1875 \nL 4.890625 26.703125 \nz\n\" id=\"DejaVuSans-52\"/>\n      </defs>\n      <g transform=\"translate(13.5625 154.687173)scale(0.1 -0.1)\">\n       <use xlink:href=\"#DejaVuSans-52\"/>\n       <use x=\"63.623047\" xlink:href=\"#DejaVuSans-48\"/>\n       <use x=\"127.246094\" xlink:href=\"#DejaVuSans-48\"/>\n      </g>\n     </g>\n    </g>\n    <g id=\"ytick_4\">\n     <g id=\"line2d_13\">\n      <g>\n       <use style=\"stroke:#000000;stroke-width:0.8;\" x=\"39.65\" xlink:href=\"#m03ed170bee\" y=\"118.953749\"/>\n      </g>\n     </g>\n     <g id=\"text_13\">\n      <!-- 600 -->\n      <defs>\n       <path d=\"M 33.015625 40.375 \nQ 26.375 40.375 22.484375 35.828125 \nQ 18.609375 31.296875 18.609375 23.390625 \nQ 18.609375 15.53125 22.484375 10.953125 \nQ 26.375 6.390625 33.015625 6.390625 \nQ 39.65625 6.390625 43.53125 10.953125 \nQ 47.40625 15.53125 47.40625 23.390625 \nQ 47.40625 31.296875 43.53125 35.828125 \nQ 39.65625 40.375 33.015625 40.375 \nz\nM 52.59375 71.296875 \nL 52.59375 62.3125 \nQ 48.875 64.0625 45.09375 64.984375 \nQ 41.3125 65.921875 37.59375 65.921875 \nQ 27.828125 65.921875 22.671875 59.328125 \nQ 17.53125 52.734375 16.796875 39.40625 \nQ 19.671875 43.65625 24.015625 45.921875 \nQ 28.375 48.1875 33.59375 48.1875 \nQ 44.578125 48.1875 50.953125 41.515625 \nQ 57.328125 34.859375 57.328125 23.390625 \nQ 57.328125 12.15625 50.6875 5.359375 \nQ 44.046875 -1.421875 33.015625 -1.421875 \nQ 20.359375 -1.421875 13.671875 8.265625 \nQ 6.984375 17.96875 6.984375 36.375 \nQ 6.984375 53.65625 15.1875 63.9375 \nQ 23.390625 74.21875 37.203125 74.21875 \nQ 40.921875 74.21875 44.703125 73.484375 \nQ 48.484375 72.75 52.59375 71.296875 \nz\n\" id=\"DejaVuSans-54\"/>\n      </defs>\n      <g transform=\"translate(13.5625 122.752968)scale(0.1 -0.1)\">\n       <use xlink:href=\"#DejaVuSans-54\"/>\n       <use x=\"63.623047\" xlink:href=\"#DejaVuSans-48\"/>\n       <use x=\"127.246094\" xlink:href=\"#DejaVuSans-48\"/>\n      </g>\n     </g>\n    </g>\n    <g id=\"ytick_5\">\n     <g id=\"line2d_14\">\n      <g>\n       <use style=\"stroke:#000000;stroke-width:0.8;\" x=\"39.65\" xlink:href=\"#m03ed170bee\" y=\"87.019545\"/>\n      </g>\n     </g>\n     <g id=\"text_14\">\n      <!-- 800 -->\n      <defs>\n       <path d=\"M 31.78125 34.625 \nQ 24.75 34.625 20.71875 30.859375 \nQ 16.703125 27.09375 16.703125 20.515625 \nQ 16.703125 13.921875 20.71875 10.15625 \nQ 24.75 6.390625 31.78125 6.390625 \nQ 38.8125 6.390625 42.859375 10.171875 \nQ 46.921875 13.96875 46.921875 20.515625 \nQ 46.921875 27.09375 42.890625 30.859375 \nQ 38.875 34.625 31.78125 34.625 \nz\nM 21.921875 38.8125 \nQ 15.578125 40.375 12.03125 44.71875 \nQ 8.5 49.078125 8.5 55.328125 \nQ 8.5 64.0625 14.71875 69.140625 \nQ 20.953125 74.21875 31.78125 74.21875 \nQ 42.671875 74.21875 48.875 69.140625 \nQ 55.078125 64.0625 55.078125 55.328125 \nQ 55.078125 49.078125 51.53125 44.71875 \nQ 48 40.375 41.703125 38.8125 \nQ 48.828125 37.15625 52.796875 32.3125 \nQ 56.78125 27.484375 56.78125 20.515625 \nQ 56.78125 9.90625 50.3125 4.234375 \nQ 43.84375 -1.421875 31.78125 -1.421875 \nQ 19.734375 -1.421875 13.25 4.234375 \nQ 6.78125 9.90625 6.78125 20.515625 \nQ 6.78125 27.484375 10.78125 32.3125 \nQ 14.796875 37.15625 21.921875 38.8125 \nz\nM 18.3125 54.390625 \nQ 18.3125 48.734375 21.84375 45.5625 \nQ 25.390625 42.390625 31.78125 42.390625 \nQ 38.140625 42.390625 41.71875 45.5625 \nQ 45.3125 48.734375 45.3125 54.390625 \nQ 45.3125 60.0625 41.71875 63.234375 \nQ 38.140625 66.40625 31.78125 66.40625 \nQ 25.390625 66.40625 21.84375 63.234375 \nQ 18.3125 60.0625 18.3125 54.390625 \nz\n\" id=\"DejaVuSans-56\"/>\n      </defs>\n      <g transform=\"translate(13.5625 90.818763)scale(0.1 -0.1)\">\n       <use xlink:href=\"#DejaVuSans-56\"/>\n       <use x=\"63.623047\" xlink:href=\"#DejaVuSans-48\"/>\n       <use x=\"127.246094\" xlink:href=\"#DejaVuSans-48\"/>\n      </g>\n     </g>\n    </g>\n    <g id=\"ytick_6\">\n     <g id=\"line2d_15\">\n      <g>\n       <use style=\"stroke:#000000;stroke-width:0.8;\" x=\"39.65\" xlink:href=\"#m03ed170bee\" y=\"55.08534\"/>\n      </g>\n     </g>\n     <g id=\"text_15\">\n      <!-- 1000 -->\n      <g transform=\"translate(7.2 58.884559)scale(0.1 -0.1)\">\n       <use xlink:href=\"#DejaVuSans-49\"/>\n       <use x=\"63.623047\" xlink:href=\"#DejaVuSans-48\"/>\n       <use x=\"127.246094\" xlink:href=\"#DejaVuSans-48\"/>\n       <use x=\"190.869141\" xlink:href=\"#DejaVuSans-48\"/>\n      </g>\n     </g>\n    </g>\n    <g id=\"ytick_7\">\n     <g id=\"line2d_16\">\n      <g>\n       <use style=\"stroke:#000000;stroke-width:0.8;\" x=\"39.65\" xlink:href=\"#m03ed170bee\" y=\"23.151135\"/>\n      </g>\n     </g>\n     <g id=\"text_16\">\n      <!-- 1200 -->\n      <g transform=\"translate(7.2 26.950354)scale(0.1 -0.1)\">\n       <use xlink:href=\"#DejaVuSans-49\"/>\n       <use x=\"63.623047\" xlink:href=\"#DejaVuSans-50\"/>\n       <use x=\"127.246094\" xlink:href=\"#DejaVuSans-48\"/>\n       <use x=\"190.869141\" xlink:href=\"#DejaVuSans-48\"/>\n      </g>\n     </g>\n    </g>\n   </g>\n   <g id=\"line2d_17\">\n    <path clip-path=\"url(#p9ad71cddbe)\" d=\"M 54.868182 214.756364 \nL 57.31287 214.11768 \nL 58.535214 214.11768 \nL 59.757558 212.361298 \nL 60.979901 212.999982 \nL 62.202245 211.243601 \nL 63.424589 208.369523 \nL 64.646933 206.772812 \nL 65.869277 204.537418 \nL 67.091621 201.823011 \nL 68.313965 196.234525 \nL 69.536309 197.03288 \nL 70.758653 195.116828 \nL 71.980997 193.679789 \nL 73.203341 190.80571 \nL 74.425685 189.049329 \nL 75.648028 186.494592 \nL 76.870372 180.586765 \nL 78.092716 178.35137 \nL 79.31506 171.645187 \nL 80.537404 168.93078 \nL 81.759748 160.787558 \nL 82.982092 162.543939 \nL 84.204436 155.518414 \nL 85.42678 155.518414 \nL 86.649124 153.28302 \nL 87.871468 149.770257 \nL 89.093812 139.231969 \nL 90.316156 134.60151 \nL 91.538499 125.979274 \nL 92.760843 126.138946 \nL 93.983187 115.760329 \nL 95.205531 110.650856 \nL 96.427875 109.054146 \nL 97.650219 109.054146 \nL 98.872563 102.667305 \nL 100.094907 101.070595 \nL 101.317251 86.700203 \nL 102.539595 78.55698 \nL 103.761939 75.203889 \nL 104.984283 70.573429 \nL 107.42897 59.077116 \nL 108.651314 63.707575 \nL 109.873658 63.867246 \nL 111.096002 62.589878 \nL 112.318346 57.640076 \nL 113.54069 52.051591 \nL 115.985378 43.748697 \nL 117.207722 35.126462 \nL 118.430066 34.487778 \nL 119.65241 31.294357 \nL 120.874754 28.57995 \nL 122.097097 18.840018 \nL 123.319441 18.520676 \nL 124.541785 19.957715 \nL 125.764129 20.596399 \nL 126.986473 17.083636 \nL 128.208817 26.504227 \nL 129.431161 26.344556 \nL 130.653505 30.016989 \nL 131.875849 32.092713 \nL 133.098193 40.714948 \nL 134.320537 37.202185 \nL 135.542881 46.942118 \nL 136.765225 54.127314 \nL 137.987568 53.648301 \nL 139.209912 62.110865 \nL 140.432256 63.228562 \nL 141.6546 61.631852 \nL 142.876944 71.691126 \nL 144.099288 74.724876 \nL 145.321632 76.161915 \nL 146.543976 83.027769 \nL 147.76632 84.943821 \nL 148.988664 91.809675 \nL 150.211008 96.120793 \nL 151.433352 106.020397 \nL 153.878039 122.466512 \nL 156.322727 135.080523 \nL 157.545071 134.282168 \nL 158.767415 138.912627 \nL 159.989759 138.752956 \nL 161.212103 143.862429 \nL 162.434447 145.299468 \nL 163.656791 146.417166 \nL 164.879135 147.854205 \nL 166.101479 152.324993 \nL 167.323823 152.005651 \nL 168.546166 154.241046 \nL 169.76851 160.787558 \nL 170.990854 161.426242 \nL 172.213198 165.418017 \nL 173.435542 161.905255 \nL 174.657886 168.451767 \nL 175.88023 169.409793 \nL 177.102574 170.048477 \nL 178.324918 171.006503 \nL 179.547262 171.645187 \nL 180.769606 174.359595 \nL 181.99195 174.838608 \nL 183.214294 175.15795 \nL 184.436637 176.115976 \nL 185.658981 177.712686 \nL 186.881325 178.35137 \nL 188.103669 177.553015 \nL 189.326013 177.393344 \nL 190.548357 177.872357 \nL 192.993045 180.746436 \nL 194.215389 179.309396 \nL 195.437733 180.586765 \nL 196.660077 181.544791 \nL 200.327108 181.544791 \nL 201.549452 181.864133 \nL 359.231818 181.864133 \nL 359.231818 181.864133 \n\" style=\"fill:none;stroke:#1f77b4;stroke-linecap:square;stroke-width:1.5;\"/>\n   </g>\n   <g id=\"line2d_18\">\n    <path clip-path=\"url(#p9ad71cddbe)\" d=\"M 54.868182 214.756364 \nL 57.31287 214.11768 \nL 58.535214 214.11768 \nL 59.757558 212.361298 \nL 60.979901 212.999982 \nL 62.202245 211.403272 \nL 63.424589 208.848536 \nL 65.869277 205.176102 \nL 67.091621 204.058405 \nL 68.313965 198.469919 \nL 69.536309 199.906958 \nL 70.758653 196.394196 \nL 71.980997 195.276499 \nL 73.203341 194.637815 \nL 74.425685 192.40242 \nL 75.648028 188.729987 \nL 76.870372 183.460843 \nL 78.092716 183.939856 \nL 79.31506 180.267423 \nL 80.537404 181.544791 \nL 81.759748 175.317621 \nL 82.982092 176.594989 \nL 84.204436 171.006503 \nL 85.42678 170.687161 \nL 86.649124 168.611438 \nL 87.871468 168.451767 \nL 89.093812 162.543939 \nL 90.316156 166.216372 \nL 91.538499 154.400717 \nL 92.760843 159.190847 \nL 93.983187 153.123349 \nL 95.205531 155.039401 \nL 96.427875 152.165322 \nL 97.650219 151.207296 \nL 98.872563 148.492889 \nL 100.094907 151.84598 \nL 101.317251 147.05585 \nL 102.539595 144.501113 \nL 103.761939 144.0221 \nL 104.984283 146.576837 \nL 106.206627 141.786706 \nL 107.42897 138.114272 \nL 108.651314 140.988351 \nL 109.873658 137.79493 \nL 111.096002 141.467364 \nL 112.318346 142.42539 \nL 113.54069 139.710983 \nL 114.763034 139.072298 \nL 115.985378 142.904403 \nL 117.207722 137.475588 \nL 118.430066 136.996575 \nL 119.65241 138.912627 \nL 120.874754 142.106048 \nL 122.097097 140.349667 \nL 123.319441 136.836904 \nL 124.541785 136.836904 \nL 125.764129 141.148022 \nL 126.986473 134.441839 \nL 128.208817 134.122497 \nL 129.431161 140.030325 \nL 130.653505 139.870654 \nL 131.875849 139.39164 \nL 133.098193 146.097823 \nL 134.320537 144.660784 \nL 135.542881 148.812231 \nL 136.765225 148.65256 \nL 137.987568 145.938152 \nL 139.209912 153.123349 \nL 140.432256 151.686309 \nL 141.6546 148.971902 \nL 142.876944 153.28302 \nL 144.099288 159.031176 \nL 145.321632 157.115124 \nL 146.543976 156.955453 \nL 147.76632 156.636111 \nL 148.988664 165.098675 \nL 150.211008 162.863281 \nL 151.433352 166.376043 \nL 152.655696 166.535714 \nL 153.878039 168.451767 \nL 155.100383 172.443542 \nL 156.322727 179.309396 \nL 157.545071 175.317621 \nL 158.767415 178.990054 \nL 159.989759 180.586765 \nL 161.212103 186.973606 \nL 162.434447 185.057553 \nL 163.656791 185.536566 \nL 164.879135 185.696237 \nL 166.101479 189.847684 \nL 167.323823 189.847684 \nL 168.546166 190.326697 \nL 169.76851 195.915183 \nL 170.990854 196.553867 \nL 172.213198 200.705314 \nL 173.435542 195.595841 \nL 174.657886 202.461695 \nL 175.88023 202.781037 \nL 178.324918 204.058405 \nL 179.547262 205.495444 \nL 180.769606 207.571168 \nL 181.99195 207.730839 \nL 183.214294 208.050181 \nL 184.436637 209.167878 \nL 185.658981 210.764588 \nL 186.881325 211.403272 \nL 189.326013 210.764588 \nL 190.548357 211.08393 \nL 191.770701 212.201627 \nL 192.993045 213.638666 \nL 194.215389 212.361298 \nL 195.437733 213.478995 \nL 196.660077 214.437022 \nL 200.327108 214.437022 \nL 201.549452 214.756364 \nL 359.231818 214.756364 \nL 359.231818 214.756364 \n\" style=\"fill:none;stroke:#ff7f0e;stroke-linecap:square;stroke-width:1.5;\"/>\n   </g>\n   <g id=\"line2d_19\">\n    <path clip-path=\"url(#p9ad71cddbe)\" d=\"M 54.868182 214.756364 \nL 97.650219 214.756364 \nL 98.872563 214.596693 \nL 102.539595 214.596693 \nL 103.761939 214.277351 \nL 104.984283 214.11768 \nL 106.206627 213.638666 \nL 107.42897 213.478995 \nL 108.651314 212.041956 \nL 109.873658 212.041956 \nL 111.096002 211.722614 \nL 112.318346 210.924259 \nL 114.763034 208.529194 \nL 115.985378 207.571168 \nL 117.207722 207.092155 \nL 118.430066 204.697089 \nL 119.65241 203.898734 \nL 120.874754 202.940708 \nL 122.097097 201.66334 \nL 123.319441 201.024656 \nL 124.541785 200.066629 \nL 125.764129 198.310248 \nL 126.986473 198.62959 \nL 128.208817 197.192551 \nL 129.431161 197.831235 \nL 130.653505 196.553867 \nL 131.875849 196.234525 \nL 133.098193 195.276499 \nL 134.320537 194.957157 \nL 135.542881 195.43617 \nL 136.765225 194.478144 \nL 137.987568 193.999131 \nL 139.209912 194.637815 \nL 140.432256 193.360446 \nL 141.6546 194.158802 \nL 142.876944 193.360446 \nL 144.099288 195.116828 \nL 145.321632 194.797486 \nL 146.543976 194.957157 \nL 147.76632 193.679789 \nL 148.988664 195.116828 \nL 150.211008 194.318473 \nL 151.433352 195.755512 \nL 152.655696 195.276499 \nL 153.878039 195.43617 \nL 155.100383 196.873209 \nL 156.322727 199.747287 \nL 157.545071 197.671564 \nL 158.767415 197.990906 \nL 159.989759 199.427945 \nL 161.212103 201.823011 \nL 162.434447 200.2263 \nL 163.656791 202.302024 \nL 164.879135 201.823011 \nL 166.101479 203.739063 \nL 167.323823 204.377747 \nL 168.546166 204.85676 \nL 169.76851 207.251826 \nL 170.990854 207.251826 \nL 172.213198 209.167878 \nL 173.435542 206.134128 \nL 174.657886 210.285575 \nL 175.88023 210.125904 \nL 177.102574 210.924259 \nL 178.324918 211.882285 \nL 179.547262 211.08393 \nL 180.769606 212.840311 \nL 181.99195 212.68064 \nL 183.214294 212.68064 \nL 184.436637 213.638666 \nL 185.658981 214.11768 \nL 188.103669 214.11768 \nL 189.326013 214.437022 \nL 190.548357 214.11768 \nL 191.770701 214.596693 \nL 192.993045 214.756364 \nL 194.215389 214.277351 \nL 195.437733 214.596693 \nL 196.660077 214.756364 \nL 359.231818 214.756364 \nL 359.231818 214.756364 \n\" style=\"fill:none;stroke:#2ca02c;stroke-linecap:square;stroke-width:1.5;\"/>\n   </g>\n   <g id=\"patch_3\">\n    <path d=\"M 39.65 224.64 \nL 39.65 7.2 \n\" style=\"fill:none;stroke:#000000;stroke-linecap:square;stroke-linejoin:miter;stroke-width:0.8;\"/>\n   </g>\n   <g id=\"patch_4\">\n    <path d=\"M 374.45 224.64 \nL 374.45 7.2 \n\" style=\"fill:none;stroke:#000000;stroke-linecap:square;stroke-linejoin:miter;stroke-width:0.8;\"/>\n   </g>\n   <g id=\"patch_5\">\n    <path d=\"M 39.65 224.64 \nL 374.45 224.64 \n\" style=\"fill:none;stroke:#000000;stroke-linecap:square;stroke-linejoin:miter;stroke-width:0.8;\"/>\n   </g>\n   <g id=\"patch_6\">\n    <path d=\"M 39.65 7.2 \nL 374.45 7.2 \n\" style=\"fill:none;stroke:#000000;stroke-linecap:square;stroke-linejoin:miter;stroke-width:0.8;\"/>\n   </g>\n  </g>\n </g>\n <defs>\n  <clipPath id=\"p9ad71cddbe\">\n   <rect height=\"217.44\" width=\"334.8\" x=\"39.65\" y=\"7.2\"/>\n  </clipPath>\n </defs>\n</svg>\n",
      "image/png": "[encoded data removed]"
     },
     "metadata": {
      "needs_background": "light"
     }
    }
   ],
   "source": [
    "plt.plot(TDCR_D2D_Result_30k['frame'], TDCR_D2D_Result_30k['N_request'])\n",
    "plt.plot(TDCR_D2D_Result_30k['frame'], TDCR_D2D_Result_30k['N_response'])\n",
    "plt.plot(TDCR_D2D_Result_30k['frame'], TDCR_D2D_Result_30k['N_HL'])"
   ]
  },
  {
   "cell_type": "code",
   "execution_count": 110,
   "metadata": {},
   "outputs": [
    {
     "output_type": "execute_result",
     "data": {
      "text/plain": "TDCR\nH      26\nM      23\nN    1951\ndtype: int64"
     },
     "metadata": {},
     "execution_count": 110
    }
   ],
   "source": [
    "TDCR_RA_Result_30k.groupby('TDCR').size()"
   ]
  }
 ],
 "metadata": {
  "language_info": {
   "codemirror_mode": {
    "name": "ipython",
    "version": 3
   },
   "file_extension": ".py",
   "mimetype": "text/x-python",
   "name": "python",
   "nbconvert_exporter": "python",
   "pygments_lexer": "ipython3",
   "version": "3.8.0-final"
  },
  "orig_nbformat": 2,
  "kernelspec": {
   "name": "python38064bittdcrpipenvd4536cd5b7e04db888643b26fe3148af",
   "display_name": "Python 3.8.0 64-bit ('TDCR': pipenv)"
  }
 },
 "nbformat": 4,
 "nbformat_minor": 2
}