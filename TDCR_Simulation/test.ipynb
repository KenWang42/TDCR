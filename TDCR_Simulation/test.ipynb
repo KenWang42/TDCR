{
 "cells": [
  {
   "cell_type": "code",
   "execution_count": 65,
   "metadata": {},
   "outputs": [],
   "source": [
    "import pandas as pd\n",
    "import numpy as np\n",
    "import random\n",
    "import os\n",
    "import time\n",
    "\n",
    "start_time = time.time()\n",
    "\n",
    "path = os.path.abspath('.')\n",
    "\n",
    "simRAO = 1000\n",
    "\n",
    "nMTCD = 10000\n",
    "\n",
    "nMTCD_success = 0  # total number of device that transmit success\n",
    "\n",
    "nMTCD_fail = 0  # total number of device that transmit failed\n",
    "\n",
    "Backoff = 2  # Backoff Indicator = 20ms\n",
    "\n",
    "maxTrans = 10  # Maximum number of preamble transmission\n",
    "\n",
    "N_PRB = 25  # Number of Sidelink Physical Resource Block\n",
    "\n",
    "N_PRB_arrange = 20  # the number of arranged PRB\n",
    "\n",
    "N_preamble = 54  # Number of PRACH Preamble\n",
    "\n",
    "file_path = path + f'/MTCD_data_{nMTCD}.csv'\n",
    "MTCD_data = pd.read_csv(file_path, index_col=False)\n",
    "\n",
    "\"\"\"\n",
    "RA_data\n",
    "    records RA parameter and simulation result of every device\n",
    "    the parameters required in enB <-> device communication\n",
    "    Index:\n",
    "        device_id\n",
    "    Columns 3:\n",
    "        RA_init:     Integer,\n",
    "                     next frame the device send RA request\n",
    "        RA_first:    Integer,\n",
    "                     first frame the device send RA request\n",
    "        RA_success:  Integer,\n",
    "                     frame the device complete RA procedure\n",
    "        RA_transmit: Integer,\n",
    "                     number of the device trying to send RA request\n",
    "\"\"\"\n",
    "RA_data = MTCD_data[['RA_init', 'RA_success', 'RA_transmit', 'RA_first']]\n",
    "\n",
    "\"\"\"\n",
    "D2D_member\n",
    "    records D2D parameter of every Member\n",
    "    also records numerical result for every Member\n",
    "    the parametes required in Member -> Header communication\n",
    "    Index:\n",
    "        device_id\n",
    "    Columns 7:\n",
    "        Header:   Integer,\n",
    "                  the Header of belonging D2D group\n",
    "                  also indicate the group Header's device_id\n",
    "        Member:   Boolen,\n",
    "                  whether the device is a Member\n",
    "        arrange:  Integer,\n",
    "                  indicate the beloneing arrange sequence\n",
    "        request:  Boolen,\n",
    "                  whether the Member will send D2D request\n",
    "        response: Boolean,\n",
    "                  whether the device received its Header Response\n",
    "        success:  Integer,\n",
    "                  the frame the device finish D2D transmission (-1: not success yet)\n",
    "        transmit: Integer,\n",
    "                  number of the Member trying to send D2D request\n",
    "\"\"\"\n",
    "D2D_member = pd.DataFrame(\n",
    "    columns=['Header', 'Member', 'arrange',\n",
    "             'request', 'response', 'success', 'transmit'],\n",
    ")\n",
    "\n",
    "# assign group\n",
    "D2D_member['Header'] = MTCD_data['clusters']\n",
    "\n",
    "# assign type\n",
    "D2D_member['Member'] = (D2D_member.index != D2D_member['Header'])\n",
    "\n",
    "# assign arrange\n",
    "for header in D2D_member['Header'].unique():\n",
    "    members = D2D_member.loc[(D2D_member['Header'] == header) &\n",
    "                             (D2D_member['Member'])]\n",
    "    n = 0\n",
    "    for device_id in members.index:\n",
    "        D2D_member.at[device_id, 'arrange'] = n // N_PRB_arrange\n",
    "        n += 1\n",
    "\n",
    "# initialize request\n",
    "D2D_member['request'] = np.zeros(nMTCD, dtype=bool)\n",
    "\n",
    "# initialize response\n",
    "D2D_member['response'] = np.zeros(nMTCD, dtype=bool)\n",
    "\n",
    "# initialize success = -1\n",
    "D2D_member['success'] = np.full(nMTCD, -1)\n",
    "\n",
    "# initialize transmit\n",
    "D2D_member['transmit'] = np.zeros(nMTCD, dtype=int)\n",
    "\n",
    "\"\"\"\n",
    "D2D_group\n",
    "    records D2D parameter of every Header\n",
    "    also records numerical result for every Header\n",
    "    records the parameter required by Header -> Member communication\n",
    "    Index:\n",
    "        default sequence\n",
    "    Columns 6:\n",
    "        Header:     Integer,\n",
    "                    device_id of the group Header\n",
    "        class:      Integer,\n",
    "                    the barring class of the beloneing D2D group\n",
    "        N_member:   Integer,\n",
    "                    the total number of device (member+header) in the group\n",
    "        arr_seq:    Integer,\n",
    "                    current arrange sequence\n",
    "        N_RA:       Integer,\n",
    "                    number of RA_request within the group\n",
    "        HL:         Bollean,\n",
    "                    Whether the group is in HL or not\n",
    "\"\"\"\n",
    "D2D_group = pd.DataFrame(\n",
    "    columns=['Header', 'class', 'N_member', 'arr_seq', 'N_RA', 'HL']\n",
    ")\n",
    "\n",
    "# initialize Header\n",
    "D2D_group['Header'] = MTCD_data['clusters'].unique()\n",
    "\n",
    "# assign Class\n",
    "N_group = len(D2D_group)\n",
    "N_Class = (N_group // N_preamble) + 1\n",
    "seq = 0\n",
    "for group in range(N_group):\n",
    "    D2D_group.at[group, 'class'] = group // N_preamble\n",
    "\n",
    "# initialize N_member\n",
    "D2D_group['N_member'] = D2D_member.groupby(['Header']).size().values\n",
    "\n",
    "# initialize current arrange sequence\n",
    "D2D_group['arr_seq'] = np.zeros(N_group, dtype=int)\n",
    "\n",
    "# initialize N_RA\n",
    "D2D_group['N_RA'] = np.zeros(N_group, dtype=int)\n",
    "\n",
    "# initialize N_RA\n",
    "D2D_group['HL'] = np.zeros(N_group, dtype=bool)\n",
    "\n",
    "\"\"\"\n",
    "BS_schedule\n",
    "    indicate the broadcast information for SIB2\n",
    "    update every 16 system frame\n",
    "    Do not require initialize\n",
    "    Index:\n",
    "        system_frame\n",
    "    Columns 2:\n",
    "        class: List[Integer],\n",
    "               the class can initiate RA procedure\n",
    "        TDCR:  Char,\n",
    "               indicate the type of TDCR level\n",
    "               N:  normal loading, not a TDCR frame\n",
    "               M:  medium loading congestion resolving\n",
    "                   1 frame per period\n",
    "                   2 RA_request per group\n",
    "               H:  heavy loading congestion resolving\n",
    "                   2 frame per period\n",
    "                   1 RA_request per group\n",
    "\"\"\"\n",
    "BS_schedule = pd.DataFrame(\n",
    "    columns=['class', 'TDCR'],\n",
    ")\n",
    "\n",
    "\"\"\"\n",
    "D2D_result\n",
    "    records the numerical result of D2D sidelink\n",
    "    Index:\n",
    "        sequence of SC-Period\n",
    "    Columns 4:\n",
    "         frame:      Integer,\n",
    "                     the system frame when the SC-period-1 ends\n",
    "         N_request:  Integer,\n",
    "                     number of device send D2D_request to its header\n",
    "         N_response: Integer,\n",
    "                     number of D2D device that receive its Header response\n",
    "         N_HL:       Integer,\n",
    "                     number of Heavy Loading D2D_group\n",
    "\"\"\"\n",
    "D2D_result = pd.DataFrame(\n",
    "    columns=['frame', 'N_request', 'N_response', 'N_HL'],\n",
    ")\n",
    "\n",
    "#  records the current loading status of each classes\n",
    "Class_Status = ['N'] * N_Class\n",
    "\n",
    "D2D_period = 8  # 40 ms Member -> Header, 40ms Header -> Member\n",
    "\n",
    "SIB2_period = 16  # broadcast period of SIB2: 160ms\n",
    "\n",
    "N_Normal_frame_total = 0"
   ]
  },
  {
   "cell_type": "code",
   "execution_count": 32,
   "metadata": {},
   "outputs": [],
   "source": [
    "simRAO = 2000\n",
    "nMTCD = 30000\n",
    "MTCD_data = pd.read_csv(f'MTCD_data_{nMTCD}.csv', index_col=False)"
   ]
  },
  {
   "cell_type": "code",
   "execution_count": 33,
   "metadata": {},
   "outputs": [],
   "source": [
    "data = np.zeros((simRAO, 4), dtype=int)\n",
    "Preamble_status = pd.DataFrame(\n",
    "    data,\n",
    "    columns=['nRA', 'empty', 'collided', 'success'],\n",
    ")\n",
    "Preamble_status.index.name = 'system frame'"
   ]
  },
  {
   "cell_type": "code",
   "execution_count": 34,
   "metadata": {},
   "outputs": [
    {
     "output_type": "stream",
     "name": "stdout",
     "text": "(2000, 4)\n"
    },
    {
     "output_type": "execute_result",
     "data": {
      "text/plain": "              nRA  empty  collided  success\nsystem frame                               \n287             0      0         0        0\n648             0      0         0        0\n1529            0      0         0        0\n1457            0      0         0        0\n1969            0      0         0        0",
      "text/html": "<div>\n<style scoped>\n    .dataframe tbody tr th:only-of-type {\n        vertical-align: middle;\n    }\n\n    .dataframe tbody tr th {\n        vertical-align: top;\n    }\n\n    .dataframe thead th {\n        text-align: right;\n    }\n</style>\n<table border=\"1\" class=\"dataframe\">\n  <thead>\n    <tr style=\"text-align: right;\">\n      <th></th>\n      <th>nRA</th>\n      <th>empty</th>\n      <th>collided</th>\n      <th>success</th>\n    </tr>\n    <tr>\n      <th>system frame</th>\n      <th></th>\n      <th></th>\n      <th></th>\n      <th></th>\n    </tr>\n  </thead>\n  <tbody>\n    <tr>\n      <th>287</th>\n      <td>0</td>\n      <td>0</td>\n      <td>0</td>\n      <td>0</td>\n    </tr>\n    <tr>\n      <th>648</th>\n      <td>0</td>\n      <td>0</td>\n      <td>0</td>\n      <td>0</td>\n    </tr>\n    <tr>\n      <th>1529</th>\n      <td>0</td>\n      <td>0</td>\n      <td>0</td>\n      <td>0</td>\n    </tr>\n    <tr>\n      <th>1457</th>\n      <td>0</td>\n      <td>0</td>\n      <td>0</td>\n      <td>0</td>\n    </tr>\n    <tr>\n      <th>1969</th>\n      <td>0</td>\n      <td>0</td>\n      <td>0</td>\n      <td>0</td>\n    </tr>\n  </tbody>\n</table>\n</div>"
     },
     "metadata": {},
     "execution_count": 34
    }
   ],
   "source": [
    "print(Preamble_status.shape)\n",
    "Preamble_status.sample(5)"
   ]
  },
  {
   "cell_type": "code",
   "execution_count": 29,
   "metadata": {},
   "outputs": [],
   "source": [
    "RA_data = MTCD_data[['RA_init', 'RA_first', 'RA_success', 'RA_transmit']]\n",
    "RA_data.index.name = 'device_id'"
   ]
  },
  {
   "cell_type": "code",
   "execution_count": 30,
   "metadata": {},
   "outputs": [
    {
     "output_type": "stream",
     "name": "stdout",
     "text": "(30000, 4)\n"
    },
    {
     "output_type": "execute_result",
     "data": {
      "text/plain": "           RA_init  RA_first  RA_success  RA_transmit\ndevice_id                                            \n7505           416       416          -1            0\n14971          300       300          -1            0\n24892          506       506          -1            0\n19989          213       213          -1            0\n4439           385       385          -1            0",
      "text/html": "<div>\n<style scoped>\n    .dataframe tbody tr th:only-of-type {\n        vertical-align: middle;\n    }\n\n    .dataframe tbody tr th {\n        vertical-align: top;\n    }\n\n    .dataframe thead th {\n        text-align: right;\n    }\n</style>\n<table border=\"1\" class=\"dataframe\">\n  <thead>\n    <tr style=\"text-align: right;\">\n      <th></th>\n      <th>RA_init</th>\n      <th>RA_first</th>\n      <th>RA_success</th>\n      <th>RA_transmit</th>\n    </tr>\n    <tr>\n      <th>device_id</th>\n      <th></th>\n      <th></th>\n      <th></th>\n      <th></th>\n    </tr>\n  </thead>\n  <tbody>\n    <tr>\n      <th>7505</th>\n      <td>416</td>\n      <td>416</td>\n      <td>-1</td>\n      <td>0</td>\n    </tr>\n    <tr>\n      <th>14971</th>\n      <td>300</td>\n      <td>300</td>\n      <td>-1</td>\n      <td>0</td>\n    </tr>\n    <tr>\n      <th>24892</th>\n      <td>506</td>\n      <td>506</td>\n      <td>-1</td>\n      <td>0</td>\n    </tr>\n    <tr>\n      <th>19989</th>\n      <td>213</td>\n      <td>213</td>\n      <td>-1</td>\n      <td>0</td>\n    </tr>\n    <tr>\n      <th>4439</th>\n      <td>385</td>\n      <td>385</td>\n      <td>-1</td>\n      <td>0</td>\n    </tr>\n  </tbody>\n</table>\n</div>"
     },
     "metadata": {},
     "execution_count": 30
    }
   ],
   "source": [
    "print(RA_data.shape)\n",
    "RA_data.sample(5)"
   ]
  },
  {
   "cell_type": "code",
   "execution_count": 31,
   "metadata": {},
   "outputs": [],
   "source": [
    "D2D_member = pd.DataFrame(\n",
    "    columns=['group', 'Member', 'arrange', 'request', 'delay', 'transmit'],\n",
    ")\n",
    "\n",
    "# assign group\n",
    "D2D_member['group'] = MTCD_data['clusters']\n",
    "\n",
    "# assign type\n",
    "D2D_member['Member'] = (D2D_member.index != D2D_member['group'])\n",
    "\n",
    "# assign arrange\n",
    "arrangePRB = 20\n",
    "for group in D2D_member['group'].unique():\n",
    "    members = D2D_member.loc[(D2D_member['group'] == group) &\n",
    "                             (D2D_member['Member'])]\n",
    "    n = 0\n",
    "    for device_id, member in members.iterrows():\n",
    "        D2D_member.at[device_id, 'arrange'] = n // arrangePRB\n",
    "        n += 1\n",
    "\n",
    "# initiate request\n",
    "D2D_member['request'] = np.zeros(nMTCD, dtype=bool)\n",
    "\n",
    "# initiate delay\n",
    "D2D_member['delay'] = np.zeros(nMTCD, dtype=int)\n",
    "\n",
    "# initiate transmit\n",
    "D2D_member['transmit'] = np.zeros(nMTCD, dtype=int)"
   ]
  },
  {
   "cell_type": "code",
   "execution_count": 32,
   "metadata": {},
   "outputs": [
    {
     "output_type": "stream",
     "name": "stdout",
     "text": "(30000, 6)\n"
    },
    {
     "output_type": "execute_result",
     "data": {
      "text/plain": "           group  Member arrange  request  delay  transmit\ndevice_id                                                 \n316          316   False     NaN    False      0         0\n127          127   False     NaN    False      0         0\n145          145   False     NaN    False      0         0\n84            84   False     NaN    False      0         0\n93            93   False     NaN    False      0         0",
      "text/html": "<div>\n<style scoped>\n    .dataframe tbody tr th:only-of-type {\n        vertical-align: middle;\n    }\n\n    .dataframe tbody tr th {\n        vertical-align: top;\n    }\n\n    .dataframe thead th {\n        text-align: right;\n    }\n</style>\n<table border=\"1\" class=\"dataframe\">\n  <thead>\n    <tr style=\"text-align: right;\">\n      <th></th>\n      <th>group</th>\n      <th>Member</th>\n      <th>arrange</th>\n      <th>request</th>\n      <th>delay</th>\n      <th>transmit</th>\n    </tr>\n    <tr>\n      <th>device_id</th>\n      <th></th>\n      <th></th>\n      <th></th>\n      <th></th>\n      <th></th>\n      <th></th>\n    </tr>\n  </thead>\n  <tbody>\n    <tr>\n      <th>316</th>\n      <td>316</td>\n      <td>False</td>\n      <td>NaN</td>\n      <td>False</td>\n      <td>0</td>\n      <td>0</td>\n    </tr>\n    <tr>\n      <th>127</th>\n      <td>127</td>\n      <td>False</td>\n      <td>NaN</td>\n      <td>False</td>\n      <td>0</td>\n      <td>0</td>\n    </tr>\n    <tr>\n      <th>145</th>\n      <td>145</td>\n      <td>False</td>\n      <td>NaN</td>\n      <td>False</td>\n      <td>0</td>\n      <td>0</td>\n    </tr>\n    <tr>\n      <th>84</th>\n      <td>84</td>\n      <td>False</td>\n      <td>NaN</td>\n      <td>False</td>\n      <td>0</td>\n      <td>0</td>\n    </tr>\n    <tr>\n      <th>93</th>\n      <td>93</td>\n      <td>False</td>\n      <td>NaN</td>\n      <td>False</td>\n      <td>0</td>\n      <td>0</td>\n    </tr>\n  </tbody>\n</table>\n</div>"
     },
     "metadata": {},
     "execution_count": 32
    }
   ],
   "source": [
    "print(D2D_member.shape)\n",
    "D2D_member.loc[D2D_member['Member'] == False].sample(5)"
   ]
  },
  {
   "cell_type": "code",
   "execution_count": 33,
   "metadata": {},
   "outputs": [],
   "source": [
    "D2D_group = pd.DataFrame(\n",
    "    columns=['Header', 'class', 'seq_class', 'N_member', 'RA_request', 'arrange', 'HL']\n",
    ")\n",
    "D2D_group['Header'] = MTCD_data['clusters'].unique()"
   ]
  },
  {
   "cell_type": "code",
   "execution_count": 34,
   "metadata": {},
   "outputs": [
    {
     "output_type": "stream",
     "name": "stdout",
     "text": "219 5\n"
    }
   ],
   "source": [
    "N_preamble = 54\n",
    "N_group = len(D2D_group)\n",
    "N_class = (N_group // N_preamble) + 1\n",
    "seq = 0\n",
    "ind = 0\n",
    "print(N_group, N_class)"
   ]
  },
  {
   "cell_type": "code",
   "execution_count": 35,
   "metadata": {},
   "outputs": [
    {
     "output_type": "execute_result",
     "data": {
      "text/plain": "     Header class seq_class N_member RA_request arrange   HL\n0         0     0         0      NaN        NaN     NaN  NaN\n1         1     0         1      NaN        NaN     NaN  NaN\n2         2     0         2      NaN        NaN     NaN  NaN\n3         3     0         3      NaN        NaN     NaN  NaN\n4         4     0         4      NaN        NaN     NaN  NaN\n..      ...   ...       ...      ...        ...     ...  ...\n214    1004     3        52      NaN        NaN     NaN  NaN\n215    1056     3        53      NaN        NaN     NaN  NaN\n216    1756     4         0      NaN        NaN     NaN  NaN\n217    9805     4         1      NaN        NaN     NaN  NaN\n218   16553     4         2      NaN        NaN     NaN  NaN\n\n[219 rows x 7 columns]",
      "text/html": "<div>\n<style scoped>\n    .dataframe tbody tr th:only-of-type {\n        vertical-align: middle;\n    }\n\n    .dataframe tbody tr th {\n        vertical-align: top;\n    }\n\n    .dataframe thead th {\n        text-align: right;\n    }\n</style>\n<table border=\"1\" class=\"dataframe\">\n  <thead>\n    <tr style=\"text-align: right;\">\n      <th></th>\n      <th>Header</th>\n      <th>class</th>\n      <th>seq_class</th>\n      <th>N_member</th>\n      <th>RA_request</th>\n      <th>arrange</th>\n      <th>HL</th>\n    </tr>\n  </thead>\n  <tbody>\n    <tr>\n      <th>0</th>\n      <td>0</td>\n      <td>0</td>\n      <td>0</td>\n      <td>NaN</td>\n      <td>NaN</td>\n      <td>NaN</td>\n      <td>NaN</td>\n    </tr>\n    <tr>\n      <th>1</th>\n      <td>1</td>\n      <td>0</td>\n      <td>1</td>\n      <td>NaN</td>\n      <td>NaN</td>\n      <td>NaN</td>\n      <td>NaN</td>\n    </tr>\n    <tr>\n      <th>2</th>\n      <td>2</td>\n      <td>0</td>\n      <td>2</td>\n      <td>NaN</td>\n      <td>NaN</td>\n      <td>NaN</td>\n      <td>NaN</td>\n    </tr>\n    <tr>\n      <th>3</th>\n      <td>3</td>\n      <td>0</td>\n      <td>3</td>\n      <td>NaN</td>\n      <td>NaN</td>\n      <td>NaN</td>\n      <td>NaN</td>\n    </tr>\n    <tr>\n      <th>4</th>\n      <td>4</td>\n      <td>0</td>\n      <td>4</td>\n      <td>NaN</td>\n      <td>NaN</td>\n      <td>NaN</td>\n      <td>NaN</td>\n    </tr>\n    <tr>\n      <th>...</th>\n      <td>...</td>\n      <td>...</td>\n      <td>...</td>\n      <td>...</td>\n      <td>...</td>\n      <td>...</td>\n      <td>...</td>\n    </tr>\n    <tr>\n      <th>214</th>\n      <td>1004</td>\n      <td>3</td>\n      <td>52</td>\n      <td>NaN</td>\n      <td>NaN</td>\n      <td>NaN</td>\n      <td>NaN</td>\n    </tr>\n    <tr>\n      <th>215</th>\n      <td>1056</td>\n      <td>3</td>\n      <td>53</td>\n      <td>NaN</td>\n      <td>NaN</td>\n      <td>NaN</td>\n      <td>NaN</td>\n    </tr>\n    <tr>\n      <th>216</th>\n      <td>1756</td>\n      <td>4</td>\n      <td>0</td>\n      <td>NaN</td>\n      <td>NaN</td>\n      <td>NaN</td>\n      <td>NaN</td>\n    </tr>\n    <tr>\n      <th>217</th>\n      <td>9805</td>\n      <td>4</td>\n      <td>1</td>\n      <td>NaN</td>\n      <td>NaN</td>\n      <td>NaN</td>\n      <td>NaN</td>\n    </tr>\n    <tr>\n      <th>218</th>\n      <td>16553</td>\n      <td>4</td>\n      <td>2</td>\n      <td>NaN</td>\n      <td>NaN</td>\n      <td>NaN</td>\n      <td>NaN</td>\n    </tr>\n  </tbody>\n</table>\n<p>219 rows × 7 columns</p>\n</div>"
     },
     "metadata": {},
     "execution_count": 35
    }
   ],
   "source": [
    "for group in range(N_group):\n",
    "    D2D_group.at[group, 'class'] = group // N_preamble\n",
    "    # assign inter-class sequence\n",
    "    D2D_group.at[group, 'seq_class'] = seq\n",
    "    seq = (seq+1) % N_preamble\n",
    "D2D_group"
   ]
  },
  {
   "cell_type": "code",
   "execution_count": 36,
   "metadata": {},
   "outputs": [
    {
     "output_type": "execute_result",
     "data": {
      "text/plain": "     Header class seq_class  N_member RA_request arrange   HL\n0         0     0         0       159        NaN     NaN  NaN\n1         1     0         1       159        NaN     NaN  NaN\n2         2     0         2       162        NaN     NaN  NaN\n3         3     0         3       120        NaN     NaN  NaN\n4         4     0         4       138        NaN     NaN  NaN\n..      ...   ...       ...       ...        ...     ...  ...\n214    1004     3        52        96        NaN     NaN  NaN\n215    1056     3        53       106        NaN     NaN  NaN\n216    1756     4         0       119        NaN     NaN  NaN\n217    9805     4         1        55        NaN     NaN  NaN\n218   16553     4         2       108        NaN     NaN  NaN\n\n[219 rows x 7 columns]",
      "text/html": "<div>\n<style scoped>\n    .dataframe tbody tr th:only-of-type {\n        vertical-align: middle;\n    }\n\n    .dataframe tbody tr th {\n        vertical-align: top;\n    }\n\n    .dataframe thead th {\n        text-align: right;\n    }\n</style>\n<table border=\"1\" class=\"dataframe\">\n  <thead>\n    <tr style=\"text-align: right;\">\n      <th></th>\n      <th>Header</th>\n      <th>class</th>\n      <th>seq_class</th>\n      <th>N_member</th>\n      <th>RA_request</th>\n      <th>arrange</th>\n      <th>HL</th>\n    </tr>\n  </thead>\n  <tbody>\n    <tr>\n      <th>0</th>\n      <td>0</td>\n      <td>0</td>\n      <td>0</td>\n      <td>159</td>\n      <td>NaN</td>\n      <td>NaN</td>\n      <td>NaN</td>\n    </tr>\n    <tr>\n      <th>1</th>\n      <td>1</td>\n      <td>0</td>\n      <td>1</td>\n      <td>159</td>\n      <td>NaN</td>\n      <td>NaN</td>\n      <td>NaN</td>\n    </tr>\n    <tr>\n      <th>2</th>\n      <td>2</td>\n      <td>0</td>\n      <td>2</td>\n      <td>162</td>\n      <td>NaN</td>\n      <td>NaN</td>\n      <td>NaN</td>\n    </tr>\n    <tr>\n      <th>3</th>\n      <td>3</td>\n      <td>0</td>\n      <td>3</td>\n      <td>120</td>\n      <td>NaN</td>\n      <td>NaN</td>\n      <td>NaN</td>\n    </tr>\n    <tr>\n      <th>4</th>\n      <td>4</td>\n      <td>0</td>\n      <td>4</td>\n      <td>138</td>\n      <td>NaN</td>\n      <td>NaN</td>\n      <td>NaN</td>\n    </tr>\n    <tr>\n      <th>...</th>\n      <td>...</td>\n      <td>...</td>\n      <td>...</td>\n      <td>...</td>\n      <td>...</td>\n      <td>...</td>\n      <td>...</td>\n    </tr>\n    <tr>\n      <th>214</th>\n      <td>1004</td>\n      <td>3</td>\n      <td>52</td>\n      <td>96</td>\n      <td>NaN</td>\n      <td>NaN</td>\n      <td>NaN</td>\n    </tr>\n    <tr>\n      <th>215</th>\n      <td>1056</td>\n      <td>3</td>\n      <td>53</td>\n      <td>106</td>\n      <td>NaN</td>\n      <td>NaN</td>\n      <td>NaN</td>\n    </tr>\n    <tr>\n      <th>216</th>\n      <td>1756</td>\n      <td>4</td>\n      <td>0</td>\n      <td>119</td>\n      <td>NaN</td>\n      <td>NaN</td>\n      <td>NaN</td>\n    </tr>\n    <tr>\n      <th>217</th>\n      <td>9805</td>\n      <td>4</td>\n      <td>1</td>\n      <td>55</td>\n      <td>NaN</td>\n      <td>NaN</td>\n      <td>NaN</td>\n    </tr>\n    <tr>\n      <th>218</th>\n      <td>16553</td>\n      <td>4</td>\n      <td>2</td>\n      <td>108</td>\n      <td>NaN</td>\n      <td>NaN</td>\n      <td>NaN</td>\n    </tr>\n  </tbody>\n</table>\n<p>219 rows × 7 columns</p>\n</div>"
     },
     "metadata": {},
     "execution_count": 36
    }
   ],
   "source": [
    "D2D_group['N_member'] = D2D_member.groupby(['group']).size().values\n",
    "D2D_group"
   ]
  },
  {
   "cell_type": "code",
   "execution_count": 37,
   "metadata": {},
   "outputs": [],
   "source": [
    "for i, header in enumerate(D2D_group['Header']):\n",
    "    D2D_group.at[i, 'N_member'] = len(D2D_member)"
   ]
  },
  {
   "cell_type": "code",
   "execution_count": 38,
   "metadata": {},
   "outputs": [],
   "source": [
    "BS_schedule = pd.DataFrame(\n",
    "    columns=['class', 'TDCR'],\n",
    ")\n",
    "\n",
    "# assign class of every frame\n",
    "BS_schedule['class'] = [f % N_class for f in range(simRAO)]\n",
    "\n",
    "# initialize TDCR\n",
    "BS_schedule['TDCR'] = np.zeros(simRAO, dtype=int)"
   ]
  },
  {
   "cell_type": "code",
   "execution_count": 39,
   "metadata": {},
   "outputs": [
    {
     "output_type": "execute_result",
     "data": {
      "text/plain": "      class  TDCR\n0         0     0\n1         1     0\n2         2     0\n3         3     0\n4         4     0\n...     ...   ...\n1995      0     0\n1996      1     0\n1997      2     0\n1998      3     0\n1999      4     0\n\n[2000 rows x 2 columns]",
      "text/html": "<div>\n<style scoped>\n    .dataframe tbody tr th:only-of-type {\n        vertical-align: middle;\n    }\n\n    .dataframe tbody tr th {\n        vertical-align: top;\n    }\n\n    .dataframe thead th {\n        text-align: right;\n    }\n</style>\n<table border=\"1\" class=\"dataframe\">\n  <thead>\n    <tr style=\"text-align: right;\">\n      <th></th>\n      <th>class</th>\n      <th>TDCR</th>\n    </tr>\n  </thead>\n  <tbody>\n    <tr>\n      <th>0</th>\n      <td>0</td>\n      <td>0</td>\n    </tr>\n    <tr>\n      <th>1</th>\n      <td>1</td>\n      <td>0</td>\n    </tr>\n    <tr>\n      <th>2</th>\n      <td>2</td>\n      <td>0</td>\n    </tr>\n    <tr>\n      <th>3</th>\n      <td>3</td>\n      <td>0</td>\n    </tr>\n    <tr>\n      <th>4</th>\n      <td>4</td>\n      <td>0</td>\n    </tr>\n    <tr>\n      <th>...</th>\n      <td>...</td>\n      <td>...</td>\n    </tr>\n    <tr>\n      <th>1995</th>\n      <td>0</td>\n      <td>0</td>\n    </tr>\n    <tr>\n      <th>1996</th>\n      <td>1</td>\n      <td>0</td>\n    </tr>\n    <tr>\n      <th>1997</th>\n      <td>2</td>\n      <td>0</td>\n    </tr>\n    <tr>\n      <th>1998</th>\n      <td>3</td>\n      <td>0</td>\n    </tr>\n    <tr>\n      <th>1999</th>\n      <td>4</td>\n      <td>0</td>\n    </tr>\n  </tbody>\n</table>\n<p>2000 rows × 2 columns</p>\n</div>"
     },
     "metadata": {},
     "execution_count": 39
    }
   ],
   "source": [
    "BS_schedule"
   ]
  },
  {
   "cell_type": "code",
   "execution_count": 40,
   "metadata": {},
   "outputs": [
    {
     "output_type": "execute_result",
     "data": {
      "text/plain": "    class  TDCR\n0       0     0\n1       1     0\n2       2     0\n3       3     0\n4       4     0\n5       0     0\n6       1     0\n7       2     0\n8       3     0\n9       4     0\n10      0     0\n11      1     0\n12      2     0\n13      3     0\n14      4     0\n15      0     0",
      "text/html": "<div>\n<style scoped>\n    .dataframe tbody tr th:only-of-type {\n        vertical-align: middle;\n    }\n\n    .dataframe tbody tr th {\n        vertical-align: top;\n    }\n\n    .dataframe thead th {\n        text-align: right;\n    }\n</style>\n<table border=\"1\" class=\"dataframe\">\n  <thead>\n    <tr style=\"text-align: right;\">\n      <th></th>\n      <th>class</th>\n      <th>TDCR</th>\n    </tr>\n  </thead>\n  <tbody>\n    <tr>\n      <th>0</th>\n      <td>0</td>\n      <td>0</td>\n    </tr>\n    <tr>\n      <th>1</th>\n      <td>1</td>\n      <td>0</td>\n    </tr>\n    <tr>\n      <th>2</th>\n      <td>2</td>\n      <td>0</td>\n    </tr>\n    <tr>\n      <th>3</th>\n      <td>3</td>\n      <td>0</td>\n    </tr>\n    <tr>\n      <th>4</th>\n      <td>4</td>\n      <td>0</td>\n    </tr>\n    <tr>\n      <th>5</th>\n      <td>0</td>\n      <td>0</td>\n    </tr>\n    <tr>\n      <th>6</th>\n      <td>1</td>\n      <td>0</td>\n    </tr>\n    <tr>\n      <th>7</th>\n      <td>2</td>\n      <td>0</td>\n    </tr>\n    <tr>\n      <th>8</th>\n      <td>3</td>\n      <td>0</td>\n    </tr>\n    <tr>\n      <th>9</th>\n      <td>4</td>\n      <td>0</td>\n    </tr>\n    <tr>\n      <th>10</th>\n      <td>0</td>\n      <td>0</td>\n    </tr>\n    <tr>\n      <th>11</th>\n      <td>1</td>\n      <td>0</td>\n    </tr>\n    <tr>\n      <th>12</th>\n      <td>2</td>\n      <td>0</td>\n    </tr>\n    <tr>\n      <th>13</th>\n      <td>3</td>\n      <td>0</td>\n    </tr>\n    <tr>\n      <th>14</th>\n      <td>4</td>\n      <td>0</td>\n    </tr>\n    <tr>\n      <th>15</th>\n      <td>0</td>\n      <td>0</td>\n    </tr>\n  </tbody>\n</table>\n</div>"
     },
     "metadata": {},
     "execution_count": 40
    }
   ],
   "source": [
    "schedule = BS_schedule.loc[np.arange(0,16)]\n",
    "schedule"
   ]
  },
  {
   "cell_type": "code",
   "execution_count": 41,
   "metadata": {},
   "outputs": [
    {
     "output_type": "execute_result",
     "data": {
      "text/plain": "    class  TDCR\n1       1     0\n6       1     0\n11      1     0",
      "text/html": "<div>\n<style scoped>\n    .dataframe tbody tr th:only-of-type {\n        vertical-align: middle;\n    }\n\n    .dataframe tbody tr th {\n        vertical-align: top;\n    }\n\n    .dataframe thead th {\n        text-align: right;\n    }\n</style>\n<table border=\"1\" class=\"dataframe\">\n  <thead>\n    <tr style=\"text-align: right;\">\n      <th></th>\n      <th>class</th>\n      <th>TDCR</th>\n    </tr>\n  </thead>\n  <tbody>\n    <tr>\n      <th>1</th>\n      <td>1</td>\n      <td>0</td>\n    </tr>\n    <tr>\n      <th>6</th>\n      <td>1</td>\n      <td>0</td>\n    </tr>\n    <tr>\n      <th>11</th>\n      <td>1</td>\n      <td>0</td>\n    </tr>\n  </tbody>\n</table>\n</div>"
     },
     "metadata": {},
     "execution_count": 41
    }
   ],
   "source": [
    "s = schedule.loc[(schedule['class'] == 1)]\n",
    "s"
   ]
  },
  {
   "cell_type": "code",
   "execution_count": 42,
   "metadata": {},
   "outputs": [
    {
     "output_type": "execute_result",
     "data": {
      "text/plain": "    class  TDCR\n1       1     1\n6       1     0\n11      1     0",
      "text/html": "<div>\n<style scoped>\n    .dataframe tbody tr th:only-of-type {\n        vertical-align: middle;\n    }\n\n    .dataframe tbody tr th {\n        vertical-align: top;\n    }\n\n    .dataframe thead th {\n        text-align: right;\n    }\n</style>\n<table border=\"1\" class=\"dataframe\">\n  <thead>\n    <tr style=\"text-align: right;\">\n      <th></th>\n      <th>class</th>\n      <th>TDCR</th>\n    </tr>\n  </thead>\n  <tbody>\n    <tr>\n      <th>1</th>\n      <td>1</td>\n      <td>1</td>\n    </tr>\n    <tr>\n      <th>6</th>\n      <td>1</td>\n      <td>0</td>\n    </tr>\n    <tr>\n      <th>11</th>\n      <td>1</td>\n      <td>0</td>\n    </tr>\n  </tbody>\n</table>\n</div>"
     },
     "metadata": {},
     "execution_count": 42
    }
   ],
   "source": [
    "s.iat[0, 1] = 1\n",
    "s"
   ]
  },
  {
   "cell_type": "code",
   "execution_count": 43,
   "metadata": {},
   "outputs": [
    {
     "output_type": "execute_result",
     "data": {
      "text/plain": "1"
     },
     "metadata": {},
     "execution_count": 43
    }
   ],
   "source": [
    "s.index[0]"
   ]
  },
  {
   "cell_type": "code",
   "execution_count": 44,
   "metadata": {},
   "outputs": [
    {
     "output_type": "execute_result",
     "data": {
      "text/plain": "      class  TDCR\n0         0     0\n1         1  1235\n2         2     0\n3         3     0\n4         4     0\n...     ...   ...\n1995      0     0\n1996      1     0\n1997      2     0\n1998      3     0\n1999      4     0\n\n[2000 rows x 2 columns]",
      "text/html": "<div>\n<style scoped>\n    .dataframe tbody tr th:only-of-type {\n        vertical-align: middle;\n    }\n\n    .dataframe tbody tr th {\n        vertical-align: top;\n    }\n\n    .dataframe thead th {\n        text-align: right;\n    }\n</style>\n<table border=\"1\" class=\"dataframe\">\n  <thead>\n    <tr style=\"text-align: right;\">\n      <th></th>\n      <th>class</th>\n      <th>TDCR</th>\n    </tr>\n  </thead>\n  <tbody>\n    <tr>\n      <th>0</th>\n      <td>0</td>\n      <td>0</td>\n    </tr>\n    <tr>\n      <th>1</th>\n      <td>1</td>\n      <td>1235</td>\n    </tr>\n    <tr>\n      <th>2</th>\n      <td>2</td>\n      <td>0</td>\n    </tr>\n    <tr>\n      <th>3</th>\n      <td>3</td>\n      <td>0</td>\n    </tr>\n    <tr>\n      <th>4</th>\n      <td>4</td>\n      <td>0</td>\n    </tr>\n    <tr>\n      <th>...</th>\n      <td>...</td>\n      <td>...</td>\n    </tr>\n    <tr>\n      <th>1995</th>\n      <td>0</td>\n      <td>0</td>\n    </tr>\n    <tr>\n      <th>1996</th>\n      <td>1</td>\n      <td>0</td>\n    </tr>\n    <tr>\n      <th>1997</th>\n      <td>2</td>\n      <td>0</td>\n    </tr>\n    <tr>\n      <th>1998</th>\n      <td>3</td>\n      <td>0</td>\n    </tr>\n    <tr>\n      <th>1999</th>\n      <td>4</td>\n      <td>0</td>\n    </tr>\n  </tbody>\n</table>\n<p>2000 rows × 2 columns</p>\n</div>"
     },
     "metadata": {},
     "execution_count": 44
    }
   ],
   "source": [
    "BS_schedule.at[s.index[0], 'TDCR'] = 1235\n",
    "BS_schedule"
   ]
  },
  {
   "cell_type": "code",
   "execution_count": 48,
   "metadata": {},
   "outputs": [],
   "source": [
    "devices = RA_data.loc[(RA_data['RA_init'] == 125) & (RA_data['RA_transmit'] <= 10)]\n",
    "devices['RA_transmit'] += 1"
   ]
  },
  {
   "cell_type": "code",
   "execution_count": 49,
   "metadata": {},
   "outputs": [
    {
     "output_type": "execute_result",
     "data": {
      "text/plain": "           RA_init  RA_first  RA_success  RA_transmit\ndevice_id                                            \n139            125       125          -1            1\n2183           125       125          -1            1\n3230           125       125          -1            1\n4765           125       125          -1            1\n15464          125       125          -1            1\n16923          125       125          -1            1\n18483          125       125          -1            1\n21849          125       125          -1            1\n21861          125       125          -1            1\n25284          125       125          -1            1\n25653          125       125          -1            1\n26595          125       125          -1            1\n26966          125       125          -1            1\n27433          125       125          -1            1\n27876          125       125          -1            1",
      "text/html": "<div>\n<style scoped>\n    .dataframe tbody tr th:only-of-type {\n        vertical-align: middle;\n    }\n\n    .dataframe tbody tr th {\n        vertical-align: top;\n    }\n\n    .dataframe thead th {\n        text-align: right;\n    }\n</style>\n<table border=\"1\" class=\"dataframe\">\n  <thead>\n    <tr style=\"text-align: right;\">\n      <th></th>\n      <th>RA_init</th>\n      <th>RA_first</th>\n      <th>RA_success</th>\n      <th>RA_transmit</th>\n    </tr>\n    <tr>\n      <th>device_id</th>\n      <th></th>\n      <th></th>\n      <th></th>\n      <th></th>\n    </tr>\n  </thead>\n  <tbody>\n    <tr>\n      <th>139</th>\n      <td>125</td>\n      <td>125</td>\n      <td>-1</td>\n      <td>1</td>\n    </tr>\n    <tr>\n      <th>2183</th>\n      <td>125</td>\n      <td>125</td>\n      <td>-1</td>\n      <td>1</td>\n    </tr>\n    <tr>\n      <th>3230</th>\n      <td>125</td>\n      <td>125</td>\n      <td>-1</td>\n      <td>1</td>\n    </tr>\n    <tr>\n      <th>4765</th>\n      <td>125</td>\n      <td>125</td>\n      <td>-1</td>\n      <td>1</td>\n    </tr>\n    <tr>\n      <th>15464</th>\n      <td>125</td>\n      <td>125</td>\n      <td>-1</td>\n      <td>1</td>\n    </tr>\n    <tr>\n      <th>16923</th>\n      <td>125</td>\n      <td>125</td>\n      <td>-1</td>\n      <td>1</td>\n    </tr>\n    <tr>\n      <th>18483</th>\n      <td>125</td>\n      <td>125</td>\n      <td>-1</td>\n      <td>1</td>\n    </tr>\n    <tr>\n      <th>21849</th>\n      <td>125</td>\n      <td>125</td>\n      <td>-1</td>\n      <td>1</td>\n    </tr>\n    <tr>\n      <th>21861</th>\n      <td>125</td>\n      <td>125</td>\n      <td>-1</td>\n      <td>1</td>\n    </tr>\n    <tr>\n      <th>25284</th>\n      <td>125</td>\n      <td>125</td>\n      <td>-1</td>\n      <td>1</td>\n    </tr>\n    <tr>\n      <th>25653</th>\n      <td>125</td>\n      <td>125</td>\n      <td>-1</td>\n      <td>1</td>\n    </tr>\n    <tr>\n      <th>26595</th>\n      <td>125</td>\n      <td>125</td>\n      <td>-1</td>\n      <td>1</td>\n    </tr>\n    <tr>\n      <th>26966</th>\n      <td>125</td>\n      <td>125</td>\n      <td>-1</td>\n      <td>1</td>\n    </tr>\n    <tr>\n      <th>27433</th>\n      <td>125</td>\n      <td>125</td>\n      <td>-1</td>\n      <td>1</td>\n    </tr>\n    <tr>\n      <th>27876</th>\n      <td>125</td>\n      <td>125</td>\n      <td>-1</td>\n      <td>1</td>\n    </tr>\n  </tbody>\n</table>\n</div>"
     },
     "metadata": {},
     "execution_count": 49
    }
   ],
   "source": [
    "devices"
   ]
  },
  {
   "cell_type": "code",
   "execution_count": 53,
   "metadata": {},
   "outputs": [
    {
     "output_type": "execute_result",
     "data": {
      "text/plain": "RA_init        125\nRA_first       125\nRA_success      -1\nRA_transmit      0\nName: 139, dtype: int64"
     },
     "metadata": {},
     "execution_count": 53
    }
   ],
   "source": [
    "RA_data.iloc[139]"
   ]
  },
  {
   "cell_type": "code",
   "execution_count": 55,
   "metadata": {},
   "outputs": [],
   "source": [
    "D2D_member['response'] = np.full(nMTCD, -1)"
   ]
  },
  {
   "cell_type": "code",
   "execution_count": 56,
   "metadata": {},
   "outputs": [
    {
     "output_type": "execute_result",
     "data": {
      "text/plain": "           group  Member arrange  request  delay  transmit  response\ndevice_id                                                           \n0              0   False     NaN    False      0         0        -1\n1              1   False     NaN    False      0         0        -1\n2              2   False     NaN    False      0         0        -1\n3              3   False     NaN    False      0         0        -1\n4              4   False     NaN    False      0         0        -1\n...          ...     ...     ...      ...    ...       ...       ...\n29995        112    True       8    False      0         0        -1\n29996       1305    True       6    False      0         0        -1\n29997        138    True       8    False      0         0        -1\n29998        227    True       3    False      0         0        -1\n29999          2    True       8    False      0         0        -1\n\n[30000 rows x 7 columns]",
      "text/html": "<div>\n<style scoped>\n    .dataframe tbody tr th:only-of-type {\n        vertical-align: middle;\n    }\n\n    .dataframe tbody tr th {\n        vertical-align: top;\n    }\n\n    .dataframe thead th {\n        text-align: right;\n    }\n</style>\n<table border=\"1\" class=\"dataframe\">\n  <thead>\n    <tr style=\"text-align: right;\">\n      <th></th>\n      <th>group</th>\n      <th>Member</th>\n      <th>arrange</th>\n      <th>request</th>\n      <th>delay</th>\n      <th>transmit</th>\n      <th>response</th>\n    </tr>\n    <tr>\n      <th>device_id</th>\n      <th></th>\n      <th></th>\n      <th></th>\n      <th></th>\n      <th></th>\n      <th></th>\n      <th></th>\n    </tr>\n  </thead>\n  <tbody>\n    <tr>\n      <th>0</th>\n      <td>0</td>\n      <td>False</td>\n      <td>NaN</td>\n      <td>False</td>\n      <td>0</td>\n      <td>0</td>\n      <td>-1</td>\n    </tr>\n    <tr>\n      <th>1</th>\n      <td>1</td>\n      <td>False</td>\n      <td>NaN</td>\n      <td>False</td>\n      <td>0</td>\n      <td>0</td>\n      <td>-1</td>\n    </tr>\n    <tr>\n      <th>2</th>\n      <td>2</td>\n      <td>False</td>\n      <td>NaN</td>\n      <td>False</td>\n      <td>0</td>\n      <td>0</td>\n      <td>-1</td>\n    </tr>\n    <tr>\n      <th>3</th>\n      <td>3</td>\n      <td>False</td>\n      <td>NaN</td>\n      <td>False</td>\n      <td>0</td>\n      <td>0</td>\n      <td>-1</td>\n    </tr>\n    <tr>\n      <th>4</th>\n      <td>4</td>\n      <td>False</td>\n      <td>NaN</td>\n      <td>False</td>\n      <td>0</td>\n      <td>0</td>\n      <td>-1</td>\n    </tr>\n    <tr>\n      <th>...</th>\n      <td>...</td>\n      <td>...</td>\n      <td>...</td>\n      <td>...</td>\n      <td>...</td>\n      <td>...</td>\n      <td>...</td>\n    </tr>\n    <tr>\n      <th>29995</th>\n      <td>112</td>\n      <td>True</td>\n      <td>8</td>\n      <td>False</td>\n      <td>0</td>\n      <td>0</td>\n      <td>-1</td>\n    </tr>\n    <tr>\n      <th>29996</th>\n      <td>1305</td>\n      <td>True</td>\n      <td>6</td>\n      <td>False</td>\n      <td>0</td>\n      <td>0</td>\n      <td>-1</td>\n    </tr>\n    <tr>\n      <th>29997</th>\n      <td>138</td>\n      <td>True</td>\n      <td>8</td>\n      <td>False</td>\n      <td>0</td>\n      <td>0</td>\n      <td>-1</td>\n    </tr>\n    <tr>\n      <th>29998</th>\n      <td>227</td>\n      <td>True</td>\n      <td>3</td>\n      <td>False</td>\n      <td>0</td>\n      <td>0</td>\n      <td>-1</td>\n    </tr>\n    <tr>\n      <th>29999</th>\n      <td>2</td>\n      <td>True</td>\n      <td>8</td>\n      <td>False</td>\n      <td>0</td>\n      <td>0</td>\n      <td>-1</td>\n    </tr>\n  </tbody>\n</table>\n<p>30000 rows × 7 columns</p>\n</div>"
     },
     "metadata": {},
     "execution_count": 56
    }
   ],
   "source": [
    "D2D_member"
   ]
  },
  {
   "cell_type": "code",
   "execution_count": 71,
   "metadata": {},
   "outputs": [
    {
     "output_type": "execute_result",
     "data": {
      "text/plain": "     Header class seq_class  N_member RA_request arrange     HL\n0         0     0         0     30000        NaN     NaN  False\n1         1     0         1     30000        NaN     NaN  False\n2         2     0         2     30000        NaN     NaN   True\n3         3     0         3     30000        NaN     NaN  False\n4         4     0         4     30000        NaN     NaN  False\n..      ...   ...       ...       ...        ...     ...    ...\n214    1004     3        52     30000        NaN     NaN  False\n215    1056     3        53     30000        NaN     NaN  False\n216    1756     4         0     30000        NaN     NaN   True\n217    9805     4         1     30000        NaN     NaN   True\n218   16553     4         2     30000        NaN     NaN   True\n\n[219 rows x 7 columns]",
      "text/html": "<div>\n<style scoped>\n    .dataframe tbody tr th:only-of-type {\n        vertical-align: middle;\n    }\n\n    .dataframe tbody tr th {\n        vertical-align: top;\n    }\n\n    .dataframe thead th {\n        text-align: right;\n    }\n</style>\n<table border=\"1\" class=\"dataframe\">\n  <thead>\n    <tr style=\"text-align: right;\">\n      <th></th>\n      <th>Header</th>\n      <th>class</th>\n      <th>seq_class</th>\n      <th>N_member</th>\n      <th>RA_request</th>\n      <th>arrange</th>\n      <th>HL</th>\n    </tr>\n  </thead>\n  <tbody>\n    <tr>\n      <th>0</th>\n      <td>0</td>\n      <td>0</td>\n      <td>0</td>\n      <td>30000</td>\n      <td>NaN</td>\n      <td>NaN</td>\n      <td>False</td>\n    </tr>\n    <tr>\n      <th>1</th>\n      <td>1</td>\n      <td>0</td>\n      <td>1</td>\n      <td>30000</td>\n      <td>NaN</td>\n      <td>NaN</td>\n      <td>False</td>\n    </tr>\n    <tr>\n      <th>2</th>\n      <td>2</td>\n      <td>0</td>\n      <td>2</td>\n      <td>30000</td>\n      <td>NaN</td>\n      <td>NaN</td>\n      <td>True</td>\n    </tr>\n    <tr>\n      <th>3</th>\n      <td>3</td>\n      <td>0</td>\n      <td>3</td>\n      <td>30000</td>\n      <td>NaN</td>\n      <td>NaN</td>\n      <td>False</td>\n    </tr>\n    <tr>\n      <th>4</th>\n      <td>4</td>\n      <td>0</td>\n      <td>4</td>\n      <td>30000</td>\n      <td>NaN</td>\n      <td>NaN</td>\n      <td>False</td>\n    </tr>\n    <tr>\n      <th>...</th>\n      <td>...</td>\n      <td>...</td>\n      <td>...</td>\n      <td>...</td>\n      <td>...</td>\n      <td>...</td>\n      <td>...</td>\n    </tr>\n    <tr>\n      <th>214</th>\n      <td>1004</td>\n      <td>3</td>\n      <td>52</td>\n      <td>30000</td>\n      <td>NaN</td>\n      <td>NaN</td>\n      <td>False</td>\n    </tr>\n    <tr>\n      <th>215</th>\n      <td>1056</td>\n      <td>3</td>\n      <td>53</td>\n      <td>30000</td>\n      <td>NaN</td>\n      <td>NaN</td>\n      <td>False</td>\n    </tr>\n    <tr>\n      <th>216</th>\n      <td>1756</td>\n      <td>4</td>\n      <td>0</td>\n      <td>30000</td>\n      <td>NaN</td>\n      <td>NaN</td>\n      <td>True</td>\n    </tr>\n    <tr>\n      <th>217</th>\n      <td>9805</td>\n      <td>4</td>\n      <td>1</td>\n      <td>30000</td>\n      <td>NaN</td>\n      <td>NaN</td>\n      <td>True</td>\n    </tr>\n    <tr>\n      <th>218</th>\n      <td>16553</td>\n      <td>4</td>\n      <td>2</td>\n      <td>30000</td>\n      <td>NaN</td>\n      <td>NaN</td>\n      <td>True</td>\n    </tr>\n  </tbody>\n</table>\n<p>219 rows × 7 columns</p>\n</div>"
     },
     "metadata": {},
     "execution_count": 71
    }
   ],
   "source": [
    "D2D_group['HL'] = np.random.choice(a=[False, True], size=len(D2D_group))\n",
    "D2D_group"
   ]
  },
  {
   "cell_type": "code",
   "execution_count": 92,
   "metadata": {},
   "outputs": [
    {
     "output_type": "stream",
     "name": "stdout",
     "text": "54 25\n"
    }
   ],
   "source": [
    "class_groups = D2D_group.loc[D2D_group['class'] == 3]\n",
    "HL_groups = class_groups.loc[class_groups['HL'] == False]\n",
    "print(len(class_groups), len(HL_groups))"
   ]
  },
  {
   "cell_type": "code",
   "execution_count": 95,
   "metadata": {},
   "outputs": [
    {
     "output_type": "execute_result",
     "data": {
      "text/plain": "     Header class seq_class  N_member RA_request arrange     HL\n162     295     3         0     30000        NaN     NaN  False\n163     312     3         1     30000        NaN     NaN  False\n164     313     3         2     30000        NaN     NaN   True\n165     317     3         3     30000        NaN     NaN   True\n166   14070     3         4     30000        NaN     NaN  False\n167     323     3         5     30000        NaN     NaN  False\n168     431     3         6     30000        NaN     NaN   True\n169     553     3         7     30000        NaN     NaN  False\n170     327     3         8     30000        NaN     NaN  False\n171     832     3         9     30000        NaN     NaN   True\n172    2455     3        10     30000        NaN     NaN  False\n173     383     3        11     30000        NaN     NaN   True\n174     349     3        12     30000        NaN     NaN   True\n175     600     3        13     30000        NaN     NaN   True\n176     353     3        14     30000        NaN     NaN   True\n177     356     3        15     30000        NaN     NaN  False\n178     996     3        16     30000        NaN     NaN  False\n179    4350     3        17     30000        NaN     NaN  False\n180     375     3        18     30000        NaN     NaN   True\n181     376     3        19     30000        NaN     NaN   True\n182     870     3        20     30000        NaN     NaN  False\n183     736     3        21     30000        NaN     NaN  False\n184     422     3        22     30000        NaN     NaN   True\n185    1602     3        23     30000        NaN     NaN  False\n186    1088     3        24     30000        NaN     NaN   True\n187    2476     3        25     30000        NaN     NaN  False\n188    5902     3        26     30000        NaN     NaN  False\n189     454     3        27     30000        NaN     NaN  False\n190    4819     3        28     30000        NaN     NaN   True\n191     462     3        29     30000        NaN     NaN   True\n192    5862     3        30     30000        NaN     NaN   True\n193     472     3        31     30000        NaN     NaN   True\n194    2863     3        32     30000        NaN     NaN   True\n195     487     3        33     30000        NaN     NaN   True\n196    2662     3        34     30000        NaN     NaN   True\n197    4585     3        35     30000        NaN     NaN   True\n198    1524     3        36     30000        NaN     NaN   True\n199   11624     3        37     30000        NaN     NaN  False\n200     540     3        38     30000        NaN     NaN   True\n201    4577     3        39     30000        NaN     NaN  False\n202    1476     3        40     30000        NaN     NaN   True\n203    7742     3        41     30000        NaN     NaN   True\n204    7811     3        42     30000        NaN     NaN   True\n205     579     3        43     30000        NaN     NaN  False\n206    1305     3        44     30000        NaN     NaN   True\n207    2798     3        45     30000        NaN     NaN   True\n208     637     3        46     30000        NaN     NaN  False\n209     741     3        47     30000        NaN     NaN   True\n210     783     3        48     30000        NaN     NaN  False\n211    8188     3        49     30000        NaN     NaN  False\n212   10106     3        50     30000        NaN     NaN  False\n213     963     3        51     30000        NaN     NaN   True\n214    1004     3        52     30000        NaN     NaN  False\n215    1056     3        53     30000        NaN     NaN  False",
      "text/html": "<div>\n<style scoped>\n    .dataframe tbody tr th:only-of-type {\n        vertical-align: middle;\n    }\n\n    .dataframe tbody tr th {\n        vertical-align: top;\n    }\n\n    .dataframe thead th {\n        text-align: right;\n    }\n</style>\n<table border=\"1\" class=\"dataframe\">\n  <thead>\n    <tr style=\"text-align: right;\">\n      <th></th>\n      <th>Header</th>\n      <th>class</th>\n      <th>seq_class</th>\n      <th>N_member</th>\n      <th>RA_request</th>\n      <th>arrange</th>\n      <th>HL</th>\n    </tr>\n  </thead>\n  <tbody>\n    <tr>\n      <th>162</th>\n      <td>295</td>\n      <td>3</td>\n      <td>0</td>\n      <td>30000</td>\n      <td>NaN</td>\n      <td>NaN</td>\n      <td>False</td>\n    </tr>\n    <tr>\n      <th>163</th>\n      <td>312</td>\n      <td>3</td>\n      <td>1</td>\n      <td>30000</td>\n      <td>NaN</td>\n      <td>NaN</td>\n      <td>False</td>\n    </tr>\n    <tr>\n      <th>164</th>\n      <td>313</td>\n      <td>3</td>\n      <td>2</td>\n      <td>30000</td>\n      <td>NaN</td>\n      <td>NaN</td>\n      <td>True</td>\n    </tr>\n    <tr>\n      <th>165</th>\n      <td>317</td>\n      <td>3</td>\n      <td>3</td>\n      <td>30000</td>\n      <td>NaN</td>\n      <td>NaN</td>\n      <td>True</td>\n    </tr>\n    <tr>\n      <th>166</th>\n      <td>14070</td>\n      <td>3</td>\n      <td>4</td>\n      <td>30000</td>\n      <td>NaN</td>\n      <td>NaN</td>\n      <td>False</td>\n    </tr>\n    <tr>\n      <th>167</th>\n      <td>323</td>\n      <td>3</td>\n      <td>5</td>\n      <td>30000</td>\n      <td>NaN</td>\n      <td>NaN</td>\n      <td>False</td>\n    </tr>\n    <tr>\n      <th>168</th>\n      <td>431</td>\n      <td>3</td>\n      <td>6</td>\n      <td>30000</td>\n      <td>NaN</td>\n      <td>NaN</td>\n      <td>True</td>\n    </tr>\n    <tr>\n      <th>169</th>\n      <td>553</td>\n      <td>3</td>\n      <td>7</td>\n      <td>30000</td>\n      <td>NaN</td>\n      <td>NaN</td>\n      <td>False</td>\n    </tr>\n    <tr>\n      <th>170</th>\n      <td>327</td>\n      <td>3</td>\n      <td>8</td>\n      <td>30000</td>\n      <td>NaN</td>\n      <td>NaN</td>\n      <td>False</td>\n    </tr>\n    <tr>\n      <th>171</th>\n      <td>832</td>\n      <td>3</td>\n      <td>9</td>\n      <td>30000</td>\n      <td>NaN</td>\n      <td>NaN</td>\n      <td>True</td>\n    </tr>\n    <tr>\n      <th>172</th>\n      <td>2455</td>\n      <td>3</td>\n      <td>10</td>\n      <td>30000</td>\n      <td>NaN</td>\n      <td>NaN</td>\n      <td>False</td>\n    </tr>\n    <tr>\n      <th>173</th>\n      <td>383</td>\n      <td>3</td>\n      <td>11</td>\n      <td>30000</td>\n      <td>NaN</td>\n      <td>NaN</td>\n      <td>True</td>\n    </tr>\n    <tr>\n      <th>174</th>\n      <td>349</td>\n      <td>3</td>\n      <td>12</td>\n      <td>30000</td>\n      <td>NaN</td>\n      <td>NaN</td>\n      <td>True</td>\n    </tr>\n    <tr>\n      <th>175</th>\n      <td>600</td>\n      <td>3</td>\n      <td>13</td>\n      <td>30000</td>\n      <td>NaN</td>\n      <td>NaN</td>\n      <td>True</td>\n    </tr>\n    <tr>\n      <th>176</th>\n      <td>353</td>\n      <td>3</td>\n      <td>14</td>\n      <td>30000</td>\n      <td>NaN</td>\n      <td>NaN</td>\n      <td>True</td>\n    </tr>\n    <tr>\n      <th>177</th>\n      <td>356</td>\n      <td>3</td>\n      <td>15</td>\n      <td>30000</td>\n      <td>NaN</td>\n      <td>NaN</td>\n      <td>False</td>\n    </tr>\n    <tr>\n      <th>178</th>\n      <td>996</td>\n      <td>3</td>\n      <td>16</td>\n      <td>30000</td>\n      <td>NaN</td>\n      <td>NaN</td>\n      <td>False</td>\n    </tr>\n    <tr>\n      <th>179</th>\n      <td>4350</td>\n      <td>3</td>\n      <td>17</td>\n      <td>30000</td>\n      <td>NaN</td>\n      <td>NaN</td>\n      <td>False</td>\n    </tr>\n    <tr>\n      <th>180</th>\n      <td>375</td>\n      <td>3</td>\n      <td>18</td>\n      <td>30000</td>\n      <td>NaN</td>\n      <td>NaN</td>\n      <td>True</td>\n    </tr>\n    <tr>\n      <th>181</th>\n      <td>376</td>\n      <td>3</td>\n      <td>19</td>\n      <td>30000</td>\n      <td>NaN</td>\n      <td>NaN</td>\n      <td>True</td>\n    </tr>\n    <tr>\n      <th>182</th>\n      <td>870</td>\n      <td>3</td>\n      <td>20</td>\n      <td>30000</td>\n      <td>NaN</td>\n      <td>NaN</td>\n      <td>False</td>\n    </tr>\n    <tr>\n      <th>183</th>\n      <td>736</td>\n      <td>3</td>\n      <td>21</td>\n      <td>30000</td>\n      <td>NaN</td>\n      <td>NaN</td>\n      <td>False</td>\n    </tr>\n    <tr>\n      <th>184</th>\n      <td>422</td>\n      <td>3</td>\n      <td>22</td>\n      <td>30000</td>\n      <td>NaN</td>\n      <td>NaN</td>\n      <td>True</td>\n    </tr>\n    <tr>\n      <th>185</th>\n      <td>1602</td>\n      <td>3</td>\n      <td>23</td>\n      <td>30000</td>\n      <td>NaN</td>\n      <td>NaN</td>\n      <td>False</td>\n    </tr>\n    <tr>\n      <th>186</th>\n      <td>1088</td>\n      <td>3</td>\n      <td>24</td>\n      <td>30000</td>\n      <td>NaN</td>\n      <td>NaN</td>\n      <td>True</td>\n    </tr>\n    <tr>\n      <th>187</th>\n      <td>2476</td>\n      <td>3</td>\n      <td>25</td>\n      <td>30000</td>\n      <td>NaN</td>\n      <td>NaN</td>\n      <td>False</td>\n    </tr>\n    <tr>\n      <th>188</th>\n      <td>5902</td>\n      <td>3</td>\n      <td>26</td>\n      <td>30000</td>\n      <td>NaN</td>\n      <td>NaN</td>\n      <td>False</td>\n    </tr>\n    <tr>\n      <th>189</th>\n      <td>454</td>\n      <td>3</td>\n      <td>27</td>\n      <td>30000</td>\n      <td>NaN</td>\n      <td>NaN</td>\n      <td>False</td>\n    </tr>\n    <tr>\n      <th>190</th>\n      <td>4819</td>\n      <td>3</td>\n      <td>28</td>\n      <td>30000</td>\n      <td>NaN</td>\n      <td>NaN</td>\n      <td>True</td>\n    </tr>\n    <tr>\n      <th>191</th>\n      <td>462</td>\n      <td>3</td>\n      <td>29</td>\n      <td>30000</td>\n      <td>NaN</td>\n      <td>NaN</td>\n      <td>True</td>\n    </tr>\n    <tr>\n      <th>192</th>\n      <td>5862</td>\n      <td>3</td>\n      <td>30</td>\n      <td>30000</td>\n      <td>NaN</td>\n      <td>NaN</td>\n      <td>True</td>\n    </tr>\n    <tr>\n      <th>193</th>\n      <td>472</td>\n      <td>3</td>\n      <td>31</td>\n      <td>30000</td>\n      <td>NaN</td>\n      <td>NaN</td>\n      <td>True</td>\n    </tr>\n    <tr>\n      <th>194</th>\n      <td>2863</td>\n      <td>3</td>\n      <td>32</td>\n      <td>30000</td>\n      <td>NaN</td>\n      <td>NaN</td>\n      <td>True</td>\n    </tr>\n    <tr>\n      <th>195</th>\n      <td>487</td>\n      <td>3</td>\n      <td>33</td>\n      <td>30000</td>\n      <td>NaN</td>\n      <td>NaN</td>\n      <td>True</td>\n    </tr>\n    <tr>\n      <th>196</th>\n      <td>2662</td>\n      <td>3</td>\n      <td>34</td>\n      <td>30000</td>\n      <td>NaN</td>\n      <td>NaN</td>\n      <td>True</td>\n    </tr>\n    <tr>\n      <th>197</th>\n      <td>4585</td>\n      <td>3</td>\n      <td>35</td>\n      <td>30000</td>\n      <td>NaN</td>\n      <td>NaN</td>\n      <td>True</td>\n    </tr>\n    <tr>\n      <th>198</th>\n      <td>1524</td>\n      <td>3</td>\n      <td>36</td>\n      <td>30000</td>\n      <td>NaN</td>\n      <td>NaN</td>\n      <td>True</td>\n    </tr>\n    <tr>\n      <th>199</th>\n      <td>11624</td>\n      <td>3</td>\n      <td>37</td>\n      <td>30000</td>\n      <td>NaN</td>\n      <td>NaN</td>\n      <td>False</td>\n    </tr>\n    <tr>\n      <th>200</th>\n      <td>540</td>\n      <td>3</td>\n      <td>38</td>\n      <td>30000</td>\n      <td>NaN</td>\n      <td>NaN</td>\n      <td>True</td>\n    </tr>\n    <tr>\n      <th>201</th>\n      <td>4577</td>\n      <td>3</td>\n      <td>39</td>\n      <td>30000</td>\n      <td>NaN</td>\n      <td>NaN</td>\n      <td>False</td>\n    </tr>\n    <tr>\n      <th>202</th>\n      <td>1476</td>\n      <td>3</td>\n      <td>40</td>\n      <td>30000</td>\n      <td>NaN</td>\n      <td>NaN</td>\n      <td>True</td>\n    </tr>\n    <tr>\n      <th>203</th>\n      <td>7742</td>\n      <td>3</td>\n      <td>41</td>\n      <td>30000</td>\n      <td>NaN</td>\n      <td>NaN</td>\n      <td>True</td>\n    </tr>\n    <tr>\n      <th>204</th>\n      <td>7811</td>\n      <td>3</td>\n      <td>42</td>\n      <td>30000</td>\n      <td>NaN</td>\n      <td>NaN</td>\n      <td>True</td>\n    </tr>\n    <tr>\n      <th>205</th>\n      <td>579</td>\n      <td>3</td>\n      <td>43</td>\n      <td>30000</td>\n      <td>NaN</td>\n      <td>NaN</td>\n      <td>False</td>\n    </tr>\n    <tr>\n      <th>206</th>\n      <td>1305</td>\n      <td>3</td>\n      <td>44</td>\n      <td>30000</td>\n      <td>NaN</td>\n      <td>NaN</td>\n      <td>True</td>\n    </tr>\n    <tr>\n      <th>207</th>\n      <td>2798</td>\n      <td>3</td>\n      <td>45</td>\n      <td>30000</td>\n      <td>NaN</td>\n      <td>NaN</td>\n      <td>True</td>\n    </tr>\n    <tr>\n      <th>208</th>\n      <td>637</td>\n      <td>3</td>\n      <td>46</td>\n      <td>30000</td>\n      <td>NaN</td>\n      <td>NaN</td>\n      <td>False</td>\n    </tr>\n    <tr>\n      <th>209</th>\n      <td>741</td>\n      <td>3</td>\n      <td>47</td>\n      <td>30000</td>\n      <td>NaN</td>\n      <td>NaN</td>\n      <td>True</td>\n    </tr>\n    <tr>\n      <th>210</th>\n      <td>783</td>\n      <td>3</td>\n      <td>48</td>\n      <td>30000</td>\n      <td>NaN</td>\n      <td>NaN</td>\n      <td>False</td>\n    </tr>\n    <tr>\n      <th>211</th>\n      <td>8188</td>\n      <td>3</td>\n      <td>49</td>\n      <td>30000</td>\n      <td>NaN</td>\n      <td>NaN</td>\n      <td>False</td>\n    </tr>\n    <tr>\n      <th>212</th>\n      <td>10106</td>\n      <td>3</td>\n      <td>50</td>\n      <td>30000</td>\n      <td>NaN</td>\n      <td>NaN</td>\n      <td>False</td>\n    </tr>\n    <tr>\n      <th>213</th>\n      <td>963</td>\n      <td>3</td>\n      <td>51</td>\n      <td>30000</td>\n      <td>NaN</td>\n      <td>NaN</td>\n      <td>True</td>\n    </tr>\n    <tr>\n      <th>214</th>\n      <td>1004</td>\n      <td>3</td>\n      <td>52</td>\n      <td>30000</td>\n      <td>NaN</td>\n      <td>NaN</td>\n      <td>False</td>\n    </tr>\n    <tr>\n      <th>215</th>\n      <td>1056</td>\n      <td>3</td>\n      <td>53</td>\n      <td>30000</td>\n      <td>NaN</td>\n      <td>NaN</td>\n      <td>False</td>\n    </tr>\n  </tbody>\n</table>\n</div>"
     },
     "metadata": {},
     "execution_count": 95
    }
   ],
   "source": [
    "class_groups"
   ]
  },
  {
   "cell_type": "code",
   "execution_count": 97,
   "metadata": {},
   "outputs": [
    {
     "output_type": "execute_result",
     "data": {
      "text/plain": "162      295\n163      312\n164      313\n165      317\n166    14070\n167      323\n168      431\n169      553\n170      327\n171      832\n172     2455\n173      383\n174      349\n175      600\n176      353\n177      356\n178      996\n179     4350\n180      375\n181      376\n182      870\n183      736\n184      422\n185     1602\n186     1088\n187     2476\n188     5902\n189      454\n190     4819\n191      462\n192     5862\n193      472\n194     2863\n195      487\n196     2662\n197     4585\n198     1524\n199    11624\n200      540\n201     4577\n202     1476\n203     7742\n204     7811\n205      579\n206     1305\n207     2798\n208      637\n209      741\n210      783\n211     8188\n212    10106\n213      963\n214     1004\n215     1056\nName: Header, dtype: int64"
     },
     "metadata": {},
     "execution_count": 97
    }
   ],
   "source": [
    "class_groups['Header']"
   ]
  },
  {
   "cell_type": "code",
   "execution_count": 99,
   "metadata": {},
   "outputs": [],
   "source": [
    "N_PRB_arrange = 20"
   ]
  },
  {
   "cell_type": "code",
   "execution_count": 109,
   "metadata": {},
   "outputs": [
    {
     "output_type": "execute_result",
     "data": {
      "text/plain": "           Header  Member arrange  request  response  success  transmit\ndevice_id                                                              \n13252        3260    True       2     True     False       -1         0\n17900        2455    True       3    False      True       -1         1\n29612         143    True       9     True      True       -1         1\n18450         162    True       4    False      True       -1         7\n14779         431    True       3     True      True       -1         9\n8584          162    True       2     True     False       -1         9\n13277          64    True       1    False      True       -1        10\n20715          46    True       5    False     False       -1         5\n25454         268    True       5    False      True       -1        17\n27826          24    True       7    False      True       -1         0",
      "text/html": "<div>\n<style scoped>\n    .dataframe tbody tr th:only-of-type {\n        vertical-align: middle;\n    }\n\n    .dataframe tbody tr th {\n        vertical-align: top;\n    }\n\n    .dataframe thead th {\n        text-align: right;\n    }\n</style>\n<table border=\"1\" class=\"dataframe\">\n  <thead>\n    <tr style=\"text-align: right;\">\n      <th></th>\n      <th>Header</th>\n      <th>Member</th>\n      <th>arrange</th>\n      <th>request</th>\n      <th>response</th>\n      <th>success</th>\n      <th>transmit</th>\n    </tr>\n    <tr>\n      <th>device_id</th>\n      <th></th>\n      <th></th>\n      <th></th>\n      <th></th>\n      <th></th>\n      <th></th>\n      <th></th>\n    </tr>\n  </thead>\n  <tbody>\n    <tr>\n      <th>13252</th>\n      <td>3260</td>\n      <td>True</td>\n      <td>2</td>\n      <td>True</td>\n      <td>False</td>\n      <td>-1</td>\n      <td>0</td>\n    </tr>\n    <tr>\n      <th>17900</th>\n      <td>2455</td>\n      <td>True</td>\n      <td>3</td>\n      <td>False</td>\n      <td>True</td>\n      <td>-1</td>\n      <td>1</td>\n    </tr>\n    <tr>\n      <th>29612</th>\n      <td>143</td>\n      <td>True</td>\n      <td>9</td>\n      <td>True</td>\n      <td>True</td>\n      <td>-1</td>\n      <td>1</td>\n    </tr>\n    <tr>\n      <th>18450</th>\n      <td>162</td>\n      <td>True</td>\n      <td>4</td>\n      <td>False</td>\n      <td>True</td>\n      <td>-1</td>\n      <td>7</td>\n    </tr>\n    <tr>\n      <th>14779</th>\n      <td>431</td>\n      <td>True</td>\n      <td>3</td>\n      <td>True</td>\n      <td>True</td>\n      <td>-1</td>\n      <td>9</td>\n    </tr>\n    <tr>\n      <th>8584</th>\n      <td>162</td>\n      <td>True</td>\n      <td>2</td>\n      <td>True</td>\n      <td>False</td>\n      <td>-1</td>\n      <td>9</td>\n    </tr>\n    <tr>\n      <th>13277</th>\n      <td>64</td>\n      <td>True</td>\n      <td>1</td>\n      <td>False</td>\n      <td>True</td>\n      <td>-1</td>\n      <td>10</td>\n    </tr>\n    <tr>\n      <th>20715</th>\n      <td>46</td>\n      <td>True</td>\n      <td>5</td>\n      <td>False</td>\n      <td>False</td>\n      <td>-1</td>\n      <td>5</td>\n    </tr>\n    <tr>\n      <th>25454</th>\n      <td>268</td>\n      <td>True</td>\n      <td>5</td>\n      <td>False</td>\n      <td>True</td>\n      <td>-1</td>\n      <td>17</td>\n    </tr>\n    <tr>\n      <th>27826</th>\n      <td>24</td>\n      <td>True</td>\n      <td>7</td>\n      <td>False</td>\n      <td>True</td>\n      <td>-1</td>\n      <td>0</td>\n    </tr>\n  </tbody>\n</table>\n</div>"
     },
     "metadata": {},
     "execution_count": 109
    }
   ],
   "source": [
    "# test dummy data\n",
    "D2D_member['request'] = np.random.choice(a=[False, True], size=len(D2D_member))\n",
    "D2D_member['response'] = np.random.choice(a=[False, True], size=len(D2D_member))\n",
    "D2D_member['transmit'] = np.random.uniform(low=0,high=20,size=nMTCD).astype(int)\n",
    "D2D_member.sample(10)"
   ]
  },
  {
   "cell_type": "code",
   "execution_count": 110,
   "metadata": {},
   "outputs": [
    {
     "output_type": "execute_result",
     "data": {
      "text/plain": "           Header  Member arrange  request  response  success  transmit\ndevice_id                                                              \n0               0   False     NaN    False      True       -1        11\n100             0    True       0     True      True       -1        10\n186             0    True       0     True      True       -1         0\n212             0    True       0     True      True       -1         9\n307             0    True       0    False      True       -1         3\n...           ...     ...     ...      ...       ...      ...       ...\n26797           0    True       6     True      True       -1         5\n27115           0    True       7    False      True       -1         1\n27863           0    True       7    False      True       -1         6\n28735           0    True       7     True      True       -1         5\n29185           0    True       7     True      True       -1         7\n\n[84 rows x 7 columns]",
      "text/html": "<div>\n<style scoped>\n    .dataframe tbody tr th:only-of-type {\n        vertical-align: middle;\n    }\n\n    .dataframe tbody tr th {\n        vertical-align: top;\n    }\n\n    .dataframe thead th {\n        text-align: right;\n    }\n</style>\n<table border=\"1\" class=\"dataframe\">\n  <thead>\n    <tr style=\"text-align: right;\">\n      <th></th>\n      <th>Header</th>\n      <th>Member</th>\n      <th>arrange</th>\n      <th>request</th>\n      <th>response</th>\n      <th>success</th>\n      <th>transmit</th>\n    </tr>\n    <tr>\n      <th>device_id</th>\n      <th></th>\n      <th></th>\n      <th></th>\n      <th></th>\n      <th></th>\n      <th></th>\n      <th></th>\n    </tr>\n  </thead>\n  <tbody>\n    <tr>\n      <th>0</th>\n      <td>0</td>\n      <td>False</td>\n      <td>NaN</td>\n      <td>False</td>\n      <td>True</td>\n      <td>-1</td>\n      <td>11</td>\n    </tr>\n    <tr>\n      <th>100</th>\n      <td>0</td>\n      <td>True</td>\n      <td>0</td>\n      <td>True</td>\n      <td>True</td>\n      <td>-1</td>\n      <td>10</td>\n    </tr>\n    <tr>\n      <th>186</th>\n      <td>0</td>\n      <td>True</td>\n      <td>0</td>\n      <td>True</td>\n      <td>True</td>\n      <td>-1</td>\n      <td>0</td>\n    </tr>\n    <tr>\n      <th>212</th>\n      <td>0</td>\n      <td>True</td>\n      <td>0</td>\n      <td>True</td>\n      <td>True</td>\n      <td>-1</td>\n      <td>9</td>\n    </tr>\n    <tr>\n      <th>307</th>\n      <td>0</td>\n      <td>True</td>\n      <td>0</td>\n      <td>False</td>\n      <td>True</td>\n      <td>-1</td>\n      <td>3</td>\n    </tr>\n    <tr>\n      <th>...</th>\n      <td>...</td>\n      <td>...</td>\n      <td>...</td>\n      <td>...</td>\n      <td>...</td>\n      <td>...</td>\n      <td>...</td>\n    </tr>\n    <tr>\n      <th>26797</th>\n      <td>0</td>\n      <td>True</td>\n      <td>6</td>\n      <td>True</td>\n      <td>True</td>\n      <td>-1</td>\n      <td>5</td>\n    </tr>\n    <tr>\n      <th>27115</th>\n      <td>0</td>\n      <td>True</td>\n      <td>7</td>\n      <td>False</td>\n      <td>True</td>\n      <td>-1</td>\n      <td>1</td>\n    </tr>\n    <tr>\n      <th>27863</th>\n      <td>0</td>\n      <td>True</td>\n      <td>7</td>\n      <td>False</td>\n      <td>True</td>\n      <td>-1</td>\n      <td>6</td>\n    </tr>\n    <tr>\n      <th>28735</th>\n      <td>0</td>\n      <td>True</td>\n      <td>7</td>\n      <td>True</td>\n      <td>True</td>\n      <td>-1</td>\n      <td>5</td>\n    </tr>\n    <tr>\n      <th>29185</th>\n      <td>0</td>\n      <td>True</td>\n      <td>7</td>\n      <td>True</td>\n      <td>True</td>\n      <td>-1</td>\n      <td>7</td>\n    </tr>\n  </tbody>\n</table>\n<p>84 rows × 7 columns</p>\n</div>"
     },
     "metadata": {},
     "execution_count": 110
    }
   ],
   "source": [
    "valid_group_members = D2D_member.loc[(D2D_member['Header'] == 0) & (D2D_member['response'])]\n",
    "valid_group_members"
   ]
  },
  {
   "cell_type": "code",
   "execution_count": 117,
   "metadata": {},
   "outputs": [
    {
     "output_type": "execute_result",
     "data": {
      "text/plain": "4109"
     },
     "metadata": {},
     "execution_count": 117
    }
   ],
   "source": []
  },
  {
   "cell_type": "code",
   "execution_count": 123,
   "metadata": {},
   "outputs": [],
   "source": [
    "device_id = valid_group_members['transmit'].idxmax()\n",
    "valid_group_members = valid_group_members.drop(device_id)"
   ]
  },
  {
   "cell_type": "code",
   "execution_count": 124,
   "metadata": {},
   "outputs": [
    {
     "output_type": "execute_result",
     "data": {
      "text/plain": "Header          0\nMember       True\narrange         1\nrequest     False\nresponse     True\nsuccess        -1\ntransmit       19\nName: 6419, dtype: object"
     },
     "metadata": {},
     "execution_count": 124
    }
   ],
   "source": [
    "device_id = valid_group_members['transmit'].idxmax()\n",
    "valid_group_members.loc[device_id]\n"
   ]
  },
  {
   "cell_type": "code",
   "execution_count": 130,
   "metadata": {},
   "outputs": [],
   "source": [
    "D2D_member.at[30001, 'transmit'] = 5"
   ]
  },
  {
   "cell_type": "code",
   "execution_count": 131,
   "metadata": {},
   "outputs": [
    {
     "output_type": "execute_result",
     "data": {
      "text/plain": "           Header Member arrange request response  success  transmit\ndevice_id                                                           \n0             0.0  False     NaN   False     True     -1.0      11.0\n1             1.0  False     NaN    True     True     -1.0      14.0\n2             2.0  False     NaN    True    False     -1.0      18.0\n3             3.0  False     NaN   False    False     -1.0      15.0\n4             4.0  False     NaN    True     True     -1.0      16.0\n...           ...    ...     ...     ...      ...      ...       ...\n29996      1305.0   True       6    True     True     -1.0       8.0\n29997       138.0   True       8   False    False     -1.0      15.0\n29998       227.0   True       3   False    False     -1.0       8.0\n29999         2.0   True       8    True    False     -1.0       5.0\n30001         NaN    NaN     NaN     NaN      NaN      NaN       5.0\n\n[30001 rows x 7 columns]",
      "text/html": "<div>\n<style scoped>\n    .dataframe tbody tr th:only-of-type {\n        vertical-align: middle;\n    }\n\n    .dataframe tbody tr th {\n        vertical-align: top;\n    }\n\n    .dataframe thead th {\n        text-align: right;\n    }\n</style>\n<table border=\"1\" class=\"dataframe\">\n  <thead>\n    <tr style=\"text-align: right;\">\n      <th></th>\n      <th>Header</th>\n      <th>Member</th>\n      <th>arrange</th>\n      <th>request</th>\n      <th>response</th>\n      <th>success</th>\n      <th>transmit</th>\n    </tr>\n    <tr>\n      <th>device_id</th>\n      <th></th>\n      <th></th>\n      <th></th>\n      <th></th>\n      <th></th>\n      <th></th>\n      <th></th>\n    </tr>\n  </thead>\n  <tbody>\n    <tr>\n      <th>0</th>\n      <td>0.0</td>\n      <td>False</td>\n      <td>NaN</td>\n      <td>False</td>\n      <td>True</td>\n      <td>-1.0</td>\n      <td>11.0</td>\n    </tr>\n    <tr>\n      <th>1</th>\n      <td>1.0</td>\n      <td>False</td>\n      <td>NaN</td>\n      <td>True</td>\n      <td>True</td>\n      <td>-1.0</td>\n      <td>14.0</td>\n    </tr>\n    <tr>\n      <th>2</th>\n      <td>2.0</td>\n      <td>False</td>\n      <td>NaN</td>\n      <td>True</td>\n      <td>False</td>\n      <td>-1.0</td>\n      <td>18.0</td>\n    </tr>\n    <tr>\n      <th>3</th>\n      <td>3.0</td>\n      <td>False</td>\n      <td>NaN</td>\n      <td>False</td>\n      <td>False</td>\n      <td>-1.0</td>\n      <td>15.0</td>\n    </tr>\n    <tr>\n      <th>4</th>\n      <td>4.0</td>\n      <td>False</td>\n      <td>NaN</td>\n      <td>True</td>\n      <td>True</td>\n      <td>-1.0</td>\n      <td>16.0</td>\n    </tr>\n    <tr>\n      <th>...</th>\n      <td>...</td>\n      <td>...</td>\n      <td>...</td>\n      <td>...</td>\n      <td>...</td>\n      <td>...</td>\n      <td>...</td>\n    </tr>\n    <tr>\n      <th>29996</th>\n      <td>1305.0</td>\n      <td>True</td>\n      <td>6</td>\n      <td>True</td>\n      <td>True</td>\n      <td>-1.0</td>\n      <td>8.0</td>\n    </tr>\n    <tr>\n      <th>29997</th>\n      <td>138.0</td>\n      <td>True</td>\n      <td>8</td>\n      <td>False</td>\n      <td>False</td>\n      <td>-1.0</td>\n      <td>15.0</td>\n    </tr>\n    <tr>\n      <th>29998</th>\n      <td>227.0</td>\n      <td>True</td>\n      <td>3</td>\n      <td>False</td>\n      <td>False</td>\n      <td>-1.0</td>\n      <td>8.0</td>\n    </tr>\n    <tr>\n      <th>29999</th>\n      <td>2.0</td>\n      <td>True</td>\n      <td>8</td>\n      <td>True</td>\n      <td>False</td>\n      <td>-1.0</td>\n      <td>5.0</td>\n    </tr>\n    <tr>\n      <th>30001</th>\n      <td>NaN</td>\n      <td>NaN</td>\n      <td>NaN</td>\n      <td>NaN</td>\n      <td>NaN</td>\n      <td>NaN</td>\n      <td>5.0</td>\n    </tr>\n  </tbody>\n</table>\n<p>30001 rows × 7 columns</p>\n</div>"
     },
     "metadata": {},
     "execution_count": 131
    }
   ],
   "source": [
    "D2D_member"
   ]
  },
  {
   "cell_type": "code",
   "execution_count": 133,
   "metadata": {},
   "outputs": [
    {
     "output_type": "execute_result",
     "data": {
      "text/plain": "True"
     },
     "metadata": {},
     "execution_count": 133
    }
   ],
   "source": [
    "2 in [0,1,1,2,1]"
   ]
  },
  {
   "cell_type": "code",
   "execution_count": 140,
   "metadata": {},
   "outputs": [],
   "source": [
    "N_class = 5\n",
    "simRAO = 2000\n",
    "schedule = [frame % N_class for frame in range(simRAO)]"
   ]
  },
  {
   "cell_type": "code",
   "execution_count": 2,
   "metadata": {},
   "outputs": [],
   "source": [
    "from itertools import cycle\n",
    "import numpy as np"
   ]
  },
  {
   "cell_type": "code",
   "execution_count": 19,
   "metadata": {},
   "outputs": [],
   "source": [
    "BS_schedule = pd.DataFrame(\n",
    "    columns=['class', 'TDCR'],\n",
    ")\n",
    "SIB2_period = 16\n",
    "N_Class = 5\n",
    "Class_Status = ['N'] * N_Class\n",
    "N_Normal_frame_total = 0\n"
   ]
  },
  {
   "cell_type": "code",
   "execution_count": 28,
   "metadata": {},
   "outputs": [],
   "source": [
    "Class_Status = ['H', 'H', 'M', 'N', 'N']"
   ]
  },
  {
   "cell_type": "code",
   "execution_count": 29,
   "metadata": {},
   "outputs": [],
   "source": [
    "N_Normal_frame = SIB2_period\n",
    "M_Class = []  # indicates the Access Class that can initiate in M TDCR frame\n",
    "H_Class = []  # indicates the Access Class that can initiate in H TDCR frame\n",
    "for i in range(N_class):  # check status of each Classes\n",
    "    if Class_Status[i] == 'H':\n",
    "        H_Class.append(i)\n",
    "    elif Class_Status[i] == 'M':\n",
    "        M_Class.append(i)\n",
    "if H_Class:\n",
    "    for i in range(2):\n",
    "        BS_schedule = BS_schedule.append({'class': H_Class, 'TDCR': 'H'}, ignore_index=True)\n",
    "    N_Normal_frame -= 2\n",
    "\n",
    "if M_Class:\n",
    "    BS_schedule = BS_schedule.append({'class': M_Class, 'TDCR': 'M'}, ignore_index=True)\n",
    "    N_Normal_frame -= 1\n",
    "\n",
    "for i in range(N_Normal_frame):\n",
    "    BS_schedule = BS_schedule.append({'class': [N_Normal_frame_total % N_Class], 'TDCR': 'N'}, ignore_index=True)\n",
    "    N_Normal_frame_total += 1"
   ]
  },
  {
   "cell_type": "code",
   "execution_count": 40,
   "metadata": {},
   "outputs": [
    {
     "output_type": "execute_result",
     "data": {
      "text/plain": "array([0, 1, 2, 3], dtype=object)"
     },
     "metadata": {},
     "execution_count": 40
    }
   ],
   "source": [
    "D2D_group['class'].unique()"
   ]
  },
  {
   "cell_type": "code",
   "execution_count": 41,
   "metadata": {},
   "outputs": [],
   "source": [
    "class_list = [1, 2]"
   ]
  },
  {
   "cell_type": "code",
   "execution_count": 42,
   "metadata": {},
   "outputs": [],
   "source": [
    "groups_in_class = pd.DataFrame()\n",
    "for class_ in class_list:\n",
    "    groups_in_class = groups_in_class.append(D2D_group.loc[D2D_group['class'] == class_])"
   ]
  },
  {
   "cell_type": "code",
   "execution_count": 52,
   "metadata": {},
   "outputs": [
    {
     "output_type": "execute_result",
     "data": {
      "text/plain": "     Header class  N_member  arr_seq  N_RA     HL\n54      307     1        54        0     0  False\n55       61     1        49        0     0  False\n56       62     1        25        0     0  False\n57       63     1        44        0     0  False\n58       64     1        51        0     0  False\n..      ...   ...       ...      ...   ...    ...\n157     272     2        50        0     0  False\n158     282     2        50        0     0  False\n159     283     2        47        0     0  False\n160     291     2        35        0     0  False\n161     363     2        33        0     0  False\n\n[108 rows x 6 columns]",
      "text/html": "<div>\n<style scoped>\n    .dataframe tbody tr th:only-of-type {\n        vertical-align: middle;\n    }\n\n    .dataframe tbody tr th {\n        vertical-align: top;\n    }\n\n    .dataframe thead th {\n        text-align: right;\n    }\n</style>\n<table border=\"1\" class=\"dataframe\">\n  <thead>\n    <tr style=\"text-align: right;\">\n      <th></th>\n      <th>Header</th>\n      <th>class</th>\n      <th>N_member</th>\n      <th>arr_seq</th>\n      <th>N_RA</th>\n      <th>HL</th>\n    </tr>\n  </thead>\n  <tbody>\n    <tr>\n      <th>54</th>\n      <td>307</td>\n      <td>1</td>\n      <td>54</td>\n      <td>0</td>\n      <td>0</td>\n      <td>False</td>\n    </tr>\n    <tr>\n      <th>55</th>\n      <td>61</td>\n      <td>1</td>\n      <td>49</td>\n      <td>0</td>\n      <td>0</td>\n      <td>False</td>\n    </tr>\n    <tr>\n      <th>56</th>\n      <td>62</td>\n      <td>1</td>\n      <td>25</td>\n      <td>0</td>\n      <td>0</td>\n      <td>False</td>\n    </tr>\n    <tr>\n      <th>57</th>\n      <td>63</td>\n      <td>1</td>\n      <td>44</td>\n      <td>0</td>\n      <td>0</td>\n      <td>False</td>\n    </tr>\n    <tr>\n      <th>58</th>\n      <td>64</td>\n      <td>1</td>\n      <td>51</td>\n      <td>0</td>\n      <td>0</td>\n      <td>False</td>\n    </tr>\n    <tr>\n      <th>...</th>\n      <td>...</td>\n      <td>...</td>\n      <td>...</td>\n      <td>...</td>\n      <td>...</td>\n      <td>...</td>\n    </tr>\n    <tr>\n      <th>157</th>\n      <td>272</td>\n      <td>2</td>\n      <td>50</td>\n      <td>0</td>\n      <td>0</td>\n      <td>False</td>\n    </tr>\n    <tr>\n      <th>158</th>\n      <td>282</td>\n      <td>2</td>\n      <td>50</td>\n      <td>0</td>\n      <td>0</td>\n      <td>False</td>\n    </tr>\n    <tr>\n      <th>159</th>\n      <td>283</td>\n      <td>2</td>\n      <td>47</td>\n      <td>0</td>\n      <td>0</td>\n      <td>False</td>\n    </tr>\n    <tr>\n      <th>160</th>\n      <td>291</td>\n      <td>2</td>\n      <td>35</td>\n      <td>0</td>\n      <td>0</td>\n      <td>False</td>\n    </tr>\n    <tr>\n      <th>161</th>\n      <td>363</td>\n      <td>2</td>\n      <td>33</td>\n      <td>0</td>\n      <td>0</td>\n      <td>False</td>\n    </tr>\n  </tbody>\n</table>\n<p>108 rows × 6 columns</p>\n</div>"
     },
     "metadata": {},
     "execution_count": 52
    }
   ],
   "source": [
    "groups_in_class"
   ]
  },
  {
   "cell_type": "code",
   "execution_count": 67,
   "metadata": {},
   "outputs": [],
   "source": [
    "import matplotlib.pyplot as plt\n",
    "TDCR_D2D_Result_1k = pd.read_csv('/home/kangyu/TDCR/TDCR_Simulation/result/TDCR_D2D_Result_1000.csv')\n",
    "TDCR_Device_Result_1k = pd.read_csv('/home/kangyu/TDCR/TDCR_Simulation/result/TDCR_Device_Result_1000.csv')\n",
    "TDCR_RA_Result_1k = pd.read_csv('/home/kangyu/TDCR/TDCR_Simulation/result/TDCR_RA_Result_1000.csv')"
   ]
  },
  {
   "cell_type": "code",
   "execution_count": 68,
   "metadata": {},
   "outputs": [
    {
     "output_type": "execute_result",
     "data": {
      "text/plain": "     frame  N_request  N_response  N_HL\n0        4          0           0     0\n1       12          0           0     0\n2       20          0           0     0\n3       28          1           0     0\n4       36          0           0     0\n..     ...        ...         ...   ...\n110    884          0           0     0\n111    892          0           0     0\n112    900          2           2     0\n113    908          0           0     0\n114    916          2           1     0\n\n[115 rows x 4 columns]",
      "text/html": "<div>\n<style scoped>\n    .dataframe tbody tr th:only-of-type {\n        vertical-align: middle;\n    }\n\n    .dataframe tbody tr th {\n        vertical-align: top;\n    }\n\n    .dataframe thead th {\n        text-align: right;\n    }\n</style>\n<table border=\"1\" class=\"dataframe\">\n  <thead>\n    <tr style=\"text-align: right;\">\n      <th></th>\n      <th>frame</th>\n      <th>N_request</th>\n      <th>N_response</th>\n      <th>N_HL</th>\n    </tr>\n  </thead>\n  <tbody>\n    <tr>\n      <th>0</th>\n      <td>4</td>\n      <td>0</td>\n      <td>0</td>\n      <td>0</td>\n    </tr>\n    <tr>\n      <th>1</th>\n      <td>12</td>\n      <td>0</td>\n      <td>0</td>\n      <td>0</td>\n    </tr>\n    <tr>\n      <th>2</th>\n      <td>20</td>\n      <td>0</td>\n      <td>0</td>\n      <td>0</td>\n    </tr>\n    <tr>\n      <th>3</th>\n      <td>28</td>\n      <td>1</td>\n      <td>0</td>\n      <td>0</td>\n    </tr>\n    <tr>\n      <th>4</th>\n      <td>36</td>\n      <td>0</td>\n      <td>0</td>\n      <td>0</td>\n    </tr>\n    <tr>\n      <th>...</th>\n      <td>...</td>\n      <td>...</td>\n      <td>...</td>\n      <td>...</td>\n    </tr>\n    <tr>\n      <th>110</th>\n      <td>884</td>\n      <td>0</td>\n      <td>0</td>\n      <td>0</td>\n    </tr>\n    <tr>\n      <th>111</th>\n      <td>892</td>\n      <td>0</td>\n      <td>0</td>\n      <td>0</td>\n    </tr>\n    <tr>\n      <th>112</th>\n      <td>900</td>\n      <td>2</td>\n      <td>2</td>\n      <td>0</td>\n    </tr>\n    <tr>\n      <th>113</th>\n      <td>908</td>\n      <td>0</td>\n      <td>0</td>\n      <td>0</td>\n    </tr>\n    <tr>\n      <th>114</th>\n      <td>916</td>\n      <td>2</td>\n      <td>1</td>\n      <td>0</td>\n    </tr>\n  </tbody>\n</table>\n<p>115 rows × 4 columns</p>\n</div>"
     },
     "metadata": {},
     "execution_count": 68
    }
   ],
   "source": [
    "TDCR_D2D_Result_1k"
   ]
  },
  {
   "cell_type": "code",
   "execution_count": 73,
   "metadata": {},
   "outputs": [
    {
     "output_type": "execute_result",
     "data": {
      "text/plain": "[<matplotlib.lines.Line2D at 0x7f69c4a6a8e0>]"
     },
     "metadata": {},
     "execution_count": 73
    },
    {
     "output_type": "display_data",
     "data": {
      "text/plain": "<Figure size 432x288 with 1 Axes>",
      "image/svg+xml": "<?xml version=\"1.0\" encoding=\"utf-8\" standalone=\"no\"?>\n<!DOCTYPE svg PUBLIC \"-//W3C//DTD SVG 1.1//EN\"\n  \"http://www.w3.org/Graphics/SVG/1.1/DTD/svg11.dtd\">\n<!-- Created with matplotlib (https://matplotlib.org/) -->\n<svg height=\"249.250008pt\" version=\"1.1\" viewBox=\"0 0 368.925 249.250008\" width=\"368.925pt\" xmlns=\"http://www.w3.org/2000/svg\" xmlns:xlink=\"http://www.w3.org/1999/xlink\">\n <defs>\n  <style type=\"text/css\">\n*{stroke-linecap:butt;stroke-linejoin:round;}\n  </style>\n </defs>\n <g id=\"figure_1\">\n  <g id=\"patch_1\">\n   <path d=\"M -0 249.250008 \nL 368.925 249.250008 \nL 368.925 0 \nL -0 0 \nz\n\" style=\"fill:none;\"/>\n  </g>\n  <g id=\"axes_1\">\n   <g id=\"patch_2\">\n    <path d=\"M 26.925 225.371883 \nL 361.725 225.371883 \nL 361.725 7.931883 \nL 26.925 7.931883 \nz\n\" style=\"fill:#ffffff;\"/>\n   </g>\n   <g id=\"matplotlib.axis_1\">\n    <g id=\"xtick_1\">\n     <g id=\"line2d_1\">\n      <defs>\n       <path d=\"M 0 0 \nL 0 3.5 \n\" id=\"m14104c373d\" style=\"stroke:#000000;stroke-width:0.8;\"/>\n      </defs>\n      <g>\n       <use style=\"stroke:#000000;stroke-width:0.8;\" x=\"40.808254\" xlink:href=\"#m14104c373d\" y=\"225.371883\"/>\n      </g>\n     </g>\n     <g id=\"text_1\">\n      <!-- 0 -->\n      <defs>\n       <path d=\"M 31.78125 66.40625 \nQ 24.171875 66.40625 20.328125 58.90625 \nQ 16.5 51.421875 16.5 36.375 \nQ 16.5 21.390625 20.328125 13.890625 \nQ 24.171875 6.390625 31.78125 6.390625 \nQ 39.453125 6.390625 43.28125 13.890625 \nQ 47.125 21.390625 47.125 36.375 \nQ 47.125 51.421875 43.28125 58.90625 \nQ 39.453125 66.40625 31.78125 66.40625 \nz\nM 31.78125 74.21875 \nQ 44.046875 74.21875 50.515625 64.515625 \nQ 56.984375 54.828125 56.984375 36.375 \nQ 56.984375 17.96875 50.515625 8.265625 \nQ 44.046875 -1.421875 31.78125 -1.421875 \nQ 19.53125 -1.421875 13.0625 8.265625 \nQ 6.59375 17.96875 6.59375 36.375 \nQ 6.59375 54.828125 13.0625 64.515625 \nQ 19.53125 74.21875 31.78125 74.21875 \nz\n\" id=\"DejaVuSans-48\"/>\n      </defs>\n      <g transform=\"translate(37.627004 239.970321)scale(0.1 -0.1)\">\n       <use xlink:href=\"#DejaVuSans-48\"/>\n      </g>\n     </g>\n    </g>\n    <g id=\"xtick_2\">\n     <g id=\"line2d_2\">\n      <g>\n       <use style=\"stroke:#000000;stroke-width:0.8;\" x=\"107.554665\" xlink:href=\"#m14104c373d\" y=\"225.371883\"/>\n      </g>\n     </g>\n     <g id=\"text_2\">\n      <!-- 200 -->\n      <defs>\n       <path d=\"M 19.1875 8.296875 \nL 53.609375 8.296875 \nL 53.609375 0 \nL 7.328125 0 \nL 7.328125 8.296875 \nQ 12.9375 14.109375 22.625 23.890625 \nQ 32.328125 33.6875 34.8125 36.53125 \nQ 39.546875 41.84375 41.421875 45.53125 \nQ 43.3125 49.21875 43.3125 52.78125 \nQ 43.3125 58.59375 39.234375 62.25 \nQ 35.15625 65.921875 28.609375 65.921875 \nQ 23.96875 65.921875 18.8125 64.3125 \nQ 13.671875 62.703125 7.8125 59.421875 \nL 7.8125 69.390625 \nQ 13.765625 71.78125 18.9375 73 \nQ 24.125 74.21875 28.421875 74.21875 \nQ 39.75 74.21875 46.484375 68.546875 \nQ 53.21875 62.890625 53.21875 53.421875 \nQ 53.21875 48.921875 51.53125 44.890625 \nQ 49.859375 40.875 45.40625 35.40625 \nQ 44.1875 33.984375 37.640625 27.21875 \nQ 31.109375 20.453125 19.1875 8.296875 \nz\n\" id=\"DejaVuSans-50\"/>\n      </defs>\n      <g transform=\"translate(98.010915 239.970321)scale(0.1 -0.1)\">\n       <use xlink:href=\"#DejaVuSans-50\"/>\n       <use x=\"63.623047\" xlink:href=\"#DejaVuSans-48\"/>\n       <use x=\"127.246094\" xlink:href=\"#DejaVuSans-48\"/>\n      </g>\n     </g>\n    </g>\n    <g id=\"xtick_3\">\n     <g id=\"line2d_3\">\n      <g>\n       <use style=\"stroke:#000000;stroke-width:0.8;\" x=\"174.301077\" xlink:href=\"#m14104c373d\" y=\"225.371883\"/>\n      </g>\n     </g>\n     <g id=\"text_3\">\n      <!-- 400 -->\n      <defs>\n       <path d=\"M 37.796875 64.3125 \nL 12.890625 25.390625 \nL 37.796875 25.390625 \nz\nM 35.203125 72.90625 \nL 47.609375 72.90625 \nL 47.609375 25.390625 \nL 58.015625 25.390625 \nL 58.015625 17.1875 \nL 47.609375 17.1875 \nL 47.609375 0 \nL 37.796875 0 \nL 37.796875 17.1875 \nL 4.890625 17.1875 \nL 4.890625 26.703125 \nz\n\" id=\"DejaVuSans-52\"/>\n      </defs>\n      <g transform=\"translate(164.757327 239.970321)scale(0.1 -0.1)\">\n       <use xlink:href=\"#DejaVuSans-52\"/>\n       <use x=\"63.623047\" xlink:href=\"#DejaVuSans-48\"/>\n       <use x=\"127.246094\" xlink:href=\"#DejaVuSans-48\"/>\n      </g>\n     </g>\n    </g>\n    <g id=\"xtick_4\">\n     <g id=\"line2d_4\">\n      <g>\n       <use style=\"stroke:#000000;stroke-width:0.8;\" x=\"241.047488\" xlink:href=\"#m14104c373d\" y=\"225.371883\"/>\n      </g>\n     </g>\n     <g id=\"text_4\">\n      <!-- 600 -->\n      <defs>\n       <path d=\"M 33.015625 40.375 \nQ 26.375 40.375 22.484375 35.828125 \nQ 18.609375 31.296875 18.609375 23.390625 \nQ 18.609375 15.53125 22.484375 10.953125 \nQ 26.375 6.390625 33.015625 6.390625 \nQ 39.65625 6.390625 43.53125 10.953125 \nQ 47.40625 15.53125 47.40625 23.390625 \nQ 47.40625 31.296875 43.53125 35.828125 \nQ 39.65625 40.375 33.015625 40.375 \nz\nM 52.59375 71.296875 \nL 52.59375 62.3125 \nQ 48.875 64.0625 45.09375 64.984375 \nQ 41.3125 65.921875 37.59375 65.921875 \nQ 27.828125 65.921875 22.671875 59.328125 \nQ 17.53125 52.734375 16.796875 39.40625 \nQ 19.671875 43.65625 24.015625 45.921875 \nQ 28.375 48.1875 33.59375 48.1875 \nQ 44.578125 48.1875 50.953125 41.515625 \nQ 57.328125 34.859375 57.328125 23.390625 \nQ 57.328125 12.15625 50.6875 5.359375 \nQ 44.046875 -1.421875 33.015625 -1.421875 \nQ 20.359375 -1.421875 13.671875 8.265625 \nQ 6.984375 17.96875 6.984375 36.375 \nQ 6.984375 53.65625 15.1875 63.9375 \nQ 23.390625 74.21875 37.203125 74.21875 \nQ 40.921875 74.21875 44.703125 73.484375 \nQ 48.484375 72.75 52.59375 71.296875 \nz\n\" id=\"DejaVuSans-54\"/>\n      </defs>\n      <g transform=\"translate(231.503738 239.970321)scale(0.1 -0.1)\">\n       <use xlink:href=\"#DejaVuSans-54\"/>\n       <use x=\"63.623047\" xlink:href=\"#DejaVuSans-48\"/>\n       <use x=\"127.246094\" xlink:href=\"#DejaVuSans-48\"/>\n      </g>\n     </g>\n    </g>\n    <g id=\"xtick_5\">\n     <g id=\"line2d_5\">\n      <g>\n       <use style=\"stroke:#000000;stroke-width:0.8;\" x=\"307.7939\" xlink:href=\"#m14104c373d\" y=\"225.371883\"/>\n      </g>\n     </g>\n     <g id=\"text_5\">\n      <!-- 800 -->\n      <defs>\n       <path d=\"M 31.78125 34.625 \nQ 24.75 34.625 20.71875 30.859375 \nQ 16.703125 27.09375 16.703125 20.515625 \nQ 16.703125 13.921875 20.71875 10.15625 \nQ 24.75 6.390625 31.78125 6.390625 \nQ 38.8125 6.390625 42.859375 10.171875 \nQ 46.921875 13.96875 46.921875 20.515625 \nQ 46.921875 27.09375 42.890625 30.859375 \nQ 38.875 34.625 31.78125 34.625 \nz\nM 21.921875 38.8125 \nQ 15.578125 40.375 12.03125 44.71875 \nQ 8.5 49.078125 8.5 55.328125 \nQ 8.5 64.0625 14.71875 69.140625 \nQ 20.953125 74.21875 31.78125 74.21875 \nQ 42.671875 74.21875 48.875 69.140625 \nQ 55.078125 64.0625 55.078125 55.328125 \nQ 55.078125 49.078125 51.53125 44.71875 \nQ 48 40.375 41.703125 38.8125 \nQ 48.828125 37.15625 52.796875 32.3125 \nQ 56.78125 27.484375 56.78125 20.515625 \nQ 56.78125 9.90625 50.3125 4.234375 \nQ 43.84375 -1.421875 31.78125 -1.421875 \nQ 19.734375 -1.421875 13.25 4.234375 \nQ 6.78125 9.90625 6.78125 20.515625 \nQ 6.78125 27.484375 10.78125 32.3125 \nQ 14.796875 37.15625 21.921875 38.8125 \nz\nM 18.3125 54.390625 \nQ 18.3125 48.734375 21.84375 45.5625 \nQ 25.390625 42.390625 31.78125 42.390625 \nQ 38.140625 42.390625 41.71875 45.5625 \nQ 45.3125 48.734375 45.3125 54.390625 \nQ 45.3125 60.0625 41.71875 63.234375 \nQ 38.140625 66.40625 31.78125 66.40625 \nQ 25.390625 66.40625 21.84375 63.234375 \nQ 18.3125 60.0625 18.3125 54.390625 \nz\n\" id=\"DejaVuSans-56\"/>\n      </defs>\n      <g transform=\"translate(298.25015 239.970321)scale(0.1 -0.1)\">\n       <use xlink:href=\"#DejaVuSans-56\"/>\n       <use x=\"63.623047\" xlink:href=\"#DejaVuSans-48\"/>\n       <use x=\"127.246094\" xlink:href=\"#DejaVuSans-48\"/>\n      </g>\n     </g>\n    </g>\n   </g>\n   <g id=\"matplotlib.axis_2\">\n    <g id=\"ytick_1\">\n     <g id=\"line2d_6\">\n      <defs>\n       <path d=\"M 0 0 \nL -3.5 0 \n\" id=\"m1e350307de\" style=\"stroke:#000000;stroke-width:0.8;\"/>\n      </defs>\n      <g>\n       <use style=\"stroke:#000000;stroke-width:0.8;\" x=\"26.925\" xlink:href=\"#m1e350307de\" y=\"215.488247\"/>\n      </g>\n     </g>\n     <g id=\"text_6\">\n      <!-- 0 -->\n      <g transform=\"translate(13.5625 219.287466)scale(0.1 -0.1)\">\n       <use xlink:href=\"#DejaVuSans-48\"/>\n      </g>\n     </g>\n    </g>\n    <g id=\"ytick_2\">\n     <g id=\"line2d_7\">\n      <g>\n       <use style=\"stroke:#000000;stroke-width:0.8;\" x=\"26.925\" xlink:href=\"#m1e350307de\" y=\"181.406742\"/>\n      </g>\n     </g>\n     <g id=\"text_7\">\n      <!-- 5 -->\n      <defs>\n       <path d=\"M 10.796875 72.90625 \nL 49.515625 72.90625 \nL 49.515625 64.59375 \nL 19.828125 64.59375 \nL 19.828125 46.734375 \nQ 21.96875 47.46875 24.109375 47.828125 \nQ 26.265625 48.1875 28.421875 48.1875 \nQ 40.625 48.1875 47.75 41.5 \nQ 54.890625 34.8125 54.890625 23.390625 \nQ 54.890625 11.625 47.5625 5.09375 \nQ 40.234375 -1.421875 26.90625 -1.421875 \nQ 22.3125 -1.421875 17.546875 -0.640625 \nQ 12.796875 0.140625 7.71875 1.703125 \nL 7.71875 11.625 \nQ 12.109375 9.234375 16.796875 8.0625 \nQ 21.484375 6.890625 26.703125 6.890625 \nQ 35.15625 6.890625 40.078125 11.328125 \nQ 45.015625 15.765625 45.015625 23.390625 \nQ 45.015625 31 40.078125 35.4375 \nQ 35.15625 39.890625 26.703125 39.890625 \nQ 22.75 39.890625 18.8125 39.015625 \nQ 14.890625 38.140625 10.796875 36.28125 \nz\n\" id=\"DejaVuSans-53\"/>\n      </defs>\n      <g transform=\"translate(13.5625 185.205961)scale(0.1 -0.1)\">\n       <use xlink:href=\"#DejaVuSans-53\"/>\n      </g>\n     </g>\n    </g>\n    <g id=\"ytick_3\">\n     <g id=\"line2d_8\">\n      <g>\n       <use style=\"stroke:#000000;stroke-width:0.8;\" x=\"26.925\" xlink:href=\"#m1e350307de\" y=\"147.325238\"/>\n      </g>\n     </g>\n     <g id=\"text_8\">\n      <!-- 10 -->\n      <defs>\n       <path d=\"M 12.40625 8.296875 \nL 28.515625 8.296875 \nL 28.515625 63.921875 \nL 10.984375 60.40625 \nL 10.984375 69.390625 \nL 28.421875 72.90625 \nL 38.28125 72.90625 \nL 38.28125 8.296875 \nL 54.390625 8.296875 \nL 54.390625 0 \nL 12.40625 0 \nz\n\" id=\"DejaVuSans-49\"/>\n      </defs>\n      <g transform=\"translate(7.2 151.124456)scale(0.1 -0.1)\">\n       <use xlink:href=\"#DejaVuSans-49\"/>\n       <use x=\"63.623047\" xlink:href=\"#DejaVuSans-48\"/>\n      </g>\n     </g>\n    </g>\n    <g id=\"ytick_4\">\n     <g id=\"line2d_9\">\n      <g>\n       <use style=\"stroke:#000000;stroke-width:0.8;\" x=\"26.925\" xlink:href=\"#m1e350307de\" y=\"113.243733\"/>\n      </g>\n     </g>\n     <g id=\"text_9\">\n      <!-- 15 -->\n      <g transform=\"translate(7.2 117.042952)scale(0.1 -0.1)\">\n       <use xlink:href=\"#DejaVuSans-49\"/>\n       <use x=\"63.623047\" xlink:href=\"#DejaVuSans-53\"/>\n      </g>\n     </g>\n    </g>\n    <g id=\"ytick_5\">\n     <g id=\"line2d_10\">\n      <g>\n       <use style=\"stroke:#000000;stroke-width:0.8;\" x=\"26.925\" xlink:href=\"#m1e350307de\" y=\"79.162228\"/>\n      </g>\n     </g>\n     <g id=\"text_10\">\n      <!-- 20 -->\n      <g transform=\"translate(7.2 82.961447)scale(0.1 -0.1)\">\n       <use xlink:href=\"#DejaVuSans-50\"/>\n       <use x=\"63.623047\" xlink:href=\"#DejaVuSans-48\"/>\n      </g>\n     </g>\n    </g>\n    <g id=\"ytick_6\">\n     <g id=\"line2d_11\">\n      <g>\n       <use style=\"stroke:#000000;stroke-width:0.8;\" x=\"26.925\" xlink:href=\"#m1e350307de\" y=\"45.080723\"/>\n      </g>\n     </g>\n     <g id=\"text_11\">\n      <!-- 25 -->\n      <g transform=\"translate(7.2 48.879942)scale(0.1 -0.1)\">\n       <use xlink:href=\"#DejaVuSans-50\"/>\n       <use x=\"63.623047\" xlink:href=\"#DejaVuSans-53\"/>\n      </g>\n     </g>\n    </g>\n    <g id=\"ytick_7\">\n     <g id=\"line2d_12\">\n      <g>\n       <use style=\"stroke:#000000;stroke-width:0.8;\" x=\"26.925\" xlink:href=\"#m1e350307de\" y=\"10.999219\"/>\n      </g>\n     </g>\n     <g id=\"text_12\">\n      <!-- 30 -->\n      <defs>\n       <path d=\"M 40.578125 39.3125 \nQ 47.65625 37.796875 51.625 33 \nQ 55.609375 28.21875 55.609375 21.1875 \nQ 55.609375 10.40625 48.1875 4.484375 \nQ 40.765625 -1.421875 27.09375 -1.421875 \nQ 22.515625 -1.421875 17.65625 -0.515625 \nQ 12.796875 0.390625 7.625 2.203125 \nL 7.625 11.71875 \nQ 11.71875 9.328125 16.59375 8.109375 \nQ 21.484375 6.890625 26.8125 6.890625 \nQ 36.078125 6.890625 40.9375 10.546875 \nQ 45.796875 14.203125 45.796875 21.1875 \nQ 45.796875 27.640625 41.28125 31.265625 \nQ 36.765625 34.90625 28.71875 34.90625 \nL 20.21875 34.90625 \nL 20.21875 43.015625 \nL 29.109375 43.015625 \nQ 36.375 43.015625 40.234375 45.921875 \nQ 44.09375 48.828125 44.09375 54.296875 \nQ 44.09375 59.90625 40.109375 62.90625 \nQ 36.140625 65.921875 28.71875 65.921875 \nQ 24.65625 65.921875 20.015625 65.03125 \nQ 15.375 64.15625 9.8125 62.3125 \nL 9.8125 71.09375 \nQ 15.4375 72.65625 20.34375 73.4375 \nQ 25.25 74.21875 29.59375 74.21875 \nQ 40.828125 74.21875 47.359375 69.109375 \nQ 53.90625 64.015625 53.90625 55.328125 \nQ 53.90625 49.265625 50.4375 45.09375 \nQ 46.96875 40.921875 40.578125 39.3125 \nz\n\" id=\"DejaVuSans-51\"/>\n      </defs>\n      <g transform=\"translate(7.2 14.798437)scale(0.1 -0.1)\">\n       <use xlink:href=\"#DejaVuSans-51\"/>\n       <use x=\"63.623047\" xlink:href=\"#DejaVuSans-48\"/>\n      </g>\n     </g>\n    </g>\n   </g>\n   <g id=\"line2d_13\">\n    <path clip-path=\"url(#pe9eefce3f1)\" d=\"M 42.143182 215.488247 \nL 44.813038 215.488247 \nL 47.482895 215.488247 \nL 50.152751 208.671946 \nL 52.822608 215.488247 \nL 55.492464 215.488247 \nL 58.162321 215.488247 \nL 60.832177 195.039344 \nL 63.502033 201.855645 \nL 66.17189 188.223043 \nL 68.841746 201.855645 \nL 71.511603 195.039344 \nL 74.181459 188.223043 \nL 76.851316 181.406742 \nL 79.521172 167.77414 \nL 82.191029 174.590441 \nL 84.860885 181.406742 \nL 87.530742 195.039344 \nL 90.200598 154.141538 \nL 92.870455 174.590441 \nL 95.540311 167.77414 \nL 98.210167 167.77414 \nL 100.880024 154.141538 \nL 103.54988 174.590441 \nL 106.219737 160.957839 \nL 108.889593 181.406742 \nL 111.55945 99.611131 \nL 114.229306 147.325238 \nL 116.899163 140.508937 \nL 119.569019 120.060034 \nL 122.238876 92.79483 \nL 124.908732 140.508937 \nL 127.578589 133.692636 \nL 130.248445 140.508937 \nL 132.918301 126.876335 \nL 135.588158 140.508937 \nL 138.258014 126.876335 \nL 140.927871 120.060034 \nL 143.597727 92.79483 \nL 146.267584 126.876335 \nL 148.93744 120.060034 \nL 151.607297 147.325238 \nL 154.277153 106.427432 \nL 156.94701 126.876335 \nL 159.616866 92.79483 \nL 162.286722 120.060034 \nL 164.956579 79.162228 \nL 167.626435 92.79483 \nL 170.296292 113.243733 \nL 172.966148 120.060034 \nL 175.636005 45.080723 \nL 178.305861 154.141538 \nL 180.975718 106.427432 \nL 183.645574 126.876335 \nL 186.315431 85.978529 \nL 188.985287 120.060034 \nL 191.655144 133.692636 \nL 194.325 58.713325 \nL 196.994856 120.060034 \nL 199.664713 17.81552 \nL 202.334569 140.508937 \nL 205.004426 79.162228 \nL 207.674282 92.79483 \nL 210.344139 72.345927 \nL 213.013995 126.876335 \nL 215.683852 133.692636 \nL 218.353708 113.243733 \nL 221.023565 133.692636 \nL 223.693421 167.77414 \nL 226.363278 99.611131 \nL 229.033134 106.427432 \nL 231.70299 113.243733 \nL 234.372847 174.590441 \nL 237.042703 160.957839 \nL 239.71256 167.77414 \nL 242.382416 120.060034 \nL 245.052273 133.692636 \nL 247.722129 160.957839 \nL 250.391986 188.223043 \nL 253.061842 99.611131 \nL 255.731699 147.325238 \nL 258.401555 160.957839 \nL 261.071411 140.508937 \nL 263.741268 167.77414 \nL 266.411124 140.508937 \nL 269.080981 140.508937 \nL 271.750837 181.406742 \nL 274.420694 160.957839 \nL 277.09055 126.876335 \nL 279.760407 174.590441 \nL 282.430263 188.223043 \nL 285.10012 195.039344 \nL 287.769976 188.223043 \nL 290.439833 208.671946 \nL 293.109689 201.855645 \nL 295.779545 208.671946 \nL 298.449402 195.039344 \nL 301.119258 195.039344 \nL 303.789115 181.406742 \nL 306.458971 208.671946 \nL 309.128828 188.223043 \nL 311.798684 208.671946 \nL 314.468541 201.855645 \nL 317.138397 188.223043 \nL 319.808254 201.855645 \nL 322.47811 215.488247 \nL 325.147967 208.671946 \nL 327.817823 215.488247 \nL 330.487679 215.488247 \nL 333.157536 215.488247 \nL 335.827392 215.488247 \nL 338.497249 215.488247 \nL 341.167105 201.855645 \nL 343.836962 215.488247 \nL 346.506818 201.855645 \n\" style=\"fill:none;stroke:#1f77b4;stroke-linecap:square;stroke-width:1.5;\"/>\n   </g>\n   <g id=\"line2d_14\">\n    <path clip-path=\"url(#pe9eefce3f1)\" d=\"M 42.143182 215.488247 \nL 44.813038 215.488247 \nL 47.482895 215.488247 \nL 50.152751 215.488247 \nL 52.822608 215.488247 \nL 55.492464 215.488247 \nL 58.162321 215.488247 \nL 60.832177 201.855645 \nL 63.502033 208.671946 \nL 66.17189 188.223043 \nL 68.841746 201.855645 \nL 71.511603 201.855645 \nL 74.181459 188.223043 \nL 76.851316 181.406742 \nL 79.521172 195.039344 \nL 82.191029 188.223043 \nL 84.860885 181.406742 \nL 87.530742 195.039344 \nL 90.200598 154.141538 \nL 92.870455 174.590441 \nL 95.540311 174.590441 \nL 98.210167 181.406742 \nL 100.880024 160.957839 \nL 103.54988 181.406742 \nL 106.219737 167.77414 \nL 108.889593 195.039344 \nL 111.55945 120.060034 \nL 114.229306 154.141538 \nL 116.899163 147.325238 \nL 119.569019 147.325238 \nL 122.238876 120.060034 \nL 124.908732 140.508937 \nL 127.578589 147.325238 \nL 130.248445 147.325238 \nL 132.918301 140.508937 \nL 135.588158 147.325238 \nL 138.258014 140.508937 \nL 140.927871 133.692636 \nL 143.597727 120.060034 \nL 146.267584 140.508937 \nL 148.93744 133.692636 \nL 151.607297 154.141538 \nL 154.277153 120.060034 \nL 156.94701 140.508937 \nL 159.616866 133.692636 \nL 162.286722 154.141538 \nL 164.956579 85.978529 \nL 167.626435 120.060034 \nL 170.296292 113.243733 \nL 172.966148 120.060034 \nL 175.636005 85.978529 \nL 178.305861 160.957839 \nL 180.975718 113.243733 \nL 183.645574 140.508937 \nL 186.315431 106.427432 \nL 188.985287 126.876335 \nL 191.655144 160.957839 \nL 194.325 58.713325 \nL 196.994856 133.692636 \nL 199.664713 58.713325 \nL 202.334569 167.77414 \nL 205.004426 106.427432 \nL 207.674282 120.060034 \nL 210.344139 106.427432 \nL 213.013995 133.692636 \nL 215.683852 147.325238 \nL 218.353708 133.692636 \nL 221.023565 140.508937 \nL 223.693421 181.406742 \nL 226.363278 120.060034 \nL 229.033134 120.060034 \nL 231.70299 126.876335 \nL 234.372847 181.406742 \nL 237.042703 167.77414 \nL 239.71256 181.406742 \nL 242.382416 147.325238 \nL 245.052273 160.957839 \nL 247.722129 167.77414 \nL 250.391986 188.223043 \nL 253.061842 126.876335 \nL 255.731699 154.141538 \nL 258.401555 167.77414 \nL 261.071411 154.141538 \nL 263.741268 167.77414 \nL 266.411124 154.141538 \nL 269.080981 147.325238 \nL 271.750837 201.855645 \nL 274.420694 174.590441 \nL 277.09055 133.692636 \nL 279.760407 188.223043 \nL 282.430263 188.223043 \nL 285.10012 201.855645 \nL 287.769976 195.039344 \nL 290.439833 208.671946 \nL 293.109689 201.855645 \nL 295.779545 208.671946 \nL 298.449402 201.855645 \nL 301.119258 195.039344 \nL 303.789115 188.223043 \nL 306.458971 208.671946 \nL 309.128828 188.223043 \nL 311.798684 208.671946 \nL 314.468541 201.855645 \nL 317.138397 188.223043 \nL 319.808254 201.855645 \nL 322.47811 215.488247 \nL 325.147967 215.488247 \nL 327.817823 215.488247 \nL 330.487679 215.488247 \nL 333.157536 215.488247 \nL 335.827392 215.488247 \nL 338.497249 215.488247 \nL 341.167105 201.855645 \nL 343.836962 215.488247 \nL 346.506818 208.671946 \n\" style=\"fill:none;stroke:#ff7f0e;stroke-linecap:square;stroke-width:1.5;\"/>\n   </g>\n   <g id=\"line2d_15\">\n    <path clip-path=\"url(#pe9eefce3f1)\" d=\"M 42.143182 215.488247 \nL 44.813038 215.488247 \nL 47.482895 215.488247 \nL 50.152751 215.488247 \nL 52.822608 215.488247 \nL 55.492464 215.488247 \nL 58.162321 215.488247 \nL 60.832177 215.488247 \nL 63.502033 215.488247 \nL 66.17189 215.488247 \nL 68.841746 215.488247 \nL 71.511603 215.488247 \nL 74.181459 215.488247 \nL 76.851316 215.488247 \nL 79.521172 215.488247 \nL 82.191029 215.488247 \nL 84.860885 215.488247 \nL 87.530742 215.488247 \nL 90.200598 215.488247 \nL 92.870455 215.488247 \nL 95.540311 215.488247 \nL 98.210167 215.488247 \nL 100.880024 215.488247 \nL 103.54988 215.488247 \nL 106.219737 215.488247 \nL 108.889593 215.488247 \nL 111.55945 215.488247 \nL 114.229306 215.488247 \nL 116.899163 215.488247 \nL 119.569019 215.488247 \nL 122.238876 215.488247 \nL 124.908732 215.488247 \nL 127.578589 215.488247 \nL 130.248445 215.488247 \nL 132.918301 215.488247 \nL 135.588158 215.488247 \nL 138.258014 215.488247 \nL 140.927871 215.488247 \nL 143.597727 215.488247 \nL 146.267584 215.488247 \nL 148.93744 215.488247 \nL 151.607297 215.488247 \nL 154.277153 215.488247 \nL 156.94701 215.488247 \nL 159.616866 215.488247 \nL 162.286722 215.488247 \nL 164.956579 215.488247 \nL 167.626435 215.488247 \nL 170.296292 215.488247 \nL 172.966148 215.488247 \nL 175.636005 215.488247 \nL 178.305861 215.488247 \nL 180.975718 215.488247 \nL 183.645574 215.488247 \nL 186.315431 215.488247 \nL 188.985287 215.488247 \nL 191.655144 215.488247 \nL 194.325 215.488247 \nL 196.994856 215.488247 \nL 199.664713 215.488247 \nL 202.334569 215.488247 \nL 205.004426 215.488247 \nL 207.674282 215.488247 \nL 210.344139 215.488247 \nL 213.013995 215.488247 \nL 215.683852 215.488247 \nL 218.353708 215.488247 \nL 221.023565 215.488247 \nL 223.693421 215.488247 \nL 226.363278 215.488247 \nL 229.033134 215.488247 \nL 231.70299 215.488247 \nL 234.372847 215.488247 \nL 237.042703 215.488247 \nL 239.71256 215.488247 \nL 242.382416 215.488247 \nL 245.052273 215.488247 \nL 247.722129 215.488247 \nL 250.391986 215.488247 \nL 253.061842 215.488247 \nL 255.731699 215.488247 \nL 258.401555 215.488247 \nL 261.071411 215.488247 \nL 263.741268 215.488247 \nL 266.411124 215.488247 \nL 269.080981 215.488247 \nL 271.750837 215.488247 \nL 274.420694 215.488247 \nL 277.09055 215.488247 \nL 279.760407 215.488247 \nL 282.430263 215.488247 \nL 285.10012 215.488247 \nL 287.769976 215.488247 \nL 290.439833 215.488247 \nL 293.109689 215.488247 \nL 295.779545 215.488247 \nL 298.449402 215.488247 \nL 301.119258 215.488247 \nL 303.789115 215.488247 \nL 306.458971 215.488247 \nL 309.128828 215.488247 \nL 311.798684 215.488247 \nL 314.468541 215.488247 \nL 317.138397 215.488247 \nL 319.808254 215.488247 \nL 322.47811 215.488247 \nL 325.147967 215.488247 \nL 327.817823 215.488247 \nL 330.487679 215.488247 \nL 333.157536 215.488247 \nL 335.827392 215.488247 \nL 338.497249 215.488247 \nL 341.167105 215.488247 \nL 343.836962 215.488247 \nL 346.506818 215.488247 \n\" style=\"fill:none;stroke:#2ca02c;stroke-linecap:square;stroke-width:1.5;\"/>\n   </g>\n   <g id=\"patch_3\">\n    <path d=\"M 26.925 225.371883 \nL 26.925 7.931883 \n\" style=\"fill:none;stroke:#000000;stroke-linecap:square;stroke-linejoin:miter;stroke-width:0.8;\"/>\n   </g>\n   <g id=\"patch_4\">\n    <path d=\"M 361.725 225.371883 \nL 361.725 7.931883 \n\" style=\"fill:none;stroke:#000000;stroke-linecap:square;stroke-linejoin:miter;stroke-width:0.8;\"/>\n   </g>\n   <g id=\"patch_5\">\n    <path d=\"M 26.925 225.371883 \nL 361.725 225.371883 \n\" style=\"fill:none;stroke:#000000;stroke-linecap:square;stroke-linejoin:miter;stroke-width:0.8;\"/>\n   </g>\n   <g id=\"patch_6\">\n    <path d=\"M 26.925 7.931883 \nL 361.725 7.931883 \n\" style=\"fill:none;stroke:#000000;stroke-linecap:square;stroke-linejoin:miter;stroke-width:0.8;\"/>\n   </g>\n  </g>\n </g>\n <defs>\n  <clipPath id=\"pe9eefce3f1\">\n   <rect height=\"217.44\" width=\"334.8\" x=\"26.925\" y=\"7.931883\"/>\n  </clipPath>\n </defs>\n</svg>\n",
      "image/png": "[encoded data removed]"
     },
     "metadata": {
      "needs_background": "light"
     }
    }
   ],
   "source": [
    "plt.plot(TDCR_D2D_Result_1k['frame'], TDCR_D2D_Result_1k['N_request'])\n",
    "plt.plot(TDCR_D2D_Result_1k['frame'], TDCR_D2D_Result_1k['N_response'])\n",
    "plt.plot(TDCR_D2D_Result_1k['frame'], TDCR_D2D_Result_1k['N_HL'])"
   ]
  },
  {
   "cell_type": "code",
   "execution_count": 75,
   "metadata": {},
   "outputs": [
    {
     "output_type": "execute_result",
     "data": {
      "text/plain": "   Header  D2D_success  D2D_transmit  RA_init  RA_success  RA_transmit  \\\n0       0           -1             1      452         452            1   \n1       1           -1             1      307         308            1   \n2       2           -1             1      632         636            1   \n3       3           -1             1      499         500            1   \n4       4           -1             1      182         188            1   \n\n   RA_first  \n0       452  \n1       307  \n2       632  \n3       499  \n4       182  ",
      "text/html": "<div>\n<style scoped>\n    .dataframe tbody tr th:only-of-type {\n        vertical-align: middle;\n    }\n\n    .dataframe tbody tr th {\n        vertical-align: top;\n    }\n\n    .dataframe thead th {\n        text-align: right;\n    }\n</style>\n<table border=\"1\" class=\"dataframe\">\n  <thead>\n    <tr style=\"text-align: right;\">\n      <th></th>\n      <th>Header</th>\n      <th>D2D_success</th>\n      <th>D2D_transmit</th>\n      <th>RA_init</th>\n      <th>RA_success</th>\n      <th>RA_transmit</th>\n      <th>RA_first</th>\n    </tr>\n  </thead>\n  <tbody>\n    <tr>\n      <th>0</th>\n      <td>0</td>\n      <td>-1</td>\n      <td>1</td>\n      <td>452</td>\n      <td>452</td>\n      <td>1</td>\n      <td>452</td>\n    </tr>\n    <tr>\n      <th>1</th>\n      <td>1</td>\n      <td>-1</td>\n      <td>1</td>\n      <td>307</td>\n      <td>308</td>\n      <td>1</td>\n      <td>307</td>\n    </tr>\n    <tr>\n      <th>2</th>\n      <td>2</td>\n      <td>-1</td>\n      <td>1</td>\n      <td>632</td>\n      <td>636</td>\n      <td>1</td>\n      <td>632</td>\n    </tr>\n    <tr>\n      <th>3</th>\n      <td>3</td>\n      <td>-1</td>\n      <td>1</td>\n      <td>499</td>\n      <td>500</td>\n      <td>1</td>\n      <td>499</td>\n    </tr>\n    <tr>\n      <th>4</th>\n      <td>4</td>\n      <td>-1</td>\n      <td>1</td>\n      <td>182</td>\n      <td>188</td>\n      <td>1</td>\n      <td>182</td>\n    </tr>\n  </tbody>\n</table>\n</div>"
     },
     "metadata": {},
     "execution_count": 75
    }
   ],
   "source": [
    "TDCR_Device_Result_1k.head()"
   ]
  },
  {
   "cell_type": "code",
   "execution_count": 78,
   "metadata": {},
   "outputs": [
    {
     "output_type": "execute_result",
     "data": {
      "text/plain": "[<matplotlib.lines.Line2D at 0x7f69c1efb190>]"
     },
     "metadata": {},
     "execution_count": 78
    },
    {
     "output_type": "display_data",
     "data": {
      "text/plain": "<Figure size 432x288 with 1 Axes>",
      "image/svg+xml": "<?xml version=\"1.0\" encoding=\"utf-8\" standalone=\"no\"?>\n<!DOCTYPE svg PUBLIC \"-//W3C//DTD SVG 1.1//EN\"\n  \"http://www.w3.org/Graphics/SVG/1.1/DTD/svg11.dtd\">\n<!-- Created with matplotlib (https://matplotlib.org/) -->\n<svg height=\"248.518125pt\" version=\"1.1\" viewBox=\"0 0 381.65 248.518125\" width=\"381.65pt\" xmlns=\"http://www.w3.org/2000/svg\" xmlns:xlink=\"http://www.w3.org/1999/xlink\">\n <defs>\n  <style type=\"text/css\">\n*{stroke-linecap:butt;stroke-linejoin:round;}\n  </style>\n </defs>\n <g id=\"figure_1\">\n  <g id=\"patch_1\">\n   <path d=\"M -0 248.518125 \nL 381.65 248.518125 \nL 381.65 0 \nL -0 0 \nz\n\" style=\"fill:none;\"/>\n  </g>\n  <g id=\"axes_1\">\n   <g id=\"patch_2\">\n    <path d=\"M 39.65 224.64 \nL 374.45 224.64 \nL 374.45 7.2 \nL 39.65 7.2 \nz\n\" style=\"fill:#ffffff;\"/>\n   </g>\n   <g id=\"matplotlib.axis_1\">\n    <g id=\"xtick_1\">\n     <g id=\"line2d_1\">\n      <defs>\n       <path d=\"M 0 0 \nL 0 3.5 \n\" id=\"m731121f54c\" style=\"stroke:#000000;stroke-width:0.8;\"/>\n      </defs>\n      <g>\n       <use style=\"stroke:#000000;stroke-width:0.8;\" x=\"44.585627\" xlink:href=\"#m731121f54c\" y=\"224.64\"/>\n      </g>\n     </g>\n     <g id=\"text_1\">\n      <!-- 0 -->\n      <defs>\n       <path d=\"M 31.78125 66.40625 \nQ 24.171875 66.40625 20.328125 58.90625 \nQ 16.5 51.421875 16.5 36.375 \nQ 16.5 21.390625 20.328125 13.890625 \nQ 24.171875 6.390625 31.78125 6.390625 \nQ 39.453125 6.390625 43.28125 13.890625 \nQ 47.125 21.390625 47.125 36.375 \nQ 47.125 51.421875 43.28125 58.90625 \nQ 39.453125 66.40625 31.78125 66.40625 \nz\nM 31.78125 74.21875 \nQ 44.046875 74.21875 50.515625 64.515625 \nQ 56.984375 54.828125 56.984375 36.375 \nQ 56.984375 17.96875 50.515625 8.265625 \nQ 44.046875 -1.421875 31.78125 -1.421875 \nQ 19.53125 -1.421875 13.0625 8.265625 \nQ 6.59375 17.96875 6.59375 36.375 \nQ 6.59375 54.828125 13.0625 64.515625 \nQ 19.53125 74.21875 31.78125 74.21875 \nz\n\" id=\"DejaVuSans-48\"/>\n      </defs>\n      <g transform=\"translate(41.404377 239.238437)scale(0.1 -0.1)\">\n       <use xlink:href=\"#DejaVuSans-48\"/>\n      </g>\n     </g>\n    </g>\n    <g id=\"xtick_2\">\n     <g id=\"line2d_2\">\n      <g>\n       <use style=\"stroke:#000000;stroke-width:0.8;\" x=\"113.135995\" xlink:href=\"#m731121f54c\" y=\"224.64\"/>\n      </g>\n     </g>\n     <g id=\"text_2\">\n      <!-- 200 -->\n      <defs>\n       <path d=\"M 19.1875 8.296875 \nL 53.609375 8.296875 \nL 53.609375 0 \nL 7.328125 0 \nL 7.328125 8.296875 \nQ 12.9375 14.109375 22.625 23.890625 \nQ 32.328125 33.6875 34.8125 36.53125 \nQ 39.546875 41.84375 41.421875 45.53125 \nQ 43.3125 49.21875 43.3125 52.78125 \nQ 43.3125 58.59375 39.234375 62.25 \nQ 35.15625 65.921875 28.609375 65.921875 \nQ 23.96875 65.921875 18.8125 64.3125 \nQ 13.671875 62.703125 7.8125 59.421875 \nL 7.8125 69.390625 \nQ 13.765625 71.78125 18.9375 73 \nQ 24.125 74.21875 28.421875 74.21875 \nQ 39.75 74.21875 46.484375 68.546875 \nQ 53.21875 62.890625 53.21875 53.421875 \nQ 53.21875 48.921875 51.53125 44.890625 \nQ 49.859375 40.875 45.40625 35.40625 \nQ 44.1875 33.984375 37.640625 27.21875 \nQ 31.109375 20.453125 19.1875 8.296875 \nz\n\" id=\"DejaVuSans-50\"/>\n      </defs>\n      <g transform=\"translate(103.592245 239.238437)scale(0.1 -0.1)\">\n       <use xlink:href=\"#DejaVuSans-50\"/>\n       <use x=\"63.623047\" xlink:href=\"#DejaVuSans-48\"/>\n       <use x=\"127.246094\" xlink:href=\"#DejaVuSans-48\"/>\n      </g>\n     </g>\n    </g>\n    <g id=\"xtick_3\">\n     <g id=\"line2d_3\">\n      <g>\n       <use style=\"stroke:#000000;stroke-width:0.8;\" x=\"181.686364\" xlink:href=\"#m731121f54c\" y=\"224.64\"/>\n      </g>\n     </g>\n     <g id=\"text_3\">\n      <!-- 400 -->\n      <defs>\n       <path d=\"M 37.796875 64.3125 \nL 12.890625 25.390625 \nL 37.796875 25.390625 \nz\nM 35.203125 72.90625 \nL 47.609375 72.90625 \nL 47.609375 25.390625 \nL 58.015625 25.390625 \nL 58.015625 17.1875 \nL 47.609375 17.1875 \nL 47.609375 0 \nL 37.796875 0 \nL 37.796875 17.1875 \nL 4.890625 17.1875 \nL 4.890625 26.703125 \nz\n\" id=\"DejaVuSans-52\"/>\n      </defs>\n      <g transform=\"translate(172.142614 239.238437)scale(0.1 -0.1)\">\n       <use xlink:href=\"#DejaVuSans-52\"/>\n       <use x=\"63.623047\" xlink:href=\"#DejaVuSans-48\"/>\n       <use x=\"127.246094\" xlink:href=\"#DejaVuSans-48\"/>\n      </g>\n     </g>\n    </g>\n    <g id=\"xtick_4\">\n     <g id=\"line2d_4\">\n      <g>\n       <use style=\"stroke:#000000;stroke-width:0.8;\" x=\"250.236732\" xlink:href=\"#m731121f54c\" y=\"224.64\"/>\n      </g>\n     </g>\n     <g id=\"text_4\">\n      <!-- 600 -->\n      <defs>\n       <path d=\"M 33.015625 40.375 \nQ 26.375 40.375 22.484375 35.828125 \nQ 18.609375 31.296875 18.609375 23.390625 \nQ 18.609375 15.53125 22.484375 10.953125 \nQ 26.375 6.390625 33.015625 6.390625 \nQ 39.65625 6.390625 43.53125 10.953125 \nQ 47.40625 15.53125 47.40625 23.390625 \nQ 47.40625 31.296875 43.53125 35.828125 \nQ 39.65625 40.375 33.015625 40.375 \nz\nM 52.59375 71.296875 \nL 52.59375 62.3125 \nQ 48.875 64.0625 45.09375 64.984375 \nQ 41.3125 65.921875 37.59375 65.921875 \nQ 27.828125 65.921875 22.671875 59.328125 \nQ 17.53125 52.734375 16.796875 39.40625 \nQ 19.671875 43.65625 24.015625 45.921875 \nQ 28.375 48.1875 33.59375 48.1875 \nQ 44.578125 48.1875 50.953125 41.515625 \nQ 57.328125 34.859375 57.328125 23.390625 \nQ 57.328125 12.15625 50.6875 5.359375 \nQ 44.046875 -1.421875 33.015625 -1.421875 \nQ 20.359375 -1.421875 13.671875 8.265625 \nQ 6.984375 17.96875 6.984375 36.375 \nQ 6.984375 53.65625 15.1875 63.9375 \nQ 23.390625 74.21875 37.203125 74.21875 \nQ 40.921875 74.21875 44.703125 73.484375 \nQ 48.484375 72.75 52.59375 71.296875 \nz\n\" id=\"DejaVuSans-54\"/>\n      </defs>\n      <g transform=\"translate(240.692982 239.238437)scale(0.1 -0.1)\">\n       <use xlink:href=\"#DejaVuSans-54\"/>\n       <use x=\"63.623047\" xlink:href=\"#DejaVuSans-48\"/>\n       <use x=\"127.246094\" xlink:href=\"#DejaVuSans-48\"/>\n      </g>\n     </g>\n    </g>\n    <g id=\"xtick_5\">\n     <g id=\"line2d_5\">\n      <g>\n       <use style=\"stroke:#000000;stroke-width:0.8;\" x=\"318.787101\" xlink:href=\"#m731121f54c\" y=\"224.64\"/>\n      </g>\n     </g>\n     <g id=\"text_5\">\n      <!-- 800 -->\n      <defs>\n       <path d=\"M 31.78125 34.625 \nQ 24.75 34.625 20.71875 30.859375 \nQ 16.703125 27.09375 16.703125 20.515625 \nQ 16.703125 13.921875 20.71875 10.15625 \nQ 24.75 6.390625 31.78125 6.390625 \nQ 38.8125 6.390625 42.859375 10.171875 \nQ 46.921875 13.96875 46.921875 20.515625 \nQ 46.921875 27.09375 42.890625 30.859375 \nQ 38.875 34.625 31.78125 34.625 \nz\nM 21.921875 38.8125 \nQ 15.578125 40.375 12.03125 44.71875 \nQ 8.5 49.078125 8.5 55.328125 \nQ 8.5 64.0625 14.71875 69.140625 \nQ 20.953125 74.21875 31.78125 74.21875 \nQ 42.671875 74.21875 48.875 69.140625 \nQ 55.078125 64.0625 55.078125 55.328125 \nQ 55.078125 49.078125 51.53125 44.71875 \nQ 48 40.375 41.703125 38.8125 \nQ 48.828125 37.15625 52.796875 32.3125 \nQ 56.78125 27.484375 56.78125 20.515625 \nQ 56.78125 9.90625 50.3125 4.234375 \nQ 43.84375 -1.421875 31.78125 -1.421875 \nQ 19.734375 -1.421875 13.25 4.234375 \nQ 6.78125 9.90625 6.78125 20.515625 \nQ 6.78125 27.484375 10.78125 32.3125 \nQ 14.796875 37.15625 21.921875 38.8125 \nz\nM 18.3125 54.390625 \nQ 18.3125 48.734375 21.84375 45.5625 \nQ 25.390625 42.390625 31.78125 42.390625 \nQ 38.140625 42.390625 41.71875 45.5625 \nQ 45.3125 48.734375 45.3125 54.390625 \nQ 45.3125 60.0625 41.71875 63.234375 \nQ 38.140625 66.40625 31.78125 66.40625 \nQ 25.390625 66.40625 21.84375 63.234375 \nQ 18.3125 60.0625 18.3125 54.390625 \nz\n\" id=\"DejaVuSans-56\"/>\n      </defs>\n      <g transform=\"translate(309.243351 239.238437)scale(0.1 -0.1)\">\n       <use xlink:href=\"#DejaVuSans-56\"/>\n       <use x=\"63.623047\" xlink:href=\"#DejaVuSans-48\"/>\n       <use x=\"127.246094\" xlink:href=\"#DejaVuSans-48\"/>\n      </g>\n     </g>\n    </g>\n   </g>\n   <g id=\"matplotlib.axis_2\">\n    <g id=\"ytick_1\">\n     <g id=\"line2d_6\">\n      <defs>\n       <path d=\"M 0 0 \nL -3.5 0 \n\" id=\"m243dc5af9b\" style=\"stroke:#000000;stroke-width:0.8;\"/>\n      </defs>\n      <g>\n       <use style=\"stroke:#000000;stroke-width:0.8;\" x=\"39.65\" xlink:href=\"#m243dc5af9b\" y=\"214.954234\"/>\n      </g>\n     </g>\n     <g id=\"text_6\">\n      <!-- 0 -->\n      <g transform=\"translate(26.2875 218.753453)scale(0.1 -0.1)\">\n       <use xlink:href=\"#DejaVuSans-48\"/>\n      </g>\n     </g>\n    </g>\n    <g id=\"ytick_2\">\n     <g id=\"line2d_7\">\n      <g>\n       <use style=\"stroke:#000000;stroke-width:0.8;\" x=\"39.65\" xlink:href=\"#m243dc5af9b\" y=\"175.380115\"/>\n      </g>\n     </g>\n     <g id=\"text_7\">\n      <!-- 200 -->\n      <g transform=\"translate(13.5625 179.179333)scale(0.1 -0.1)\">\n       <use xlink:href=\"#DejaVuSans-50\"/>\n       <use x=\"63.623047\" xlink:href=\"#DejaVuSans-48\"/>\n       <use x=\"127.246094\" xlink:href=\"#DejaVuSans-48\"/>\n      </g>\n     </g>\n    </g>\n    <g id=\"ytick_3\">\n     <g id=\"line2d_8\">\n      <g>\n       <use style=\"stroke:#000000;stroke-width:0.8;\" x=\"39.65\" xlink:href=\"#m243dc5af9b\" y=\"135.805995\"/>\n      </g>\n     </g>\n     <g id=\"text_8\">\n      <!-- 400 -->\n      <g transform=\"translate(13.5625 139.605214)scale(0.1 -0.1)\">\n       <use xlink:href=\"#DejaVuSans-52\"/>\n       <use x=\"63.623047\" xlink:href=\"#DejaVuSans-48\"/>\n       <use x=\"127.246094\" xlink:href=\"#DejaVuSans-48\"/>\n      </g>\n     </g>\n    </g>\n    <g id=\"ytick_4\">\n     <g id=\"line2d_9\">\n      <g>\n       <use style=\"stroke:#000000;stroke-width:0.8;\" x=\"39.65\" xlink:href=\"#m243dc5af9b\" y=\"96.231876\"/>\n      </g>\n     </g>\n     <g id=\"text_9\">\n      <!-- 600 -->\n      <g transform=\"translate(13.5625 100.031094)scale(0.1 -0.1)\">\n       <use xlink:href=\"#DejaVuSans-54\"/>\n       <use x=\"63.623047\" xlink:href=\"#DejaVuSans-48\"/>\n       <use x=\"127.246094\" xlink:href=\"#DejaVuSans-48\"/>\n      </g>\n     </g>\n    </g>\n    <g id=\"ytick_5\">\n     <g id=\"line2d_10\">\n      <g>\n       <use style=\"stroke:#000000;stroke-width:0.8;\" x=\"39.65\" xlink:href=\"#m243dc5af9b\" y=\"56.657756\"/>\n      </g>\n     </g>\n     <g id=\"text_10\">\n      <!-- 800 -->\n      <g transform=\"translate(13.5625 60.456975)scale(0.1 -0.1)\">\n       <use xlink:href=\"#DejaVuSans-56\"/>\n       <use x=\"63.623047\" xlink:href=\"#DejaVuSans-48\"/>\n       <use x=\"127.246094\" xlink:href=\"#DejaVuSans-48\"/>\n      </g>\n     </g>\n    </g>\n    <g id=\"ytick_6\">\n     <g id=\"line2d_11\">\n      <g>\n       <use style=\"stroke:#000000;stroke-width:0.8;\" x=\"39.65\" xlink:href=\"#m243dc5af9b\" y=\"17.083636\"/>\n      </g>\n     </g>\n     <g id=\"text_11\">\n      <!-- 1000 -->\n      <defs>\n       <path d=\"M 12.40625 8.296875 \nL 28.515625 8.296875 \nL 28.515625 63.921875 \nL 10.984375 60.40625 \nL 10.984375 69.390625 \nL 28.421875 72.90625 \nL 38.28125 72.90625 \nL 38.28125 8.296875 \nL 54.390625 8.296875 \nL 54.390625 0 \nL 12.40625 0 \nz\n\" id=\"DejaVuSans-49\"/>\n      </defs>\n      <g transform=\"translate(7.2 20.882855)scale(0.1 -0.1)\">\n       <use xlink:href=\"#DejaVuSans-49\"/>\n       <use x=\"63.623047\" xlink:href=\"#DejaVuSans-48\"/>\n       <use x=\"127.246094\" xlink:href=\"#DejaVuSans-48\"/>\n       <use x=\"190.869141\" xlink:href=\"#DejaVuSans-48\"/>\n      </g>\n     </g>\n    </g>\n   </g>\n   <g id=\"line2d_12\">\n    <path clip-path=\"url(#pd781e96a74)\" d=\"M 54.868182 214.756364 \nL 65.493489 214.558493 \nL 65.836241 214.162752 \nL 67.892752 213.964881 \nL 68.578256 213.767011 \nL 70.634767 213.56914 \nL 70.977518 213.371269 \nL 71.32027 212.975528 \nL 73.719533 212.777658 \nL 74.062285 212.579787 \nL 76.118796 212.381916 \nL 76.8043 211.986175 \nL 78.860811 211.788305 \nL 79.203563 211.590434 \nL 79.546314 211.194693 \nL 81.602826 210.996822 \nL 81.945577 210.601081 \nL 82.288329 210.40321 \nL 84.34484 209.809599 \nL 84.687592 209.413857 \nL 85.030344 208.820246 \nL 87.429607 208.028763 \nL 87.772359 207.633022 \nL 89.82887 207.237281 \nL 90.171622 207.03941 \nL 90.514373 206.643669 \nL 92.570885 206.445799 \nL 92.913636 206.247928 \nL 93.941892 206.050057 \nL 95.312899 205.654316 \nL 95.655651 204.664963 \nL 95.998403 204.269222 \nL 98.054914 203.67561 \nL 98.397666 203.279869 \nL 98.740418 203.081998 \nL 101.482432 201.696904 \nL 103.538943 201.103292 \nL 103.881695 200.509681 \nL 104.224447 200.31181 \nL 106.280958 199.322457 \nL 106.62371 198.728845 \nL 106.966462 198.530975 \nL 109.022973 198.333104 \nL 109.365725 197.541622 \nL 109.708477 197.343751 \nL 111.764988 196.552269 \nL 112.10774 195.958657 \nL 112.450491 195.760786 \nL 114.849754 194.969304 \nL 115.192506 194.771433 \nL 117.249017 193.386339 \nL 117.934521 191.605504 \nL 118.962776 191.407633 \nL 120.676536 189.428927 \nL 122.733047 188.439574 \nL 123.075799 187.648092 \nL 123.41855 187.252351 \nL 125.475061 186.460868 \nL 125.817813 185.075774 \nL 126.160565 184.680033 \nL 128.217076 183.492809 \nL 128.90258 181.711974 \nL 129.930835 181.316233 \nL 130.959091 180.129009 \nL 131.644595 178.941785 \nL 132.67285 178.743915 \nL 133.701106 177.556691 \nL 134.386609 176.567338 \nL 134.729361 176.369468 \nL 136.44312 175.182244 \nL 136.785872 174.390762 \nL 138.15688 174.192891 \nL 139.185135 172.807797 \nL 139.527887 171.818444 \nL 139.870639 171.620573 \nL 141.92715 171.026962 \nL 142.612654 169.443997 \nL 144.669165 168.454644 \nL 145.011916 167.465291 \nL 145.354668 166.871679 \nL 147.411179 166.278067 \nL 147.753931 164.892973 \nL 148.096683 164.299361 \nL 149.124939 164.101491 \nL 150.153194 163.112138 \nL 150.495946 161.529173 \nL 150.838698 160.73769 \nL 151.524201 160.53982 \nL 152.895209 159.748337 \nL 153.580713 158.363243 \nL 154.608968 157.967502 \nL 155.637224 156.780278 \nL 156.322727 155.395184 \nL 157.008231 155.197314 \nL 158.379238 154.603702 \nL 159.064742 153.218608 \nL 161.121253 151.635643 \nL 161.464005 150.64629 \nL 161.806757 150.052678 \nL 163.863268 148.865455 \nL 164.548771 147.48036 \nL 166.948034 145.699525 \nL 167.290786 144.11656 \nL 168.661794 143.91869 \nL 169.347297 143.127207 \nL 169.690049 142.533595 \nL 170.032801 141.148501 \nL 172.089312 139.169795 \nL 172.432064 138.576183 \nL 172.774816 137.38896 \nL 173.803071 137.191089 \nL 174.831327 136.003866 \nL 175.174079 134.420901 \nL 175.51683 133.629419 \nL 177.573342 132.442195 \nL 177.916093 131.848583 \nL 178.258845 130.66136 \nL 180.315356 129.672007 \nL 180.658108 128.484783 \nL 181.00086 127.891171 \nL 183.057371 125.912465 \nL 183.400123 124.3295 \nL 183.742875 123.538018 \nL 184.428378 123.340147 \nL 185.799386 123.142277 \nL 186.142138 122.152924 \nL 186.484889 121.757183 \nL 187.513145 121.559312 \nL 188.5414 120.569959 \nL 189.226904 118.393382 \nL 191.283415 117.6019 \nL 191.968919 115.821065 \nL 194.02543 114.2381 \nL 194.710934 112.457265 \nL 196.081941 112.061523 \nL 196.767445 111.665782 \nL 197.110197 110.280688 \nL 197.452948 109.489206 \nL 198.823956 109.291335 \nL 199.852211 107.70837 \nL 200.194963 107.114758 \nL 201.223219 106.916888 \nL 202.251474 106.125405 \nL 202.936978 102.761605 \nL 204.307985 102.365864 \nL 204.993489 101.17864 \nL 205.336241 99.991417 \nL 205.678993 99.793546 \nL 206.707248 99.595676 \nL 207.735504 97.81484 \nL 208.078256 96.627617 \nL 208.421007 94.25317 \nL 209.449263 93.857428 \nL 210.477518 92.868075 \nL 210.82027 92.076593 \nL 211.163022 91.878722 \nL 211.848526 91.680852 \nL 213.219533 90.097887 \nL 213.562285 88.514922 \nL 213.905037 87.72344 \nL 215.961548 86.338346 \nL 216.647052 84.161769 \nL 218.703563 82.183063 \nL 219.046314 80.995839 \nL 219.389066 80.402228 \nL 220.417322 80.006486 \nL 221.445577 79.017133 \nL 221.788329 78.423522 \nL 222.131081 77.434169 \nL 224.187592 76.642686 \nL 224.530344 75.257592 \nL 224.873096 75.059722 \nL 226.929607 74.070369 \nL 227.615111 72.289533 \nL 228.300614 72.091663 \nL 229.671622 71.10231 \nL 230.014373 70.706568 \nL 230.357125 69.717215 \nL 232.413636 69.123604 \nL 232.756388 68.529992 \nL 233.09914 68.332121 \nL 235.155651 66.947027 \nL 235.498403 65.561933 \nL 235.841155 64.968321 \nL 237.897666 63.583227 \nL 238.240418 62.396003 \nL 238.58317 62.000262 \nL 239.611425 61.802391 \nL 240.982432 60.417297 \nL 241.325184 59.032203 \nL 242.010688 58.834333 \nL 243.381695 58.240721 \nL 243.724447 57.84498 \nL 244.067199 57.647109 \nL 246.12371 57.053497 \nL 246.466462 56.262015 \nL 246.809214 56.064144 \nL 249.208477 55.470532 \nL 249.551229 54.67905 \nL 251.60774 53.887568 \nL 251.950491 53.096085 \nL 252.293243 51.908862 \nL 254.349754 50.721638 \nL 255.035258 49.534414 \nL 257.434521 48.742932 \nL 257.777273 47.95145 \nL 259.833784 47.555708 \nL 260.519287 47.159967 \nL 262.575799 46.962097 \nL 262.91855 45.181261 \nL 263.261302 44.389779 \nL 263.946806 44.191908 \nL 264.289558 43.796167 \nL 265.660565 42.608943 \nL 266.003317 41.817461 \nL 268.059828 41.42172 \nL 268.745332 40.234496 \nL 270.801843 39.443014 \nL 271.487346 38.05792 \nL 273.543857 37.662179 \nL 273.886609 37.266437 \nL 274.229361 36.672826 \nL 276.285872 35.881343 \nL 276.628624 34.89199 \nL 276.971376 34.496249 \nL 279.027887 33.704767 \nL 279.370639 33.309025 \nL 279.713391 32.319672 \nL 282.112654 32.121802 \nL 282.455405 31.330319 \nL 284.511916 30.736708 \nL 284.854668 30.340966 \nL 285.19742 29.747355 \nL 287.253931 28.955872 \nL 287.596683 27.768649 \nL 288.624939 27.175037 \nL 289.995946 26.977166 \nL 290.338698 26.581425 \nL 290.68145 25.987813 \nL 292.737961 25.592072 \nL 293.423464 25.196331 \nL 295.479975 24.99846 \nL 296.165479 24.602719 \nL 298.22199 24.206978 \nL 298.564742 23.811237 \nL 303.70602 23.415495 \nL 304.048771 23.217625 \nL 309.190049 22.821884 \nL 309.875553 22.426143 \nL 312.274816 22.030401 \nL 312.617568 21.832531 \nL 315.01683 21.041048 \nL 315.359582 20.843178 \nL 320.158108 20.447437 \nL 320.843612 19.853825 \nL 326.327641 19.260213 \nL 328.726904 18.864472 \nL 329.069656 18.666601 \nL 331.811671 18.072989 \nL 337.2957 17.875119 \nL 353.062285 17.677248 \nL 353.747789 17.479378 \nL 358.889066 17.281507 \nL 359.231818 17.083636 \nL 359.231818 17.083636 \n\" style=\"fill:none;stroke:#1f77b4;stroke-linecap:square;stroke-width:1.5;\"/>\n   </g>\n   <g id=\"patch_3\">\n    <path d=\"M 39.65 224.64 \nL 39.65 7.2 \n\" style=\"fill:none;stroke:#000000;stroke-linecap:square;stroke-linejoin:miter;stroke-width:0.8;\"/>\n   </g>\n   <g id=\"patch_4\">\n    <path d=\"M 374.45 224.64 \nL 374.45 7.2 \n\" style=\"fill:none;stroke:#000000;stroke-linecap:square;stroke-linejoin:miter;stroke-width:0.8;\"/>\n   </g>\n   <g id=\"patch_5\">\n    <path d=\"M 39.65 224.64 \nL 374.45 224.64 \n\" style=\"fill:none;stroke:#000000;stroke-linecap:square;stroke-linejoin:miter;stroke-width:0.8;\"/>\n   </g>\n   <g id=\"patch_6\">\n    <path d=\"M 39.65 7.2 \nL 374.45 7.2 \n\" style=\"fill:none;stroke:#000000;stroke-linecap:square;stroke-linejoin:miter;stroke-width:0.8;\"/>\n   </g>\n  </g>\n </g>\n <defs>\n  <clipPath id=\"pd781e96a74\">\n   <rect height=\"217.44\" width=\"334.8\" x=\"39.65\" y=\"7.2\"/>\n  </clipPath>\n </defs>\n</svg>\n",
      "image/png": "[encoded data removed]"
     },
     "metadata": {
      "needs_background": "light"
     }
    }
   ],
   "source": [
    "plt.plot(np.cumsum(TDCR_Device_Result_1k.groupby('RA_success').size()))"
   ]
  },
  {
   "cell_type": "code",
   "execution_count": 81,
   "metadata": {},
   "outputs": [
    {
     "output_type": "execute_result",
     "data": {
      "text/plain": "   N_RA  empty  collided  success TDCR\n0     0     54         0        0    N\n1     0     54         0        0    N\n2     0     54         0        0    N\n3     0     54         0        0    N\n4     0     54         0        0    N",
      "text/html": "<div>\n<style scoped>\n    .dataframe tbody tr th:only-of-type {\n        vertical-align: middle;\n    }\n\n    .dataframe tbody tr th {\n        vertical-align: top;\n    }\n\n    .dataframe thead th {\n        text-align: right;\n    }\n</style>\n<table border=\"1\" class=\"dataframe\">\n  <thead>\n    <tr style=\"text-align: right;\">\n      <th></th>\n      <th>N_RA</th>\n      <th>empty</th>\n      <th>collided</th>\n      <th>success</th>\n      <th>TDCR</th>\n    </tr>\n  </thead>\n  <tbody>\n    <tr>\n      <th>0</th>\n      <td>0</td>\n      <td>54</td>\n      <td>0</td>\n      <td>0</td>\n      <td>N</td>\n    </tr>\n    <tr>\n      <th>1</th>\n      <td>0</td>\n      <td>54</td>\n      <td>0</td>\n      <td>0</td>\n      <td>N</td>\n    </tr>\n    <tr>\n      <th>2</th>\n      <td>0</td>\n      <td>54</td>\n      <td>0</td>\n      <td>0</td>\n      <td>N</td>\n    </tr>\n    <tr>\n      <th>3</th>\n      <td>0</td>\n      <td>54</td>\n      <td>0</td>\n      <td>0</td>\n      <td>N</td>\n    </tr>\n    <tr>\n      <th>4</th>\n      <td>0</td>\n      <td>54</td>\n      <td>0</td>\n      <td>0</td>\n      <td>N</td>\n    </tr>\n  </tbody>\n</table>\n</div>"
     },
     "metadata": {},
     "execution_count": 81
    }
   ],
   "source": [
    "TDCR_RA_Result_1k.head()"
   ]
  },
  {
   "cell_type": "code",
   "execution_count": 83,
   "metadata": {},
   "outputs": [
    {
     "output_type": "execute_result",
     "data": {
      "text/plain": "TDCR\nN    919\ndtype: int64"
     },
     "metadata": {},
     "execution_count": 83
    }
   ],
   "source": [
    "TDCR_RA_Result_1k.groupby('TDCR').size()"
   ]
  }
 ],
 "metadata": {
  "language_info": {
   "codemirror_mode": {
    "name": "ipython",
    "version": 3
   },
   "file_extension": ".py",
   "mimetype": "text/x-python",
   "name": "python",
   "nbconvert_exporter": "python",
   "pygments_lexer": "ipython3",
   "version": "3.8.0-final"
  },
  "orig_nbformat": 2,
  "kernelspec": {
   "name": "python38064bittdcrpipenvd4536cd5b7e04db888643b26fe3148af",
   "display_name": "Python 3.8.0 64-bit ('TDCR': pipenv)"
  }
 },
 "nbformat": 4,
 "nbformat_minor": 2
}