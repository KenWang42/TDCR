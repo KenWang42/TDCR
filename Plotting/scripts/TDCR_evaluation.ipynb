{
 "cells": [
  {
   "cell_type": "code",
   "execution_count": 1,
   "metadata": {},
   "outputs": [],
   "source": [
    "import matplotlib.pyplot as plt\n",
    "import numpy as np\n",
    "import pandas as pd"
   ]
  },
  {
   "cell_type": "code",
   "execution_count": 2,
   "metadata": {},
   "outputs": [],
   "source": [
    "nMTCD=10000"
   ]
  },
  {
   "cell_type": "code",
   "execution_count": 3,
   "metadata": {},
   "outputs": [],
   "source": [
    "Grouping_Data = pd.read_csv(f'../data/D2D_Grouping/MTCD_grouping_{nMTCD}.csv')"
   ]
  },
  {
   "cell_type": "code",
   "execution_count": 4,
   "metadata": {},
   "outputs": [
    {
     "output_type": "stream",
     "name": "stdout",
     "text": "214 46.728971962616825 16 91\n"
    }
   ],
   "source": [
    "size = Grouping_Data.groupby('clusters').size()\n",
    "print(len(size), np.average(size), min(size), max(size))"
   ]
  },
  {
   "cell_type": "code",
   "execution_count": 6,
   "metadata": {},
   "outputs": [],
   "source": [
    "ACB_0_5_data = pd.read_csv(f'../data/ACB_0.5/ACB_0.5_MTCD_RA_Time_{nMTCD}.csv')\n",
    "ACB_optimal_data = pd.read_csv(f'../data/ACB_optimal/ACB_optimal_MTCD_RA_Time_{nMTCD}.csv')\n",
    "STD_data = pd.read_csv(f'../data/STD/STD_Device_Result_{nMTCD}.csv')\n",
    "D2D_Arranged = pd.read_csv(f'../data/ACB_0.5/ACB_0.5_MTCD_RA_Time_{nMTCD}.csv')"
   ]
  },
  {
   "cell_type": "code",
   "execution_count": null,
   "metadata": {},
   "outputs": [],
   "source": []
  }
 ],
 "metadata": {
  "language_info": {
   "codemirror_mode": {
    "name": "ipython",
    "version": 3
   },
   "file_extension": ".py",
   "mimetype": "text/x-python",
   "name": "python",
   "nbconvert_exporter": "python",
   "pygments_lexer": "ipython3",
   "version": "3.8.0-final"
  },
  "orig_nbformat": 2,
  "kernelspec": {
   "name": "python38064bittdcrpipenvd4536cd5b7e04db888643b26fe3148af",
   "display_name": "Python 3.8.0 64-bit ('TDCR': pipenv)"
  }
 },
 "nbformat": 4,
 "nbformat_minor": 2
}